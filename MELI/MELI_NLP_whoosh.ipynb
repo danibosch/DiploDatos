{
  "nbformat": 4,
  "nbformat_minor": 0,
  "metadata": {
    "colab": {
      "name": "MELI_NLP_whoosh.ipynb",
      "provenance": [],
      "collapsed_sections": [],
      "toc_visible": true,
      "authorship_tag": "ABX9TyNV85js7+pCnP6ErP1vJsPo",
      "include_colab_link": true
    },
    "kernelspec": {
      "name": "python3",
      "display_name": "Python 3"
    },
    "language_info": {
      "name": "python"
    },
    "widgets": {
      "application/vnd.jupyter.widget-state+json": {
        "759c8dc7482c4839b7c93e3d0cf8e7d2": {
          "model_module": "@jupyter-widgets/controls",
          "model_name": "HBoxModel",
          "state": {
            "_view_name": "HBoxView",
            "_dom_classes": [],
            "_model_name": "HBoxModel",
            "_view_module": "@jupyter-widgets/controls",
            "_model_module_version": "1.5.0",
            "_view_count": null,
            "_view_module_version": "1.5.0",
            "box_style": "",
            "layout": "IPY_MODEL_5b14d065dfa64b5db9768b98cb66a49c",
            "_model_module": "@jupyter-widgets/controls",
            "children": [
              "IPY_MODEL_a5394c6b760c42d09f41079964365214",
              "IPY_MODEL_044b1cbc0196438da28fd571d5e28c2d"
            ]
          }
        },
        "5b14d065dfa64b5db9768b98cb66a49c": {
          "model_module": "@jupyter-widgets/base",
          "model_name": "LayoutModel",
          "state": {
            "_view_name": "LayoutView",
            "grid_template_rows": null,
            "right": null,
            "justify_content": null,
            "_view_module": "@jupyter-widgets/base",
            "overflow": null,
            "_model_module_version": "1.2.0",
            "_view_count": null,
            "flex_flow": null,
            "width": null,
            "min_width": null,
            "border": null,
            "align_items": null,
            "bottom": null,
            "_model_module": "@jupyter-widgets/base",
            "top": null,
            "grid_column": null,
            "overflow_y": null,
            "overflow_x": null,
            "grid_auto_flow": null,
            "grid_area": null,
            "grid_template_columns": null,
            "flex": null,
            "_model_name": "LayoutModel",
            "justify_items": null,
            "grid_row": null,
            "max_height": null,
            "align_content": null,
            "visibility": null,
            "align_self": null,
            "height": null,
            "min_height": null,
            "padding": null,
            "grid_auto_rows": null,
            "grid_gap": null,
            "max_width": null,
            "order": null,
            "_view_module_version": "1.2.0",
            "grid_template_areas": null,
            "object_position": null,
            "object_fit": null,
            "grid_auto_columns": null,
            "margin": null,
            "display": null,
            "left": null
          }
        },
        "a5394c6b760c42d09f41079964365214": {
          "model_module": "@jupyter-widgets/controls",
          "model_name": "FloatProgressModel",
          "state": {
            "_view_name": "ProgressView",
            "style": "IPY_MODEL_3c1520bc056745e0baf018ab49cb012b",
            "_dom_classes": [],
            "description": "100%",
            "_model_name": "FloatProgressModel",
            "bar_style": "success",
            "max": 413163,
            "_view_module": "@jupyter-widgets/controls",
            "_model_module_version": "1.5.0",
            "value": 413163,
            "_view_count": null,
            "_view_module_version": "1.5.0",
            "orientation": "horizontal",
            "min": 0,
            "description_tooltip": null,
            "_model_module": "@jupyter-widgets/controls",
            "layout": "IPY_MODEL_f2027758fcae4c5d920c0912c963e5fc"
          }
        },
        "044b1cbc0196438da28fd571d5e28c2d": {
          "model_module": "@jupyter-widgets/controls",
          "model_name": "HTMLModel",
          "state": {
            "_view_name": "HTMLView",
            "style": "IPY_MODEL_b0b60522e28d4343ade12ab932d3478e",
            "_dom_classes": [],
            "description": "",
            "_model_name": "HTMLModel",
            "placeholder": "​",
            "_view_module": "@jupyter-widgets/controls",
            "_model_module_version": "1.5.0",
            "value": " 413163/413163 [1:51:00&lt;00:00, 62.03it/s]",
            "_view_count": null,
            "_view_module_version": "1.5.0",
            "description_tooltip": null,
            "_model_module": "@jupyter-widgets/controls",
            "layout": "IPY_MODEL_504ceecf91ec43919e245cbf405fa77a"
          }
        },
        "3c1520bc056745e0baf018ab49cb012b": {
          "model_module": "@jupyter-widgets/controls",
          "model_name": "ProgressStyleModel",
          "state": {
            "_view_name": "StyleView",
            "_model_name": "ProgressStyleModel",
            "description_width": "initial",
            "_view_module": "@jupyter-widgets/base",
            "_model_module_version": "1.5.0",
            "_view_count": null,
            "_view_module_version": "1.2.0",
            "bar_color": null,
            "_model_module": "@jupyter-widgets/controls"
          }
        },
        "f2027758fcae4c5d920c0912c963e5fc": {
          "model_module": "@jupyter-widgets/base",
          "model_name": "LayoutModel",
          "state": {
            "_view_name": "LayoutView",
            "grid_template_rows": null,
            "right": null,
            "justify_content": null,
            "_view_module": "@jupyter-widgets/base",
            "overflow": null,
            "_model_module_version": "1.2.0",
            "_view_count": null,
            "flex_flow": null,
            "width": null,
            "min_width": null,
            "border": null,
            "align_items": null,
            "bottom": null,
            "_model_module": "@jupyter-widgets/base",
            "top": null,
            "grid_column": null,
            "overflow_y": null,
            "overflow_x": null,
            "grid_auto_flow": null,
            "grid_area": null,
            "grid_template_columns": null,
            "flex": null,
            "_model_name": "LayoutModel",
            "justify_items": null,
            "grid_row": null,
            "max_height": null,
            "align_content": null,
            "visibility": null,
            "align_self": null,
            "height": null,
            "min_height": null,
            "padding": null,
            "grid_auto_rows": null,
            "grid_gap": null,
            "max_width": null,
            "order": null,
            "_view_module_version": "1.2.0",
            "grid_template_areas": null,
            "object_position": null,
            "object_fit": null,
            "grid_auto_columns": null,
            "margin": null,
            "display": null,
            "left": null
          }
        },
        "b0b60522e28d4343ade12ab932d3478e": {
          "model_module": "@jupyter-widgets/controls",
          "model_name": "DescriptionStyleModel",
          "state": {
            "_view_name": "StyleView",
            "_model_name": "DescriptionStyleModel",
            "description_width": "",
            "_view_module": "@jupyter-widgets/base",
            "_model_module_version": "1.5.0",
            "_view_count": null,
            "_view_module_version": "1.2.0",
            "_model_module": "@jupyter-widgets/controls"
          }
        },
        "504ceecf91ec43919e245cbf405fa77a": {
          "model_module": "@jupyter-widgets/base",
          "model_name": "LayoutModel",
          "state": {
            "_view_name": "LayoutView",
            "grid_template_rows": null,
            "right": null,
            "justify_content": null,
            "_view_module": "@jupyter-widgets/base",
            "overflow": null,
            "_model_module_version": "1.2.0",
            "_view_count": null,
            "flex_flow": null,
            "width": null,
            "min_width": null,
            "border": null,
            "align_items": null,
            "bottom": null,
            "_model_module": "@jupyter-widgets/base",
            "top": null,
            "grid_column": null,
            "overflow_y": null,
            "overflow_x": null,
            "grid_auto_flow": null,
            "grid_area": null,
            "grid_template_columns": null,
            "flex": null,
            "_model_name": "LayoutModel",
            "justify_items": null,
            "grid_row": null,
            "max_height": null,
            "align_content": null,
            "visibility": null,
            "align_self": null,
            "height": null,
            "min_height": null,
            "padding": null,
            "grid_auto_rows": null,
            "grid_gap": null,
            "max_width": null,
            "order": null,
            "_view_module_version": "1.2.0",
            "grid_template_areas": null,
            "object_position": null,
            "object_fit": null,
            "grid_auto_columns": null,
            "margin": null,
            "display": null,
            "left": null
          }
        },
        "85ce973f1956435dbc97e1b297ad53ab": {
          "model_module": "@jupyter-widgets/controls",
          "model_name": "HBoxModel",
          "state": {
            "_view_name": "HBoxView",
            "_dom_classes": [],
            "_model_name": "HBoxModel",
            "_view_module": "@jupyter-widgets/controls",
            "_model_module_version": "1.5.0",
            "_view_count": null,
            "_view_module_version": "1.5.0",
            "box_style": "",
            "layout": "IPY_MODEL_e2430bca763c4056a3c546dd62fcb0f9",
            "_model_module": "@jupyter-widgets/controls",
            "children": [
              "IPY_MODEL_cae531009d014020a85298bb2f827b9c",
              "IPY_MODEL_fffcc675b613435fa2658ece42dd6da9"
            ]
          }
        },
        "e2430bca763c4056a3c546dd62fcb0f9": {
          "model_module": "@jupyter-widgets/base",
          "model_name": "LayoutModel",
          "state": {
            "_view_name": "LayoutView",
            "grid_template_rows": null,
            "right": null,
            "justify_content": null,
            "_view_module": "@jupyter-widgets/base",
            "overflow": null,
            "_model_module_version": "1.2.0",
            "_view_count": null,
            "flex_flow": null,
            "width": null,
            "min_width": null,
            "border": null,
            "align_items": null,
            "bottom": null,
            "_model_module": "@jupyter-widgets/base",
            "top": null,
            "grid_column": null,
            "overflow_y": null,
            "overflow_x": null,
            "grid_auto_flow": null,
            "grid_area": null,
            "grid_template_columns": null,
            "flex": null,
            "_model_name": "LayoutModel",
            "justify_items": null,
            "grid_row": null,
            "max_height": null,
            "align_content": null,
            "visibility": null,
            "align_self": null,
            "height": null,
            "min_height": null,
            "padding": null,
            "grid_auto_rows": null,
            "grid_gap": null,
            "max_width": null,
            "order": null,
            "_view_module_version": "1.2.0",
            "grid_template_areas": null,
            "object_position": null,
            "object_fit": null,
            "grid_auto_columns": null,
            "margin": null,
            "display": null,
            "left": null
          }
        },
        "cae531009d014020a85298bb2f827b9c": {
          "model_module": "@jupyter-widgets/controls",
          "model_name": "FloatProgressModel",
          "state": {
            "_view_name": "ProgressView",
            "style": "IPY_MODEL_3f0e68ecaee74f8d94e49afe3a6b6d4e",
            "_dom_classes": [],
            "description": "100%",
            "_model_name": "FloatProgressModel",
            "bar_style": "success",
            "max": 413163,
            "_view_module": "@jupyter-widgets/controls",
            "_model_module_version": "1.5.0",
            "value": 413163,
            "_view_count": null,
            "_view_module_version": "1.5.0",
            "orientation": "horizontal",
            "min": 0,
            "description_tooltip": null,
            "_model_module": "@jupyter-widgets/controls",
            "layout": "IPY_MODEL_24dfeebdbc70465ca083edc19105af16"
          }
        },
        "fffcc675b613435fa2658ece42dd6da9": {
          "model_module": "@jupyter-widgets/controls",
          "model_name": "HTMLModel",
          "state": {
            "_view_name": "HTMLView",
            "style": "IPY_MODEL_641668de1d604d0abbdeb6fccf316bd0",
            "_dom_classes": [],
            "description": "",
            "_model_name": "HTMLModel",
            "placeholder": "​",
            "_view_module": "@jupyter-widgets/controls",
            "_model_module_version": "1.5.0",
            "value": " 413163/413163 [1:16:36&lt;00:00, 89.89it/s]",
            "_view_count": null,
            "_view_module_version": "1.5.0",
            "description_tooltip": null,
            "_model_module": "@jupyter-widgets/controls",
            "layout": "IPY_MODEL_80616c2cfa504930997c13b15951f6cd"
          }
        },
        "3f0e68ecaee74f8d94e49afe3a6b6d4e": {
          "model_module": "@jupyter-widgets/controls",
          "model_name": "ProgressStyleModel",
          "state": {
            "_view_name": "StyleView",
            "_model_name": "ProgressStyleModel",
            "description_width": "initial",
            "_view_module": "@jupyter-widgets/base",
            "_model_module_version": "1.5.0",
            "_view_count": null,
            "_view_module_version": "1.2.0",
            "bar_color": null,
            "_model_module": "@jupyter-widgets/controls"
          }
        },
        "24dfeebdbc70465ca083edc19105af16": {
          "model_module": "@jupyter-widgets/base",
          "model_name": "LayoutModel",
          "state": {
            "_view_name": "LayoutView",
            "grid_template_rows": null,
            "right": null,
            "justify_content": null,
            "_view_module": "@jupyter-widgets/base",
            "overflow": null,
            "_model_module_version": "1.2.0",
            "_view_count": null,
            "flex_flow": null,
            "width": null,
            "min_width": null,
            "border": null,
            "align_items": null,
            "bottom": null,
            "_model_module": "@jupyter-widgets/base",
            "top": null,
            "grid_column": null,
            "overflow_y": null,
            "overflow_x": null,
            "grid_auto_flow": null,
            "grid_area": null,
            "grid_template_columns": null,
            "flex": null,
            "_model_name": "LayoutModel",
            "justify_items": null,
            "grid_row": null,
            "max_height": null,
            "align_content": null,
            "visibility": null,
            "align_self": null,
            "height": null,
            "min_height": null,
            "padding": null,
            "grid_auto_rows": null,
            "grid_gap": null,
            "max_width": null,
            "order": null,
            "_view_module_version": "1.2.0",
            "grid_template_areas": null,
            "object_position": null,
            "object_fit": null,
            "grid_auto_columns": null,
            "margin": null,
            "display": null,
            "left": null
          }
        },
        "641668de1d604d0abbdeb6fccf316bd0": {
          "model_module": "@jupyter-widgets/controls",
          "model_name": "DescriptionStyleModel",
          "state": {
            "_view_name": "StyleView",
            "_model_name": "DescriptionStyleModel",
            "description_width": "",
            "_view_module": "@jupyter-widgets/base",
            "_model_module_version": "1.5.0",
            "_view_count": null,
            "_view_module_version": "1.2.0",
            "_model_module": "@jupyter-widgets/controls"
          }
        },
        "80616c2cfa504930997c13b15951f6cd": {
          "model_module": "@jupyter-widgets/base",
          "model_name": "LayoutModel",
          "state": {
            "_view_name": "LayoutView",
            "grid_template_rows": null,
            "right": null,
            "justify_content": null,
            "_view_module": "@jupyter-widgets/base",
            "overflow": null,
            "_model_module_version": "1.2.0",
            "_view_count": null,
            "flex_flow": null,
            "width": null,
            "min_width": null,
            "border": null,
            "align_items": null,
            "bottom": null,
            "_model_module": "@jupyter-widgets/base",
            "top": null,
            "grid_column": null,
            "overflow_y": null,
            "overflow_x": null,
            "grid_auto_flow": null,
            "grid_area": null,
            "grid_template_columns": null,
            "flex": null,
            "_model_name": "LayoutModel",
            "justify_items": null,
            "grid_row": null,
            "max_height": null,
            "align_content": null,
            "visibility": null,
            "align_self": null,
            "height": null,
            "min_height": null,
            "padding": null,
            "grid_auto_rows": null,
            "grid_gap": null,
            "max_width": null,
            "order": null,
            "_view_module_version": "1.2.0",
            "grid_template_areas": null,
            "object_position": null,
            "object_fit": null,
            "grid_auto_columns": null,
            "margin": null,
            "display": null,
            "left": null
          }
        },
        "3a7a0afc23434f5596b48d959c881ecd": {
          "model_module": "@jupyter-widgets/controls",
          "model_name": "HBoxModel",
          "state": {
            "_view_name": "HBoxView",
            "_dom_classes": [],
            "_model_name": "HBoxModel",
            "_view_module": "@jupyter-widgets/controls",
            "_model_module_version": "1.5.0",
            "_view_count": null,
            "_view_module_version": "1.5.0",
            "box_style": "",
            "layout": "IPY_MODEL_1cea4744a372466bbfe5553214bd6065",
            "_model_module": "@jupyter-widgets/controls",
            "children": [
              "IPY_MODEL_fd08913af6e04b08be58ccc5b62c510d",
              "IPY_MODEL_c28eb38e4ef34eeb8ae00ee8be08f977"
            ]
          }
        },
        "1cea4744a372466bbfe5553214bd6065": {
          "model_module": "@jupyter-widgets/base",
          "model_name": "LayoutModel",
          "state": {
            "_view_name": "LayoutView",
            "grid_template_rows": null,
            "right": null,
            "justify_content": null,
            "_view_module": "@jupyter-widgets/base",
            "overflow": null,
            "_model_module_version": "1.2.0",
            "_view_count": null,
            "flex_flow": null,
            "width": null,
            "min_width": null,
            "border": null,
            "align_items": null,
            "bottom": null,
            "_model_module": "@jupyter-widgets/base",
            "top": null,
            "grid_column": null,
            "overflow_y": null,
            "overflow_x": null,
            "grid_auto_flow": null,
            "grid_area": null,
            "grid_template_columns": null,
            "flex": null,
            "_model_name": "LayoutModel",
            "justify_items": null,
            "grid_row": null,
            "max_height": null,
            "align_content": null,
            "visibility": null,
            "align_self": null,
            "height": null,
            "min_height": null,
            "padding": null,
            "grid_auto_rows": null,
            "grid_gap": null,
            "max_width": null,
            "order": null,
            "_view_module_version": "1.2.0",
            "grid_template_areas": null,
            "object_position": null,
            "object_fit": null,
            "grid_auto_columns": null,
            "margin": null,
            "display": null,
            "left": null
          }
        },
        "fd08913af6e04b08be58ccc5b62c510d": {
          "model_module": "@jupyter-widgets/controls",
          "model_name": "FloatProgressModel",
          "state": {
            "_view_name": "ProgressView",
            "style": "IPY_MODEL_4071b313760743798c6bbc4829187b29",
            "_dom_classes": [],
            "description": " 21%",
            "_model_name": "FloatProgressModel",
            "bar_style": "",
            "max": 413163,
            "_view_module": "@jupyter-widgets/controls",
            "_model_module_version": "1.5.0",
            "value": 84877,
            "_view_count": null,
            "_view_module_version": "1.5.0",
            "orientation": "horizontal",
            "min": 0,
            "description_tooltip": null,
            "_model_module": "@jupyter-widgets/controls",
            "layout": "IPY_MODEL_1094dd7bc21f4c0bb1543815de0f824a"
          }
        },
        "c28eb38e4ef34eeb8ae00ee8be08f977": {
          "model_module": "@jupyter-widgets/controls",
          "model_name": "HTMLModel",
          "state": {
            "_view_name": "HTMLView",
            "style": "IPY_MODEL_499ee5f15ca6467eaa44d678bccef0ff",
            "_dom_classes": [],
            "description": "",
            "_model_name": "HTMLModel",
            "placeholder": "​",
            "_view_module": "@jupyter-widgets/controls",
            "_model_module_version": "1.5.0",
            "value": " 84877/413163 [12:41&lt;42:32, 128.60it/s]",
            "_view_count": null,
            "_view_module_version": "1.5.0",
            "description_tooltip": null,
            "_model_module": "@jupyter-widgets/controls",
            "layout": "IPY_MODEL_2ae71b4611ac46fe8638afbf0e76630f"
          }
        },
        "4071b313760743798c6bbc4829187b29": {
          "model_module": "@jupyter-widgets/controls",
          "model_name": "ProgressStyleModel",
          "state": {
            "_view_name": "StyleView",
            "_model_name": "ProgressStyleModel",
            "description_width": "initial",
            "_view_module": "@jupyter-widgets/base",
            "_model_module_version": "1.5.0",
            "_view_count": null,
            "_view_module_version": "1.2.0",
            "bar_color": null,
            "_model_module": "@jupyter-widgets/controls"
          }
        },
        "1094dd7bc21f4c0bb1543815de0f824a": {
          "model_module": "@jupyter-widgets/base",
          "model_name": "LayoutModel",
          "state": {
            "_view_name": "LayoutView",
            "grid_template_rows": null,
            "right": null,
            "justify_content": null,
            "_view_module": "@jupyter-widgets/base",
            "overflow": null,
            "_model_module_version": "1.2.0",
            "_view_count": null,
            "flex_flow": null,
            "width": null,
            "min_width": null,
            "border": null,
            "align_items": null,
            "bottom": null,
            "_model_module": "@jupyter-widgets/base",
            "top": null,
            "grid_column": null,
            "overflow_y": null,
            "overflow_x": null,
            "grid_auto_flow": null,
            "grid_area": null,
            "grid_template_columns": null,
            "flex": null,
            "_model_name": "LayoutModel",
            "justify_items": null,
            "grid_row": null,
            "max_height": null,
            "align_content": null,
            "visibility": null,
            "align_self": null,
            "height": null,
            "min_height": null,
            "padding": null,
            "grid_auto_rows": null,
            "grid_gap": null,
            "max_width": null,
            "order": null,
            "_view_module_version": "1.2.0",
            "grid_template_areas": null,
            "object_position": null,
            "object_fit": null,
            "grid_auto_columns": null,
            "margin": null,
            "display": null,
            "left": null
          }
        },
        "499ee5f15ca6467eaa44d678bccef0ff": {
          "model_module": "@jupyter-widgets/controls",
          "model_name": "DescriptionStyleModel",
          "state": {
            "_view_name": "StyleView",
            "_model_name": "DescriptionStyleModel",
            "description_width": "",
            "_view_module": "@jupyter-widgets/base",
            "_model_module_version": "1.5.0",
            "_view_count": null,
            "_view_module_version": "1.2.0",
            "_model_module": "@jupyter-widgets/controls"
          }
        },
        "2ae71b4611ac46fe8638afbf0e76630f": {
          "model_module": "@jupyter-widgets/base",
          "model_name": "LayoutModel",
          "state": {
            "_view_name": "LayoutView",
            "grid_template_rows": null,
            "right": null,
            "justify_content": null,
            "_view_module": "@jupyter-widgets/base",
            "overflow": null,
            "_model_module_version": "1.2.0",
            "_view_count": null,
            "flex_flow": null,
            "width": null,
            "min_width": null,
            "border": null,
            "align_items": null,
            "bottom": null,
            "_model_module": "@jupyter-widgets/base",
            "top": null,
            "grid_column": null,
            "overflow_y": null,
            "overflow_x": null,
            "grid_auto_flow": null,
            "grid_area": null,
            "grid_template_columns": null,
            "flex": null,
            "_model_name": "LayoutModel",
            "justify_items": null,
            "grid_row": null,
            "max_height": null,
            "align_content": null,
            "visibility": null,
            "align_self": null,
            "height": null,
            "min_height": null,
            "padding": null,
            "grid_auto_rows": null,
            "grid_gap": null,
            "max_width": null,
            "order": null,
            "_view_module_version": "1.2.0",
            "grid_template_areas": null,
            "object_position": null,
            "object_fit": null,
            "grid_auto_columns": null,
            "margin": null,
            "display": null,
            "left": null
          }
        }
      }
    }
  },
  "cells": [
    {
      "cell_type": "markdown",
      "metadata": {
        "id": "view-in-github",
        "colab_type": "text"
      },
      "source": [
        "<a href=\"https://colab.research.google.com/github/natanrajch/DiploDatos/blob/main/MELI/MELI_NLP_whoosh.ipynb\" target=\"_parent\"><img src=\"https://colab.research.google.com/assets/colab-badge.svg\" alt=\"Open In Colab\"/></a>"
      ]
    },
    {
      "cell_type": "code",
      "metadata": {
        "id": "aGumS42eduIq"
      },
      "source": [
        "import gzip\n",
        "import pandas as pd\n",
        "import urllib\n",
        "import tarfile\n",
        "import urllib.request\n",
        "import numpy as np\n",
        "import random\n",
        "import json\n",
        "import bisect\n",
        "import matplotlib.pyplot as plt\n",
        "import matplotlib.ticker as ticker\n",
        "import seaborn as sns\n",
        "from tqdm.notebook import tqdm"
      ],
      "execution_count": null,
      "outputs": []
    },
    {
      "cell_type": "code",
      "metadata": {
        "id": "Ezdn7Q80eS33"
      },
      "source": [
        "url_item_data = \"https://meli-data-challenge.s3.amazonaws.com/2020/item_data.jl.gz\"\n",
        "url_train_data = \"https://meli-data-challenge.s3.amazonaws.com/2020/train_dataset.jl.gz\"\n",
        "url_test_data = \"https://meli-data-challenge.s3.amazonaws.com/2020/test_dataset.jl.gz\"\n",
        "domain_top_words_url = 'https://raw.githubusercontent.com/natanrajch/DiploDatos/main/MELI/domain_top_words.csv'"
      ],
      "execution_count": null,
      "outputs": []
    },
    {
      "cell_type": "code",
      "metadata": {
        "id": "xutcqgE18IEI"
      },
      "source": [
        "train_data = []\n",
        "with urllib.request.urlopen(url_train_data) as handle:\n",
        "  gz = gzip.GzipFile(fileobj=handle)\n",
        "  for i, line in enumerate(gz):\n",
        "    train_data.append(json.loads(line.strip().decode('utf-8'))) "
      ],
      "execution_count": null,
      "outputs": []
    },
    {
      "cell_type": "code",
      "metadata": {
        "colab": {
          "base_uri": "https://localhost:8080/",
          "height": 414
        },
        "id": "1pGRohCS9A8k",
        "outputId": "3d2679d5-00ed-46b2-94ea-bb00f3a17ecb"
      },
      "source": [
        "train_df = pd.DataFrame(train_data)\n",
        "del train_data\n",
        "del gz\n",
        "train_df"
      ],
      "execution_count": null,
      "outputs": [
        {
          "output_type": "execute_result",
          "data": {
            "text/html": [
              "<div>\n",
              "<style scoped>\n",
              "    .dataframe tbody tr th:only-of-type {\n",
              "        vertical-align: middle;\n",
              "    }\n",
              "\n",
              "    .dataframe tbody tr th {\n",
              "        vertical-align: top;\n",
              "    }\n",
              "\n",
              "    .dataframe thead th {\n",
              "        text-align: right;\n",
              "    }\n",
              "</style>\n",
              "<table border=\"1\" class=\"dataframe\">\n",
              "  <thead>\n",
              "    <tr style=\"text-align: right;\">\n",
              "      <th></th>\n",
              "      <th>user_history</th>\n",
              "      <th>item_bought</th>\n",
              "    </tr>\n",
              "  </thead>\n",
              "  <tbody>\n",
              "    <tr>\n",
              "      <th>0</th>\n",
              "      <td>[{'event_info': 1786148, 'event_timestamp': '2...</td>\n",
              "      <td>1748830</td>\n",
              "    </tr>\n",
              "    <tr>\n",
              "      <th>1</th>\n",
              "      <td>[{'event_info': 643652, 'event_timestamp': '20...</td>\n",
              "      <td>228737</td>\n",
              "    </tr>\n",
              "    <tr>\n",
              "      <th>2</th>\n",
              "      <td>[{'event_info': 248595, 'event_timestamp': '20...</td>\n",
              "      <td>1909110</td>\n",
              "    </tr>\n",
              "    <tr>\n",
              "      <th>3</th>\n",
              "      <td>[{'event_info': 'RADIOBOSS', 'event_timestamp'...</td>\n",
              "      <td>1197370</td>\n",
              "    </tr>\n",
              "    <tr>\n",
              "      <th>4</th>\n",
              "      <td>[{'event_info': 'AMAZFIT BIP', 'event_timestam...</td>\n",
              "      <td>2049207</td>\n",
              "    </tr>\n",
              "    <tr>\n",
              "      <th>...</th>\n",
              "      <td>...</td>\n",
              "      <td>...</td>\n",
              "    </tr>\n",
              "    <tr>\n",
              "      <th>413158</th>\n",
              "      <td>[{'event_info': 'PC GAMER', 'event_timestamp':...</td>\n",
              "      <td>459697</td>\n",
              "    </tr>\n",
              "    <tr>\n",
              "      <th>413159</th>\n",
              "      <td>[{'event_info': 289961, 'event_timestamp': '20...</td>\n",
              "      <td>1845503</td>\n",
              "    </tr>\n",
              "    <tr>\n",
              "      <th>413160</th>\n",
              "      <td>[{'event_info': 'ALUGUEL BOB CAT', 'event_time...</td>\n",
              "      <td>2022477</td>\n",
              "    </tr>\n",
              "    <tr>\n",
              "      <th>413161</th>\n",
              "      <td>[{'event_info': 'XAOMI', 'event_timestamp': '2...</td>\n",
              "      <td>1111021</td>\n",
              "    </tr>\n",
              "    <tr>\n",
              "      <th>413162</th>\n",
              "      <td>[{'event_info': 'COTONETE FINO', 'event_timest...</td>\n",
              "      <td>1212472</td>\n",
              "    </tr>\n",
              "  </tbody>\n",
              "</table>\n",
              "<p>413163 rows × 2 columns</p>\n",
              "</div>"
            ],
            "text/plain": [
              "                                             user_history  item_bought\n",
              "0       [{'event_info': 1786148, 'event_timestamp': '2...      1748830\n",
              "1       [{'event_info': 643652, 'event_timestamp': '20...       228737\n",
              "2       [{'event_info': 248595, 'event_timestamp': '20...      1909110\n",
              "3       [{'event_info': 'RADIOBOSS', 'event_timestamp'...      1197370\n",
              "4       [{'event_info': 'AMAZFIT BIP', 'event_timestam...      2049207\n",
              "...                                                   ...          ...\n",
              "413158  [{'event_info': 'PC GAMER', 'event_timestamp':...       459697\n",
              "413159  [{'event_info': 289961, 'event_timestamp': '20...      1845503\n",
              "413160  [{'event_info': 'ALUGUEL BOB CAT', 'event_time...      2022477\n",
              "413161  [{'event_info': 'XAOMI', 'event_timestamp': '2...      1111021\n",
              "413162  [{'event_info': 'COTONETE FINO', 'event_timest...      1212472\n",
              "\n",
              "[413163 rows x 2 columns]"
            ]
          },
          "metadata": {
            "tags": []
          },
          "execution_count": 4
        }
      ]
    },
    {
      "cell_type": "code",
      "metadata": {
        "colab": {
          "base_uri": "https://localhost:8080/",
          "height": 414
        },
        "id": "7gpCHV3z-81b",
        "outputId": "5230bfb8-2ca7-4602-f202-1b2122a8665f"
      },
      "source": [
        "domain_top_words_df = pd.read_csv(domain_top_words_url, names=['domain_id','top_words'])\n",
        "domain_top_words_df = domain_top_words_df[~domain_top_words_df.domain_id.isna()]\n",
        "domain_top_words_df"
      ],
      "execution_count": null,
      "outputs": [
        {
          "output_type": "execute_result",
          "data": {
            "text/html": [
              "<div>\n",
              "<style scoped>\n",
              "    .dataframe tbody tr th:only-of-type {\n",
              "        vertical-align: middle;\n",
              "    }\n",
              "\n",
              "    .dataframe tbody tr th {\n",
              "        vertical-align: top;\n",
              "    }\n",
              "\n",
              "    .dataframe thead th {\n",
              "        text-align: right;\n",
              "    }\n",
              "</style>\n",
              "<table border=\"1\" class=\"dataframe\">\n",
              "  <thead>\n",
              "    <tr style=\"text-align: right;\">\n",
              "      <th></th>\n",
              "      <th>domain_id</th>\n",
              "      <th>top_words</th>\n",
              "    </tr>\n",
              "  </thead>\n",
              "  <tbody>\n",
              "    <tr>\n",
              "      <th>1</th>\n",
              "      <td>MLB-CARS_AND_VANS</td>\n",
              "      <td>4x4 manual 8v volkswagen chevrolet aut 5p 16v ...</td>\n",
              "    </tr>\n",
              "    <tr>\n",
              "      <th>2</th>\n",
              "      <td>MLB-SNEAKERS</td>\n",
              "      <td>mizuno converse casual olympikus nike sapatêni...</td>\n",
              "    </tr>\n",
              "    <tr>\n",
              "      <th>3</th>\n",
              "      <td>MLB-TV_REPLACEMENT_BACKLIGHT_LED_STRIPS</td>\n",
              "      <td>32la613b 39lb5600 39ln5400 39ln5700 42lb5600 3...</td>\n",
              "    </tr>\n",
              "    <tr>\n",
              "      <th>4</th>\n",
              "      <td>MLB-AUTOMOTIVE_TAIL_LIGHTS</td>\n",
              "      <td>lanternas fitam circuito tricolor sinaleira bi...</td>\n",
              "    </tr>\n",
              "    <tr>\n",
              "      <th>5</th>\n",
              "      <td>MLB-AUTOMOTIVE_DEGREASERS</td>\n",
              "      <td>j50 concentrados multilimpador sintra detersid...</td>\n",
              "    </tr>\n",
              "    <tr>\n",
              "      <th>...</th>\n",
              "      <td>...</td>\n",
              "      <td>...</td>\n",
              "    </tr>\n",
              "    <tr>\n",
              "      <th>7889</th>\n",
              "      <td>MLM-PERCUSSION_WASHERS</td>\n",
              "      <td>kit led tenis negro envio original gratis bate...</td>\n",
              "    </tr>\n",
              "    <tr>\n",
              "      <th>7890</th>\n",
              "      <td>MLM-HARDWARE_NUTS</td>\n",
              "      <td>led tenis negro envio original gratis grado he...</td>\n",
              "    </tr>\n",
              "    <tr>\n",
              "      <th>7891</th>\n",
              "      <td>MLM-DIESEL_VACUUM_PUMPS</td>\n",
              "      <td>led tenis negro envio original gratis bomba fr...</td>\n",
              "    </tr>\n",
              "    <tr>\n",
              "      <th>7892</th>\n",
              "      <td>MLM-TELEPHONE_BILLING_METERS</td>\n",
              "      <td>funda kit led tenis negro envio original grati...</td>\n",
              "    </tr>\n",
              "    <tr>\n",
              "      <th>7893</th>\n",
              "      <td>MLM-PACKAGING_STRAPPINGS</td>\n",
              "      <td>hombre 10 funda kit led tenis negro envio orig...</td>\n",
              "    </tr>\n",
              "  </tbody>\n",
              "</table>\n",
              "<p>7893 rows × 2 columns</p>\n",
              "</div>"
            ],
            "text/plain": [
              "                                    domain_id                                          top_words\n",
              "1                           MLB-CARS_AND_VANS  4x4 manual 8v volkswagen chevrolet aut 5p 16v ...\n",
              "2                                MLB-SNEAKERS  mizuno converse casual olympikus nike sapatêni...\n",
              "3     MLB-TV_REPLACEMENT_BACKLIGHT_LED_STRIPS  32la613b 39lb5600 39ln5400 39ln5700 42lb5600 3...\n",
              "4                  MLB-AUTOMOTIVE_TAIL_LIGHTS  lanternas fitam circuito tricolor sinaleira bi...\n",
              "5                   MLB-AUTOMOTIVE_DEGREASERS  j50 concentrados multilimpador sintra detersid...\n",
              "...                                       ...                                                ...\n",
              "7889                   MLM-PERCUSSION_WASHERS  kit led tenis negro envio original gratis bate...\n",
              "7890                        MLM-HARDWARE_NUTS  led tenis negro envio original gratis grado he...\n",
              "7891                  MLM-DIESEL_VACUUM_PUMPS  led tenis negro envio original gratis bomba fr...\n",
              "7892             MLM-TELEPHONE_BILLING_METERS  funda kit led tenis negro envio original grati...\n",
              "7893                 MLM-PACKAGING_STRAPPINGS  hombre 10 funda kit led tenis negro envio orig...\n",
              "\n",
              "[7893 rows x 2 columns]"
            ]
          },
          "metadata": {
            "tags": []
          },
          "execution_count": 6
        }
      ]
    },
    {
      "cell_type": "markdown",
      "metadata": {
        "id": "nCKr_zA7N5Zp"
      },
      "source": [
        "##ruta1"
      ]
    },
    {
      "cell_type": "code",
      "metadata": {
        "colab": {
          "base_uri": "https://localhost:8080/",
          "height": 454
        },
        "id": "Bi8b7gp7n4rl",
        "outputId": "d6f6ae22-5d73-40e5-a9dd-3c208df070c3"
      },
      "source": [
        "!pip install git+https://github.com/stevennic/whoosh.git@FloatingPointCorrections\n",
        "import os\n",
        "import shutil\n",
        "# shutil.rmtree('indexdir')\n",
        "os.mkdir('indexdir')"
      ],
      "execution_count": null,
      "outputs": [
        {
          "output_type": "stream",
          "text": [
            "Collecting git+https://github.com/stevennic/whoosh.git@FloatingPointCorrections\n",
            "  Cloning https://github.com/stevennic/whoosh.git (to revision FloatingPointCorrections) to /tmp/pip-req-build-x9sxttl_\n",
            "  Running command git clone -q https://github.com/stevennic/whoosh.git /tmp/pip-req-build-x9sxttl_\n",
            "  Running command git checkout -b FloatingPointCorrections --track origin/FloatingPointCorrections\n",
            "  Switched to a new branch 'FloatingPointCorrections'\n",
            "  Branch 'FloatingPointCorrections' set up to track remote branch 'FloatingPointCorrections' from 'origin'.\n",
            "Requirement already satisfied (use --upgrade to upgrade): Whoosh==2.7.4 from git+https://github.com/stevennic/whoosh.git@FloatingPointCorrections in /usr/local/lib/python3.7/dist-packages\n",
            "Requirement already satisfied: cached-property in /usr/local/lib/python3.7/dist-packages (from Whoosh==2.7.4) (1.5.2)\n",
            "Building wheels for collected packages: Whoosh\n",
            "  Building wheel for Whoosh (setup.py) ... \u001b[?25l\u001b[?25hdone\n",
            "  Created wheel for Whoosh: filename=Whoosh-2.7.4-py2.py3-none-any.whl size=467501 sha256=8840b8a339a55a49fd4061d4f8119f991ce1fbeea73ca903bc9802848269fc1d\n",
            "  Stored in directory: /tmp/pip-ephem-wheel-cache-7xndqg5x/wheels/7b/c7/3a/5004ad9757872d23b8ec0d732289f0a1288a17bc177f74cb7f\n",
            "Successfully built Whoosh\n"
          ],
          "name": "stdout"
        },
        {
          "output_type": "error",
          "ename": "FileExistsError",
          "evalue": "ignored",
          "traceback": [
            "\u001b[0;31m---------------------------------------------------------------------------\u001b[0m",
            "\u001b[0;31mFileExistsError\u001b[0m                           Traceback (most recent call last)",
            "\u001b[0;32m<ipython-input-5-26d3c5ead287>\u001b[0m in \u001b[0;36m<module>\u001b[0;34m()\u001b[0m\n\u001b[1;32m      3\u001b[0m \u001b[0;32mimport\u001b[0m \u001b[0mshutil\u001b[0m\u001b[0;34m\u001b[0m\u001b[0;34m\u001b[0m\u001b[0m\n\u001b[1;32m      4\u001b[0m \u001b[0;31m# shutil.rmtree('indexdir')\u001b[0m\u001b[0;34m\u001b[0m\u001b[0;34m\u001b[0m\u001b[0;34m\u001b[0m\u001b[0m\n\u001b[0;32m----> 5\u001b[0;31m \u001b[0mos\u001b[0m\u001b[0;34m.\u001b[0m\u001b[0mmkdir\u001b[0m\u001b[0;34m(\u001b[0m\u001b[0;34m'indexdir'\u001b[0m\u001b[0;34m)\u001b[0m\u001b[0;34m\u001b[0m\u001b[0;34m\u001b[0m\u001b[0m\n\u001b[0m",
            "\u001b[0;31mFileExistsError\u001b[0m: [Errno 17] File exists: 'indexdir'"
          ]
        }
      ]
    },
    {
      "cell_type": "code",
      "metadata": {
        "id": "yNc4xBKWN1lj"
      },
      "source": [
        "from whoosh.index import create_in\n",
        "from whoosh.fields import *\n",
        "schema = Schema(domain_id=TEXT(stored=True), content=TEXT)\n",
        "ix = create_in(\"indexdir\", schema)\n",
        "writer = ix.writer()\n",
        "for row in domain_top_words_df.itertuples(index=False):\n",
        "  writer.add_document(domain_id=row.domain_id, content=row.top_words)\n",
        "writer.commit()\n",
        "\n",
        "# from whoosh import qparser\n",
        "# with ix.searcher() as searcher:\n",
        "#      query = qparser.QueryParser(\"content\", ix.schema, group=qparser.OrGroup).parse(\"reloj^2 samsung\") #se agregar el parámetro group que activará OR entre las palabras\n",
        "#      print(query)\n",
        "#      results = searcher.search(query, terms=True)\n",
        "#      print('got this far')\n",
        "#      if results:\n",
        "#       for result in results:\n",
        "#         print(result.values()[0], item_df.title[result.values()[0]])"
      ],
      "execution_count": null,
      "outputs": []
    },
    {
      "cell_type": "code",
      "metadata": {
        "colab": {
          "base_uri": "https://localhost:8080/"
        },
        "id": "gxT1oqm0P4Ez",
        "outputId": "d79720d0-ec3c-4035-98cd-31b11ca2a58f"
      },
      "source": [
        "#test de funcionamiento\n",
        "test = \"mouse inalambrico\"\n",
        "from whoosh import qparser\n",
        "with ix.searcher() as searcher:\n",
        "     query = qparser.QueryParser(\"content\", ix.schema, group=qparser.OrGroup).parse(test) #se agregar el parámetro group que activará OR entre las palabras\n",
        "     print(query)\n",
        "     results = searcher.search(query, terms=True)\n",
        "     print('got this far')\n",
        "     if results:\n",
        "      for result in results:\n",
        "        print(result.values()[0])"
      ],
      "execution_count": null,
      "outputs": [
        {
          "output_type": "stream",
          "text": [
            "(content:mouse OR content:inalambrico)\n",
            "got this far\n",
            "MLM-COMPUTER_MICE\n",
            "MLM-KEYBOARD_AND_MOUSE_KITS\n",
            "MLB-COMPUTER_MICE\n",
            "MLB-KEYBOARD_AND_MOUSE_KITS\n",
            "MLB-COMPUTER_REMOTE_CONTROLS\n",
            "MLM-KARAOKE_MICROPHONES\n",
            "MLM-CELLPHONE_REPLACEMENT_KEYBOARDS\n",
            "MLB-MOUSE_PADS\n",
            "MLM-MOUSE_PADS\n",
            "MLM-BOX_SPRING_COVERS\n"
          ],
          "name": "stdout"
        }
      ]
    },
    {
      "cell_type": "markdown",
      "metadata": {
        "id": "-VJejVbaRxxs"
      },
      "source": [
        "Debo crear el item_domain_dict para poder hacer análisis sobre los domain de cada compra"
      ]
    },
    {
      "cell_type": "code",
      "metadata": {
        "id": "KfDxRvoTR76q"
      },
      "source": [
        "item_data = []\n",
        "with urllib.request.urlopen(url_item_data) as handle:\n",
        "  gz = gzip.GzipFile(fileobj=handle)\n",
        "  for i, line in enumerate(gz):\n",
        "    item_data.append(json.loads(line.strip().decode('utf-8'))) "
      ],
      "execution_count": null,
      "outputs": []
    },
    {
      "cell_type": "code",
      "metadata": {
        "id": "3YPxny0jR-1z"
      },
      "source": [
        "item_df = pd.DataFrame(item_data)\n",
        "del item_data\n",
        "del gz"
      ],
      "execution_count": null,
      "outputs": []
    },
    {
      "cell_type": "code",
      "metadata": {
        "id": "hCiwE9qzSjdM"
      },
      "source": [
        "item_list = item_df['item_id'].tolist()\n",
        "domain_list = item_df['domain_id'].tolist()\n",
        "item_domain_dict = dict(zip(item_list, domain_list))"
      ],
      "execution_count": null,
      "outputs": []
    },
    {
      "cell_type": "code",
      "metadata": {
        "id": "U1EOAzp-QnMX"
      },
      "source": [
        "from whoosh import qparser\n",
        "query_object = qparser.QueryParser(\"content\", ix.schema, group=qparser.OrGroup) #se agregar el parámetro group que activará OR entre las palabras\n",
        "def count_bdom_in_searches(row, max_events=10,query_object=query_object):\n",
        "  ''' Cuenta cantidad de veces que aparece el domain de la compra entre las searches. \n",
        "  Considera únicamente los últimos max_events cantidad de eventos, para no explotar la PC'''\n",
        "  counter = 0\n",
        "  bdom = item_domain_dict[row.item_bought]\n",
        "  query_string = ''\n",
        "  max_search = 3\n",
        "  search_count = 0\n",
        "  for event in row.user_history[:max_events]: #Se limita la cantidad de eventos a buscar\n",
        "    if search_count < max_search:  \n",
        "      if event['event_type'] == 'search':\n",
        "        search_count += 1\n",
        "        query_string += ' ' + event['event_info'] #se unifica todas las search como 1 solo string por motivos de rendimiento\n",
        "  with ix.searcher() as searcher:\n",
        "        #query_string = ' '.join(event['event_info'].split(' ')[:1]) tomando los primeros n terminos\n",
        "        #query_string = event['event_info'].split(' ')[0] tomando solo el primer termino\n",
        "    query = query_object.parse(query_string)  #Esto se podría quizás mejorar elevando al ^2 el primer término buscado\n",
        "    results = searcher.search(query)  \n",
        "    if results:\n",
        "      result = results[0].values()[0] #Se toma únicamente el elemento más relevante de la búsqueda\n",
        "      if result == bdom:\n",
        "        counter += 1\n",
        "  return counter\n",
        "          "
      ],
      "execution_count": null,
      "outputs": []
    },
    {
      "cell_type": "code",
      "metadata": {
        "colab": {
          "base_uri": "https://localhost:8080/",
          "height": 35
        },
        "id": "B48oqd_AqAQh",
        "outputId": "a51c47be-4642-4901-9d68-be849f38639b"
      },
      "source": [
        "' '.join('hola que'.split()[:4])"
      ],
      "execution_count": null,
      "outputs": [
        {
          "output_type": "execute_result",
          "data": {
            "application/vnd.google.colaboratory.intrinsic+json": {
              "type": "string"
            },
            "text/plain": [
              "'hola que'"
            ]
          },
          "metadata": {
            "tags": []
          },
          "execution_count": 15
        }
      ]
    },
    {
      "cell_type": "code",
      "metadata": {
        "colab": {
          "base_uri": "https://localhost:8080/",
          "height": 245,
          "referenced_widgets": [
            "759c8dc7482c4839b7c93e3d0cf8e7d2",
            "5b14d065dfa64b5db9768b98cb66a49c",
            "a5394c6b760c42d09f41079964365214",
            "044b1cbc0196438da28fd571d5e28c2d",
            "3c1520bc056745e0baf018ab49cb012b",
            "f2027758fcae4c5d920c0912c963e5fc",
            "b0b60522e28d4343ade12ab932d3478e",
            "504ceecf91ec43919e245cbf405fa77a"
          ]
        },
        "id": "JCIYIpdZRiu6",
        "outputId": "0e7c3a37-d21c-4e3d-921c-7387ab4a2b5e"
      },
      "source": [
        "tqdm.pandas()\n",
        "train_df['counter_bdom_in_searches'] = train_df.progress_apply(count_bdom_in_searches,axis=1)\n",
        "train_df[6700:6703]"
      ],
      "execution_count": null,
      "outputs": [
        {
          "output_type": "stream",
          "text": [
            "/usr/local/lib/python3.7/dist-packages/tqdm/std.py:658: FutureWarning: The Panel class is removed from pandas. Accessing it from the top-level namespace will also be removed in the next version\n",
            "  from pandas import Panel\n"
          ],
          "name": "stderr"
        },
        {
          "output_type": "display_data",
          "data": {
            "application/vnd.jupyter.widget-view+json": {
              "model_id": "759c8dc7482c4839b7c93e3d0cf8e7d2",
              "version_minor": 0,
              "version_major": 2
            },
            "text/plain": [
              "HBox(children=(FloatProgress(value=0.0, max=413163.0), HTML(value='')))"
            ]
          },
          "metadata": {
            "tags": []
          }
        },
        {
          "output_type": "stream",
          "text": [
            "\n"
          ],
          "name": "stdout"
        },
        {
          "output_type": "execute_result",
          "data": {
            "text/html": [
              "<div>\n",
              "<style scoped>\n",
              "    .dataframe tbody tr th:only-of-type {\n",
              "        vertical-align: middle;\n",
              "    }\n",
              "\n",
              "    .dataframe tbody tr th {\n",
              "        vertical-align: top;\n",
              "    }\n",
              "\n",
              "    .dataframe thead th {\n",
              "        text-align: right;\n",
              "    }\n",
              "</style>\n",
              "<table border=\"1\" class=\"dataframe\">\n",
              "  <thead>\n",
              "    <tr style=\"text-align: right;\">\n",
              "      <th></th>\n",
              "      <th>user_history</th>\n",
              "      <th>item_bought</th>\n",
              "      <th>counter_bdom_in_searches</th>\n",
              "    </tr>\n",
              "  </thead>\n",
              "  <tbody>\n",
              "    <tr>\n",
              "      <th>6700</th>\n",
              "      <td>[{'event_info': 1471860, 'event_timestamp': '2...</td>\n",
              "      <td>1135771</td>\n",
              "      <td>0</td>\n",
              "    </tr>\n",
              "    <tr>\n",
              "      <th>6701</th>\n",
              "      <td>[{'event_info': 919566, 'event_timestamp': '20...</td>\n",
              "      <td>1811871</td>\n",
              "      <td>0</td>\n",
              "    </tr>\n",
              "    <tr>\n",
              "      <th>6702</th>\n",
              "      <td>[{'event_info': 'TORO', 'event_timestamp': '20...</td>\n",
              "      <td>865535</td>\n",
              "      <td>0</td>\n",
              "    </tr>\n",
              "  </tbody>\n",
              "</table>\n",
              "</div>"
            ],
            "text/plain": [
              "                                           user_history  ...  counter_bdom_in_searches\n",
              "6700  [{'event_info': 1471860, 'event_timestamp': '2...  ...                         0\n",
              "6701  [{'event_info': 919566, 'event_timestamp': '20...  ...                         0\n",
              "6702  [{'event_info': 'TORO', 'event_timestamp': '20...  ...                         0\n",
              "\n",
              "[3 rows x 3 columns]"
            ]
          },
          "metadata": {
            "tags": []
          },
          "execution_count": 16
        }
      ]
    },
    {
      "cell_type": "code",
      "metadata": {
        "id": "3XteCv50sqqQ"
      },
      "source": [
        "train_df.counter_bdom_in_searches.to_csv('counter_bdom_in_searches.csv', index=False)"
      ],
      "execution_count": null,
      "outputs": []
    },
    {
      "cell_type": "code",
      "metadata": {
        "colab": {
          "base_uri": "https://localhost:8080/",
          "height": 66,
          "referenced_widgets": [
            "85ce973f1956435dbc97e1b297ad53ab",
            "e2430bca763c4056a3c546dd62fcb0f9",
            "cae531009d014020a85298bb2f827b9c",
            "fffcc675b613435fa2658ece42dd6da9",
            "3f0e68ecaee74f8d94e49afe3a6b6d4e",
            "24dfeebdbc70465ca083edc19105af16",
            "641668de1d604d0abbdeb6fccf316bd0",
            "80616c2cfa504930997c13b15951f6cd"
          ]
        },
        "id": "kKpXKcPtJ2fS",
        "outputId": "03d4a016-44e8-4970-8cd8-e6eb42be2906"
      },
      "source": [
        "train_df['domain_was_viewed'] = train_df.progress_apply(lambda row: item_domain_dict[row['item_bought']] in [item_domain_dict[history['event_info']] for history in row['user_history'] if history['event_type'] == 'view'], axis=1)\n"
      ],
      "execution_count": null,
      "outputs": [
        {
          "output_type": "display_data",
          "data": {
            "application/vnd.jupyter.widget-view+json": {
              "model_id": "85ce973f1956435dbc97e1b297ad53ab",
              "version_minor": 0,
              "version_major": 2
            },
            "text/plain": [
              "HBox(children=(FloatProgress(value=0.0, max=413163.0), HTML(value='')))"
            ]
          },
          "metadata": {
            "tags": []
          }
        },
        {
          "output_type": "stream",
          "text": [
            "\n"
          ],
          "name": "stdout"
        }
      ]
    },
    {
      "cell_type": "code",
      "metadata": {
        "colab": {
          "base_uri": "https://localhost:8080/"
        },
        "id": "Gy_YkPU-KUdz",
        "outputId": "fa205e2d-a957-4752-945a-53b6b42ebd7e"
      },
      "source": [
        "train_df['bdom_in_events'] = train_df.domain_was_viewed + train_df.counter_bdom_in_searches\n",
        "train_df.bdom_in_events.value_counts() "
      ],
      "execution_count": null,
      "outputs": [
        {
          "output_type": "execute_result",
          "data": {
            "text/plain": [
              "0    205459\n",
              "1    162598\n",
              "2     45106\n",
              "Name: bdom_in_events, dtype: int64"
            ]
          },
          "metadata": {
            "tags": []
          },
          "execution_count": 24
        }
      ]
    },
    {
      "cell_type": "code",
      "metadata": {
        "colab": {
          "base_uri": "https://localhost:8080/"
        },
        "id": "9gAmLRgxKkFG",
        "outputId": "63531d80-6433-4d6d-b5be-596dc0e64f3f"
      },
      "source": [
        "(45106+162598), 205459"
      ],
      "execution_count": null,
      "outputs": [
        {
          "output_type": "execute_result",
          "data": {
            "text/plain": [
              "(207704, 205459)"
            ]
          },
          "metadata": {
            "tags": []
          },
          "execution_count": 25
        }
      ]
    },
    {
      "cell_type": "code",
      "metadata": {
        "colab": {
          "base_uri": "https://localhost:8080/"
        },
        "id": "-0YULQBUNUkq",
        "outputId": "32242df1-ac7d-4ffe-8c68-e90789646e62"
      },
      "source": [
        "'se identifican solo nuevos: ', sum((train_df.domain_was_viewed == False) & (train_df.counter_bdom_in_searches > 0))"
      ],
      "execution_count": null,
      "outputs": [
        {
          "output_type": "execute_result",
          "data": {
            "text/plain": [
              "('se identifican solo nuevos: ', 3847)"
            ]
          },
          "metadata": {
            "tags": []
          },
          "execution_count": 28
        }
      ]
    },
    {
      "cell_type": "code",
      "metadata": {
        "id": "rsnCHXpzN1-u",
        "colab": {
          "base_uri": "https://localhost:8080/",
          "height": 185
        },
        "outputId": "d046a7af-5a84-437b-9f01-01bd5be1c233"
      },
      "source": [
        "import os\n",
        "os.mkdir('indexdir2')"
      ],
      "execution_count": null,
      "outputs": [
        {
          "output_type": "error",
          "ename": "FileExistsError",
          "evalue": "ignored",
          "traceback": [
            "\u001b[0;31m---------------------------------------------------------------------------\u001b[0m",
            "\u001b[0;31mFileExistsError\u001b[0m                           Traceback (most recent call last)",
            "\u001b[0;32m<ipython-input-6-a73523cfbb87>\u001b[0m in \u001b[0;36m<module>\u001b[0;34m()\u001b[0m\n\u001b[1;32m      1\u001b[0m \u001b[0;32mimport\u001b[0m \u001b[0mos\u001b[0m\u001b[0;34m\u001b[0m\u001b[0;34m\u001b[0m\u001b[0m\n\u001b[0;32m----> 2\u001b[0;31m \u001b[0mos\u001b[0m\u001b[0;34m.\u001b[0m\u001b[0mmkdir\u001b[0m\u001b[0;34m(\u001b[0m\u001b[0;34m'indexdir2'\u001b[0m\u001b[0;34m)\u001b[0m\u001b[0;34m\u001b[0m\u001b[0;34m\u001b[0m\u001b[0m\n\u001b[0m",
            "\u001b[0;31mFileExistsError\u001b[0m: [Errno 17] File exists: 'indexdir2'"
          ]
        }
      ]
    },
    {
      "cell_type": "code",
      "metadata": {
        "colab": {
          "base_uri": "https://localhost:8080/",
          "height": 414
        },
        "id": "PvBvqACcOEgI",
        "outputId": "99ed4690-98d7-48f8-bb03-8db7c638baae"
      },
      "source": [
        "domain_top_words_5_url = 'https://raw.githubusercontent.com/natanrajch/DiploDatos/main/MELI/domain_top_words_5.csv'\n",
        "domain_top_words_df_5 = pd.read_csv(domain_top_words_5_url, names=['domain_id','top_words'])\n",
        "domain_top_words_df_5 = domain_top_words_df_5[~domain_top_words_df_5.domain_id.isna()]\n",
        "domain_top_words_df_5"
      ],
      "execution_count": null,
      "outputs": [
        {
          "output_type": "execute_result",
          "data": {
            "text/html": [
              "<div>\n",
              "<style scoped>\n",
              "    .dataframe tbody tr th:only-of-type {\n",
              "        vertical-align: middle;\n",
              "    }\n",
              "\n",
              "    .dataframe tbody tr th {\n",
              "        vertical-align: top;\n",
              "    }\n",
              "\n",
              "    .dataframe thead th {\n",
              "        text-align: right;\n",
              "    }\n",
              "</style>\n",
              "<table border=\"1\" class=\"dataframe\">\n",
              "  <thead>\n",
              "    <tr style=\"text-align: right;\">\n",
              "      <th></th>\n",
              "      <th>domain_id</th>\n",
              "      <th>top_words</th>\n",
              "    </tr>\n",
              "  </thead>\n",
              "  <tbody>\n",
              "    <tr>\n",
              "      <th>0</th>\n",
              "      <td>domain_id</td>\n",
              "      <td>top_words</td>\n",
              "    </tr>\n",
              "    <tr>\n",
              "      <th>1</th>\n",
              "      <td>MLB-CARS_AND_VANS</td>\n",
              "      <td>4x4 manual 8v volkswagen chevrolet aut 16v gas...</td>\n",
              "    </tr>\n",
              "    <tr>\n",
              "      <th>2</th>\n",
              "      <td>MLB-SNEAKERS</td>\n",
              "      <td>mizuno converse casual olympikus nike sapatêni...</td>\n",
              "    </tr>\n",
              "    <tr>\n",
              "      <th>3</th>\n",
              "      <td>MLB-TV_REPLACEMENT_BACKLIGHT_LED_STRIPS</td>\n",
              "      <td>32la613b 39lb5600 39ln5400 39ln5700 42lb5600 3...</td>\n",
              "    </tr>\n",
              "    <tr>\n",
              "      <th>4</th>\n",
              "      <td>MLB-AUTOMOTIVE_TAIL_LIGHTS</td>\n",
              "      <td>lanternas fitam circuito tricolor sinaleira bi...</td>\n",
              "    </tr>\n",
              "    <tr>\n",
              "      <th>...</th>\n",
              "      <td>...</td>\n",
              "      <td>...</td>\n",
              "    </tr>\n",
              "    <tr>\n",
              "      <th>7889</th>\n",
              "      <td>MLM-PERCUSSION_WASHERS</td>\n",
              "      <td>kit led tenis negro envio original tenis adida...</td>\n",
              "    </tr>\n",
              "    <tr>\n",
              "      <th>7890</th>\n",
              "      <td>MLM-HARDWARE_NUTS</td>\n",
              "      <td>led tenis negro envio original gratis tenis ad...</td>\n",
              "    </tr>\n",
              "    <tr>\n",
              "      <th>7891</th>\n",
              "      <td>MLM-DIESEL_VACUUM_PUMPS</td>\n",
              "      <td>led tenis negro envio original gratis 100 orig...</td>\n",
              "    </tr>\n",
              "    <tr>\n",
              "      <th>7892</th>\n",
              "      <td>MLM-TELEPHONE_BILLING_METERS</td>\n",
              "      <td>funda kit led tenis negro envio tenis adidas 1...</td>\n",
              "    </tr>\n",
              "    <tr>\n",
              "      <th>7893</th>\n",
              "      <td>MLM-PACKAGING_STRAPPINGS</td>\n",
              "      <td>hombre 10 funda kit led tenis tenis adidas 100...</td>\n",
              "    </tr>\n",
              "  </tbody>\n",
              "</table>\n",
              "<p>7894 rows × 2 columns</p>\n",
              "</div>"
            ],
            "text/plain": [
              "                                    domain_id                                          top_words\n",
              "0                                   domain_id                                          top_words\n",
              "1                           MLB-CARS_AND_VANS  4x4 manual 8v volkswagen chevrolet aut 16v gas...\n",
              "2                                MLB-SNEAKERS  mizuno converse casual olympikus nike sapatêni...\n",
              "3     MLB-TV_REPLACEMENT_BACKLIGHT_LED_STRIPS  32la613b 39lb5600 39ln5400 39ln5700 42lb5600 3...\n",
              "4                  MLB-AUTOMOTIVE_TAIL_LIGHTS  lanternas fitam circuito tricolor sinaleira bi...\n",
              "...                                       ...                                                ...\n",
              "7889                   MLM-PERCUSSION_WASHERS  kit led tenis negro envio original tenis adida...\n",
              "7890                        MLM-HARDWARE_NUTS  led tenis negro envio original gratis tenis ad...\n",
              "7891                  MLM-DIESEL_VACUUM_PUMPS  led tenis negro envio original gratis 100 orig...\n",
              "7892             MLM-TELEPHONE_BILLING_METERS  funda kit led tenis negro envio tenis adidas 1...\n",
              "7893                 MLM-PACKAGING_STRAPPINGS  hombre 10 funda kit led tenis tenis adidas 100...\n",
              "\n",
              "[7894 rows x 2 columns]"
            ]
          },
          "metadata": {
            "tags": []
          },
          "execution_count": 7
        }
      ]
    },
    {
      "cell_type": "code",
      "metadata": {
        "id": "ZMCG1cVnOnMB"
      },
      "source": [
        "from whoosh.index import create_in\n",
        "from whoosh.fields import *\n",
        "schema = Schema(domain_id=TEXT(stored=True), content=TEXT)\n",
        "ix = create_in(\"indexdir2\", schema)\n",
        "writer = ix.writer()\n",
        "for row in domain_top_words_df_5.itertuples(index=False):\n",
        "  writer.add_document(domain_id=row.domain_id, content=row.top_words)\n",
        "writer.commit()"
      ],
      "execution_count": null,
      "outputs": []
    },
    {
      "cell_type": "code",
      "metadata": {
        "colab": {
          "base_uri": "https://localhost:8080/"
        },
        "id": "CAbr4zFuOyvh",
        "outputId": "08d34028-7c89-4989-e151-56131075041b"
      },
      "source": [
        "#test de funcionamiento\n",
        "test = \"silla living\"\n",
        "from whoosh import qparser\n",
        "with ix.searcher() as searcher:\n",
        "     query = qparser.QueryParser(\"content\", ix.schema, group=qparser.OrGroup).parse(test) #se agregar el parámetro group que activará OR entre las palabras\n",
        "     print(query)\n",
        "     results = searcher.search(query, terms=True)\n",
        "     if results:\n",
        "      for result in results:\n",
        "        print(result.values()[0])"
      ],
      "execution_count": null,
      "outputs": [
        {
          "output_type": "stream",
          "text": [
            "(content:silla OR content:living)\n",
            "MLM-STYLING_CHAIRS\n",
            "MLM-CHAIR_COVERS\n",
            "MLM-BABY_HIGH_CHAIRS\n",
            "MLM-BABY_CAR_SEATS\n",
            "MLM-OFFICE_CHAIRS\n",
            "MLM-GARDEN_CHAIRS\n",
            "MLM-DINING_CHAIRS\n",
            "MLM-BABY_BOUNCERS\n",
            "MLM-BICYCLE_CHILD_SEATS\n",
            "MLM-WHEELCHAIR_CUSHIONS\n"
          ],
          "name": "stdout"
        }
      ]
    },
    {
      "cell_type": "code",
      "metadata": {
        "id": "6W4G-7HTPXPJ"
      },
      "source": [
        "from whoosh import qparser\n",
        "query_object = qparser.QueryParser(\"content\", ix.schema, group=qparser.OrGroup) #se agregar el parámetro group que activará OR entre las palabras\n",
        "def count_bdom_in_searches(row, max_events=10,query_object=query_object):\n",
        "  ''' Cuenta cantidad de veces que aparece el domain de la compra entre las searches. \n",
        "  Considera únicamente los últimos max_events cantidad de eventos, para no explotar la PC'''\n",
        "  counter = 0\n",
        "  bdom = item_domain_dict[row.item_bought]\n",
        "  query_string = ''\n",
        "  max_search = 3\n",
        "  search_count = 0\n",
        "  with ix.searcher() as searcher:\n",
        "    for event in row.user_history[:max_events]: #Se limita la cantidad de eventos a buscar\n",
        "      if event['event_type'] == 'search':\n",
        "        #query_string = ' '.join(event['event_info'].split(' ')[:1]) #tomando los primeros n terminos\n",
        "        query_string = event['event_info'].split(' ')[0] #tomando solo el primer termino\n",
        "        query = query_object.parse(query_string)  #Esto se podría quizás mejorar elevando al ^2 el primer término buscado\n",
        "        results = searcher.search(query)  \n",
        "        if results:\n",
        "          result = results[0].values()[0] #Se toma únicamente el elemento más relevante de la búsqueda\n",
        "          if result == bdom:\n",
        "            counter += 1\n",
        "  return counter"
      ],
      "execution_count": null,
      "outputs": []
    },
    {
      "cell_type": "code",
      "metadata": {
        "colab": {
          "base_uri": "https://localhost:8080/",
          "height": 438,
          "referenced_widgets": [
            "3a7a0afc23434f5596b48d959c881ecd",
            "1cea4744a372466bbfe5553214bd6065",
            "fd08913af6e04b08be58ccc5b62c510d",
            "c28eb38e4ef34eeb8ae00ee8be08f977",
            "4071b313760743798c6bbc4829187b29",
            "1094dd7bc21f4c0bb1543815de0f824a",
            "499ee5f15ca6467eaa44d678bccef0ff",
            "2ae71b4611ac46fe8638afbf0e76630f"
          ]
        },
        "id": "uoE6OMv_PxJx",
        "outputId": "ac36a23c-4efd-4cf9-8ce9-07b75167f012"
      },
      "source": [
        "tqdm.pandas()\n",
        "train_df['counter_bdom_in_searches_5'] = train_df.progress_apply(count_bdom_in_searches,axis=1)\n",
        "train_df[6700:6703]"
      ],
      "execution_count": null,
      "outputs": [
        {
          "output_type": "stream",
          "text": [
            "/usr/local/lib/python3.7/dist-packages/tqdm/std.py:658: FutureWarning: The Panel class is removed from pandas. Accessing it from the top-level namespace will also be removed in the next version\n",
            "  from pandas import Panel\n"
          ],
          "name": "stderr"
        },
        {
          "output_type": "display_data",
          "data": {
            "application/vnd.jupyter.widget-view+json": {
              "model_id": "3a7a0afc23434f5596b48d959c881ecd",
              "version_minor": 0,
              "version_major": 2
            },
            "text/plain": [
              "HBox(children=(FloatProgress(value=0.0, max=413163.0), HTML(value='')))"
            ]
          },
          "metadata": {
            "tags": []
          }
        },
        {
          "output_type": "error",
          "ename": "KeyboardInterrupt",
          "evalue": "ignored",
          "traceback": [
            "\u001b[0;31m---------------------------------------------------------------------------\u001b[0m",
            "\u001b[0;31mKeyboardInterrupt\u001b[0m                         Traceback (most recent call last)",
            "\u001b[0;32m<ipython-input-17-bc91d20b4d9d>\u001b[0m in \u001b[0;36m<module>\u001b[0;34m()\u001b[0m\n\u001b[1;32m      1\u001b[0m \u001b[0mtqdm\u001b[0m\u001b[0;34m.\u001b[0m\u001b[0mpandas\u001b[0m\u001b[0;34m(\u001b[0m\u001b[0;34m)\u001b[0m\u001b[0;34m\u001b[0m\u001b[0;34m\u001b[0m\u001b[0m\n\u001b[0;32m----> 2\u001b[0;31m \u001b[0mtrain_df\u001b[0m\u001b[0;34m[\u001b[0m\u001b[0;34m'counter_bdom_in_searches_5'\u001b[0m\u001b[0;34m]\u001b[0m \u001b[0;34m=\u001b[0m \u001b[0mtrain_df\u001b[0m\u001b[0;34m.\u001b[0m\u001b[0mprogress_apply\u001b[0m\u001b[0;34m(\u001b[0m\u001b[0mcount_bdom_in_searches\u001b[0m\u001b[0;34m,\u001b[0m\u001b[0maxis\u001b[0m\u001b[0;34m=\u001b[0m\u001b[0;36m1\u001b[0m\u001b[0;34m)\u001b[0m\u001b[0;34m\u001b[0m\u001b[0;34m\u001b[0m\u001b[0m\n\u001b[0m\u001b[1;32m      3\u001b[0m \u001b[0mtrain_df\u001b[0m\u001b[0;34m[\u001b[0m\u001b[0;36m6700\u001b[0m\u001b[0;34m:\u001b[0m\u001b[0;36m6703\u001b[0m\u001b[0;34m]\u001b[0m\u001b[0;34m\u001b[0m\u001b[0;34m\u001b[0m\u001b[0m\n",
            "\u001b[0;32m/usr/local/lib/python3.7/dist-packages/tqdm/std.py\u001b[0m in \u001b[0;36minner\u001b[0;34m(df, func, *args, **kwargs)\u001b[0m\n\u001b[1;32m    751\u001b[0m                 \u001b[0;31m# Apply the provided function (in **kwargs)\u001b[0m\u001b[0;34m\u001b[0m\u001b[0;34m\u001b[0m\u001b[0;34m\u001b[0m\u001b[0m\n\u001b[1;32m    752\u001b[0m                 \u001b[0;31m# on the df using our wrapper (which provides bar updating)\u001b[0m\u001b[0;34m\u001b[0m\u001b[0;34m\u001b[0m\u001b[0;34m\u001b[0m\u001b[0m\n\u001b[0;32m--> 753\u001b[0;31m                 \u001b[0mresult\u001b[0m \u001b[0;34m=\u001b[0m \u001b[0mgetattr\u001b[0m\u001b[0;34m(\u001b[0m\u001b[0mdf\u001b[0m\u001b[0;34m,\u001b[0m \u001b[0mdf_function\u001b[0m\u001b[0;34m)\u001b[0m\u001b[0;34m(\u001b[0m\u001b[0mwrapper\u001b[0m\u001b[0;34m,\u001b[0m \u001b[0;34m**\u001b[0m\u001b[0mkwargs\u001b[0m\u001b[0;34m)\u001b[0m\u001b[0;34m\u001b[0m\u001b[0;34m\u001b[0m\u001b[0m\n\u001b[0m\u001b[1;32m    754\u001b[0m \u001b[0;34m\u001b[0m\u001b[0m\n\u001b[1;32m    755\u001b[0m                 \u001b[0;31m# Close bar and return pandas calculation result\u001b[0m\u001b[0;34m\u001b[0m\u001b[0;34m\u001b[0m\u001b[0;34m\u001b[0m\u001b[0m\n",
            "\u001b[0;32m/usr/local/lib/python3.7/dist-packages/pandas/core/frame.py\u001b[0m in \u001b[0;36mapply\u001b[0;34m(self, func, axis, raw, result_type, args, **kwds)\u001b[0m\n\u001b[1;32m   7550\u001b[0m             \u001b[0mkwds\u001b[0m\u001b[0;34m=\u001b[0m\u001b[0mkwds\u001b[0m\u001b[0;34m,\u001b[0m\u001b[0;34m\u001b[0m\u001b[0;34m\u001b[0m\u001b[0m\n\u001b[1;32m   7551\u001b[0m         )\n\u001b[0;32m-> 7552\u001b[0;31m         \u001b[0;32mreturn\u001b[0m \u001b[0mop\u001b[0m\u001b[0;34m.\u001b[0m\u001b[0mget_result\u001b[0m\u001b[0;34m(\u001b[0m\u001b[0;34m)\u001b[0m\u001b[0;34m\u001b[0m\u001b[0;34m\u001b[0m\u001b[0m\n\u001b[0m\u001b[1;32m   7553\u001b[0m \u001b[0;34m\u001b[0m\u001b[0m\n\u001b[1;32m   7554\u001b[0m     \u001b[0;32mdef\u001b[0m \u001b[0mapplymap\u001b[0m\u001b[0;34m(\u001b[0m\u001b[0mself\u001b[0m\u001b[0;34m,\u001b[0m \u001b[0mfunc\u001b[0m\u001b[0;34m)\u001b[0m \u001b[0;34m->\u001b[0m \u001b[0;34m\"DataFrame\"\u001b[0m\u001b[0;34m:\u001b[0m\u001b[0;34m\u001b[0m\u001b[0;34m\u001b[0m\u001b[0m\n",
            "\u001b[0;32m/usr/local/lib/python3.7/dist-packages/pandas/core/apply.py\u001b[0m in \u001b[0;36mget_result\u001b[0;34m(self)\u001b[0m\n\u001b[1;32m    183\u001b[0m             \u001b[0;32mreturn\u001b[0m \u001b[0mself\u001b[0m\u001b[0;34m.\u001b[0m\u001b[0mapply_raw\u001b[0m\u001b[0;34m(\u001b[0m\u001b[0;34m)\u001b[0m\u001b[0;34m\u001b[0m\u001b[0;34m\u001b[0m\u001b[0m\n\u001b[1;32m    184\u001b[0m \u001b[0;34m\u001b[0m\u001b[0m\n\u001b[0;32m--> 185\u001b[0;31m         \u001b[0;32mreturn\u001b[0m \u001b[0mself\u001b[0m\u001b[0;34m.\u001b[0m\u001b[0mapply_standard\u001b[0m\u001b[0;34m(\u001b[0m\u001b[0;34m)\u001b[0m\u001b[0;34m\u001b[0m\u001b[0;34m\u001b[0m\u001b[0m\n\u001b[0m\u001b[1;32m    186\u001b[0m \u001b[0;34m\u001b[0m\u001b[0m\n\u001b[1;32m    187\u001b[0m     \u001b[0;32mdef\u001b[0m \u001b[0mapply_empty_result\u001b[0m\u001b[0;34m(\u001b[0m\u001b[0mself\u001b[0m\u001b[0;34m)\u001b[0m\u001b[0;34m:\u001b[0m\u001b[0;34m\u001b[0m\u001b[0;34m\u001b[0m\u001b[0m\n",
            "\u001b[0;32m/usr/local/lib/python3.7/dist-packages/pandas/core/apply.py\u001b[0m in \u001b[0;36mapply_standard\u001b[0;34m(self)\u001b[0m\n\u001b[1;32m    274\u001b[0m \u001b[0;34m\u001b[0m\u001b[0m\n\u001b[1;32m    275\u001b[0m     \u001b[0;32mdef\u001b[0m \u001b[0mapply_standard\u001b[0m\u001b[0;34m(\u001b[0m\u001b[0mself\u001b[0m\u001b[0;34m)\u001b[0m\u001b[0;34m:\u001b[0m\u001b[0;34m\u001b[0m\u001b[0;34m\u001b[0m\u001b[0m\n\u001b[0;32m--> 276\u001b[0;31m         \u001b[0mresults\u001b[0m\u001b[0;34m,\u001b[0m \u001b[0mres_index\u001b[0m \u001b[0;34m=\u001b[0m \u001b[0mself\u001b[0m\u001b[0;34m.\u001b[0m\u001b[0mapply_series_generator\u001b[0m\u001b[0;34m(\u001b[0m\u001b[0;34m)\u001b[0m\u001b[0;34m\u001b[0m\u001b[0;34m\u001b[0m\u001b[0m\n\u001b[0m\u001b[1;32m    277\u001b[0m \u001b[0;34m\u001b[0m\u001b[0m\n\u001b[1;32m    278\u001b[0m         \u001b[0;31m# wrap results\u001b[0m\u001b[0;34m\u001b[0m\u001b[0;34m\u001b[0m\u001b[0;34m\u001b[0m\u001b[0m\n",
            "\u001b[0;32m/usr/local/lib/python3.7/dist-packages/pandas/core/apply.py\u001b[0m in \u001b[0;36mapply_series_generator\u001b[0;34m(self)\u001b[0m\n\u001b[1;32m    303\u001b[0m                 \u001b[0;32mfor\u001b[0m \u001b[0mi\u001b[0m\u001b[0;34m,\u001b[0m \u001b[0mv\u001b[0m \u001b[0;32min\u001b[0m \u001b[0menumerate\u001b[0m\u001b[0;34m(\u001b[0m\u001b[0mseries_gen\u001b[0m\u001b[0;34m)\u001b[0m\u001b[0;34m:\u001b[0m\u001b[0;34m\u001b[0m\u001b[0;34m\u001b[0m\u001b[0m\n\u001b[1;32m    304\u001b[0m                     \u001b[0;31m# ignore SettingWithCopy here in case the user mutates\u001b[0m\u001b[0;34m\u001b[0m\u001b[0;34m\u001b[0m\u001b[0;34m\u001b[0m\u001b[0m\n\u001b[0;32m--> 305\u001b[0;31m                     \u001b[0mresults\u001b[0m\u001b[0;34m[\u001b[0m\u001b[0mi\u001b[0m\u001b[0;34m]\u001b[0m \u001b[0;34m=\u001b[0m \u001b[0mself\u001b[0m\u001b[0;34m.\u001b[0m\u001b[0mf\u001b[0m\u001b[0;34m(\u001b[0m\u001b[0mv\u001b[0m\u001b[0;34m)\u001b[0m\u001b[0;34m\u001b[0m\u001b[0;34m\u001b[0m\u001b[0m\n\u001b[0m\u001b[1;32m    306\u001b[0m                     \u001b[0;32mif\u001b[0m \u001b[0misinstance\u001b[0m\u001b[0;34m(\u001b[0m\u001b[0mresults\u001b[0m\u001b[0;34m[\u001b[0m\u001b[0mi\u001b[0m\u001b[0;34m]\u001b[0m\u001b[0;34m,\u001b[0m \u001b[0mABCSeries\u001b[0m\u001b[0;34m)\u001b[0m\u001b[0;34m:\u001b[0m\u001b[0;34m\u001b[0m\u001b[0;34m\u001b[0m\u001b[0m\n\u001b[1;32m    307\u001b[0m                         \u001b[0;31m# If we have a view on v, we need to make a copy because\u001b[0m\u001b[0;34m\u001b[0m\u001b[0;34m\u001b[0m\u001b[0;34m\u001b[0m\u001b[0m\n",
            "\u001b[0;32m/usr/local/lib/python3.7/dist-packages/tqdm/std.py\u001b[0m in \u001b[0;36mwrapper\u001b[0;34m(*args, **kwargs)\u001b[0m\n\u001b[1;32m    747\u001b[0m                     \u001b[0;31m# take a fast or slow code path; so stop when t.total==t.n\u001b[0m\u001b[0;34m\u001b[0m\u001b[0;34m\u001b[0m\u001b[0;34m\u001b[0m\u001b[0m\n\u001b[1;32m    748\u001b[0m                     \u001b[0mt\u001b[0m\u001b[0;34m.\u001b[0m\u001b[0mupdate\u001b[0m\u001b[0;34m(\u001b[0m\u001b[0mn\u001b[0m\u001b[0;34m=\u001b[0m\u001b[0;36m1\u001b[0m \u001b[0;32mif\u001b[0m \u001b[0;32mnot\u001b[0m \u001b[0mt\u001b[0m\u001b[0;34m.\u001b[0m\u001b[0mtotal\u001b[0m \u001b[0;32mor\u001b[0m \u001b[0mt\u001b[0m\u001b[0;34m.\u001b[0m\u001b[0mn\u001b[0m \u001b[0;34m<\u001b[0m \u001b[0mt\u001b[0m\u001b[0;34m.\u001b[0m\u001b[0mtotal\u001b[0m \u001b[0;32melse\u001b[0m \u001b[0;36m0\u001b[0m\u001b[0;34m)\u001b[0m\u001b[0;34m\u001b[0m\u001b[0;34m\u001b[0m\u001b[0m\n\u001b[0;32m--> 749\u001b[0;31m                     \u001b[0;32mreturn\u001b[0m \u001b[0mfunc\u001b[0m\u001b[0;34m(\u001b[0m\u001b[0;34m*\u001b[0m\u001b[0margs\u001b[0m\u001b[0;34m,\u001b[0m \u001b[0;34m**\u001b[0m\u001b[0mkwargs\u001b[0m\u001b[0;34m)\u001b[0m\u001b[0;34m\u001b[0m\u001b[0;34m\u001b[0m\u001b[0m\n\u001b[0m\u001b[1;32m    750\u001b[0m \u001b[0;34m\u001b[0m\u001b[0m\n\u001b[1;32m    751\u001b[0m                 \u001b[0;31m# Apply the provided function (in **kwargs)\u001b[0m\u001b[0;34m\u001b[0m\u001b[0;34m\u001b[0m\u001b[0;34m\u001b[0m\u001b[0m\n",
            "\u001b[0;32m<ipython-input-10-131cd2ee30f3>\u001b[0m in \u001b[0;36mcount_bdom_in_searches\u001b[0;34m(row, max_events, query_object)\u001b[0m\n\u001b[1;32m      9\u001b[0m   \u001b[0mmax_search\u001b[0m \u001b[0;34m=\u001b[0m \u001b[0;36m3\u001b[0m\u001b[0;34m\u001b[0m\u001b[0;34m\u001b[0m\u001b[0m\n\u001b[1;32m     10\u001b[0m   \u001b[0msearch_count\u001b[0m \u001b[0;34m=\u001b[0m \u001b[0;36m0\u001b[0m\u001b[0;34m\u001b[0m\u001b[0;34m\u001b[0m\u001b[0m\n\u001b[0;32m---> 11\u001b[0;31m   \u001b[0;32mwith\u001b[0m \u001b[0mix\u001b[0m\u001b[0;34m.\u001b[0m\u001b[0msearcher\u001b[0m\u001b[0;34m(\u001b[0m\u001b[0;34m)\u001b[0m \u001b[0;32mas\u001b[0m \u001b[0msearcher\u001b[0m\u001b[0;34m:\u001b[0m\u001b[0;34m\u001b[0m\u001b[0;34m\u001b[0m\u001b[0m\n\u001b[0m\u001b[1;32m     12\u001b[0m     \u001b[0;32mfor\u001b[0m \u001b[0mevent\u001b[0m \u001b[0;32min\u001b[0m \u001b[0mrow\u001b[0m\u001b[0;34m.\u001b[0m\u001b[0muser_history\u001b[0m\u001b[0;34m[\u001b[0m\u001b[0;34m:\u001b[0m\u001b[0mmax_events\u001b[0m\u001b[0;34m]\u001b[0m\u001b[0;34m:\u001b[0m \u001b[0;31m#Se limita la cantidad de eventos a buscar\u001b[0m\u001b[0;34m\u001b[0m\u001b[0;34m\u001b[0m\u001b[0m\n\u001b[1;32m     13\u001b[0m       \u001b[0;32mif\u001b[0m \u001b[0mevent\u001b[0m\u001b[0;34m[\u001b[0m\u001b[0;34m'event_type'\u001b[0m\u001b[0;34m]\u001b[0m \u001b[0;34m==\u001b[0m \u001b[0;34m'search'\u001b[0m\u001b[0;34m:\u001b[0m\u001b[0;34m\u001b[0m\u001b[0;34m\u001b[0m\u001b[0m\n",
            "\u001b[0;32m/usr/local/lib/python3.7/dist-packages/whoosh/index.py\u001b[0m in \u001b[0;36msearcher\u001b[0;34m(self, **kwargs)\u001b[0m\n\u001b[1;32m    318\u001b[0m \u001b[0;34m\u001b[0m\u001b[0m\n\u001b[1;32m    319\u001b[0m         \u001b[0;32mfrom\u001b[0m \u001b[0mwhoosh\u001b[0m\u001b[0;34m.\u001b[0m\u001b[0msearching\u001b[0m \u001b[0;32mimport\u001b[0m \u001b[0mSearcher\u001b[0m\u001b[0;34m\u001b[0m\u001b[0;34m\u001b[0m\u001b[0m\n\u001b[0;32m--> 320\u001b[0;31m         \u001b[0;32mreturn\u001b[0m \u001b[0mSearcher\u001b[0m\u001b[0;34m(\u001b[0m\u001b[0mself\u001b[0m\u001b[0;34m.\u001b[0m\u001b[0mreader\u001b[0m\u001b[0;34m(\u001b[0m\u001b[0;34m)\u001b[0m\u001b[0;34m,\u001b[0m \u001b[0mfromindex\u001b[0m\u001b[0;34m=\u001b[0m\u001b[0mself\u001b[0m\u001b[0;34m,\u001b[0m \u001b[0;34m**\u001b[0m\u001b[0mkwargs\u001b[0m\u001b[0;34m)\u001b[0m\u001b[0;34m\u001b[0m\u001b[0;34m\u001b[0m\u001b[0m\n\u001b[0m\u001b[1;32m    321\u001b[0m \u001b[0;34m\u001b[0m\u001b[0m\n\u001b[1;32m    322\u001b[0m     \u001b[0;32mdef\u001b[0m \u001b[0mfield_length\u001b[0m\u001b[0;34m(\u001b[0m\u001b[0mself\u001b[0m\u001b[0;34m,\u001b[0m \u001b[0mfieldname\u001b[0m\u001b[0;34m)\u001b[0m\u001b[0;34m:\u001b[0m\u001b[0;34m\u001b[0m\u001b[0;34m\u001b[0m\u001b[0m\n",
            "\u001b[0;32m/usr/local/lib/python3.7/dist-packages/whoosh/index.py\u001b[0m in \u001b[0;36mreader\u001b[0;34m(self, reuse)\u001b[0m\n\u001b[1;32m    550\u001b[0m                 \u001b[0minfo\u001b[0m \u001b[0;34m=\u001b[0m \u001b[0mself\u001b[0m\u001b[0;34m.\u001b[0m\u001b[0m_read_toc\u001b[0m\u001b[0;34m(\u001b[0m\u001b[0;34m)\u001b[0m\u001b[0;34m\u001b[0m\u001b[0;34m\u001b[0m\u001b[0m\n\u001b[1;32m    551\u001b[0m                 return self._reader(self.storage, info.schema, info.segments,\n\u001b[0;32m--> 552\u001b[0;31m                                     info.generation, reuse=reuse)\n\u001b[0m\u001b[1;32m    553\u001b[0m             \u001b[0;32mexcept\u001b[0m \u001b[0mIOError\u001b[0m\u001b[0;34m:\u001b[0m\u001b[0;34m\u001b[0m\u001b[0;34m\u001b[0m\u001b[0m\n\u001b[1;32m    554\u001b[0m                 \u001b[0;31m# Presume that we got a \"file not found error\" because a writer\u001b[0m\u001b[0;34m\u001b[0m\u001b[0;34m\u001b[0m\u001b[0;34m\u001b[0m\u001b[0m\n",
            "\u001b[0;32m/usr/local/lib/python3.7/dist-packages/whoosh/index.py\u001b[0m in \u001b[0;36m_reader\u001b[0;34m(cls, storage, schema, segments, generation, reuse)\u001b[0m\n\u001b[1;32m    531\u001b[0m                 \u001b[0;31m# This index has one segment, so return a SegmentReader object\u001b[0m\u001b[0;34m\u001b[0m\u001b[0;34m\u001b[0m\u001b[0;34m\u001b[0m\u001b[0m\n\u001b[1;32m    532\u001b[0m                 \u001b[0;31m# for the segment\u001b[0m\u001b[0;34m\u001b[0m\u001b[0;34m\u001b[0m\u001b[0;34m\u001b[0m\u001b[0m\n\u001b[0;32m--> 533\u001b[0;31m                 \u001b[0;32mreturn\u001b[0m \u001b[0msegreader\u001b[0m\u001b[0;34m(\u001b[0m\u001b[0msegments\u001b[0m\u001b[0;34m[\u001b[0m\u001b[0;36m0\u001b[0m\u001b[0;34m]\u001b[0m\u001b[0;34m)\u001b[0m\u001b[0;34m\u001b[0m\u001b[0;34m\u001b[0m\u001b[0m\n\u001b[0m\u001b[1;32m    534\u001b[0m             \u001b[0;32melse\u001b[0m\u001b[0;34m:\u001b[0m\u001b[0;34m\u001b[0m\u001b[0;34m\u001b[0m\u001b[0m\n\u001b[1;32m    535\u001b[0m                 \u001b[0;31m# This index has multiple segments, so create a list of\u001b[0m\u001b[0;34m\u001b[0m\u001b[0;34m\u001b[0m\u001b[0;34m\u001b[0m\u001b[0m\n",
            "\u001b[0;32m/usr/local/lib/python3.7/dist-packages/whoosh/index.py\u001b[0m in \u001b[0;36msegreader\u001b[0;34m(segment)\u001b[0m\n\u001b[1;32m    526\u001b[0m                 \u001b[0;32melse\u001b[0m\u001b[0;34m:\u001b[0m\u001b[0;34m\u001b[0m\u001b[0;34m\u001b[0m\u001b[0m\n\u001b[1;32m    527\u001b[0m                     return SegmentReader(storage, schema, segment,\n\u001b[0;32m--> 528\u001b[0;31m                                          generation=generation)\n\u001b[0m\u001b[1;32m    529\u001b[0m \u001b[0;34m\u001b[0m\u001b[0m\n\u001b[1;32m    530\u001b[0m             \u001b[0;32mif\u001b[0m \u001b[0mlen\u001b[0m\u001b[0;34m(\u001b[0m\u001b[0msegments\u001b[0m\u001b[0;34m)\u001b[0m \u001b[0;34m==\u001b[0m \u001b[0;36m1\u001b[0m\u001b[0;34m:\u001b[0m\u001b[0;34m\u001b[0m\u001b[0;34m\u001b[0m\u001b[0m\n",
            "\u001b[0;32m/usr/local/lib/python3.7/dist-packages/whoosh/reading.py\u001b[0m in \u001b[0;36m__init__\u001b[0;34m(self, storage, schema, segment, generation, codec)\u001b[0m\n\u001b[1;32m    626\u001b[0m         \u001b[0;31m# Get subreaders from codec\u001b[0m\u001b[0;34m\u001b[0m\u001b[0;34m\u001b[0m\u001b[0;34m\u001b[0m\u001b[0m\n\u001b[1;32m    627\u001b[0m         \u001b[0mself\u001b[0m\u001b[0;34m.\u001b[0m\u001b[0m_codec\u001b[0m \u001b[0;34m=\u001b[0m \u001b[0mcodec\u001b[0m \u001b[0;32mif\u001b[0m \u001b[0mcodec\u001b[0m \u001b[0;32melse\u001b[0m \u001b[0msegment\u001b[0m\u001b[0;34m.\u001b[0m\u001b[0mcodec\u001b[0m\u001b[0;34m(\u001b[0m\u001b[0;34m)\u001b[0m\u001b[0;34m\u001b[0m\u001b[0;34m\u001b[0m\u001b[0m\n\u001b[0;32m--> 628\u001b[0;31m         \u001b[0mself\u001b[0m\u001b[0;34m.\u001b[0m\u001b[0m_terms\u001b[0m \u001b[0;34m=\u001b[0m \u001b[0mself\u001b[0m\u001b[0;34m.\u001b[0m\u001b[0m_codec\u001b[0m\u001b[0;34m.\u001b[0m\u001b[0mterms_reader\u001b[0m\u001b[0;34m(\u001b[0m\u001b[0mself\u001b[0m\u001b[0;34m.\u001b[0m\u001b[0m_storage\u001b[0m\u001b[0;34m,\u001b[0m \u001b[0msegment\u001b[0m\u001b[0;34m)\u001b[0m\u001b[0;34m\u001b[0m\u001b[0;34m\u001b[0m\u001b[0m\n\u001b[0m\u001b[1;32m    629\u001b[0m         \u001b[0mself\u001b[0m\u001b[0;34m.\u001b[0m\u001b[0m_perdoc\u001b[0m \u001b[0;34m=\u001b[0m \u001b[0mself\u001b[0m\u001b[0;34m.\u001b[0m\u001b[0m_codec\u001b[0m\u001b[0;34m.\u001b[0m\u001b[0mper_document_reader\u001b[0m\u001b[0;34m(\u001b[0m\u001b[0mself\u001b[0m\u001b[0;34m.\u001b[0m\u001b[0m_storage\u001b[0m\u001b[0;34m,\u001b[0m \u001b[0msegment\u001b[0m\u001b[0;34m)\u001b[0m\u001b[0;34m\u001b[0m\u001b[0;34m\u001b[0m\u001b[0m\n\u001b[1;32m    630\u001b[0m \u001b[0;34m\u001b[0m\u001b[0m\n",
            "\u001b[0;32m/usr/local/lib/python3.7/dist-packages/whoosh/codec/whoosh3.py\u001b[0m in \u001b[0;36mterms_reader\u001b[0;34m(self, storage, segment)\u001b[0m\n\u001b[1;32m    122\u001b[0m         \u001b[0mpostfile\u001b[0m \u001b[0;34m=\u001b[0m \u001b[0msegment\u001b[0m\u001b[0;34m.\u001b[0m\u001b[0mopen_file\u001b[0m\u001b[0;34m(\u001b[0m\u001b[0mstorage\u001b[0m\u001b[0;34m,\u001b[0m \u001b[0mself\u001b[0m\u001b[0;34m.\u001b[0m\u001b[0mPOSTS_EXT\u001b[0m\u001b[0;34m)\u001b[0m\u001b[0;34m\u001b[0m\u001b[0;34m\u001b[0m\u001b[0m\n\u001b[1;32m    123\u001b[0m \u001b[0;34m\u001b[0m\u001b[0m\n\u001b[0;32m--> 124\u001b[0;31m         \u001b[0;32mreturn\u001b[0m \u001b[0mW3TermsReader\u001b[0m\u001b[0;34m(\u001b[0m\u001b[0mself\u001b[0m\u001b[0;34m,\u001b[0m \u001b[0mtifile\u001b[0m\u001b[0;34m,\u001b[0m \u001b[0mtilen\u001b[0m\u001b[0;34m,\u001b[0m \u001b[0mpostfile\u001b[0m\u001b[0;34m)\u001b[0m\u001b[0;34m\u001b[0m\u001b[0;34m\u001b[0m\u001b[0m\n\u001b[0m\u001b[1;32m    125\u001b[0m \u001b[0;34m\u001b[0m\u001b[0m\n\u001b[1;32m    126\u001b[0m     \u001b[0;31m# Graph methods provided by CodecWithGraph\u001b[0m\u001b[0;34m\u001b[0m\u001b[0;34m\u001b[0m\u001b[0;34m\u001b[0m\u001b[0m\n",
            "\u001b[0;32m/usr/local/lib/python3.7/dist-packages/whoosh/codec/whoosh3.py\u001b[0m in \u001b[0;36m__init__\u001b[0;34m(self, codec, dbfile, length, postfile)\u001b[0m\n\u001b[1;32m    561\u001b[0m         \u001b[0mself\u001b[0m\u001b[0;34m.\u001b[0m\u001b[0m_codec\u001b[0m \u001b[0;34m=\u001b[0m \u001b[0mcodec\u001b[0m\u001b[0;34m\u001b[0m\u001b[0;34m\u001b[0m\u001b[0m\n\u001b[1;32m    562\u001b[0m         \u001b[0mself\u001b[0m\u001b[0;34m.\u001b[0m\u001b[0m_dbfile\u001b[0m \u001b[0;34m=\u001b[0m \u001b[0mdbfile\u001b[0m\u001b[0;34m\u001b[0m\u001b[0;34m\u001b[0m\u001b[0m\n\u001b[0;32m--> 563\u001b[0;31m         \u001b[0mself\u001b[0m\u001b[0;34m.\u001b[0m\u001b[0m_tindex\u001b[0m \u001b[0;34m=\u001b[0m \u001b[0mfiletables\u001b[0m\u001b[0;34m.\u001b[0m\u001b[0mOrderedHashReader\u001b[0m\u001b[0;34m(\u001b[0m\u001b[0mdbfile\u001b[0m\u001b[0;34m,\u001b[0m \u001b[0mlength\u001b[0m\u001b[0;34m)\u001b[0m\u001b[0;34m\u001b[0m\u001b[0;34m\u001b[0m\u001b[0m\n\u001b[0m\u001b[1;32m    564\u001b[0m         \u001b[0mself\u001b[0m\u001b[0;34m.\u001b[0m\u001b[0m_fieldmap\u001b[0m \u001b[0;34m=\u001b[0m \u001b[0mself\u001b[0m\u001b[0;34m.\u001b[0m\u001b[0m_tindex\u001b[0m\u001b[0;34m.\u001b[0m\u001b[0mextras\u001b[0m\u001b[0;34m[\u001b[0m\u001b[0;34m\"fieldmap\"\u001b[0m\u001b[0;34m]\u001b[0m\u001b[0;34m\u001b[0m\u001b[0;34m\u001b[0m\u001b[0m\n\u001b[1;32m    565\u001b[0m         \u001b[0mself\u001b[0m\u001b[0;34m.\u001b[0m\u001b[0m_postfile\u001b[0m \u001b[0;34m=\u001b[0m \u001b[0mpostfile\u001b[0m\u001b[0;34m\u001b[0m\u001b[0;34m\u001b[0m\u001b[0m\n",
            "\u001b[0;32m/usr/local/lib/python3.7/dist-packages/whoosh/filedb/filetables.py\u001b[0m in \u001b[0;36m__init__\u001b[0;34m(self, dbfile, length, magic, startoffset)\u001b[0m\n\u001b[1;32m    269\u001b[0m         \u001b[0;32mfor\u001b[0m \u001b[0m_\u001b[0m \u001b[0;32min\u001b[0m \u001b[0mxrange\u001b[0m\u001b[0;34m(\u001b[0m\u001b[0;36m256\u001b[0m\u001b[0;34m)\u001b[0m\u001b[0;34m:\u001b[0m\u001b[0;34m\u001b[0m\u001b[0;34m\u001b[0m\u001b[0m\n\u001b[1;32m    270\u001b[0m             \u001b[0;31m# position, numslots\u001b[0m\u001b[0;34m\u001b[0m\u001b[0;34m\u001b[0m\u001b[0;34m\u001b[0m\u001b[0m\n\u001b[0;32m--> 271\u001b[0;31m             \u001b[0mself\u001b[0m\u001b[0;34m.\u001b[0m\u001b[0mtables\u001b[0m\u001b[0;34m.\u001b[0m\u001b[0mappend\u001b[0m\u001b[0;34m(\u001b[0m\u001b[0munpackentry\u001b[0m\u001b[0;34m(\u001b[0m\u001b[0mdbfile\u001b[0m\u001b[0;34m.\u001b[0m\u001b[0mread\u001b[0m\u001b[0;34m(\u001b[0m\u001b[0mentrysize\u001b[0m\u001b[0;34m)\u001b[0m\u001b[0;34m)\u001b[0m\u001b[0;34m)\u001b[0m\u001b[0;34m\u001b[0m\u001b[0;34m\u001b[0m\u001b[0m\n\u001b[0m\u001b[1;32m    272\u001b[0m         \u001b[0;31m# The position of the first hash table is the end of the key/value pairs\u001b[0m\u001b[0;34m\u001b[0m\u001b[0;34m\u001b[0m\u001b[0;34m\u001b[0m\u001b[0m\n\u001b[1;32m    273\u001b[0m         \u001b[0mself\u001b[0m\u001b[0;34m.\u001b[0m\u001b[0mendofdata\u001b[0m \u001b[0;34m=\u001b[0m \u001b[0mself\u001b[0m\u001b[0;34m.\u001b[0m\u001b[0mtables\u001b[0m\u001b[0;34m[\u001b[0m\u001b[0;36m0\u001b[0m\u001b[0;34m]\u001b[0m\u001b[0;34m[\u001b[0m\u001b[0;36m0\u001b[0m\u001b[0;34m]\u001b[0m\u001b[0;34m\u001b[0m\u001b[0;34m\u001b[0m\u001b[0m\n",
            "\u001b[0;31mKeyboardInterrupt\u001b[0m: "
          ]
        }
      ]
    },
    {
      "cell_type": "markdown",
      "metadata": {
        "id": "w0H88ccWNxvD"
      },
      "source": [
        "##Sección trabajo anterior"
      ]
    },
    {
      "cell_type": "code",
      "metadata": {
        "id": "DY2xv6TDr0Qx"
      },
      "source": [
        "# os.mkdir('indexdir2')"
      ],
      "execution_count": null,
      "outputs": []
    },
    {
      "cell_type": "code",
      "metadata": {
        "colab": {
          "base_uri": "https://localhost:8080/"
        },
        "id": "KF5xYM32okMV",
        "outputId": "34849490-3975-4ca7-ec18-a47fca3c4e36"
      },
      "source": [
        "dfm.title[0:10]"
      ],
      "execution_count": null,
      "outputs": [
        {
          "output_type": "execute_result",
          "data": {
            "text/plain": [
              "0    Casa Sola En Venta Con Gran Patio Solo Pago De...\n",
              "1    Resident Evil Origins Collection Nintendo Swit...\n",
              "2                        Falda De Imitación Piel Negra\n",
              "3         Powercolor Red Devil Radeon Rx 580 8gb Gddr5\n",
              "4    Laptop Hp Nx6320 Core Duo Con Puerto Db9 Windo...\n",
              "5    Transmisor Fm Sin Hilos Bluetooth Reproductor ...\n",
              "6       Funda Cartera Caseme 007 2 En 1 Huawei P30 Pro\n",
              "7    Lampara De Techo Tubo Slim Led Base G5 9w Blan...\n",
              "8    Repisa Organizador Para Cocina,  Especieros, T...\n",
              "9    Trío, Balerina, Cosmo, Leopardo/negro/rojo, Ve...\n",
              "Name: title, dtype: object"
            ]
          },
          "metadata": {
            "tags": []
          },
          "execution_count": 20
        }
      ]
    },
    {
      "cell_type": "code",
      "metadata": {
        "colab": {
          "base_uri": "https://localhost:8080/",
          "height": 380
        },
        "id": "ievyGniqn-Ht",
        "outputId": "556b22bf-77b1-4841-d3aa-acfa2d1a12ab"
      },
      "source": [
        "\n",
        "\n",
        "      \n",
        "    "
      ],
      "execution_count": null,
      "outputs": [
        {
          "output_type": "error",
          "ename": "KeyboardInterrupt",
          "evalue": "ignored",
          "traceback": [
            "\u001b[0;31m---------------------------------------------------------------------------\u001b[0m",
            "\u001b[0;31mKeyboardInterrupt\u001b[0m                         Traceback (most recent call last)",
            "\u001b[0;32m<ipython-input-21-64e320b4a7dd>\u001b[0m in \u001b[0;36m<module>\u001b[0;34m()\u001b[0m\n\u001b[1;32m      5\u001b[0m \u001b[0mwriter\u001b[0m \u001b[0;34m=\u001b[0m \u001b[0mix\u001b[0m\u001b[0;34m.\u001b[0m\u001b[0mwriter\u001b[0m\u001b[0;34m(\u001b[0m\u001b[0;34m)\u001b[0m\u001b[0;34m\u001b[0m\u001b[0;34m\u001b[0m\u001b[0m\n\u001b[1;32m      6\u001b[0m \u001b[0;32mfor\u001b[0m \u001b[0mindex\u001b[0m\u001b[0;34m,\u001b[0m \u001b[0mtitle\u001b[0m \u001b[0;32min\u001b[0m \u001b[0mdfm\u001b[0m\u001b[0;34m[\u001b[0m\u001b[0;34m'title'\u001b[0m\u001b[0;34m]\u001b[0m\u001b[0;34m.\u001b[0m\u001b[0mitems\u001b[0m\u001b[0;34m(\u001b[0m\u001b[0;34m)\u001b[0m\u001b[0;34m:\u001b[0m\u001b[0;34m\u001b[0m\u001b[0;34m\u001b[0m\u001b[0m\n\u001b[0;32m----> 7\u001b[0;31m   \u001b[0mwriter\u001b[0m\u001b[0;34m.\u001b[0m\u001b[0madd_document\u001b[0m\u001b[0;34m(\u001b[0m\u001b[0mdf_index\u001b[0m\u001b[0;34m=\u001b[0m\u001b[0mindex\u001b[0m\u001b[0;34m,\u001b[0m \u001b[0mcontent\u001b[0m\u001b[0;34m=\u001b[0m\u001b[0mtitle\u001b[0m\u001b[0;34m)\u001b[0m\u001b[0;34m\u001b[0m\u001b[0;34m\u001b[0m\u001b[0m\n\u001b[0m\u001b[1;32m      8\u001b[0m \u001b[0mwriter\u001b[0m\u001b[0;34m.\u001b[0m\u001b[0mcommit\u001b[0m\u001b[0;34m(\u001b[0m\u001b[0;34m)\u001b[0m\u001b[0;34m\u001b[0m\u001b[0;34m\u001b[0m\u001b[0m\n\u001b[1;32m      9\u001b[0m \u001b[0;32mfrom\u001b[0m \u001b[0mwhoosh\u001b[0m \u001b[0;32mimport\u001b[0m \u001b[0mqparser\u001b[0m\u001b[0;34m\u001b[0m\u001b[0;34m\u001b[0m\u001b[0m\n",
            "\u001b[0;32m/usr/local/lib/python3.7/dist-packages/whoosh/writing.py\u001b[0m in \u001b[0;36madd_document\u001b[0;34m(self, **fields)\u001b[0m\n\u001b[1;32m    752\u001b[0m                     \u001b[0;32mif\u001b[0m \u001b[0mscorable\u001b[0m\u001b[0;34m:\u001b[0m\u001b[0;34m\u001b[0m\u001b[0;34m\u001b[0m\u001b[0m\n\u001b[1;32m    753\u001b[0m                         \u001b[0mlength\u001b[0m \u001b[0;34m+=\u001b[0m \u001b[0mfreq\u001b[0m\u001b[0;34m\u001b[0m\u001b[0;34m\u001b[0m\u001b[0m\n\u001b[0;32m--> 754\u001b[0;31m                     \u001b[0madd_post\u001b[0m\u001b[0;34m(\u001b[0m\u001b[0;34m(\u001b[0m\u001b[0mfieldname\u001b[0m\u001b[0;34m,\u001b[0m \u001b[0mtbytes\u001b[0m\u001b[0;34m,\u001b[0m \u001b[0mdocnum\u001b[0m\u001b[0;34m,\u001b[0m \u001b[0mweight\u001b[0m\u001b[0;34m,\u001b[0m \u001b[0mvbytes\u001b[0m\u001b[0;34m)\u001b[0m\u001b[0;34m)\u001b[0m\u001b[0;34m\u001b[0m\u001b[0;34m\u001b[0m\u001b[0m\n\u001b[0m\u001b[1;32m    755\u001b[0m \u001b[0;34m\u001b[0m\u001b[0m\n\u001b[1;32m    756\u001b[0m             \u001b[0;32mif\u001b[0m \u001b[0mfield\u001b[0m\u001b[0;34m.\u001b[0m\u001b[0mseparate_spelling\u001b[0m\u001b[0;34m(\u001b[0m\u001b[0;34m)\u001b[0m\u001b[0;34m:\u001b[0m\u001b[0;34m\u001b[0m\u001b[0;34m\u001b[0m\u001b[0m\n",
            "\u001b[0;32m/usr/local/lib/python3.7/dist-packages/whoosh/writing.py\u001b[0m in \u001b[0;36madd\u001b[0;34m(self, item)\u001b[0m\n\u001b[1;32m    168\u001b[0m         \u001b[0mself\u001b[0m\u001b[0;34m.\u001b[0m\u001b[0mcurrentsize\u001b[0m \u001b[0;34m+=\u001b[0m \u001b[0msize\u001b[0m\u001b[0;34m\u001b[0m\u001b[0;34m\u001b[0m\u001b[0m\n\u001b[1;32m    169\u001b[0m         \u001b[0;32mif\u001b[0m \u001b[0mself\u001b[0m\u001b[0;34m.\u001b[0m\u001b[0mcurrentsize\u001b[0m \u001b[0;34m>\u001b[0m \u001b[0mself\u001b[0m\u001b[0;34m.\u001b[0m\u001b[0mlimit\u001b[0m\u001b[0;34m:\u001b[0m\u001b[0;34m\u001b[0m\u001b[0;34m\u001b[0m\u001b[0m\n\u001b[0;32m--> 170\u001b[0;31m             \u001b[0mself\u001b[0m\u001b[0;34m.\u001b[0m\u001b[0msave\u001b[0m\u001b[0;34m(\u001b[0m\u001b[0;34m)\u001b[0m\u001b[0;34m\u001b[0m\u001b[0;34m\u001b[0m\u001b[0m\n\u001b[0m\u001b[1;32m    171\u001b[0m         \u001b[0mself\u001b[0m\u001b[0;34m.\u001b[0m\u001b[0mcurrent\u001b[0m\u001b[0;34m.\u001b[0m\u001b[0mappend\u001b[0m\u001b[0;34m(\u001b[0m\u001b[0mitem\u001b[0m\u001b[0;34m)\u001b[0m\u001b[0;34m\u001b[0m\u001b[0;34m\u001b[0m\u001b[0m\n\u001b[1;32m    172\u001b[0m \u001b[0;34m\u001b[0m\u001b[0m\n",
            "\u001b[0;32m/usr/local/lib/python3.7/dist-packages/whoosh/writing.py\u001b[0m in \u001b[0;36msave\u001b[0;34m(self)\u001b[0m\n\u001b[1;32m    177\u001b[0m \u001b[0;34m\u001b[0m\u001b[0m\n\u001b[1;32m    178\u001b[0m     \u001b[0;32mdef\u001b[0m \u001b[0msave\u001b[0m\u001b[0;34m(\u001b[0m\u001b[0mself\u001b[0m\u001b[0;34m)\u001b[0m\u001b[0;34m:\u001b[0m\u001b[0;34m\u001b[0m\u001b[0;34m\u001b[0m\u001b[0m\n\u001b[0;32m--> 179\u001b[0;31m         \u001b[0mSortingPool\u001b[0m\u001b[0;34m.\u001b[0m\u001b[0msave\u001b[0m\u001b[0;34m(\u001b[0m\u001b[0mself\u001b[0m\u001b[0;34m)\u001b[0m\u001b[0;34m\u001b[0m\u001b[0;34m\u001b[0m\u001b[0m\n\u001b[0m\u001b[1;32m    180\u001b[0m         \u001b[0mself\u001b[0m\u001b[0;34m.\u001b[0m\u001b[0mcurrentsize\u001b[0m \u001b[0;34m=\u001b[0m \u001b[0;36m0\u001b[0m\u001b[0;34m\u001b[0m\u001b[0;34m\u001b[0m\u001b[0m\n\u001b[1;32m    181\u001b[0m \u001b[0;34m\u001b[0m\u001b[0m\n",
            "\u001b[0;32m/usr/local/lib/python3.7/dist-packages/whoosh/externalsort.py\u001b[0m in \u001b[0;36msave\u001b[0;34m(self)\u001b[0m\n\u001b[1;32m    171\u001b[0m             \u001b[0mcurrent\u001b[0m\u001b[0;34m.\u001b[0m\u001b[0msort\u001b[0m\u001b[0;34m(\u001b[0m\u001b[0;34m)\u001b[0m\u001b[0;34m\u001b[0m\u001b[0;34m\u001b[0m\u001b[0m\n\u001b[1;32m    172\u001b[0m             \u001b[0mpath\u001b[0m\u001b[0;34m,\u001b[0m \u001b[0mf\u001b[0m \u001b[0;34m=\u001b[0m \u001b[0mself\u001b[0m\u001b[0;34m.\u001b[0m\u001b[0m_new_run\u001b[0m\u001b[0;34m(\u001b[0m\u001b[0;34m)\u001b[0m\u001b[0;34m\u001b[0m\u001b[0;34m\u001b[0m\u001b[0m\n\u001b[0;32m--> 173\u001b[0;31m             \u001b[0mself\u001b[0m\u001b[0;34m.\u001b[0m\u001b[0m_write_run\u001b[0m\u001b[0;34m(\u001b[0m\u001b[0mf\u001b[0m\u001b[0;34m,\u001b[0m \u001b[0mcurrent\u001b[0m\u001b[0;34m)\u001b[0m\u001b[0;34m\u001b[0m\u001b[0;34m\u001b[0m\u001b[0m\n\u001b[0m\u001b[1;32m    174\u001b[0m             \u001b[0mself\u001b[0m\u001b[0;34m.\u001b[0m\u001b[0m_add_run\u001b[0m\u001b[0;34m(\u001b[0m\u001b[0mpath\u001b[0m\u001b[0;34m)\u001b[0m\u001b[0;34m\u001b[0m\u001b[0;34m\u001b[0m\u001b[0m\n\u001b[1;32m    175\u001b[0m             \u001b[0mself\u001b[0m\u001b[0;34m.\u001b[0m\u001b[0mcurrent\u001b[0m \u001b[0;34m=\u001b[0m \u001b[0;34m[\u001b[0m\u001b[0;34m]\u001b[0m\u001b[0;34m\u001b[0m\u001b[0;34m\u001b[0m\u001b[0m\n",
            "\u001b[0;32m/usr/local/lib/python3.7/dist-packages/whoosh/externalsort.py\u001b[0m in \u001b[0;36m_write_run\u001b[0;34m(self, f, items)\u001b[0m\n\u001b[1;32m    160\u001b[0m     \u001b[0;32mdef\u001b[0m \u001b[0m_write_run\u001b[0m\u001b[0;34m(\u001b[0m\u001b[0mself\u001b[0m\u001b[0;34m,\u001b[0m \u001b[0mf\u001b[0m\u001b[0;34m,\u001b[0m \u001b[0mitems\u001b[0m\u001b[0;34m)\u001b[0m\u001b[0;34m:\u001b[0m\u001b[0;34m\u001b[0m\u001b[0;34m\u001b[0m\u001b[0m\n\u001b[1;32m    161\u001b[0m         \u001b[0;32mfor\u001b[0m \u001b[0mitem\u001b[0m \u001b[0;32min\u001b[0m \u001b[0mitems\u001b[0m\u001b[0;34m:\u001b[0m\u001b[0;34m\u001b[0m\u001b[0;34m\u001b[0m\u001b[0m\n\u001b[0;32m--> 162\u001b[0;31m             \u001b[0mdump\u001b[0m\u001b[0;34m(\u001b[0m\u001b[0mitem\u001b[0m\u001b[0;34m,\u001b[0m \u001b[0mf\u001b[0m\u001b[0;34m,\u001b[0m \u001b[0;36m2\u001b[0m\u001b[0;34m)\u001b[0m\u001b[0;34m\u001b[0m\u001b[0;34m\u001b[0m\u001b[0m\n\u001b[0m\u001b[1;32m    163\u001b[0m         \u001b[0mf\u001b[0m\u001b[0;34m.\u001b[0m\u001b[0mclose\u001b[0m\u001b[0;34m(\u001b[0m\u001b[0;34m)\u001b[0m\u001b[0;34m\u001b[0m\u001b[0;34m\u001b[0m\u001b[0m\n\u001b[1;32m    164\u001b[0m \u001b[0;34m\u001b[0m\u001b[0m\n",
            "\u001b[0;31mKeyboardInterrupt\u001b[0m: "
          ]
        }
      ]
    },
    {
      "cell_type": "code",
      "metadata": {
        "id": "UKLZXHU47BxZ"
      },
      "source": [
        "with ix.searcher() as searcher:\n",
        "     query = qparser.QueryParser(\"content\", ix.schema, group=qparser.OrGroup).parse(\"muñeca barbie\") #se agregar el parámetro group que activará OR entre las palabras\n",
        "     print(query)\n",
        "     results = searcher.search(query, terms=True)\n",
        "     print('got this far')\n",
        "     if results:\n",
        "      for result in results:\n",
        "        print(result.values()[0], item_df.title[result.values()[0]])"
      ],
      "execution_count": null,
      "outputs": []
    },
    {
      "cell_type": "markdown",
      "metadata": {
        "id": "Hsk2UKYC7WYq"
      },
      "source": [
        "Debo crear un feature que indique si una fila pertenecerá a MLM oa MLB. Para los que tengan views, será el domain del MLM que corresponda. Para los que sólo posean searches, se debe utilizar un predictor de lenguaje entre español y portugués. Si está en inglés, se asociará a MLB ya que es lo más común."
      ]
    },
    {
      "cell_type": "code",
      "metadata": {
        "colab": {
          "base_uri": "https://localhost:8080/"
        },
        "id": "-m_ZD4kqINM0",
        "outputId": "196c75c6-d6e2-4c3f-cf19-fab6dcac8de4"
      },
      "source": [
        "train_df.user_history[1][1]"
      ],
      "execution_count": null,
      "outputs": [
        {
          "output_type": "execute_result",
          "data": {
            "text/plain": [
              "{'event_info': 'DESMAMADEIRA ELETRICA',\n",
              " 'event_timestamp': '2019-10-07T09:45:29.322-0400',\n",
              " 'event_type': 'search'}"
            ]
          },
          "metadata": {
            "tags": []
          },
          "execution_count": 58
        }
      ]
    },
    {
      "cell_type": "code",
      "metadata": {
        "id": "azIimaW19irP"
      },
      "source": [
        ""
      ],
      "execution_count": null,
      "outputs": []
    },
    {
      "cell_type": "code",
      "metadata": {
        "colab": {
          "base_uri": "https://localhost:8080/"
        },
        "id": "FwBDOUkpJkjh",
        "outputId": "a53c0c22-7f33-442d-c0e8-04c43870e554"
      },
      "source": [
        "!pip install polyglot\n",
        "!pip install pyicu\n",
        "!pip install pycld2\n",
        "!pip install morfessor\n",
        "\n"
      ],
      "execution_count": null,
      "outputs": [
        {
          "output_type": "stream",
          "text": [
            "Requirement already satisfied: polyglot in /usr/local/lib/python3.7/dist-packages (16.7.4)\n",
            "Requirement already satisfied: pyicu in /usr/local/lib/python3.7/dist-packages (2.7.4)\n",
            "Requirement already satisfied: pycld2 in /usr/local/lib/python3.7/dist-packages (0.41)\n",
            "Requirement already satisfied: morfessor in /usr/local/lib/python3.7/dist-packages (2.0.6)\n"
          ],
          "name": "stdout"
        }
      ]
    },
    {
      "cell_type": "code",
      "metadata": {
        "colab": {
          "base_uri": "https://localhost:8080/",
          "height": 52
        },
        "id": "-nO2A4AHMYSY",
        "outputId": "b1b84caf-558a-497f-be3c-b0d5c27a4b2d"
      },
      "source": [
        "from polyglot.detect import Detector\n",
        "\n",
        "mixed_text = train_df.user_history[1][1]['event_info']\n",
        "Detector(mixed_text).languages[0].name\n",
        "        # print(language)"
      ],
      "execution_count": null,
      "outputs": [
        {
          "output_type": "stream",
          "text": [
            "Detector is not able to detect the language reliably.\n"
          ],
          "name": "stderr"
        },
        {
          "output_type": "execute_result",
          "data": {
            "application/vnd.google.colaboratory.intrinsic+json": {
              "type": "string"
            },
            "text/plain": [
              "'Portuguese'"
            ]
          },
          "metadata": {
            "tags": []
          },
          "execution_count": 64
        }
      ]
    },
    {
      "cell_type": "code",
      "metadata": {
        "id": "T7OyaL9afLW1",
        "colab": {
          "base_uri": "https://localhost:8080/",
          "height": 203
        },
        "outputId": "e5408812-d332-441b-ef47-d9730ca9a4b1"
      },
      "source": [
        "item_list_condition = item_df['item_id'].tolist()\n",
        "domain_list = item_df['domain_id'].tolist()\n",
        "item_domain_dict = dict(zip(item_list_condition, domain_list))\n"
      ],
      "execution_count": null,
      "outputs": [
        {
          "output_type": "error",
          "ename": "NameError",
          "evalue": "ignored",
          "traceback": [
            "\u001b[0;31m---------------------------------------------------------------------------\u001b[0m",
            "\u001b[0;31mNameError\u001b[0m                                 Traceback (most recent call last)",
            "\u001b[0;32m<ipython-input-13-5fcd7f77fdf8>\u001b[0m in \u001b[0;36m<module>\u001b[0;34m()\u001b[0m\n\u001b[0;32m----> 1\u001b[0;31m \u001b[0mitem_list_condition\u001b[0m \u001b[0;34m=\u001b[0m \u001b[0mitem_df\u001b[0m\u001b[0;34m[\u001b[0m\u001b[0;34m'item_id'\u001b[0m\u001b[0;34m]\u001b[0m\u001b[0;34m.\u001b[0m\u001b[0mtolist\u001b[0m\u001b[0;34m(\u001b[0m\u001b[0;34m)\u001b[0m\u001b[0;34m\u001b[0m\u001b[0;34m\u001b[0m\u001b[0m\n\u001b[0m\u001b[1;32m      2\u001b[0m \u001b[0mdomain_list\u001b[0m \u001b[0;34m=\u001b[0m \u001b[0mitem_df\u001b[0m\u001b[0;34m[\u001b[0m\u001b[0;34m'domain_id'\u001b[0m\u001b[0;34m]\u001b[0m\u001b[0;34m.\u001b[0m\u001b[0mtolist\u001b[0m\u001b[0;34m(\u001b[0m\u001b[0;34m)\u001b[0m\u001b[0;34m\u001b[0m\u001b[0;34m\u001b[0m\u001b[0m\n\u001b[1;32m      3\u001b[0m \u001b[0mitem_domain_dict\u001b[0m \u001b[0;34m=\u001b[0m \u001b[0mdict\u001b[0m\u001b[0;34m(\u001b[0m\u001b[0mzip\u001b[0m\u001b[0;34m(\u001b[0m\u001b[0mitem_list_condition\u001b[0m\u001b[0;34m,\u001b[0m \u001b[0mdomain_list\u001b[0m\u001b[0;34m)\u001b[0m\u001b[0;34m)\u001b[0m\u001b[0;34m\u001b[0m\u001b[0;34m\u001b[0m\u001b[0m\n",
            "\u001b[0;31mNameError\u001b[0m: name 'item_df' is not defined"
          ]
        }
      ]
    },
    {
      "cell_type": "code",
      "metadata": {
        "id": "V2G74Ap9f2Vu"
      },
      "source": [
        "def find_country(row):\n",
        "  for event in row.user_history:\n",
        "    if event['event_type'] == 'view':\n",
        "      domain = item_domain_dict[event['event_info']]\n",
        "      if domain:\n",
        "        return item_domain_dict[event['event_info']][:3]\n",
        "  for event in row.user_history:\n",
        "    try:\n",
        "      lang = Detector(event['event_info'], quiet=True).languages[0].name\n",
        "      if lang == 'Portuguese':\n",
        "        return 'MLB'\n",
        "      elif lang == 'Spanish':\n",
        "        return 'MLM'\n",
        "    except:\n",
        "      pass\n",
        "  return 'MLB'"
      ],
      "execution_count": null,
      "outputs": []
    },
    {
      "cell_type": "code",
      "metadata": {
        "id": "LSPLEr0dh4Rz"
      },
      "source": [
        "train_df['country'] = train_df.apply(find_country, axis=1)"
      ],
      "execution_count": null,
      "outputs": []
    },
    {
      "cell_type": "code",
      "metadata": {
        "colab": {
          "base_uri": "https://localhost:8080/"
        },
        "id": "ri5wgHi2zMj7",
        "outputId": "1b2b53be-747a-4a47-9eec-22b74f0ec7f4"
      },
      "source": [
        "train_df.country.value_counts()\n",
        "55763/(55763+357400)"
      ],
      "execution_count": null,
      "outputs": [
        {
          "output_type": "execute_result",
          "data": {
            "text/plain": [
              "0.13496610296662576"
            ]
          },
          "metadata": {
            "tags": []
          },
          "execution_count": 102
        }
      ]
    },
    {
      "cell_type": "code",
      "metadata": {
        "id": "gsw32jZJ0bAP"
      },
      "source": [
        "os.mkdir('indexdir3')\n",
        "os.mkdir('indexdir4')"
      ],
      "execution_count": null,
      "outputs": []
    },
    {
      "cell_type": "markdown",
      "metadata": {
        "id": "n5idaPRk85i8"
      },
      "source": [
        "Crear índices de item_data en portugués y en español, para hallar resultados relevantes de búsquedas"
      ]
    },
    {
      "cell_type": "code",
      "metadata": {
        "id": "js6y2mLDn_Rh"
      },
      "source": [
        "from whoosh.index import create_in\n",
        "from whoosh.fields import *\n",
        "schema = Schema(df_index=NUMERIC(stored=True), content=TEXT)\n",
        "ix_MLB = create_in(\"indexdir3\", schema)\n",
        "writer_MLB = ix_MLB.writer()\n",
        "for index, title in dfb['title'].items():\n",
        "  writer_MLB.add_document(df_index=index, content=title)\n",
        "writer_MLB.commit()\n",
        "\n",
        "ix_MLM = create_in(\"indexdir4\", schema)\n",
        "writer_MLM = ix_MLM.writer()\n",
        "for index, title in dfm['title'].items():\n",
        "  writer_MLM.add_document(df_index=index, content=title)\n",
        "writer_MLM.commit()\n",
        "\n",
        "\n",
        "# from whoosh import qparser\n",
        "# with ix.searcher() as searcher:\n",
        "#      query = qparser.QueryParser(\"content\", ix.schema, group=qparser.OrGroup).parse(\"reloj^2 samsung\") #se agregar el parámetro group que activará OR entre las palabras\n",
        "#      print(query)\n",
        "#      results = searcher.search(query, terms=True)\n",
        "#      print('got this far')\n",
        "#      if results:\n",
        "#       for result in results:\n",
        "#         print(result.values()[0], item_df.title[result.values()[0]])\n",
        "        "
      ],
      "execution_count": null,
      "outputs": []
    },
    {
      "cell_type": "code",
      "metadata": {
        "colab": {
          "base_uri": "https://localhost:8080/"
        },
        "id": "S5h3F4sCJDs_",
        "outputId": "9a24cb18-2ad6-4846-f3f9-aa5d5c9d1851"
      },
      "source": [
        "dfm['title'].items()"
      ],
      "execution_count": null,
      "outputs": [
        {
          "output_type": "execute_result",
          "data": {
            "text/plain": [
              "<zip at 0x7f9b8189a0f0>"
            ]
          },
          "metadata": {
            "tags": []
          },
          "execution_count": 137
        }
      ]
    },
    {
      "cell_type": "code",
      "metadata": {
        "colab": {
          "base_uri": "https://localhost:8080/"
        },
        "id": "hNRT-FHBAGjk",
        "outputId": "7a18c94a-5c69-4616-861b-923c6a7143a2"
      },
      "source": [
        "with ix_MLB.searcher() as searcher:\n",
        "          query = query_object.parse('MODER DIET')  #Esto se podría quizás mejorar elevando al ^2 el primer término buscado\n",
        "          results = searcher.search(query)\n",
        "          print(results)\n",
        "          if not results:\n",
        "            print('funca como false')\n",
        "          else:\n",
        "            print('funca como tru')\n",
        "          result = results[0].values()[0] #Se toma únicamente el elemento más relevante de la búsqueda\n",
        "          print(result)\n",
        "          for result in results:\n",
        "            print(result)"
      ],
      "execution_count": null,
      "outputs": [
        {
          "output_type": "stream",
          "text": [
            "<Top 10 Results for Or([Term('content', 'moder'), Term('content', 'diet')]) runtime=0.005306553000991698>\n",
            "funca como tru\n",
            "1642700\n",
            "<Hit {'df_index': 1642700}>\n",
            "<Hit {'df_index': 755543}>\n",
            "<Hit {'df_index': 566118}>\n",
            "<Hit {'df_index': 741441}>\n",
            "<Hit {'df_index': 829350}>\n",
            "<Hit {'df_index': 850820}>\n",
            "<Hit {'df_index': 1106368}>\n",
            "<Hit {'df_index': 1195858}>\n",
            "<Hit {'df_index': 1219776}>\n",
            "<Hit {'df_index': 1500695}>\n"
          ],
          "name": "stdout"
        }
      ]
    },
    {
      "cell_type": "code",
      "metadata": {
        "colab": {
          "base_uri": "https://localhost:8080/",
          "height": 81
        },
        "id": "5cL9DaznIma_",
        "outputId": "6da05807-22de-4b78-a9eb-ea482bb5716c"
      },
      "source": [
        "item_df[1642700:1642701]"
      ],
      "execution_count": null,
      "outputs": [
        {
          "output_type": "execute_result",
          "data": {
            "text/html": [
              "<div>\n",
              "<style scoped>\n",
              "    .dataframe tbody tr th:only-of-type {\n",
              "        vertical-align: middle;\n",
              "    }\n",
              "\n",
              "    .dataframe tbody tr th {\n",
              "        vertical-align: top;\n",
              "    }\n",
              "\n",
              "    .dataframe thead th {\n",
              "        text-align: right;\n",
              "    }\n",
              "</style>\n",
              "<table border=\"1\" class=\"dataframe\">\n",
              "  <thead>\n",
              "    <tr style=\"text-align: right;\">\n",
              "      <th></th>\n",
              "      <th>item_id</th>\n",
              "      <th>title</th>\n",
              "      <th>domain_id</th>\n",
              "      <th>product_id</th>\n",
              "      <th>price</th>\n",
              "      <th>category_id</th>\n",
              "      <th>condition</th>\n",
              "    </tr>\n",
              "  </thead>\n",
              "  <tbody>\n",
              "    <tr>\n",
              "      <th>1642700</th>\n",
              "      <td>429310</td>\n",
              "      <td>Moder Diet</td>\n",
              "      <td>MLB-SUPPLEMENTS</td>\n",
              "      <td>None</td>\n",
              "      <td>600.00</td>\n",
              "      <td>MLB264201</td>\n",
              "      <td>new</td>\n",
              "    </tr>\n",
              "  </tbody>\n",
              "</table>\n",
              "</div>"
            ],
            "text/plain": [
              "         item_id        title        domain_id  ...   price category_id condition\n",
              "1642700   429310  Moder Diet   MLB-SUPPLEMENTS  ...  600.00   MLB264201       new\n",
              "\n",
              "[1 rows x 7 columns]"
            ]
          },
          "metadata": {
            "tags": []
          },
          "execution_count": 160
        }
      ]
    },
    {
      "cell_type": "code",
      "metadata": {
        "id": "8QsROjggK5gx"
      },
      "source": [
        "item_index = item_df.index.tolist()\n",
        "# domain_list = item_df['domain_id'].tolist()\n",
        "index_domain_dict = dict(zip(item_list_condition, domain_list))\n"
      ],
      "execution_count": null,
      "outputs": []
    },
    {
      "cell_type": "code",
      "metadata": {
        "id": "P9KA7w_E9MvH"
      },
      "source": [
        "from whoosh import qparser\n",
        "query_object = qparser.QueryParser(\"content\", ix_MLM.schema, group=qparser.OrGroup) #se agregar el parámetro group que activará OR entre las palabras\n",
        "def count_bdom_in_searches(row, max_events=20,query_object=query_object):\n",
        "  ''' Cuenta cantidad de veces que aparece el domain de la compra entre las searches. \n",
        "  Considera únicamente los últimos max_events cantidad de eventos, para no explotar la PC'''\n",
        "  counter = 0\n",
        "  bdom = item_domain_dict[row.item_bought]\n",
        "  for event in row.user_history[:max_events]: #Se limita la cantidad de eventos a buscar\n",
        "    if event['event_type'] == 'search':\n",
        "      if row.country == 'MLB':\n",
        "        with ix_MLB.searcher() as searcher:\n",
        "          query = query_object.parse(event['event_info'])  #Esto se podría quizás mejorar elevando al ^2 el primer término buscado\n",
        "          results = searcher.search(query)  #Se toma únicamente el elemento más relevante de la búsqueda\n",
        "          if results:\n",
        "            result = results[0].values()[0]\n",
        "            if index_domain_dict[result] == bdom:\n",
        "              counter += 1\n",
        "      else:\n",
        "        with ix_MLM.searcher() as searcher:\n",
        "          query = query_object.parse(event['event_info'])  #Esto se podría quizás mejorar elevando al ^2 el primer término buscado\n",
        "          results = searcher.search(query) #Se toma únicamente el elemento más relevante de la búsqueda\n",
        "          if results:\n",
        "            result = results[0].values()[0]\n",
        "            if index_domain_dict[result] == bdom:\n",
        "              counter += 1\n",
        "  return counter\n",
        "          "
      ],
      "execution_count": null,
      "outputs": []
    },
    {
      "cell_type": "code",
      "metadata": {
        "id": "MMUetT7yBGll"
      },
      "source": [
        "test_search = train_df[:50].apply(count_bdom_in_searches,axis=1)"
      ],
      "execution_count": null,
      "outputs": []
    },
    {
      "cell_type": "code",
      "metadata": {
        "colab": {
          "base_uri": "https://localhost:8080/"
        },
        "id": "dwCxfYXFMqIi",
        "outputId": "98156677-3850-4344-fbf0-4e4730553f83"
      },
      "source": [
        "train_df.user_history[24:25].values"
      ],
      "execution_count": null,
      "outputs": [
        {
          "output_type": "execute_result",
          "data": {
            "text/plain": [
              "array([list([{'event_info': 830693, 'event_timestamp': '2019-10-19T12:33:35.362-0400', 'event_type': 'view'}, {'event_info': 1722160, 'event_timestamp': '2019-10-19T14:29:44.368-0400', 'event_type': 'view'}, {'event_info': 'MODER DIET', 'event_timestamp': '2019-10-19T14:30:36.206-0400', 'event_type': 'search'}, {'event_info': 243621, 'event_timestamp': '2019-10-19T14:31:06.982-0400', 'event_type': 'view'}, {'event_info': 'MODER DIET', 'event_timestamp': '2019-10-19T14:32:48.121-0400', 'event_type': 'search'}, {'event_info': 1421378, 'event_timestamp': '2019-10-19T14:33:26.848-0400', 'event_type': 'view'}, {'event_info': 'DESINCHA', 'event_timestamp': '2019-10-19T14:33:43.876-0400', 'event_type': 'search'}, {'event_info': 144569, 'event_timestamp': '2019-10-19T14:34:37.678-0400', 'event_type': 'view'}, {'event_info': 'BANDEIRAS ACEITAS', 'event_timestamp': '2019-10-21T10:15:58.855-0400', 'event_type': 'search'}, {'event_info': 'MODER DIET', 'event_timestamp': '2019-10-21T12:14:51.124-0400', 'event_type': 'search'}, {'event_info': 221588, 'event_timestamp': '2019-10-21T12:14:57.972-0400', 'event_type': 'view'}, {'event_info': 'MODER DIET', 'event_timestamp': '2019-10-21T12:15:32.088-0400', 'event_type': 'search'}, {'event_info': 'MODER DIET JOSI', 'event_timestamp': '2019-10-21T12:16:20.823-0400', 'event_type': 'search'}, {'event_info': 830693, 'event_timestamp': '2019-10-21T12:16:46.336-0400', 'event_type': 'view'}, {'event_info': 830693, 'event_timestamp': '2019-10-21T12:16:50.330-0400', 'event_type': 'view'}, {'event_info': 830693, 'event_timestamp': '2019-10-21T12:17:16.052-0400', 'event_type': 'view'}, {'event_info': 830693, 'event_timestamp': '2019-10-21T12:17:22.237-0400', 'event_type': 'view'}, {'event_info': 'MODER DIET', 'event_timestamp': '2019-10-21T12:18:58.607-0400', 'event_type': 'search'}, {'event_info': 830693, 'event_timestamp': '2019-10-21T12:29:20.655-0400', 'event_type': 'view'}, {'event_info': 830693, 'event_timestamp': '2019-10-21T12:29:24.930-0400', 'event_type': 'view'}, {'event_info': 830693, 'event_timestamp': '2019-10-21T12:29:30.796-0400', 'event_type': 'view'}])],\n",
              "      dtype=object)"
            ]
          },
          "metadata": {
            "tags": []
          },
          "execution_count": 158
        }
      ]
    }
  ]
}