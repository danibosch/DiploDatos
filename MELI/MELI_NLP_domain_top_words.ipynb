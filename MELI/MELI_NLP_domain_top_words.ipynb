{
  "nbformat": 4,
  "nbformat_minor": 0,
  "metadata": {
    "colab": {
      "name": "MELI_NLP_domain_top_words.ipynb",
      "provenance": [],
      "collapsed_sections": [],
      "authorship_tag": "ABX9TyO/8WfkErlDMKIgML7c1xZq",
      "include_colab_link": true
    },
    "kernelspec": {
      "name": "python3",
      "display_name": "Python 3"
    },
    "language_info": {
      "name": "python"
    },
    "widgets": {
      "application/vnd.jupyter.widget-state+json": {
        "da48c814ee884700a16458b53a64a9ce": {
          "model_module": "@jupyter-widgets/controls",
          "model_name": "HBoxModel",
          "state": {
            "_view_name": "HBoxView",
            "_dom_classes": [],
            "_model_name": "HBoxModel",
            "_view_module": "@jupyter-widgets/controls",
            "_model_module_version": "1.5.0",
            "_view_count": null,
            "_view_module_version": "1.5.0",
            "box_style": "",
            "layout": "IPY_MODEL_9de5f67df131459c91a49c6e2defa981",
            "_model_module": "@jupyter-widgets/controls",
            "children": [
              "IPY_MODEL_b446e9881c444533b8010072580676c5",
              "IPY_MODEL_9dfc0e802e784cc69a35703739a3285c"
            ]
          }
        },
        "9de5f67df131459c91a49c6e2defa981": {
          "model_module": "@jupyter-widgets/base",
          "model_name": "LayoutModel",
          "state": {
            "_view_name": "LayoutView",
            "grid_template_rows": null,
            "right": null,
            "justify_content": null,
            "_view_module": "@jupyter-widgets/base",
            "overflow": null,
            "_model_module_version": "1.2.0",
            "_view_count": null,
            "flex_flow": null,
            "width": null,
            "min_width": null,
            "border": null,
            "align_items": null,
            "bottom": null,
            "_model_module": "@jupyter-widgets/base",
            "top": null,
            "grid_column": null,
            "overflow_y": null,
            "overflow_x": null,
            "grid_auto_flow": null,
            "grid_area": null,
            "grid_template_columns": null,
            "flex": null,
            "_model_name": "LayoutModel",
            "justify_items": null,
            "grid_row": null,
            "max_height": null,
            "align_content": null,
            "visibility": null,
            "align_self": null,
            "height": null,
            "min_height": null,
            "padding": null,
            "grid_auto_rows": null,
            "grid_gap": null,
            "max_width": null,
            "order": null,
            "_view_module_version": "1.2.0",
            "grid_template_areas": null,
            "object_position": null,
            "object_fit": null,
            "grid_auto_columns": null,
            "margin": null,
            "display": null,
            "left": null
          }
        },
        "b446e9881c444533b8010072580676c5": {
          "model_module": "@jupyter-widgets/controls",
          "model_name": "FloatProgressModel",
          "state": {
            "_view_name": "ProgressView",
            "style": "IPY_MODEL_77ebe6c3e4cf49b1814187e16e3549bc",
            "_dom_classes": [],
            "description": "100%",
            "_model_name": "FloatProgressModel",
            "bar_style": "success",
            "max": 4205,
            "_view_module": "@jupyter-widgets/controls",
            "_model_module_version": "1.5.0",
            "value": 4205,
            "_view_count": null,
            "_view_module_version": "1.5.0",
            "orientation": "horizontal",
            "min": 0,
            "description_tooltip": null,
            "_model_module": "@jupyter-widgets/controls",
            "layout": "IPY_MODEL_03d67b1ef4f5492c97bad57007a33ea6"
          }
        },
        "9dfc0e802e784cc69a35703739a3285c": {
          "model_module": "@jupyter-widgets/controls",
          "model_name": "HTMLModel",
          "state": {
            "_view_name": "HTMLView",
            "style": "IPY_MODEL_a71ff6e181114c3abaead26dd5742039",
            "_dom_classes": [],
            "description": "",
            "_model_name": "HTMLModel",
            "placeholder": "​",
            "_view_module": "@jupyter-widgets/controls",
            "_model_module_version": "1.5.0",
            "value": " 4205/4205 [3:39:13&lt;00:00,  3.13s/it]",
            "_view_count": null,
            "_view_module_version": "1.5.0",
            "description_tooltip": null,
            "_model_module": "@jupyter-widgets/controls",
            "layout": "IPY_MODEL_7483b86ca4924216b0f69431168a6065"
          }
        },
        "77ebe6c3e4cf49b1814187e16e3549bc": {
          "model_module": "@jupyter-widgets/controls",
          "model_name": "ProgressStyleModel",
          "state": {
            "_view_name": "StyleView",
            "_model_name": "ProgressStyleModel",
            "description_width": "initial",
            "_view_module": "@jupyter-widgets/base",
            "_model_module_version": "1.5.0",
            "_view_count": null,
            "_view_module_version": "1.2.0",
            "bar_color": null,
            "_model_module": "@jupyter-widgets/controls"
          }
        },
        "03d67b1ef4f5492c97bad57007a33ea6": {
          "model_module": "@jupyter-widgets/base",
          "model_name": "LayoutModel",
          "state": {
            "_view_name": "LayoutView",
            "grid_template_rows": null,
            "right": null,
            "justify_content": null,
            "_view_module": "@jupyter-widgets/base",
            "overflow": null,
            "_model_module_version": "1.2.0",
            "_view_count": null,
            "flex_flow": null,
            "width": null,
            "min_width": null,
            "border": null,
            "align_items": null,
            "bottom": null,
            "_model_module": "@jupyter-widgets/base",
            "top": null,
            "grid_column": null,
            "overflow_y": null,
            "overflow_x": null,
            "grid_auto_flow": null,
            "grid_area": null,
            "grid_template_columns": null,
            "flex": null,
            "_model_name": "LayoutModel",
            "justify_items": null,
            "grid_row": null,
            "max_height": null,
            "align_content": null,
            "visibility": null,
            "align_self": null,
            "height": null,
            "min_height": null,
            "padding": null,
            "grid_auto_rows": null,
            "grid_gap": null,
            "max_width": null,
            "order": null,
            "_view_module_version": "1.2.0",
            "grid_template_areas": null,
            "object_position": null,
            "object_fit": null,
            "grid_auto_columns": null,
            "margin": null,
            "display": null,
            "left": null
          }
        },
        "a71ff6e181114c3abaead26dd5742039": {
          "model_module": "@jupyter-widgets/controls",
          "model_name": "DescriptionStyleModel",
          "state": {
            "_view_name": "StyleView",
            "_model_name": "DescriptionStyleModel",
            "description_width": "",
            "_view_module": "@jupyter-widgets/base",
            "_model_module_version": "1.5.0",
            "_view_count": null,
            "_view_module_version": "1.2.0",
            "_model_module": "@jupyter-widgets/controls"
          }
        },
        "7483b86ca4924216b0f69431168a6065": {
          "model_module": "@jupyter-widgets/base",
          "model_name": "LayoutModel",
          "state": {
            "_view_name": "LayoutView",
            "grid_template_rows": null,
            "right": null,
            "justify_content": null,
            "_view_module": "@jupyter-widgets/base",
            "overflow": null,
            "_model_module_version": "1.2.0",
            "_view_count": null,
            "flex_flow": null,
            "width": null,
            "min_width": null,
            "border": null,
            "align_items": null,
            "bottom": null,
            "_model_module": "@jupyter-widgets/base",
            "top": null,
            "grid_column": null,
            "overflow_y": null,
            "overflow_x": null,
            "grid_auto_flow": null,
            "grid_area": null,
            "grid_template_columns": null,
            "flex": null,
            "_model_name": "LayoutModel",
            "justify_items": null,
            "grid_row": null,
            "max_height": null,
            "align_content": null,
            "visibility": null,
            "align_self": null,
            "height": null,
            "min_height": null,
            "padding": null,
            "grid_auto_rows": null,
            "grid_gap": null,
            "max_width": null,
            "order": null,
            "_view_module_version": "1.2.0",
            "grid_template_areas": null,
            "object_position": null,
            "object_fit": null,
            "grid_auto_columns": null,
            "margin": null,
            "display": null,
            "left": null
          }
        },
        "55b902005c7f41ef85d7deeed4b3cad6": {
          "model_module": "@jupyter-widgets/controls",
          "model_name": "HBoxModel",
          "state": {
            "_view_name": "HBoxView",
            "_dom_classes": [],
            "_model_name": "HBoxModel",
            "_view_module": "@jupyter-widgets/controls",
            "_model_module_version": "1.5.0",
            "_view_count": null,
            "_view_module_version": "1.5.0",
            "box_style": "",
            "layout": "IPY_MODEL_568388a37412492a8f45d657832a0515",
            "_model_module": "@jupyter-widgets/controls",
            "children": [
              "IPY_MODEL_4146a8a37677416a9d8a1f13a3a11a42",
              "IPY_MODEL_6a445f3042614e98bab9172c1b81b99c"
            ]
          }
        },
        "568388a37412492a8f45d657832a0515": {
          "model_module": "@jupyter-widgets/base",
          "model_name": "LayoutModel",
          "state": {
            "_view_name": "LayoutView",
            "grid_template_rows": null,
            "right": null,
            "justify_content": null,
            "_view_module": "@jupyter-widgets/base",
            "overflow": null,
            "_model_module_version": "1.2.0",
            "_view_count": null,
            "flex_flow": null,
            "width": null,
            "min_width": null,
            "border": null,
            "align_items": null,
            "bottom": null,
            "_model_module": "@jupyter-widgets/base",
            "top": null,
            "grid_column": null,
            "overflow_y": null,
            "overflow_x": null,
            "grid_auto_flow": null,
            "grid_area": null,
            "grid_template_columns": null,
            "flex": null,
            "_model_name": "LayoutModel",
            "justify_items": null,
            "grid_row": null,
            "max_height": null,
            "align_content": null,
            "visibility": null,
            "align_self": null,
            "height": null,
            "min_height": null,
            "padding": null,
            "grid_auto_rows": null,
            "grid_gap": null,
            "max_width": null,
            "order": null,
            "_view_module_version": "1.2.0",
            "grid_template_areas": null,
            "object_position": null,
            "object_fit": null,
            "grid_auto_columns": null,
            "margin": null,
            "display": null,
            "left": null
          }
        },
        "4146a8a37677416a9d8a1f13a3a11a42": {
          "model_module": "@jupyter-widgets/controls",
          "model_name": "FloatProgressModel",
          "state": {
            "_view_name": "ProgressView",
            "style": "IPY_MODEL_cc0d54b81a3540289acd0aaf318defb2",
            "_dom_classes": [],
            "description": "100%",
            "_model_name": "FloatProgressModel",
            "bar_style": "success",
            "max": 3688,
            "_view_module": "@jupyter-widgets/controls",
            "_model_module_version": "1.5.0",
            "value": 3688,
            "_view_count": null,
            "_view_module_version": "1.5.0",
            "orientation": "horizontal",
            "min": 0,
            "description_tooltip": null,
            "_model_module": "@jupyter-widgets/controls",
            "layout": "IPY_MODEL_733fe702c8804d4885b59013406c0407"
          }
        },
        "6a445f3042614e98bab9172c1b81b99c": {
          "model_module": "@jupyter-widgets/controls",
          "model_name": "HTMLModel",
          "state": {
            "_view_name": "HTMLView",
            "style": "IPY_MODEL_ed1b46aa83144ea98a6e62232a4b568c",
            "_dom_classes": [],
            "description": "",
            "_model_name": "HTMLModel",
            "placeholder": "​",
            "_view_module": "@jupyter-widgets/controls",
            "_model_module_version": "1.5.0",
            "value": " 3688/3688 [33:30&lt;00:00,  1.83it/s]",
            "_view_count": null,
            "_view_module_version": "1.5.0",
            "description_tooltip": null,
            "_model_module": "@jupyter-widgets/controls",
            "layout": "IPY_MODEL_e1b5195d32b4431cbcff4b265b087824"
          }
        },
        "cc0d54b81a3540289acd0aaf318defb2": {
          "model_module": "@jupyter-widgets/controls",
          "model_name": "ProgressStyleModel",
          "state": {
            "_view_name": "StyleView",
            "_model_name": "ProgressStyleModel",
            "description_width": "initial",
            "_view_module": "@jupyter-widgets/base",
            "_model_module_version": "1.5.0",
            "_view_count": null,
            "_view_module_version": "1.2.0",
            "bar_color": null,
            "_model_module": "@jupyter-widgets/controls"
          }
        },
        "733fe702c8804d4885b59013406c0407": {
          "model_module": "@jupyter-widgets/base",
          "model_name": "LayoutModel",
          "state": {
            "_view_name": "LayoutView",
            "grid_template_rows": null,
            "right": null,
            "justify_content": null,
            "_view_module": "@jupyter-widgets/base",
            "overflow": null,
            "_model_module_version": "1.2.0",
            "_view_count": null,
            "flex_flow": null,
            "width": null,
            "min_width": null,
            "border": null,
            "align_items": null,
            "bottom": null,
            "_model_module": "@jupyter-widgets/base",
            "top": null,
            "grid_column": null,
            "overflow_y": null,
            "overflow_x": null,
            "grid_auto_flow": null,
            "grid_area": null,
            "grid_template_columns": null,
            "flex": null,
            "_model_name": "LayoutModel",
            "justify_items": null,
            "grid_row": null,
            "max_height": null,
            "align_content": null,
            "visibility": null,
            "align_self": null,
            "height": null,
            "min_height": null,
            "padding": null,
            "grid_auto_rows": null,
            "grid_gap": null,
            "max_width": null,
            "order": null,
            "_view_module_version": "1.2.0",
            "grid_template_areas": null,
            "object_position": null,
            "object_fit": null,
            "grid_auto_columns": null,
            "margin": null,
            "display": null,
            "left": null
          }
        },
        "ed1b46aa83144ea98a6e62232a4b568c": {
          "model_module": "@jupyter-widgets/controls",
          "model_name": "DescriptionStyleModel",
          "state": {
            "_view_name": "StyleView",
            "_model_name": "DescriptionStyleModel",
            "description_width": "",
            "_view_module": "@jupyter-widgets/base",
            "_model_module_version": "1.5.0",
            "_view_count": null,
            "_view_module_version": "1.2.0",
            "_model_module": "@jupyter-widgets/controls"
          }
        },
        "e1b5195d32b4431cbcff4b265b087824": {
          "model_module": "@jupyter-widgets/base",
          "model_name": "LayoutModel",
          "state": {
            "_view_name": "LayoutView",
            "grid_template_rows": null,
            "right": null,
            "justify_content": null,
            "_view_module": "@jupyter-widgets/base",
            "overflow": null,
            "_model_module_version": "1.2.0",
            "_view_count": null,
            "flex_flow": null,
            "width": null,
            "min_width": null,
            "border": null,
            "align_items": null,
            "bottom": null,
            "_model_module": "@jupyter-widgets/base",
            "top": null,
            "grid_column": null,
            "overflow_y": null,
            "overflow_x": null,
            "grid_auto_flow": null,
            "grid_area": null,
            "grid_template_columns": null,
            "flex": null,
            "_model_name": "LayoutModel",
            "justify_items": null,
            "grid_row": null,
            "max_height": null,
            "align_content": null,
            "visibility": null,
            "align_self": null,
            "height": null,
            "min_height": null,
            "padding": null,
            "grid_auto_rows": null,
            "grid_gap": null,
            "max_width": null,
            "order": null,
            "_view_module_version": "1.2.0",
            "grid_template_areas": null,
            "object_position": null,
            "object_fit": null,
            "grid_auto_columns": null,
            "margin": null,
            "display": null,
            "left": null
          }
        }
      }
    }
  },
  "cells": [
    {
      "cell_type": "markdown",
      "metadata": {
        "id": "view-in-github",
        "colab_type": "text"
      },
      "source": [
        "<a href=\"https://colab.research.google.com/github/natanrajch/DiploDatos/blob/main/MELI/MELI_NLP_domain_top_words.ipynb\" target=\"_parent\"><img src=\"https://colab.research.google.com/assets/colab-badge.svg\" alt=\"Open In Colab\"/></a>"
      ]
    },
    {
      "cell_type": "code",
      "metadata": {
        "id": "aGumS42eduIq"
      },
      "source": [
        "import gzip\n",
        "import pandas as pd\n",
        "import urllib\n",
        "import tarfile\n",
        "import urllib.request\n",
        "import numpy as np\n",
        "import random\n",
        "import json\n",
        "import bisect\n",
        "import matplotlib.pyplot as plt\n",
        "import matplotlib.ticker as ticker\n",
        "import seaborn as sns\n",
        "from tqdm.notebook import tqdm"
      ],
      "execution_count": null,
      "outputs": []
    },
    {
      "cell_type": "code",
      "metadata": {
        "id": "Ezdn7Q80eS33"
      },
      "source": [
        "url_item_data = \"https://meli-data-challenge.s3.amazonaws.com/2020/item_data.jl.gz\"\n",
        "url_train_data = \"https://meli-data-challenge.s3.amazonaws.com/2020/train_dataset.jl.gz\"\n",
        "url_test_data = \"https://meli-data-challenge.s3.amazonaws.com/2020/test_dataset.jl.gz\""
      ],
      "execution_count": null,
      "outputs": []
    },
    {
      "cell_type": "code",
      "metadata": {
        "id": "KpXs4ZwHk4NZ"
      },
      "source": [
        "item_data = []\n",
        "with urllib.request.urlopen(url_item_data) as handle:\n",
        "  gz = gzip.GzipFile(fileobj=handle)\n",
        "  for i, line in enumerate(gz):\n",
        "    item_data.append(json.loads(line.strip().decode('utf-8')))"
      ],
      "execution_count": null,
      "outputs": []
    },
    {
      "cell_type": "code",
      "metadata": {
        "colab": {
          "base_uri": "https://localhost:8080/",
          "height": 414
        },
        "id": "T7M1TRC3ejOH",
        "outputId": "74ecad8d-4183-4313-9540-ba6acffeebf0"
      },
      "source": [
        "item_df = pd.DataFrame(item_data)\n",
        "del item_data\n",
        "del gz\n",
        "item_df"
      ],
      "execution_count": null,
      "outputs": [
        {
          "output_type": "execute_result",
          "data": {
            "text/html": [
              "<div>\n",
              "<style scoped>\n",
              "    .dataframe tbody tr th:only-of-type {\n",
              "        vertical-align: middle;\n",
              "    }\n",
              "\n",
              "    .dataframe tbody tr th {\n",
              "        vertical-align: top;\n",
              "    }\n",
              "\n",
              "    .dataframe thead th {\n",
              "        text-align: right;\n",
              "    }\n",
              "</style>\n",
              "<table border=\"1\" class=\"dataframe\">\n",
              "  <thead>\n",
              "    <tr style=\"text-align: right;\">\n",
              "      <th></th>\n",
              "      <th>item_id</th>\n",
              "      <th>title</th>\n",
              "      <th>domain_id</th>\n",
              "      <th>product_id</th>\n",
              "      <th>price</th>\n",
              "      <th>category_id</th>\n",
              "      <th>condition</th>\n",
              "    </tr>\n",
              "  </thead>\n",
              "  <tbody>\n",
              "    <tr>\n",
              "      <th>0</th>\n",
              "      <td>111260</td>\n",
              "      <td>Casa Sola En Venta Con Gran Patio Solo Pago De...</td>\n",
              "      <td>MLM-INDIVIDUAL_HOUSES_FOR_SALE</td>\n",
              "      <td>None</td>\n",
              "      <td>1150000.00</td>\n",
              "      <td>MLM170527</td>\n",
              "      <td>new</td>\n",
              "    </tr>\n",
              "    <tr>\n",
              "      <th>1</th>\n",
              "      <td>871377</td>\n",
              "      <td>Resident Evil Origins Collection Nintendo Swit...</td>\n",
              "      <td>MLM-VIDEO_GAMES</td>\n",
              "      <td>15270800</td>\n",
              "      <td>1392.83</td>\n",
              "      <td>MLM151595</td>\n",
              "      <td>new</td>\n",
              "    </tr>\n",
              "    <tr>\n",
              "      <th>2</th>\n",
              "      <td>490232</td>\n",
              "      <td>Falda De Imitación Piel Negra</td>\n",
              "      <td>MLM-SKIRTS</td>\n",
              "      <td>None</td>\n",
              "      <td>350.00</td>\n",
              "      <td>MLM7697</td>\n",
              "      <td>new</td>\n",
              "    </tr>\n",
              "    <tr>\n",
              "      <th>3</th>\n",
              "      <td>1150706</td>\n",
              "      <td>Powercolor Red Devil Radeon Rx 580 8gb Gddr5</td>\n",
              "      <td>MLM-GRAPHICS_CARDS</td>\n",
              "      <td>None</td>\n",
              "      <td>3200.00</td>\n",
              "      <td>MLM9761</td>\n",
              "      <td>used</td>\n",
              "    </tr>\n",
              "    <tr>\n",
              "      <th>4</th>\n",
              "      <td>934912</td>\n",
              "      <td>Laptop Hp Nx6320 Core Duo Con Puerto Db9 Windo...</td>\n",
              "      <td>MLM-NOTEBOOKS</td>\n",
              "      <td>None</td>\n",
              "      <td>1599.00</td>\n",
              "      <td>MLM1652</td>\n",
              "      <td>used</td>\n",
              "    </tr>\n",
              "    <tr>\n",
              "      <th>...</th>\n",
              "      <td>...</td>\n",
              "      <td>...</td>\n",
              "      <td>...</td>\n",
              "      <td>...</td>\n",
              "      <td>...</td>\n",
              "      <td>...</td>\n",
              "      <td>...</td>\n",
              "    </tr>\n",
              "    <tr>\n",
              "      <th>2102272</th>\n",
              "      <td>1099649</td>\n",
              "      <td>Carrinho De Bebê Stoke</td>\n",
              "      <td>MLB-BABY_STROLLERS</td>\n",
              "      <td>None</td>\n",
              "      <td>1600.00</td>\n",
              "      <td>MLB1386</td>\n",
              "      <td>used</td>\n",
              "    </tr>\n",
              "    <tr>\n",
              "      <th>2102273</th>\n",
              "      <td>1482187</td>\n",
              "      <td>Grelha Para Hambúrguer Preta Com Cabo Em Madei...</td>\n",
              "      <td>MLB-KITCHEN_SUPPLIES</td>\n",
              "      <td>None</td>\n",
              "      <td>69.90</td>\n",
              "      <td>MLB193425</td>\n",
              "      <td>new</td>\n",
              "    </tr>\n",
              "    <tr>\n",
              "      <th>2102274</th>\n",
              "      <td>1118904</td>\n",
              "      <td>Meia Tam 7/8 Anti Embolia Trombose Antitrombo</td>\n",
              "      <td>MLB-SOCKS</td>\n",
              "      <td>None</td>\n",
              "      <td>118.00</td>\n",
              "      <td>MLB108791</td>\n",
              "      <td>new</td>\n",
              "    </tr>\n",
              "    <tr>\n",
              "      <th>2102275</th>\n",
              "      <td>237229</td>\n",
              "      <td>Pano De Boca Cremer Menina Luxo Bordado C/3 Und</td>\n",
              "      <td>MLB-DISPOSABLE_BABY_DIAPERS</td>\n",
              "      <td>None</td>\n",
              "      <td>26.90</td>\n",
              "      <td>MLB40629</td>\n",
              "      <td>new</td>\n",
              "    </tr>\n",
              "    <tr>\n",
              "      <th>2102276</th>\n",
              "      <td>2010306</td>\n",
              "      <td>Kit Turbo Turbina Virtual Simulador Som Apito ...</td>\n",
              "      <td>MLB-VEHICLE_ACCESSORIES</td>\n",
              "      <td>None</td>\n",
              "      <td>64.99</td>\n",
              "      <td>MLB117639</td>\n",
              "      <td>new</td>\n",
              "    </tr>\n",
              "  </tbody>\n",
              "</table>\n",
              "<p>2102277 rows × 7 columns</p>\n",
              "</div>"
            ],
            "text/plain": [
              "         item_id  ... condition\n",
              "0         111260  ...       new\n",
              "1         871377  ...       new\n",
              "2         490232  ...       new\n",
              "3        1150706  ...      used\n",
              "4         934912  ...      used\n",
              "...          ...  ...       ...\n",
              "2102272  1099649  ...      used\n",
              "2102273  1482187  ...       new\n",
              "2102274  1118904  ...       new\n",
              "2102275   237229  ...       new\n",
              "2102276  2010306  ...       new\n",
              "\n",
              "[2102277 rows x 7 columns]"
            ]
          },
          "metadata": {
            "tags": []
          },
          "execution_count": 4
        }
      ]
    },
    {
      "cell_type": "code",
      "metadata": {
        "id": "spWMIMFq5zwX"
      },
      "source": [
        "dfm = item_df[item_df.domain_id.str[:3] == 'MLM']\n",
        "dfb = item_df[item_df.domain_id.str[:3] == 'MLB']"
      ],
      "execution_count": null,
      "outputs": []
    },
    {
      "cell_type": "code",
      "metadata": {
        "id": "OJXjbXiu9tQa"
      },
      "source": [
        "import nltk\n",
        "nltk.download('all')"
      ],
      "execution_count": null,
      "outputs": []
    },
    {
      "cell_type": "code",
      "metadata": {
        "id": "7MhwIzon9xZR"
      },
      "source": [
        "from nltk.corpus import stopwords\n",
        "from nltk.tokenize import word_tokenize\n",
        "sw = stopwords.words('spanish') + stopwords.words('portuguese')\n",
        "sw = list(set(sw))"
      ],
      "execution_count": null,
      "outputs": []
    },
    {
      "cell_type": "code",
      "metadata": {
        "colab": {
          "base_uri": "https://localhost:8080/"
        },
        "id": "tcz5DHHIlv2I",
        "outputId": "c42f2bcb-1b3b-46aa-a57c-d7e3371fe45f"
      },
      "source": [
        "from sklearn.feature_extraction.text import TfidfVectorizer\n",
        "\n",
        "tfidf = TfidfVectorizer(sublinear_tf=True, min_df=5, norm='l2', encoding='utf-8', ngram_range=(1, 2), stop_words=sw)\n",
        "\n",
        "features = tfidf.fit_transform(item_df[~item_df.domain_id.isna()].title)\n",
        "labels = item_df[~item_df.domain_id.isna()].domain_id\n",
        "features.shape"
      ],
      "execution_count": null,
      "outputs": [
        {
          "output_type": "execute_result",
          "data": {
            "text/plain": [
              "(2101426, 493117)"
            ]
          },
          "metadata": {
            "tags": []
          },
          "execution_count": 8
        }
      ]
    },
    {
      "cell_type": "code",
      "metadata": {
        "colab": {
          "base_uri": "https://localhost:8080/"
        },
        "id": "U8Xrtvntx5sf",
        "outputId": "df8e09da-9eef-49de-886f-e57ad11ad78f"
      },
      "source": [
        "#solo para dfb a ver si corre mas rapido\n",
        "from sklearn.feature_extraction.text import TfidfVectorizer\n",
        "\n",
        "tfidf = TfidfVectorizer(sublinear_tf=True, min_df=5, norm='l2', encoding='utf-8', ngram_range=(1, 2), stop_words=sw)\n",
        "\n",
        "features = tfidf.fit_transform(dfb.title)\n",
        "labels = dfb.domain_id\n",
        "features.shape"
      ],
      "execution_count": null,
      "outputs": [
        {
          "output_type": "execute_result",
          "data": {
            "text/plain": [
              "(1723216, 412295)"
            ]
          },
          "metadata": {
            "tags": []
          },
          "execution_count": 44
        }
      ]
    },
    {
      "cell_type": "code",
      "metadata": {
        "colab": {
          "base_uri": "https://localhost:8080/",
          "height": 66,
          "referenced_widgets": [
            "da48c814ee884700a16458b53a64a9ce",
            "9de5f67df131459c91a49c6e2defa981",
            "b446e9881c444533b8010072580676c5",
            "9dfc0e802e784cc69a35703739a3285c",
            "77ebe6c3e4cf49b1814187e16e3549bc",
            "03d67b1ef4f5492c97bad57007a33ea6",
            "a71ff6e181114c3abaead26dd5742039",
            "7483b86ca4924216b0f69431168a6065"
          ]
        },
        "id": "dBXdPzZymE_Z",
        "outputId": "3a454243-9395-4b27-9b02-aec45996b0d2"
      },
      "source": [
        "from sklearn.feature_selection import chi2\n",
        "from random import sample\n",
        "domain_list = labels.unique().tolist()\n",
        "# random_sample = sample(domain_list,2)\n",
        "# print(random_sample)\n",
        "# input()\n",
        "N = 10\n",
        "domain_top_words = {}\n",
        "for domain_id in tqdm(domain_list):\n",
        "  features_chi2 = chi2(features, labels == domain_id)\n",
        "  indices = np.argsort(features_chi2[0])\n",
        "  feature_names = np.array(tfidf.get_feature_names())[indices]\n",
        "  unigrams = [v for v in feature_names if len(v.split(' ')) == 1][-N:]\n",
        "  bigrams = [v for v in feature_names if len(v.split(' ')) == 2][-N:]\n",
        "  domain_top_words[domain_id] = ' '.join(unigrams + bigrams)"
      ],
      "execution_count": null,
      "outputs": [
        {
          "output_type": "display_data",
          "data": {
            "application/vnd.jupyter.widget-view+json": {
              "model_id": "da48c814ee884700a16458b53a64a9ce",
              "version_major": 2,
              "version_minor": 0
            },
            "text/plain": [
              "HBox(children=(FloatProgress(value=0.0, max=4205.0), HTML(value='')))"
            ]
          },
          "metadata": {
            "tags": []
          }
        },
        {
          "output_type": "stream",
          "text": [
            "\n"
          ],
          "name": "stdout"
        }
      ]
    },
    {
      "cell_type": "code",
      "metadata": {
        "colab": {
          "base_uri": "https://localhost:8080/"
        },
        "id": "XhrDHe0LiU0d",
        "outputId": "f94596c5-ba0d-4ef1-c52e-a9e66357c964"
      },
      "source": [
        "#ahora hago dfm. El otro tardó 3hs... pero este es muchísimo más chico.\n",
        "from sklearn.feature_extraction.text import TfidfVectorizer\n",
        "\n",
        "tfidf = TfidfVectorizer(sublinear_tf=True, min_df=5, norm='l2', encoding='utf-8', ngram_range=(1, 2), stop_words=sw)\n",
        "\n",
        "features = tfidf.fit_transform(dfm.title)\n",
        "labels = dfm.domain_id\n",
        "features.shape"
      ],
      "execution_count": null,
      "outputs": [
        {
          "output_type": "execute_result",
          "data": {
            "text/plain": [
              "(378210, 96465)"
            ]
          },
          "metadata": {
            "tags": []
          },
          "execution_count": 53
        }
      ]
    },
    {
      "cell_type": "code",
      "metadata": {
        "colab": {
          "base_uri": "https://localhost:8080/",
          "height": 66,
          "referenced_widgets": [
            "55b902005c7f41ef85d7deeed4b3cad6",
            "568388a37412492a8f45d657832a0515",
            "4146a8a37677416a9d8a1f13a3a11a42",
            "6a445f3042614e98bab9172c1b81b99c",
            "cc0d54b81a3540289acd0aaf318defb2",
            "733fe702c8804d4885b59013406c0407",
            "ed1b46aa83144ea98a6e62232a4b568c",
            "e1b5195d32b4431cbcff4b265b087824"
          ]
        },
        "id": "jY5c88NRidqE",
        "outputId": "f781f002-ec3e-42ea-d063-bc8440813255"
      },
      "source": [
        "from sklearn.feature_selection import chi2\n",
        "from random import sample\n",
        "domain_list = labels.unique().tolist()\n",
        "# random_sample = sample(domain_list,2)\n",
        "# print(random_sample)\n",
        "# input()\n",
        "N = 10\n",
        "\n",
        "for domain_id in tqdm(domain_list):\n",
        "  features_chi2 = chi2(features, labels == domain_id)\n",
        "  indices = np.argsort(features_chi2[0])\n",
        "  feature_names = np.array(tfidf.get_feature_names())[indices]\n",
        "  unigrams = [v for v in feature_names if len(v.split(' ')) == 1][-N:]\n",
        "  bigrams = [v for v in feature_names if len(v.split(' ')) == 2][-N:]\n",
        "  domain_top_words[domain_id] = ' '.join(unigrams + bigrams)"
      ],
      "execution_count": null,
      "outputs": [
        {
          "output_type": "display_data",
          "data": {
            "application/vnd.jupyter.widget-view+json": {
              "model_id": "55b902005c7f41ef85d7deeed4b3cad6",
              "version_minor": 0,
              "version_major": 2
            },
            "text/plain": [
              "HBox(children=(FloatProgress(value=0.0, max=3688.0), HTML(value='')))"
            ]
          },
          "metadata": {
            "tags": []
          }
        },
        {
          "output_type": "stream",
          "text": [
            "\n"
          ],
          "name": "stdout"
        }
      ]
    },
    {
      "cell_type": "code",
      "metadata": {
        "id": "bSE27jRygQh5"
      },
      "source": [
        "domain_top_words_df = pd.DataFrame.from_dict(domain_top_words, orient='index')\n",
        "domain_top_words_df.to_csv('domain_top_words.csv')"
      ],
      "execution_count": null,
      "outputs": []
    }
  ]
}