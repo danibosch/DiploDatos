{
  "nbformat": 4,
  "nbformat_minor": 0,
  "metadata": {
    "colab": {
      "name": "Hito_3y4_de_Mentoria_MELI - Evolución 12 modelos.ipynb",
      "provenance": [],
      "collapsed_sections": [],
      "toc_visible": true,
      "include_colab_link": true
    },
    "kernelspec": {
      "name": "python3",
      "display_name": "Python 3"
    },
    "language_info": {
      "name": "python"
    }
  },
  "cells": [
    {
      "cell_type": "markdown",
      "metadata": {
        "id": "view-in-github",
        "colab_type": "text"
      },
      "source": [
        "<a href=\"https://colab.research.google.com/github/natanrajch/DiploDatos/blob/main/MELI/Hito_3y4_de_Mentoria_MELI_Evoluci%C3%B3n_12_modelos.ipynb\" target=\"_parent\"><img src=\"https://colab.research.google.com/assets/colab-badge.svg\" alt=\"Open In Colab\"/></a>"
      ]
    },
    {
      "cell_type": "markdown",
      "metadata": {
        "id": "cYSGIHIAiXXh"
      },
      "source": [
        "#Hito 3 - Grupo B - MELI Data Challenge 2020 - DiploDatos 2021"
      ]
    },
    {
      "cell_type": "markdown",
      "metadata": {
        "id": "_EwNQj_Khyd9"
      },
      "source": [
        "## Dependencies"
      ]
    },
    {
      "cell_type": "code",
      "metadata": {
        "id": "sdgxkQVIhdLr"
      },
      "source": [
        "import gzip\n",
        "import pandas as pd\n",
        "import urllib\n",
        "import tarfile\n",
        "import urllib.request\n",
        "import numpy as np\n",
        "import random\n",
        "import json\n",
        "import bisect\n",
        "import matplotlib.pyplot as plt\n",
        "import seaborn as sns\n",
        "from datetime import datetime, timedelta\n",
        "import scipy.sparse as sps\n",
        "import operator"
      ],
      "execution_count": null,
      "outputs": []
    },
    {
      "cell_type": "code",
      "metadata": {
        "colab": {
          "base_uri": "https://localhost:8080/"
        },
        "id": "vF1-IhmAaJB7",
        "outputId": "9c0f7fe1-bf3b-4412-bfaf-0e23d799e584"
      },
      "source": [
        "!pip install fasttext"
      ],
      "execution_count": null,
      "outputs": [
        {
          "output_type": "stream",
          "name": "stdout",
          "text": [
            "Collecting fasttext\n",
            "  Downloading fasttext-0.9.2.tar.gz (68 kB)\n",
            "\u001b[?25l\r\u001b[K     |████▊                           | 10 kB 23.0 MB/s eta 0:00:01\r\u001b[K     |█████████▌                      | 20 kB 11.9 MB/s eta 0:00:01\r\u001b[K     |██████████████▎                 | 30 kB 9.7 MB/s eta 0:00:01\r\u001b[K     |███████████████████             | 40 kB 8.7 MB/s eta 0:00:01\r\u001b[K     |███████████████████████▉        | 51 kB 5.2 MB/s eta 0:00:01\r\u001b[K     |████████████████████████████▋   | 61 kB 5.7 MB/s eta 0:00:01\r\u001b[K     |████████████████████████████████| 68 kB 3.4 MB/s \n",
            "\u001b[?25hCollecting pybind11>=2.2\n",
            "  Using cached pybind11-2.7.1-py2.py3-none-any.whl (200 kB)\n",
            "Requirement already satisfied: setuptools>=0.7.0 in /usr/local/lib/python3.7/dist-packages (from fasttext) (57.4.0)\n",
            "Requirement already satisfied: numpy in /usr/local/lib/python3.7/dist-packages (from fasttext) (1.19.5)\n",
            "Building wheels for collected packages: fasttext\n",
            "  Building wheel for fasttext (setup.py) ... \u001b[?25l\u001b[?25hdone\n",
            "  Created wheel for fasttext: filename=fasttext-0.9.2-cp37-cp37m-linux_x86_64.whl size=3093890 sha256=e8c764e2770671ac2187aa4d7ca89fab32a29e20d43792caf696f62ba1aeada4\n",
            "  Stored in directory: /root/.cache/pip/wheels/4e/ca/bf/b020d2be95f7641801a6597a29c8f4f19e38f9c02a345bab9b\n",
            "Successfully built fasttext\n",
            "Installing collected packages: pybind11, fasttext\n",
            "Successfully installed fasttext-0.9.2 pybind11-2.7.1\n"
          ]
        }
      ]
    },
    {
      "cell_type": "code",
      "metadata": {
        "colab": {
          "base_uri": "https://localhost:8080/"
        },
        "id": "M7ujFN6Ra0tI",
        "outputId": "15c6554a-89d3-4faa-bf5d-3036f1cc834c"
      },
      "source": [
        "!pip install nltk"
      ],
      "execution_count": null,
      "outputs": [
        {
          "output_type": "stream",
          "name": "stdout",
          "text": [
            "Requirement already satisfied: nltk in /usr/local/lib/python3.7/dist-packages (3.2.5)\n",
            "Requirement already satisfied: six in /usr/local/lib/python3.7/dist-packages (from nltk) (1.15.0)\n"
          ]
        }
      ]
    },
    {
      "cell_type": "markdown",
      "metadata": {
        "id": "rCFTDwHuh4St"
      },
      "source": [
        "## Data Sets"
      ]
    },
    {
      "cell_type": "code",
      "metadata": {
        "id": "YNNPlXG_hgx4"
      },
      "source": [
        "url_item_data = \"https://meli-data-challenge.s3.amazonaws.com/2020/item_data.jl.gz\"\n",
        "url_train_data = \"https://meli-data-challenge.s3.amazonaws.com/2020/train_dataset.jl.gz\""
      ],
      "execution_count": null,
      "outputs": []
    },
    {
      "cell_type": "code",
      "metadata": {
        "id": "3sLD_RQFhuzY"
      },
      "source": [
        "train_data = []\n",
        "with urllib.request.urlopen(url_train_data) as handle:\n",
        "  gz = gzip.GzipFile(fileobj=handle)\n",
        "  for i, line in enumerate(gz):\n",
        "    train_data.append(json.loads(line.strip().decode('utf-8')))"
      ],
      "execution_count": null,
      "outputs": []
    },
    {
      "cell_type": "code",
      "metadata": {
        "id": "rLe4JQzoiB11",
        "colab": {
          "base_uri": "https://localhost:8080/",
          "height": 200
        },
        "outputId": "f7cf376f-c644-4421-bb6e-8f973fb80fcc"
      },
      "source": [
        "train_df = pd.DataFrame(train_data)\n",
        "train_df.head()"
      ],
      "execution_count": null,
      "outputs": [
        {
          "output_type": "execute_result",
          "data": {
            "text/html": [
              "<div>\n",
              "<style scoped>\n",
              "    .dataframe tbody tr th:only-of-type {\n",
              "        vertical-align: middle;\n",
              "    }\n",
              "\n",
              "    .dataframe tbody tr th {\n",
              "        vertical-align: top;\n",
              "    }\n",
              "\n",
              "    .dataframe thead th {\n",
              "        text-align: right;\n",
              "    }\n",
              "</style>\n",
              "<table border=\"1\" class=\"dataframe\">\n",
              "  <thead>\n",
              "    <tr style=\"text-align: right;\">\n",
              "      <th></th>\n",
              "      <th>user_history</th>\n",
              "      <th>item_bought</th>\n",
              "    </tr>\n",
              "  </thead>\n",
              "  <tbody>\n",
              "    <tr>\n",
              "      <th>0</th>\n",
              "      <td>[{'event_info': 1786148, 'event_timestamp': '2...</td>\n",
              "      <td>1748830</td>\n",
              "    </tr>\n",
              "    <tr>\n",
              "      <th>1</th>\n",
              "      <td>[{'event_info': 643652, 'event_timestamp': '20...</td>\n",
              "      <td>228737</td>\n",
              "    </tr>\n",
              "    <tr>\n",
              "      <th>2</th>\n",
              "      <td>[{'event_info': 248595, 'event_timestamp': '20...</td>\n",
              "      <td>1909110</td>\n",
              "    </tr>\n",
              "    <tr>\n",
              "      <th>3</th>\n",
              "      <td>[{'event_info': 'RADIOBOSS', 'event_timestamp'...</td>\n",
              "      <td>1197370</td>\n",
              "    </tr>\n",
              "    <tr>\n",
              "      <th>4</th>\n",
              "      <td>[{'event_info': 'AMAZFIT BIP', 'event_timestam...</td>\n",
              "      <td>2049207</td>\n",
              "    </tr>\n",
              "  </tbody>\n",
              "</table>\n",
              "</div>"
            ],
            "text/plain": [
              "                                        user_history  item_bought\n",
              "0  [{'event_info': 1786148, 'event_timestamp': '2...      1748830\n",
              "1  [{'event_info': 643652, 'event_timestamp': '20...       228737\n",
              "2  [{'event_info': 248595, 'event_timestamp': '20...      1909110\n",
              "3  [{'event_info': 'RADIOBOSS', 'event_timestamp'...      1197370\n",
              "4  [{'event_info': 'AMAZFIT BIP', 'event_timestam...      2049207"
            ]
          },
          "metadata": {},
          "execution_count": 5
        }
      ]
    },
    {
      "cell_type": "code",
      "metadata": {
        "id": "prNop5bF00ho"
      },
      "source": [
        "item_data = []\n",
        "with urllib.request.urlopen(url_item_data) as handle:\n",
        "  gz = gzip.GzipFile(fileobj=handle)\n",
        "  for i, line in enumerate(gz):\n",
        "    item_data.append(json.loads(line.strip().decode('utf-8')))"
      ],
      "execution_count": null,
      "outputs": []
    },
    {
      "cell_type": "code",
      "metadata": {
        "id": "-HXjyL3p0-YB"
      },
      "source": [
        "item_df = pd.DataFrame(item_data)\n",
        "del train_data\n",
        "del item_data\n",
        "del gz"
      ],
      "execution_count": null,
      "outputs": []
    },
    {
      "cell_type": "code",
      "metadata": {
        "colab": {
          "base_uri": "https://localhost:8080/",
          "height": 108
        },
        "id": "XJvjB1021VP1",
        "outputId": "a5c4a489-c1e4-41fb-ae1e-53ad329777bc"
      },
      "source": [
        "item_df.head(2)"
      ],
      "execution_count": null,
      "outputs": [
        {
          "output_type": "execute_result",
          "data": {
            "text/html": [
              "<div>\n",
              "<style scoped>\n",
              "    .dataframe tbody tr th:only-of-type {\n",
              "        vertical-align: middle;\n",
              "    }\n",
              "\n",
              "    .dataframe tbody tr th {\n",
              "        vertical-align: top;\n",
              "    }\n",
              "\n",
              "    .dataframe thead th {\n",
              "        text-align: right;\n",
              "    }\n",
              "</style>\n",
              "<table border=\"1\" class=\"dataframe\">\n",
              "  <thead>\n",
              "    <tr style=\"text-align: right;\">\n",
              "      <th></th>\n",
              "      <th>item_id</th>\n",
              "      <th>title</th>\n",
              "      <th>domain_id</th>\n",
              "      <th>product_id</th>\n",
              "      <th>price</th>\n",
              "      <th>category_id</th>\n",
              "      <th>condition</th>\n",
              "    </tr>\n",
              "  </thead>\n",
              "  <tbody>\n",
              "    <tr>\n",
              "      <th>0</th>\n",
              "      <td>111260</td>\n",
              "      <td>Casa Sola En Venta Con Gran Patio Solo Pago De...</td>\n",
              "      <td>MLM-INDIVIDUAL_HOUSES_FOR_SALE</td>\n",
              "      <td>None</td>\n",
              "      <td>1150000.00</td>\n",
              "      <td>MLM170527</td>\n",
              "      <td>new</td>\n",
              "    </tr>\n",
              "    <tr>\n",
              "      <th>1</th>\n",
              "      <td>871377</td>\n",
              "      <td>Resident Evil Origins Collection Nintendo Swit...</td>\n",
              "      <td>MLM-VIDEO_GAMES</td>\n",
              "      <td>15270800</td>\n",
              "      <td>1392.83</td>\n",
              "      <td>MLM151595</td>\n",
              "      <td>new</td>\n",
              "    </tr>\n",
              "  </tbody>\n",
              "</table>\n",
              "</div>"
            ],
            "text/plain": [
              "   item_id  ... condition\n",
              "0   111260  ...       new\n",
              "1   871377  ...       new\n",
              "\n",
              "[2 rows x 7 columns]"
            ]
          },
          "metadata": {},
          "execution_count": 8
        }
      ]
    },
    {
      "cell_type": "code",
      "metadata": {
        "id": "IyHoF8xB09LV"
      },
      "source": [
        "item_list = item_df['item_id'].tolist()\n",
        "domain_list = item_df['domain_id'].tolist()\n",
        "item_domain_dict = dict(zip(item_list, domain_list))"
      ],
      "execution_count": null,
      "outputs": []
    },
    {
      "cell_type": "code",
      "metadata": {
        "id": "U1f_pMYmmfQb"
      },
      "source": [
        "from sklearn.model_selection import train_test_split\n",
        "\n",
        "train_df,test_df=train_test_split(train_df, test_size=0.20, random_state=4)"
      ],
      "execution_count": null,
      "outputs": []
    },
    {
      "cell_type": "code",
      "metadata": {
        "colab": {
          "base_uri": "https://localhost:8080/",
          "height": 408
        },
        "id": "-5EFtSn2YD9e",
        "outputId": "11232c1d-d28b-49f7-ab12-fe7dd939fb8d"
      },
      "source": [
        "train_df"
      ],
      "execution_count": null,
      "outputs": [
        {
          "output_type": "execute_result",
          "data": {
            "text/html": [
              "<div>\n",
              "<style scoped>\n",
              "    .dataframe tbody tr th:only-of-type {\n",
              "        vertical-align: middle;\n",
              "    }\n",
              "\n",
              "    .dataframe tbody tr th {\n",
              "        vertical-align: top;\n",
              "    }\n",
              "\n",
              "    .dataframe thead th {\n",
              "        text-align: right;\n",
              "    }\n",
              "</style>\n",
              "<table border=\"1\" class=\"dataframe\">\n",
              "  <thead>\n",
              "    <tr style=\"text-align: right;\">\n",
              "      <th></th>\n",
              "      <th>user_history</th>\n",
              "      <th>item_bought</th>\n",
              "    </tr>\n",
              "  </thead>\n",
              "  <tbody>\n",
              "    <tr>\n",
              "      <th>384344</th>\n",
              "      <td>[{'event_info': 'CAMISA IRON MAN', 'event_time...</td>\n",
              "      <td>1081082</td>\n",
              "    </tr>\n",
              "    <tr>\n",
              "      <th>102455</th>\n",
              "      <td>[{'event_info': 'AMAZON NINJA', 'event_timesta...</td>\n",
              "      <td>2017618</td>\n",
              "    </tr>\n",
              "    <tr>\n",
              "      <th>408680</th>\n",
              "      <td>[{'event_info': 1350582, 'event_timestamp': '2...</td>\n",
              "      <td>1255283</td>\n",
              "    </tr>\n",
              "    <tr>\n",
              "      <th>56612</th>\n",
              "      <td>[{'event_info': 2100444, 'event_timestamp': '2...</td>\n",
              "      <td>982575</td>\n",
              "    </tr>\n",
              "    <tr>\n",
              "      <th>207299</th>\n",
              "      <td>[{'event_info': 'FIO SEDA', 'event_timestamp':...</td>\n",
              "      <td>1646209</td>\n",
              "    </tr>\n",
              "    <tr>\n",
              "      <th>...</th>\n",
              "      <td>...</td>\n",
              "      <td>...</td>\n",
              "    </tr>\n",
              "    <tr>\n",
              "      <th>115144</th>\n",
              "      <td>[{'event_info': 1526835, 'event_timestamp': '2...</td>\n",
              "      <td>289191</td>\n",
              "    </tr>\n",
              "    <tr>\n",
              "      <th>405079</th>\n",
              "      <td>[{'event_info': 'CARTUCHO TINTA EPSON CX4500',...</td>\n",
              "      <td>1053414</td>\n",
              "    </tr>\n",
              "    <tr>\n",
              "      <th>129384</th>\n",
              "      <td>[{'event_info': 892402, 'event_timestamp': '20...</td>\n",
              "      <td>1645336</td>\n",
              "    </tr>\n",
              "    <tr>\n",
              "      <th>120705</th>\n",
              "      <td>[{'event_info': 'FIBRA VIDRIO', 'event_timesta...</td>\n",
              "      <td>1549252</td>\n",
              "    </tr>\n",
              "    <tr>\n",
              "      <th>377541</th>\n",
              "      <td>[{'event_info': 'BOMBA OLEO IPANEMA', 'event_t...</td>\n",
              "      <td>863483</td>\n",
              "    </tr>\n",
              "  </tbody>\n",
              "</table>\n",
              "<p>330530 rows × 2 columns</p>\n",
              "</div>"
            ],
            "text/plain": [
              "                                             user_history  item_bought\n",
              "384344  [{'event_info': 'CAMISA IRON MAN', 'event_time...      1081082\n",
              "102455  [{'event_info': 'AMAZON NINJA', 'event_timesta...      2017618\n",
              "408680  [{'event_info': 1350582, 'event_timestamp': '2...      1255283\n",
              "56612   [{'event_info': 2100444, 'event_timestamp': '2...       982575\n",
              "207299  [{'event_info': 'FIO SEDA', 'event_timestamp':...      1646209\n",
              "...                                                   ...          ...\n",
              "115144  [{'event_info': 1526835, 'event_timestamp': '2...       289191\n",
              "405079  [{'event_info': 'CARTUCHO TINTA EPSON CX4500',...      1053414\n",
              "129384  [{'event_info': 892402, 'event_timestamp': '20...      1645336\n",
              "120705  [{'event_info': 'FIBRA VIDRIO', 'event_timesta...      1549252\n",
              "377541  [{'event_info': 'BOMBA OLEO IPANEMA', 'event_t...       863483\n",
              "\n",
              "[330530 rows x 2 columns]"
            ]
          },
          "metadata": {},
          "execution_count": 11
        }
      ]
    },
    {
      "cell_type": "markdown",
      "metadata": {
        "id": "30QNcXY57V9-"
      },
      "source": [
        "### Armado X esparsa\n",
        "Se probó el armado de 65000 features (uno por producto posible) en una matriz esparsa. Sin embargo, el problema de clasificación con 65000 features y 65000 clases diferentes resultó demasiado para nuestro poder computacional. \n",
        "Se avanza entonces con varios modelos de predicción no optimizados, pero se deja aquí el código del armado de la matriz esparsa, para referencia futura, y para mostrar el intento del grupo de aprovechar las estrategias de modelado con ScikitLearn vistas en la diplomatura hasta el momento"
      ]
    },
    {
      "cell_type": "code",
      "metadata": {
        "id": "5t3M8tN6Ajaq",
        "colab": {
          "base_uri": "https://localhost:8080/"
        },
        "outputId": "f5e38e44-8985-4902-8293-a65ecb9fa8ab"
      },
      "source": [
        "features = train_df.sort_values('item_bought').item_bought.unique().tolist()\n",
        "features_dict = {feature:features.index(feature) for feature in features}\n",
        "len(features), len(train_df)"
      ],
      "execution_count": null,
      "outputs": [
        {
          "output_type": "execute_result",
          "data": {
            "text/plain": [
              "(60221, 330530)"
            ]
          },
          "metadata": {},
          "execution_count": 11
        }
      ]
    },
    {
      "cell_type": "code",
      "metadata": {
        "colab": {
          "base_uri": "https://localhost:8080/",
          "height": 78
        },
        "id": "cyQR8S3Y2nml",
        "outputId": "ef50719c-c829-423a-ea2b-271116aed9c0"
      },
      "source": [
        "import scipy.sparse as sps\n",
        "shape = (413163, 64928)\n",
        "sampledf = train_df.sample(n=50000, random_state=0)\n",
        "sampledf.head(1)"
      ],
      "execution_count": null,
      "outputs": [
        {
          "output_type": "execute_result",
          "data": {
            "text/html": [
              "<div>\n",
              "<style scoped>\n",
              "    .dataframe tbody tr th:only-of-type {\n",
              "        vertical-align: middle;\n",
              "    }\n",
              "\n",
              "    .dataframe tbody tr th {\n",
              "        vertical-align: top;\n",
              "    }\n",
              "\n",
              "    .dataframe thead th {\n",
              "        text-align: right;\n",
              "    }\n",
              "</style>\n",
              "<table border=\"1\" class=\"dataframe\">\n",
              "  <thead>\n",
              "    <tr style=\"text-align: right;\">\n",
              "      <th></th>\n",
              "      <th>user_history</th>\n",
              "      <th>item_bought</th>\n",
              "    </tr>\n",
              "  </thead>\n",
              "  <tbody>\n",
              "    <tr>\n",
              "      <th>170920</th>\n",
              "      <td>[{'event_info': 497186, 'event_timestamp': '20...</td>\n",
              "      <td>938395</td>\n",
              "    </tr>\n",
              "  </tbody>\n",
              "</table>\n",
              "</div>"
            ],
            "text/plain": [
              "                                             user_history  item_bought\n",
              "170920  [{'event_info': 497186, 'event_timestamp': '20...       938395"
            ]
          },
          "metadata": {},
          "execution_count": 12
        }
      ]
    },
    {
      "cell_type": "code",
      "metadata": {
        "id": "j-a3RT5L_U_W"
      },
      "source": [
        "#Formula para ponderar la importancia de una vista segun pasan las horas\n",
        "def time_weighing(hours):\n",
        "  if hours < 0.001:\n",
        "    return 1\n",
        "  #fitted curve de la probabilidad de que la vista sea del bitem, dependiendo de la antiguedad en horas de la vista\n",
        "  #Esta curva se calculó con una mezcla de python + otro soft online. Al final de esta notebook, en el\n",
        "  #modelo 4, se muestra el método de cálculo 100% dentro de python, que arroja el mismo resultado\n",
        "  bitem_prob = -2.231726 + (0.1984595 - -2.231726)/(1 + (hours/12332420000.000002)**0.1389521)  \n",
        "  weight = bitem_prob / 0.199021213390714  #bitem_prob para un delta de 0 hours clavado (ultimo item)\n",
        "  return weight"
      ],
      "execution_count": null,
      "outputs": []
    },
    {
      "cell_type": "code",
      "metadata": {
        "id": "E9PBJwbV-9XM"
      },
      "source": [
        "#Armar la matriz esparsa de X\n",
        "#Esta matriz toma las consideraciones del Modelo 1 respecto a la ponderación por tiempo\n",
        "#No es utilizada en el resto del Notebook, pero se deja aquí para mostrar el intento\n",
        "#de mejorar el modelo con Scikit_Learn\n",
        "rows = []\n",
        "cols = []\n",
        "data = []\n",
        "current_row = 0\n",
        "for row in train_df.itertuples():\n",
        "  if len(row.user_history) == 1:\n",
        "    if row.user_history[0]['event_type'] == 'view':\n",
        "      col = features_dict.get(row.user_history[0]['event_info'])\n",
        "      if col:\n",
        "        rows.append(current_row)  #Estructura para matriz esparsa\n",
        "        cols.append(col)\n",
        "        data.append(1)\n",
        "  else:\n",
        "    most_recent_time = datetime.strptime(row.user_history[-1]['event_timestamp'], '%Y-%m-%dT%H:%M:%S.%f%z')\n",
        "    for event in row.user_history:\n",
        "      if event['event_type'] == 'view':\n",
        "        col = features_dict.get(event['event_info'])\n",
        "        if col:    \n",
        "          delta = most_recent_time - datetime.strptime(event['event_timestamp'], '%Y-%m-%dT%H:%M:%S.%f%z')\n",
        "          rows.append(current_row)\n",
        "          cols.append(col)\n",
        "          data.append(time_weighing(delta.total_seconds()/3600)) #se convierte el delta en horas como float\n",
        "  current_row += 1"
      ],
      "execution_count": null,
      "outputs": []
    },
    {
      "cell_type": "code",
      "metadata": {
        "colab": {
          "base_uri": "https://localhost:8080/"
        },
        "id": "XKkmkxn-FW0j",
        "outputId": "573afcc2-52e8-46db-85fb-6b4fd410ed52"
      },
      "source": [
        "len(features), len(train_df)"
      ],
      "execution_count": null,
      "outputs": [
        {
          "output_type": "execute_result",
          "data": {
            "text/plain": [
              "(60221, 330530)"
            ]
          },
          "metadata": {},
          "execution_count": 15
        }
      ]
    },
    {
      "cell_type": "code",
      "metadata": {
        "colab": {
          "base_uri": "https://localhost:8080/"
        },
        "id": "wugWMiF_9x9k",
        "outputId": "b08015c6-f3ae-4eca-b3e5-447f05114935"
      },
      "source": [
        "# Import required package\n",
        "import numpy as np\n",
        "from scipy.sparse import csc_matrix\n",
        "  \n",
        "# creating sparse matrix\n",
        "X = csc_matrix((data, (rows, cols)),\n",
        "                          shape = (len(train_df), len(features)))\n",
        "  \n",
        "X"
      ],
      "execution_count": null,
      "outputs": [
        {
          "output_type": "execute_result",
          "data": {
            "text/plain": [
              "<330530x60221 sparse matrix of type '<class 'numpy.float64'>'\n",
              "\twith 750575 stored elements in Compressed Sparse Column format>"
            ]
          },
          "metadata": {},
          "execution_count": 16
        }
      ]
    },
    {
      "cell_type": "code",
      "metadata": {
        "id": "5pbWvUM-Ton1",
        "colab": {
          "base_uri": "https://localhost:8080/"
        },
        "outputId": "e50ecb72-c98d-43f2-f6f9-c5c2b25db122"
      },
      "source": [
        "#Armar la matriz esparsa de y\n",
        "rows = []\n",
        "cols = []\n",
        "data = []\n",
        "current_row = 0\n",
        "for row in train_df.itertuples():\n",
        "  col = features_dict.get(row.item_bought)\n",
        "  rows.append(current_row)  #Estructura para matriz esparsa\n",
        "  cols.append(col)\n",
        "  data.append(1)\n",
        "  current_row += 1\n",
        "# creating sparse matrix\n",
        "y = csc_matrix((data, (rows, cols)), shape = (len(train_df), len(features)))\n",
        "y"
      ],
      "execution_count": null,
      "outputs": [
        {
          "output_type": "execute_result",
          "data": {
            "text/plain": [
              "<330530x60221 sparse matrix of type '<class 'numpy.longlong'>'\n",
              "\twith 330530 stored elements in Compressed Sparse Column format>"
            ]
          },
          "metadata": {},
          "execution_count": 17
        }
      ]
    },
    {
      "cell_type": "code",
      "metadata": {
        "id": "8bqyyVBQHIkz"
      },
      "source": [
        "#Otras estrategias para definir a y\n",
        "# y = train_df.item_bought.to_numpy()\n",
        "ylist = train_df['item_bought'].astype(str).tolist()"
      ],
      "execution_count": null,
      "outputs": []
    },
    {
      "cell_type": "code",
      "metadata": {
        "id": "ksN44DQWWP3w"
      },
      "source": [
        "#Exportación de datos en el intento de hacerlos correr con más memoria en otras notebook de Colab\n",
        "#Spoiler: No fue suficiente\n",
        "\n",
        "with open('y_list_sample.txt', 'w') as f:\n",
        "    for item in ylist:\n",
        "        f.write(\"%s\\n\" % item)\n",
        "import scipy.sparse\n",
        "scipy.sparse.save_npz('X_sparse_sample.npz', X)\n",
        "scipy.sparse.save_npz('y_sparse.npz', y)"
      ],
      "execution_count": null,
      "outputs": []
    },
    {
      "cell_type": "markdown",
      "metadata": {
        "id": "S-XufbJHLWYc"
      },
      "source": [
        "Ahora matriz esparsa para X_test"
      ]
    },
    {
      "cell_type": "code",
      "metadata": {
        "id": "Bl0Czu-RLadR"
      },
      "source": [
        "rows = []\n",
        "cols = []\n",
        "data = []\n",
        "current_row = 0\n",
        "for row in test_df.itertuples():\n",
        "  if len(row.user_history) == 1:\n",
        "    if row.user_history[0]['event_type'] == 'view':\n",
        "      col = features_dict.get(row.user_history[0]['event_info'])\n",
        "      if col:\n",
        "        rows.append(current_row)  #Estructura para matriz esparsa\n",
        "        cols.append(col)\n",
        "        data.append(1)\n",
        "  else:\n",
        "    most_recent_time = datetime.strptime(row.user_history[-1]['event_timestamp'], '%Y-%m-%dT%H:%M:%S.%f%z')\n",
        "    for event in row.user_history:\n",
        "      if event['event_type'] == 'view':\n",
        "        col = features_dict.get(event['event_info'])\n",
        "        if col:    \n",
        "          delta = most_recent_time - datetime.strptime(event['event_timestamp'], '%Y-%m-%dT%H:%M:%S.%f%z')\n",
        "          rows.append(current_row)\n",
        "          cols.append(col)\n",
        "          data.append(time_weighing(delta.total_seconds()/3600)) #se convierte el delta en horas como float\n",
        "  current_row += 1\n"
      ],
      "execution_count": null,
      "outputs": []
    },
    {
      "cell_type": "code",
      "metadata": {
        "colab": {
          "base_uri": "https://localhost:8080/"
        },
        "id": "jZ7OUiq5Lla_",
        "outputId": "f8be47fa-f0a9-4d9c-fb26-d30c245c00ba"
      },
      "source": [
        "# creating sparse matrix\n",
        "X_test = csc_matrix((data, (rows, cols)),\n",
        "                          shape = (len(test_df), len(features)))\n",
        "  \n",
        "X_test"
      ],
      "execution_count": null,
      "outputs": [
        {
          "output_type": "execute_result",
          "data": {
            "text/plain": [
              "<82633x60221 sparse matrix of type '<class 'numpy.float64'>'\n",
              "\twith 188338 stored elements in Compressed Sparse Column format>"
            ]
          },
          "metadata": {},
          "execution_count": 21
        }
      ]
    },
    {
      "cell_type": "code",
      "metadata": {
        "id": "I9vhujZTLsgB"
      },
      "source": [
        "y_test = test_df['item_bought'].astype(str).tolist()"
      ],
      "execution_count": null,
      "outputs": []
    },
    {
      "cell_type": "markdown",
      "metadata": {
        "id": "3Yq3xzK4f8S8"
      },
      "source": [
        "##Modelos"
      ]
    },
    {
      "cell_type": "markdown",
      "metadata": {
        "id": "yl9E7I1W7mGj"
      },
      "source": [
        "### Baseline\n",
        "Se predice el último item visto. En caso de no ver ningun item, se predice el item más comprado"
      ]
    },
    {
      "cell_type": "code",
      "metadata": {
        "id": "gWmeUudQ9BTJ"
      },
      "source": [
        "most_common = train_df.groupby('item_bought').count().sort_values('user_history', ascending=False).index.tolist()[0]"
      ],
      "execution_count": null,
      "outputs": []
    },
    {
      "cell_type": "markdown",
      "metadata": {
        "id": "gfFIMqS9mzqy"
      },
      "source": [
        "Performance en datos de entrenamiento:"
      ]
    },
    {
      "cell_type": "code",
      "metadata": {
        "id": "suHo1ZUb7lx6"
      },
      "source": [
        "pred_y_baseline = []\n",
        "def last_viewed_item(events_list):\n",
        "  for ind in range(len(events_list)):\n",
        "    if events_list[-ind]['event_type'] == 'view':\n",
        "      return row.user_history[-ind]['event_info']\n",
        "  return most_common\n",
        "\n",
        "\n",
        "for row in train_df.itertuples():\n",
        " pred_y_baseline.append(last_viewed_item(row.user_history))"
      ],
      "execution_count": null,
      "outputs": []
    },
    {
      "cell_type": "code",
      "metadata": {
        "id": "fPi2v9LWFDny"
      },
      "source": [
        "#Se hace la métrica también para el domain predicho\n",
        "true_domain = [item_domain_dict[item] for item in train_df.item_bought]\n",
        "pred_domain_baseline = [item_domain_dict[item] if item_domain_dict[item] else 'None' for item in pred_y_baseline]"
      ],
      "execution_count": null,
      "outputs": []
    },
    {
      "cell_type": "code",
      "metadata": {
        "colab": {
          "base_uri": "https://localhost:8080/"
        },
        "id": "mZLIaxaU-gar",
        "outputId": "9652d487-b5cb-4f75-9ca1-4df7f9a75873"
      },
      "source": [
        "from sklearn.metrics import accuracy_score\n",
        "print('accuracy producto predicho', accuracy_score(train_df.item_bought.tolist(), pred_y_baseline))\n",
        "print('accuracy domain predicho', accuracy_score(true_domain, pred_domain_baseline))"
      ],
      "execution_count": null,
      "outputs": [
        {
          "output_type": "stream",
          "name": "stdout",
          "text": [
            "accuracy producto predicho 0.12221583517381175\n",
            "accuracy domain predicho 0.3033884972619732\n"
          ]
        }
      ]
    },
    {
      "cell_type": "markdown",
      "metadata": {
        "id": "IcYzDhHVm21i"
      },
      "source": [
        "Performance en datos de Test:"
      ]
    },
    {
      "cell_type": "code",
      "metadata": {
        "id": "HwL3I8zwm--D"
      },
      "source": [
        "pred_y_baseline = []\n",
        "def last_viewed_item(events_list):\n",
        "  for ind in range(len(events_list)):\n",
        "    if events_list[-ind]['event_type'] == 'view':\n",
        "      return row.user_history[-ind]['event_info']\n",
        "  return most_common\n",
        "\n",
        "\n",
        "for row in test_df.itertuples():\n",
        " pred_y_baseline.append(last_viewed_item(row.user_history))"
      ],
      "execution_count": null,
      "outputs": []
    },
    {
      "cell_type": "code",
      "metadata": {
        "id": "DUS0B3m9mx3y"
      },
      "source": [
        "#Se hace la métrica también para el domain predicho\n",
        "true_domain = [item_domain_dict[item] for item in test_df.item_bought]\n",
        "pred_domain_baseline = [item_domain_dict[item] if item_domain_dict[item] else 'None' for item in pred_y_baseline]"
      ],
      "execution_count": null,
      "outputs": []
    },
    {
      "cell_type": "code",
      "metadata": {
        "colab": {
          "base_uri": "https://localhost:8080/"
        },
        "id": "QVLa4CtanOj7",
        "outputId": "4955a2bc-5e90-4191-d076-331cc5849003"
      },
      "source": [
        "from sklearn.metrics import accuracy_score\n",
        "print('accuracy producto predicho', accuracy_score(test_df.item_bought.tolist(), pred_y_baseline))\n",
        "print('accuracy domain predicho', accuracy_score(true_domain, pred_domain_baseline))"
      ],
      "execution_count": null,
      "outputs": [
        {
          "output_type": "stream",
          "name": "stdout",
          "text": [
            "accuracy producto predicho 0.12350997785388404\n",
            "accuracy domain predicho 0.3054953832004163\n"
          ]
        }
      ]
    },
    {
      "cell_type": "markdown",
      "metadata": {
        "id": "5pmA-jnJ_Axk"
      },
      "source": [
        "### Modelo 1\n",
        "Se considera la cantidad de veces que fue visto el item, y se pondera por la antiguedad de la vista"
      ]
    },
    {
      "cell_type": "code",
      "metadata": {
        "id": "dJ2ZN0in-3A2"
      },
      "source": [
        "#Formula para ponderar la importancia de una vista segun pasan las horas\n",
        "def time_weighing(hours):\n",
        "  if hours < 0.001:\n",
        "    return 1\n",
        "  #fitted curve de la probabilidad de que la vista sea del bitem, dependiendo de la antiguedad en horas de la vista\n",
        "  #Esta curva se calculó con una mezcla de python + otro soft online. Al final de esta notebook, en el\n",
        "  #modelo 4, se muestra el método de cálculo 100% dentro de python, que arroja un resultado similar\n",
        "  bitem_prob = -2.231726 + (0.1984595 - -2.231726)/(1 + (hours/12332420000.000002)**0.1389521)  \n",
        "  weight = bitem_prob / 0.199021213390714  #bitem_prob para un delta de 0 hours clavado (ultimo item)\n",
        "  return weight"
      ],
      "execution_count": null,
      "outputs": []
    },
    {
      "cell_type": "code",
      "metadata": {
        "id": "fK4-1Q-FAIJW"
      },
      "source": [
        "import operator\n",
        "pred_y_model1 = []\n",
        "def weighed_viewed_item(events_list):\n",
        "  items = {}\n",
        "  most_recent_time = datetime.strptime(events_list[-1]['event_timestamp'], '%Y-%m-%dT%H:%M:%S.%f%z')\n",
        "  for event in events_list:\n",
        "    if event['event_type'] == 'view':\n",
        "      delta = most_recent_time - datetime.strptime(event['event_timestamp'], '%Y-%m-%dT%H:%M:%S.%f%z')\n",
        "      items[event['event_info']] = items.get(event['event_info'],0) + time_weighing(delta.total_seconds()/3600) #se convierte el delta en horas como float\n",
        "  if items:  \n",
        "    return max(items.items(), key=operator.itemgetter(1))[0]\n",
        "  else:\n",
        "    return most_common\n",
        "\n",
        "for row in train_df.itertuples():\n",
        " pred_y_model1.append(weighed_viewed_item(row.user_history))"
      ],
      "execution_count": null,
      "outputs": []
    },
    {
      "cell_type": "code",
      "metadata": {
        "id": "2Bp0UYMpG9aQ"
      },
      "source": [
        "pred_domain_model1 = [item_domain_dict[item] if item_domain_dict[item] else 'None' for item in pred_y_model1]"
      ],
      "execution_count": null,
      "outputs": []
    },
    {
      "cell_type": "code",
      "metadata": {
        "colab": {
          "base_uri": "https://localhost:8080/"
        },
        "id": "MfknrKsfDwy5",
        "outputId": "dc03270d-2db3-4775-9f76-0c79c3e7f678"
      },
      "source": [
        "print('accuracy producto predicho', accuracy_score(train_df.item_bought.tolist(), pred_y_model1))\n",
        "print('accuracy domain predicho', accuracy_score(true_domain, pred_domain_model1))"
      ],
      "execution_count": null,
      "outputs": [
        {
          "output_type": "stream",
          "text": [
            "accuracy producto predicho 0.17516573362087118\n",
            "accuracy domain predicho 0.3717249608508022\n"
          ],
          "name": "stdout"
        }
      ]
    },
    {
      "cell_type": "markdown",
      "metadata": {
        "id": "oXQAzSuPIS_3"
      },
      "source": [
        "### Modelo 2\n",
        "Se considera la cantidad de veces que fue visto el item. NO se pondera por la antiguedad de la vista"
      ]
    },
    {
      "cell_type": "code",
      "metadata": {
        "id": "JsaHOCDBIaTw"
      },
      "source": [
        "pred_y_model2 = []\n",
        "def most_viewed_item(events_list):\n",
        "  items = {}\n",
        "  most_recent_time = datetime.strptime(events_list[-1]['event_timestamp'], '%Y-%m-%dT%H:%M:%S.%f%z')\n",
        "  for event in events_list:\n",
        "    if event['event_type'] == 'view':\n",
        "      delta = most_recent_time - datetime.strptime(event['event_timestamp'], '%Y-%m-%dT%H:%M:%S.%f%z')\n",
        "      items[event['event_info']] = items.get(event['event_info'],0) + 1\n",
        "  if items:  \n",
        "    return max(items.items(), key=operator.itemgetter(1))[0]\n",
        "  else:\n",
        "    return most_common\n",
        "\n",
        "for row in train_df.itertuples():\n",
        " pred_y_model2.append(most_viewed_item(row.user_history))"
      ],
      "execution_count": null,
      "outputs": []
    },
    {
      "cell_type": "code",
      "metadata": {
        "id": "IJ68saIvIiLy"
      },
      "source": [
        "pred_domain_model2 = [item_domain_dict[item] if item_domain_dict[item] else 'None' for item in pred_y_model2]"
      ],
      "execution_count": null,
      "outputs": []
    },
    {
      "cell_type": "code",
      "metadata": {
        "colab": {
          "base_uri": "https://localhost:8080/"
        },
        "id": "jt_HmpY8IlRd",
        "outputId": "8fa94f6f-2116-439e-c103-8bdbb2f05974"
      },
      "source": [
        "print('accuracy producto predicho', accuracy_score(train_df.item_bought.tolist(), pred_y_model2))\n",
        "print('accuracy domain predicho', accuracy_score(true_domain, pred_domain_model2))"
      ],
      "execution_count": null,
      "outputs": [
        {
          "output_type": "stream",
          "text": [
            "accuracy producto predicho 0.1568993351292347\n",
            "accuracy domain predicho 0.3508663650907753\n"
          ],
          "name": "stdout"
        }
      ]
    },
    {
      "cell_type": "markdown",
      "metadata": {
        "id": "_CvNBs_hInvJ"
      },
      "source": [
        "###Modelo 3\n",
        "Se considera la cantidad de veces que fue visto el item, se pondera por la antiguedad de la vista, y por la cantidad de veces que fueron vistos otros items del mismo domain"
      ]
    },
    {
      "cell_type": "code",
      "metadata": {
        "id": "TonnMNLMI0ZD"
      },
      "source": [
        "pred_y_model3 = []\n",
        "def weighed_time_domain_viewed_item(events_list, strength=0.5):\n",
        "  items = {}\n",
        "  domains = {}\n",
        "  most_recent_time = datetime.strptime(events_list[-1]['event_timestamp'], '%Y-%m-%dT%H:%M:%S.%f%z')\n",
        "  for event in events_list:\n",
        "    if event['event_type'] == 'view':\n",
        "      delta = most_recent_time - datetime.strptime(event['event_timestamp'], '%Y-%m-%dT%H:%M:%S.%f%z')\n",
        "      items[event['event_info']] = items.get(event['event_info'],0) + time_weighing(delta.total_seconds()/3600) #se convierte el delta en horas como float\n",
        "      domain = item_domain_dict[event['event_info']] if item_domain_dict[event['event_info']] else 'None' #la condition tiene que ver con unos poquísimos items sin dominio\n",
        "      domains[domain] = domains.get(domain,0) + strength*time_weighing(delta.total_seconds()/3600) #se multiplica por la strength\n",
        "  if items:  \n",
        "    for item in items:\n",
        "      domain = item_domain_dict[item] if item_domain_dict[item] else 'None' #la condition tiene que ver con unos poquísimos items sin dominio\n",
        "      items[item] += domains[domain]\n",
        "    return max(items.items(), key=operator.itemgetter(1))[0]\n",
        "  else:\n",
        "    return most_common\n",
        "\n",
        "for row in train_df.itertuples():\n",
        " pred_y_model3.append(weighed_time_domain_viewed_item(row.user_history))"
      ],
      "execution_count": null,
      "outputs": []
    },
    {
      "cell_type": "code",
      "metadata": {
        "id": "KoUPfqaFMT6K"
      },
      "source": [
        "pred_domain_model3 = [item_domain_dict[item] if item_domain_dict[item] else 'None' for item in pred_y_model3]"
      ],
      "execution_count": null,
      "outputs": []
    },
    {
      "cell_type": "code",
      "metadata": {
        "colab": {
          "base_uri": "https://localhost:8080/"
        },
        "id": "RWzJr78XMYgr",
        "outputId": "e8012e22-fd1b-431b-9358-d561442d33ba"
      },
      "source": [
        "print('accuracy producto predicho', accuracy_score(train_df.item_bought.tolist(), pred_y_model3))\n",
        "print('accuracy domain predicho', accuracy_score(true_domain, pred_domain_model3))"
      ],
      "execution_count": null,
      "outputs": [
        {
          "output_type": "stream",
          "text": [
            "accuracy producto predicho 0.1727187574879648\n",
            "accuracy domain predicho 0.37519090528435506\n"
          ],
          "name": "stdout"
        }
      ]
    },
    {
      "cell_type": "markdown",
      "metadata": {
        "id": "04f_LUTBNfZq"
      },
      "source": [
        "Prueba de diferentes strengths para la ponderación por vistas del mismo domain:"
      ]
    },
    {
      "cell_type": "code",
      "metadata": {
        "colab": {
          "base_uri": "https://localhost:8080/"
        },
        "id": "cOuhhVT6NarU",
        "outputId": "92a79782-d771-48ac-967b-500bea938688"
      },
      "source": [
        "strengths = [0.1,0.2,0.3,0.7,0.8]\n",
        "for strength in strengths:\n",
        "  pred_y_model3_strengths = []\n",
        "  for row in train_df.itertuples():\n",
        "    pred_y_model3_strengths.append(weighed_time_domain_viewed_item(row.user_history,strength=strength))\n",
        "  pred_domain_model3_strengths = [item_domain_dict[item] if item_domain_dict[item] else 'None' for item in pred_y_model3_strengths]\n",
        "  print('strength:',strength)\n",
        "  print('accuracy producto predicho', accuracy_score(train_df.item_bought.tolist(), pred_y_model3_strengths))\n",
        "  print('accuracy domain predicho', accuracy_score(true_domain, pred_domain_model3_strengths))"
      ],
      "execution_count": null,
      "outputs": [
        {
          "output_type": "stream",
          "text": [
            "strength: 0.1\n",
            "accuracy producto predicho 0.17469860563506412\n",
            "accuracy domain predicho 0.37418403874499895\n",
            "strength: 0.2\n",
            "accuracy producto predicho 0.17407899545699881\n",
            "accuracy domain predicho 0.37499727710370967\n",
            "strength: 0.3\n",
            "accuracy producto predicho 0.17352715514215938\n",
            "accuracy domain predicho 0.37516428140951635\n",
            "strength: 0.7\n",
            "accuracy producto predicho 0.1720604216737704\n",
            "accuracy domain predicho 0.37509893189854854\n",
            "strength: 0.8\n",
            "accuracy producto predicho 0.1717990236298991\n",
            "accuracy domain predicho 0.37500695851274196\n"
          ],
          "name": "stdout"
        }
      ]
    },
    {
      "cell_type": "markdown",
      "metadata": {
        "id": "urU6eQau4EtB"
      },
      "source": [
        "De acuerdo aumenta la fuerza de la ponderación por haber visto otros items del mismo domain, disminuye el accuracy de predicción de producto comprado, pero aumenta el del domain comprado."
      ]
    },
    {
      "cell_type": "markdown",
      "metadata": {
        "id": "azBW6_W_zUqw"
      },
      "source": [
        "###Modelo 4\n",
        "Igual al modelo 1, pero con una curva de ponderación por tiempo, calculada dentro de este mismo Notebook para completitud. La accuracy es idéntica a la del modelo 1."
      ]
    },
    {
      "cell_type": "markdown",
      "metadata": {
        "id": "X4KEaOiD0HC-"
      },
      "source": [
        "####Entrenamiento de curvas de ponderación por tiempo"
      ]
    },
    {
      "cell_type": "code",
      "metadata": {
        "id": "WXF2Q4Gx0MVA"
      },
      "source": [
        "deltas_list = []\n",
        "bought_item_list = []\n",
        "for row in train_df.itertuples():\n",
        "  bitem = row.item_bought\n",
        "  if len(row.user_history) == 1:\n",
        "      deltas_list.append(timedelta(0))\n",
        "      bought_item_list.append(int(row.user_history[0]['event_info'] == bitem))\n",
        "  else:\n",
        "    most_recent_time = datetime.strptime(row.user_history[-1]['event_timestamp'], '%Y-%m-%dT%H:%M:%S.%f%z')\n",
        "    for event in row.user_history:\n",
        "      if event['event_type'] == 'view':\n",
        "          deltas_list.append(most_recent_time - datetime.strptime(event['event_timestamp'], '%Y-%m-%dT%H:%M:%S.%f%z'))\n",
        "          bought_item_list.append(int(event['event_info'] == bitem))\n",
        "delta_hours_list = [delta.total_seconds()/60/60 for delta in deltas_list]"
      ],
      "execution_count": null,
      "outputs": []
    },
    {
      "cell_type": "code",
      "metadata": {
        "id": "Fbjv4PVR0lwu"
      },
      "source": [
        "delta_bitem_df = pd.DataFrame({'deltas':delta_hours_list, 'bitem':bought_item_list})"
      ],
      "execution_count": null,
      "outputs": []
    },
    {
      "cell_type": "code",
      "metadata": {
        "colab": {
          "base_uri": "https://localhost:8080/"
        },
        "id": "P5t5XJX00xPc",
        "outputId": "5263fb4b-607d-4345-d1d4-3bac4e8d7205"
      },
      "source": [
        "delta_zero_prob = delta_bitem_df[delta_bitem_df.deltas == 0].bitem.mean()\n",
        "delta_zero_prob"
      ],
      "execution_count": null,
      "outputs": [
        {
          "output_type": "execute_result",
          "data": {
            "text/plain": [
              "0.19916404040788735"
            ]
          },
          "metadata": {},
          "execution_count": 16
        }
      ]
    },
    {
      "cell_type": "code",
      "metadata": {
        "id": "s9isloY70_0-"
      },
      "source": [
        "salto = np.linspace(0,150,15001)[1] - np.linspace(0,150,15001)[0]\n",
        "bitem_means = [delta_zero_prob]\n",
        "for hs in np.linspace(0,150,15001):\n",
        "  bitem_means.append(delta_bitem_df[(delta_bitem_df.deltas>hs)&(delta_bitem_df.deltas<=(hs+salto))].bitem.mean())"
      ],
      "execution_count": null,
      "outputs": []
    },
    {
      "cell_type": "code",
      "metadata": {
        "colab": {
          "base_uri": "https://localhost:8080/"
        },
        "id": "2w2O-812028S",
        "outputId": "0692be31-f5bb-4ce0-faaa-a0170545b4a1"
      },
      "source": [
        "from scipy.optimize import curve_fit\n",
        "# define the true objective function\n",
        "#-2.231726 + (0.1984595 - -2.231726)/(1 + (hours/12332420000.000002)**0.1389521)\n",
        "def objective(x, a, b, c, d):\n",
        "\treturn -a  + (delta_zero_prob - -b)/(1+(x/c)**d)\n",
        "#Se agrega peso al primer punto, para asegurar que la curva pase por el mismo\n",
        "y_weight = np.empty(len(bitem_means))\n",
        "y_weight.fill(10)\n",
        "y_weight[0] = 0.001\n",
        "# curve fit\n",
        "popt, _ = curve_fit(objective, np.linspace(0,150.01,15002), bitem_means, sigma=y_weight, absolute_sigma=True)\n",
        "# summarize the parameter values\n",
        "a, b, c, d = popt\n",
        "a, b, c, d"
      ],
      "execution_count": null,
      "outputs": [
        {
          "output_type": "stream",
          "name": "stderr",
          "text": [
            "/usr/local/lib/python3.7/dist-packages/ipykernel_launcher.py:5: RuntimeWarning: divide by zero encountered in power\n",
            "  \"\"\"\n"
          ]
        },
        {
          "output_type": "execute_result",
          "data": {
            "text/plain": [
              "(0.9219831748935463,\n",
              " 0.9219831711033147,\n",
              " 278163.8292531311,\n",
              " 0.21899233073226793)"
            ]
          },
          "metadata": {},
          "execution_count": 18
        }
      ]
    },
    {
      "cell_type": "code",
      "metadata": {
        "colab": {
          "base_uri": "https://localhost:8080/",
          "height": 265
        },
        "id": "-Qa7kSMz1EEk",
        "outputId": "353e15dd-78f1-4c94-defb-3ecb50e72c79"
      },
      "source": [
        "# define a sequence of inputs between the smallest and largest known inputs\n",
        "x_line = np.arange(0, max(delta_hours_list), 0.01)\n",
        "# calculate the output for the range\n",
        "y_line = objective(x_line, a, b, c, d)\n",
        "# create a line plot for the mapping function\n",
        "plt.scatter(np.linspace(0,150.01,15002), bitem_means)\n",
        "plt.plot(x_line, y_line, '--', color='red')\n",
        "plt.show()"
      ],
      "execution_count": null,
      "outputs": [
        {
          "output_type": "display_data",
          "data": {
            "image/png": "[encoded data removed]",
            "text/plain": [
              "<Figure size 432x288 with 1 Axes>"
            ]
          },
          "metadata": {
            "needs_background": "light"
          }
        }
      ]
    },
    {
      "cell_type": "markdown",
      "metadata": {
        "id": "u2Pi_O9v2ZHC"
      },
      "source": [
        "####Modelo"
      ]
    },
    {
      "cell_type": "code",
      "metadata": {
        "id": "omyexBaOzUU2"
      },
      "source": [
        "#Formula para ponderar la importancia de una vista segun pasan las horas\n",
        "\n",
        "def time_weighing2(hours):\n",
        "  if hours < 0.001:\n",
        "    return 1\n",
        "  bitem_prob = -a  + (delta_zero_prob - -b)/(1+(hours/c)**d)  #fitted curve de la probabilidad de que la vista sea del bitem, dependiendo de la antiguedad en horas de la vista\n",
        "  weight = bitem_prob / delta_zero_prob  #bitem_prob para un delta de 0 hours clavado (ultimo item)\n",
        "  return weight"
      ],
      "execution_count": null,
      "outputs": []
    },
    {
      "cell_type": "code",
      "metadata": {
        "id": "c5YE8s7qz6SE"
      },
      "source": [
        "pred_y_model4 = []\n",
        "def weighed_viewed_item(events_list):\n",
        "  items = {}\n",
        "  most_recent_time = datetime.strptime(events_list[-1]['event_timestamp'], '%Y-%m-%dT%H:%M:%S.%f%z')\n",
        "  for event in events_list:\n",
        "    if event['event_type'] == 'view':\n",
        "      delta = most_recent_time - datetime.strptime(event['event_timestamp'], '%Y-%m-%dT%H:%M:%S.%f%z')\n",
        "      items[event['event_info']] = items.get(event['event_info'],0) + time_weighing2(delta.total_seconds()/3600) #se convierte el delta en horas como float\n",
        "  if items:  \n",
        "    return max(items.items(), key=operator.itemgetter(1))[0]\n",
        "  else:\n",
        "    return most_common\n",
        "\n",
        "for row in train_df.itertuples():\n",
        " pred_y_model4.append(weighed_viewed_item(row.user_history))"
      ],
      "execution_count": null,
      "outputs": []
    },
    {
      "cell_type": "code",
      "metadata": {
        "id": "flFMyIfA0Ahk"
      },
      "source": [
        "pred_domain_model4 = [item_domain_dict[item] if item_domain_dict[item] else 'None' for item in pred_y_model4]"
      ],
      "execution_count": null,
      "outputs": []
    },
    {
      "cell_type": "code",
      "metadata": {
        "colab": {
          "base_uri": "https://localhost:8080/"
        },
        "id": "m8nR7eFl0EU-",
        "outputId": "7ea0de43-dbed-4f53-e177-51dff39607cd"
      },
      "source": [
        "print('accuracy producto predicho', accuracy_score(train_df.item_bought.tolist(), pred_y_model4))\n",
        "print('accuracy domain predicho', accuracy_score(true_domain, pred_domain_model4))"
      ],
      "execution_count": null,
      "outputs": [
        {
          "output_type": "stream",
          "text": [
            "accuracy producto predicho 0.1749115966337741\n",
            "accuracy domain predicho 0.372361513494674\n"
          ],
          "name": "stdout"
        }
      ]
    },
    {
      "cell_type": "markdown",
      "metadata": {
        "id": "Bp9xzMHvk4Gl"
      },
      "source": [
        "### Modelo 5 \n",
        "Modelo 1, Multiplicando por la P(bitem)"
      ]
    },
    {
      "cell_type": "code",
      "metadata": {
        "id": "La2C2QE6lqFJ"
      },
      "source": [
        "#Calculando P(item sea comprado) y creando un dict para lookup rápido\n",
        "bitem_count = train_df.groupby('item_bought').count()\n",
        "bitem_list = bitem_count.index.tolist()\n",
        "total = len(train_df)\n",
        "bitem_prob = bitem_count.user_history / total\n",
        "bitem_prob = bitem_prob.tolist()\n",
        "bitem_prob_dict = dict(zip(bitem_list, bitem_prob))"
      ],
      "execution_count": null,
      "outputs": []
    },
    {
      "cell_type": "code",
      "metadata": {
        "id": "usOTH9grk8ug"
      },
      "source": [
        "pred_y_model5 = []\n",
        "def weighed_viewed_item_prob(events_list):\n",
        "  items = {}\n",
        "  most_recent_time = datetime.strptime(events_list[-1]['event_timestamp'], '%Y-%m-%dT%H:%M:%S.%f%z')\n",
        "  for event in events_list:\n",
        "    if event['event_type'] == 'view':\n",
        "      delta = most_recent_time - datetime.strptime(event['event_timestamp'], '%Y-%m-%dT%H:%M:%S.%f%z')\n",
        "      items[event['event_info']] = items.get(event['event_info'],0) + time_weighing(delta.total_seconds()/3600) #se convierte el delta en horas como float\n",
        "  if items:\n",
        "    for item in items:\n",
        "      items[item] *= bitem_prob_dict.get(item,0)\n",
        "    return max(items.items(), key=operator.itemgetter(1))[0]\n",
        "  else:\n",
        "    return most_common\n",
        "\n",
        "for row in train_df.itertuples():\n",
        " pred_y_model5.append(weighed_viewed_item_prob(row.user_history))"
      ],
      "execution_count": null,
      "outputs": []
    },
    {
      "cell_type": "code",
      "metadata": {
        "id": "afqX2vuvlFWJ"
      },
      "source": [
        "pred_domain_model5 = [item_domain_dict[item] if item_domain_dict[item] else 'None' for item in pred_y_model5]"
      ],
      "execution_count": null,
      "outputs": []
    },
    {
      "cell_type": "code",
      "metadata": {
        "colab": {
          "base_uri": "https://localhost:8080/"
        },
        "id": "nPi-w5gVnO_o",
        "outputId": "4ea592fd-50bd-43d6-84bf-b4dd028d2887"
      },
      "source": [
        "print('accuracy producto predicho', accuracy_score(train_df.item_bought.tolist(), pred_y_model5))\n",
        "print('accuracy domain predicho', accuracy_score(true_domain, pred_domain_model5))"
      ],
      "execution_count": null,
      "outputs": [
        {
          "output_type": "stream",
          "text": [
            "accuracy producto predicho 0.21340245859382376\n",
            "accuracy domain predicho 0.4059729453024593\n"
          ],
          "name": "stdout"
        }
      ]
    },
    {
      "cell_type": "markdown",
      "metadata": {
        "id": "e7FJiRXrdu04"
      },
      "source": [
        "### Modelo 6: 10 items x predicción\n",
        "Modelo 1, Multiplicando por la P(bitem). Se predicen los primeros 10 productos dentro de los vistos. \n",
        "En caso de que el usuario no haya visto 10 items unicos, se completa el resto con los items mas comprados de los dominios más vistos por el usuario."
      ]
    },
    {
      "cell_type": "code",
      "metadata": {
        "id": "iyFqVNXyjQHm"
      },
      "source": [
        "#TOP ITEMS POR DOMAIN\n",
        "train_df['domain_id'] = train_df.apply(lambda row: item_domain_dict[row.item_bought], axis=1)\n",
        "top10_df = (train_df.groupby(['domain_id','item_bought']).count().\n",
        "            sort_values(['domain_id','user_history'], ascending=False).\n",
        "            reset_index(drop=False).groupby('domain_id').head(10))\n",
        "top_10_items_by_domain = {}\n",
        "\n",
        "for domain in top10_df.domain_id.unique():\n",
        "  top_10_items_by_domain[domain] = [item for item in top10_df[top10_df.domain_id == domain]['item_bought']]\n",
        "\n",
        "most_common_10 = train_df.groupby('item_bought').count().sort_values('user_history', ascending=False).index.tolist()[:10]"
      ],
      "execution_count": null,
      "outputs": []
    },
    {
      "cell_type": "code",
      "metadata": {
        "id": "8xwWhe_mv5U8"
      },
      "source": [
        "#Calculando P(domain sea comprado) y creando un dict para lookup rápido\n",
        "bitem_count = train_df.groupby('item_bought').count()\n",
        "bdom_count = train_df.groupby('domain_id').count()\n",
        "bdom_list = bitem_count.index.tolist()\n",
        "total = len(train_df)\n",
        "bdom_prob = bdom_count.user_history / total\n",
        "bdom_prob = bdom_prob.tolist()\n",
        "bdom_prob_dict = dict(zip(bdom_list, bdom_prob))\n",
        "bitem_list = bitem_count.index.tolist()\n",
        "bitem_prob = bitem_count.user_history / total\n",
        "bitem_prob = bitem_prob.tolist()\n",
        "bitem_prob_dict = dict(zip(bitem_list, bitem_prob))"
      ],
      "execution_count": null,
      "outputs": []
    },
    {
      "cell_type": "code",
      "metadata": {
        "id": "LetzSM_feFFI"
      },
      "source": [
        "# WEIGHT_THRESHOLD = 0.0001\n",
        "# DOMAINS_THRESHOLD = 2\n",
        "\n",
        "pred_y_model6 = []\n",
        "\n",
        "\n",
        "def find_next_item(domains_list,predictions):\n",
        "  '''Encuentra el próximo item que aún no está en la lista de predicciones, dentro de una lista de dominios ordenada de mejor a peor'''\n",
        "  for domain in domains_list:\n",
        "    for item in top_10_items_by_domain.get(domain,[]):  #Pueden haber domains vistos que no han sido comprados\n",
        "      if item not in predictions:\n",
        "        return item\n",
        "  for item in most_common_10:\n",
        "    if item not in predictions:\n",
        "      return item\n",
        "\n",
        "def weighed_time_prob_item_list(events_list):\n",
        "  items_weight = {}\n",
        "  most_recent_time = datetime.strptime(events_list[-1]['event_timestamp'], '%Y-%m-%dT%H:%M:%S.%f%z')\n",
        "  #Por cada VISTA de un producto, se agrega peso a dicho item, ponderado por el tiempo que hace que lo vio, y \n",
        "  #por la prob global de que se venda dicho prod\n",
        "  for event in events_list:\n",
        "    if event['event_type'] == 'view':\n",
        "      delta = most_recent_time - datetime.strptime(event['event_timestamp'], '%Y-%m-%dT%H:%M:%S.%f%z')\n",
        "      items_weight[event['event_info']] = items_weight.get(event['event_info'],0) + time_weighing(delta.total_seconds()/3600) #se convierte el delta en horas como float\n",
        "  #Este if se utiliza porque hay usuarios que tienen 0 vistas.\n",
        "  #Debe ser mejorado cuando se agregue NLP al análisis\n",
        "  if items_weight:\n",
        "    for item in items_weight:\n",
        "      items_weight[item] *= bitem_prob_dict.get(item,0)\n",
        "\n",
        "    #TO-DO evitar el overfitting que trae los items con prob=0 (nunca se podrá predecir la compra de algo que no fue comprado aun si no)\n",
        "    top_viewed_items = sorted(items_weight, key=items_weight.get, reverse=True)[:10] #Puede devolver menos que 10 items, si el user vio menos que 10\n",
        "    \n",
        "    #Establecer prioridad entre los dominios vistos, para completar la recomendación del top10\n",
        "    domain_weight_counter = {}\n",
        "    for item in top_viewed_items:\n",
        "      domain = item_domain_dict[item]\n",
        "      if domain: #Hay algunos pocos elementos de los cuales no sabemos el domain\n",
        "        domain_weight_counter[domain] = domain_weight_counter.get(domain,0) + 1 + items_weight[item]\n",
        "    for domain in domain_weight_counter:\n",
        "      domain_weight_counter[domain] *= bdom_prob_dict.get(domain,0) #Misma consideración respecto a items. Domains no comprados nunca seran top\n",
        "    top_domains = sorted(domain_weight_counter, key=domain_weight_counter.get, reverse=True)\n",
        "    \n",
        "    #Generar las 10 predicciones\n",
        "    #TO-DO> Pensar si conviene agregar un WEIGHT_THRESHOLD a partir del cual el item no será recomendado, y se recomendará en cambio algún item popular del top_domain\n",
        "    top_10_predictions = top_viewed_items[:]\n",
        "    for i in range(len(top_10_predictions),10):\n",
        "      top_10_predictions.append(find_next_item(top_domains,top_10_predictions))\n",
        "    return top_10_predictions\n",
        "  else: #EL USER NO VIO NINGUN ITEM, SOLO SEARCHES\n",
        "    return most_common_10\n",
        "\n",
        "for row in train_df.itertuples():\n",
        " pred_y_model6.append(weighed_time_prob_item_list(row.user_history))"
      ],
      "execution_count": null,
      "outputs": []
    },
    {
      "cell_type": "code",
      "metadata": {
        "id": "mGa6ty6eLyJn"
      },
      "source": [
        "#CALCULO DEL nDCG\n",
        "def ndcg(predictions,bitem):\n",
        "  ''' Dada una List de predictions, y un item comprado (int), devuelve el calculo de nDCG de la prediccion'''\n",
        "  best = 22.4246159748234\n",
        "  current = 0\n",
        "  bdom = item_domain_dict[bitem]\n",
        "  for i in range(1,11):\n",
        "    pred = predictions[i-1]\n",
        "    if pred == bitem:\n",
        "      gain = 12\n",
        "    elif item_domain_dict[pred] == bdom:\n",
        "      gain = 1\n",
        "    else:\n",
        "      gain = 0\n",
        "    current += (1/np.log(1+i)) * gain\n",
        "  return current/best \n",
        "\n",
        "true_bitem = train_df.item_bought.tolist()\n",
        "ndcg_list = []\n",
        "for i in range(len(bitem_list)):\n",
        "  ndcg_list.append(ndcg(pred_y_model6[i], true_bitem[i]))\n",
        "  "
      ],
      "execution_count": null,
      "outputs": []
    },
    {
      "cell_type": "code",
      "metadata": {
        "colab": {
          "base_uri": "https://localhost:8080/"
        },
        "id": "Z5BgJHZkRpnK",
        "outputId": "cf644203-f1be-40d4-86d0-277485f81cc2"
      },
      "source": [
        "print('nDCG obtenido:' , sum(ndcg_list) / len(ndcg_list))"
      ],
      "execution_count": null,
      "outputs": [
        {
          "output_type": "stream",
          "name": "stdout",
          "text": [
            "nDCG obtenido: 0.2881922316870161\n"
          ]
        }
      ]
    },
    {
      "cell_type": "markdown",
      "metadata": {
        "id": "7Iyf9s4HqUu9"
      },
      "source": [
        "Performance en datos de TEST:"
      ]
    },
    {
      "cell_type": "code",
      "metadata": {
        "id": "7CTqXMGGqw7p"
      },
      "source": [
        "# WEIGHT_THRESHOLD = 0.0001\n",
        "# DOMAINS_THRESHOLD = 2\n",
        "\n",
        "pred_y_model6 = []\n",
        "\n",
        "for row in test_df.itertuples():\n",
        " pred_y_model6.append(weighed_time_prob_item_list(row.user_history))"
      ],
      "execution_count": null,
      "outputs": []
    },
    {
      "cell_type": "code",
      "metadata": {
        "id": "3XkWnLaeq7mf"
      },
      "source": [
        "true_bitem = test_df.item_bought.tolist()\n",
        "ndcg_list = []\n",
        "for i in range(len(bitem_list)):\n",
        "  ndcg_list.append(ndcg(pred_y_model6[i], true_bitem[i]))\n",
        "  "
      ],
      "execution_count": null,
      "outputs": []
    },
    {
      "cell_type": "code",
      "metadata": {
        "colab": {
          "base_uri": "https://localhost:8080/"
        },
        "id": "Dfx3VqahrAeK",
        "outputId": "047f5a81-bc74-45c6-c11b-60d597d7a8a1"
      },
      "source": [
        "print('nDCG obtenido:' , sum(ndcg_list) / len(ndcg_list))"
      ],
      "execution_count": null,
      "outputs": [
        {
          "output_type": "stream",
          "name": "stdout",
          "text": [
            "nDCG obtenido: 0.281436584463679\n"
          ]
        }
      ]
    },
    {
      "cell_type": "markdown",
      "metadata": {
        "id": "BbdSGabN_vfQ"
      },
      "source": [
        "### Hito 4: Modelo 7 - Knn: 10 items x predicción\n",
        "Se adoptan 60.000 features (uno por item), con valores pesados según hace cuánto se vio cada vista. Se entrena un modelo de Knn Multiclase."
      ]
    },
    {
      "cell_type": "code",
      "metadata": {
        "id": "hti8Yej1G5qJ"
      },
      "source": [
        "from sklearn.model_selection import train_test_split\n",
        "X_train, X_test, y_train, y_test =train_test_split(X, ylist, test_size=0.20, random_state=4)"
      ],
      "execution_count": null,
      "outputs": []
    },
    {
      "cell_type": "code",
      "metadata": {
        "id": "Yao7cWtvME3A"
      },
      "source": [
        "\n",
        "from sklearn.ensemble import RandomForestClassifier"
      ],
      "execution_count": null,
      "outputs": []
    },
    {
      "cell_type": "code",
      "metadata": {
        "id": "Bl4QMCe2MekT"
      },
      "source": [
        "rf = RandomForestClassifier(n_estimators=100000, max_samples=10)"
      ],
      "execution_count": null,
      "outputs": []
    },
    {
      "cell_type": "code",
      "metadata": {
        "id": "5Ik0Sr5H7Tj0"
      },
      "source": [
        "from sklearn.naive_bayes import MultinomialNB"
      ],
      "execution_count": null,
      "outputs": []
    },
    {
      "cell_type": "code",
      "metadata": {
        "id": "D3XnBW0H7YsV"
      },
      "source": [
        "mnb=MultinomialNB()"
      ],
      "execution_count": null,
      "outputs": []
    },
    {
      "cell_type": "code",
      "metadata": {
        "id": "iAhY8m3a7i7N"
      },
      "source": [
        "\n",
        "divs=5\n",
        "for i in range(int(X_train.shape[0]/divs)):\n",
        " Xch=X_train[i*divs:(i+1)*divs-1]\n",
        " Ych= y_train[i*divs:(i+1)*divs-1]\n",
        " mnb.partial_fit(Xch,Ych, classes=np.unique(ylist))"
      ],
      "execution_count": null,
      "outputs": []
    },
    {
      "cell_type": "code",
      "metadata": {
        "id": "0mkam56yM3eP"
      },
      "source": [
        "rf.fit(X_train, y_train)"
      ],
      "execution_count": null,
      "outputs": []
    },
    {
      "cell_type": "code",
      "metadata": {
        "colab": {
          "base_uri": "https://localhost:8080/"
        },
        "id": "8wkCvcMqAHen",
        "outputId": "ddf03ead-343e-4ec0-d180-9654017295e4"
      },
      "source": [
        "from sklearn.neighbors import KNeighborsClassifier\n",
        "knn = KNeighborsClassifier(n_neighbors=10, n_jobs=-1)\n",
        "\n",
        "knn.fit(X, ylist)"
      ],
      "execution_count": null,
      "outputs": [
        {
          "output_type": "execute_result",
          "data": {
            "text/plain": [
              "KNeighborsClassifier(algorithm='auto', leaf_size=30, metric='minkowski',\n",
              "                     metric_params=None, n_jobs=-1, n_neighbors=10, p=2,\n",
              "                     weights='uniform')"
            ]
          },
          "metadata": {},
          "execution_count": 53
        }
      ]
    },
    {
      "cell_type": "code",
      "metadata": {
        "id": "epSeUwFxHe1w"
      },
      "source": [
        "# X_train2, X_test2, y_train2, y_test2 =train_test_split(X_test, y_test, test_size=0.0001, random_state=4)"
      ],
      "execution_count": null,
      "outputs": []
    },
    {
      "cell_type": "code",
      "metadata": {
        "id": "5LF-29LNIa7P"
      },
      "source": [
        "pred = knn.predict_proba(X_test2)"
      ],
      "execution_count": null,
      "outputs": []
    },
    {
      "cell_type": "code",
      "metadata": {
        "colab": {
          "base_uri": "https://localhost:8080/"
        },
        "id": "QNzhDwBIInB-",
        "outputId": "3309abf9-c804-4160-df35-2ee874154566"
      },
      "source": [
        "np.argsort(pred)"
      ],
      "execution_count": null,
      "outputs": [
        {
          "output_type": "execute_result",
          "data": {
            "text/plain": [
              "array([[    0, 40137, 40138, ..., 23339,  4488, 58486],\n",
              "       [    0, 40138, 40139, ..., 14306, 55582,  4488],\n",
              "       [    0, 40137, 40138, ..., 24321, 24771,  7039],\n",
              "       ...,\n",
              "       [    0, 40138, 40139, ..., 32626,  9116, 34997],\n",
              "       [    0, 40137, 40138, ..., 40329, 18551, 40842],\n",
              "       [    0, 40138, 40139, ..., 14306, 55582,  4488]])"
            ]
          },
          "metadata": {},
          "execution_count": 56
        }
      ]
    },
    {
      "cell_type": "code",
      "metadata": {
        "colab": {
          "base_uri": "https://localhost:8080/"
        },
        "id": "obyNYpgeJYNV",
        "outputId": "e3809bd8-af08-4892-e1b6-c4b4bb496fb8"
      },
      "source": [
        "asd = np.array([3,1,2])\n",
        "np.argsort(asd)"
      ],
      "execution_count": null,
      "outputs": [
        {
          "output_type": "execute_result",
          "data": {
            "text/plain": [
              "array([1, 2, 0])"
            ]
          },
          "metadata": {},
          "execution_count": 28
        }
      ]
    },
    {
      "cell_type": "code",
      "metadata": {
        "id": "QSINeuPTM8aX"
      },
      "source": [
        "features_array = np.array(features)"
      ],
      "execution_count": null,
      "outputs": []
    },
    {
      "cell_type": "code",
      "metadata": {
        "colab": {
          "base_uri": "https://localhost:8080/"
        },
        "id": "a4UqRiXMM_e8",
        "outputId": "24964a94-1bfb-4bde-ef30-cd1d5a6f0a50"
      },
      "source": [
        "features_array[np.argsort(pred)][-10:]"
      ],
      "execution_count": null,
      "outputs": [
        {
          "output_type": "execute_result",
          "data": {
            "text/plain": [
              "array([[     33, 1404717, 1404815, ...,  819759,  159441, 2041072],\n",
              "       [     33, 1404815, 1404831, ...,  508525, 1938604,  159441],\n",
              "       [     33, 1404717, 1404815, ...,  851218,  866973,  252425],\n",
              "       ...,\n",
              "       [     33, 1404815, 1404831, ..., 1142577,  326212, 1226269],\n",
              "       [     33, 1404717, 1404815, ..., 1410708,  656139, 1428655],\n",
              "       [     33, 1404815, 1404831, ...,  508525, 1938604,  159441]])"
            ]
          },
          "metadata": {},
          "execution_count": 55
        }
      ]
    },
    {
      "cell_type": "code",
      "metadata": {
        "colab": {
          "base_uri": "https://localhost:8080/",
          "height": 78
        },
        "id": "MiFNHOoWNw2u",
        "outputId": "28896226-38c1-46d6-edfa-bf210b291691"
      },
      "source": [
        "item_df[item_df.item_id == 852053]"
      ],
      "execution_count": null,
      "outputs": [
        {
          "output_type": "execute_result",
          "data": {
            "text/html": [
              "<div>\n",
              "<style scoped>\n",
              "    .dataframe tbody tr th:only-of-type {\n",
              "        vertical-align: middle;\n",
              "    }\n",
              "\n",
              "    .dataframe tbody tr th {\n",
              "        vertical-align: top;\n",
              "    }\n",
              "\n",
              "    .dataframe thead th {\n",
              "        text-align: right;\n",
              "    }\n",
              "</style>\n",
              "<table border=\"1\" class=\"dataframe\">\n",
              "  <thead>\n",
              "    <tr style=\"text-align: right;\">\n",
              "      <th></th>\n",
              "      <th>item_id</th>\n",
              "      <th>title</th>\n",
              "      <th>domain_id</th>\n",
              "      <th>product_id</th>\n",
              "      <th>price</th>\n",
              "      <th>category_id</th>\n",
              "      <th>condition</th>\n",
              "    </tr>\n",
              "  </thead>\n",
              "  <tbody>\n",
              "    <tr>\n",
              "      <th>999968</th>\n",
              "      <td>852053</td>\n",
              "      <td>Plastica Dos Fios Selagem Térmica Marroquina +...</td>\n",
              "      <td>MLB-HAIR_TREATMENTS</td>\n",
              "      <td>None</td>\n",
              "      <td>29.99</td>\n",
              "      <td>MLB32130</td>\n",
              "      <td>new</td>\n",
              "    </tr>\n",
              "  </tbody>\n",
              "</table>\n",
              "</div>"
            ],
            "text/plain": [
              "        item_id  ... condition\n",
              "999968   852053  ...       new\n",
              "\n",
              "[1 rows x 7 columns]"
            ]
          },
          "metadata": {},
          "execution_count": 52
        }
      ]
    },
    {
      "cell_type": "code",
      "metadata": {
        "colab": {
          "base_uri": "https://localhost:8080/"
        },
        "id": "fiLvh6NCNImt",
        "outputId": "5057f2fb-0fea-49fb-b061-faa7d0c7c895"
      },
      "source": [
        "features_dict[2041072]"
      ],
      "execution_count": null,
      "outputs": [
        {
          "output_type": "execute_result",
          "data": {
            "text/plain": [
              "58486"
            ]
          },
          "metadata": {},
          "execution_count": 32
        }
      ]
    },
    {
      "cell_type": "code",
      "metadata": {
        "colab": {
          "base_uri": "https://localhost:8080/"
        },
        "id": "8NdcFb5lNSjA",
        "outputId": "8057f571-a55a-477b-934e-a386f4b2dcef"
      },
      "source": [
        "np.argmax(pred)"
      ],
      "execution_count": null,
      "outputs": [
        {
          "output_type": "execute_result",
          "data": {
            "text/plain": [
              "58486"
            ]
          },
          "metadata": {},
          "execution_count": 33
        }
      ]
    },
    {
      "cell_type": "code",
      "metadata": {
        "colab": {
          "base_uri": "https://localhost:8080/"
        },
        "id": "B8ITqjGJMnk-",
        "outputId": "7fd17f35-10ec-4840-aa09-ad55ec738669"
      },
      "source": [
        "asd[np.argsort(asd)]"
      ],
      "execution_count": null,
      "outputs": [
        {
          "output_type": "execute_result",
          "data": {
            "text/plain": [
              "array([1, 2, 3])"
            ]
          },
          "metadata": {},
          "execution_count": 29
        }
      ]
    },
    {
      "cell_type": "markdown",
      "metadata": {
        "id": "Y9VwTT_aXGQe"
      },
      "source": [
        "### Hito 4: Modelo 6 a esparsa para aplicar Machine Learning"
      ]
    },
    {
      "cell_type": "code",
      "metadata": {
        "id": "hFhBRwMOXLjw"
      },
      "source": [
        "# WEIGHT_THRESHOLD = 0.0001\n",
        "# DOMAINS_THRESHOLD = 2\n",
        "\n",
        "# pred_y_model6 = []\n",
        "\n",
        "\n",
        "def find_next_item(domains_list,predictions):\n",
        "  '''Encuentra el próximo item que aún no está en la lista de predicciones, dentro de una lista de dominios ordenada de mejor a peor'''\n",
        "  for domain in domains_list:\n",
        "    for item in top_10_items_by_domain.get(domain,[]):  #Pueden haber domains vistos que no han sido comprados\n",
        "      if item not in predictions:\n",
        "        return item\n",
        "  for item in most_common_10:\n",
        "    if item not in predictions:\n",
        "      return item\n",
        "\n",
        "def weighed_time_prob_item_list_sparse_matrix(events_list, data,cols):\n",
        "  items_weight = {}\n",
        "  most_recent_time = datetime.strptime(events_list[-1]['event_timestamp'], '%Y-%m-%dT%H:%M:%S.%f%z')\n",
        "  #Por cada VISTA de un producto, se agrega peso a dicho item, ponderado por el tiempo que hace que lo vio, y \n",
        "  #por la prob global de que se venda dicho prod\n",
        "  for event in events_list:\n",
        "    if event['event_type'] == 'view':\n",
        "      delta = most_recent_time - datetime.strptime(event['event_timestamp'], '%Y-%m-%dT%H:%M:%S.%f%z')\n",
        "      items_weight[event['event_info']] = items_weight.get(event['event_info'],0) + time_weighing(delta.total_seconds()/3600) #se convierte el delta en horas como float\n",
        "  #Este if se utiliza porque hay usuarios que tienen 0 vistas.\n",
        "  #Debe ser mejorado cuando se agregue NLP al análisis\n",
        "  #Armar la matriz esparsa de X\n",
        "#Esta matriz toma las consideraciones del Modelo 1 respecto a la ponderación por tiempo\n",
        "#No es utilizada en el resto del Notebook, pero se deja aquí para mostrar el intento\n",
        "#de mejorar el modelo con Scikit_Learn\n",
        "  items = 0\n",
        "  for item in items_weight:\n",
        "    if item in features_dict: #Solo se suman los items que fueron comprados alguna vez\n",
        "      items += 1\n",
        "      cols.append(features_dict.get(item))\n",
        "      data.append(items_weight[item])\n",
        "  return items\n",
        "\n",
        "rows = []\n",
        "cols = []\n",
        "data = []\n",
        "i=0\n",
        "for row in train_df.itertuples():  \n",
        "  for it in range(weighed_time_prob_item_list_sparse_matrix(row.user_history,data,cols)):\n",
        "    rows.append(i)\n",
        "  i += 1"
      ],
      "execution_count": null,
      "outputs": []
    },
    {
      "cell_type": "code",
      "metadata": {
        "colab": {
          "base_uri": "https://localhost:8080/"
        },
        "id": "iay3M0_aaWft",
        "outputId": "cebed9f2-0dea-42ec-df61-b46367d786ad"
      },
      "source": [
        "# Import required package\n",
        "import numpy as np\n",
        "from scipy.sparse import csc_matrix\n",
        "  \n",
        "# creating sparse matrix\n",
        "X = csc_matrix((data, (rows, cols)),\n",
        "                          shape = (len(train_df), len(features)))\n",
        "  \n",
        "X"
      ],
      "execution_count": null,
      "outputs": [
        {
          "output_type": "execute_result",
          "data": {
            "text/plain": [
              "<413163x64928 sparse matrix of type '<class 'numpy.float64'>'\n",
              "\twith 966726 stored elements in Compressed Sparse Column format>"
            ]
          },
          "metadata": {},
          "execution_count": 23
        }
      ]
    },
    {
      "cell_type": "code",
      "metadata": {
        "id": "ar8M7OHsar01"
      },
      "source": [
        "ylist = train_df['item_bought'].astype(str).tolist()"
      ],
      "execution_count": null,
      "outputs": []
    },
    {
      "cell_type": "code",
      "metadata": {
        "id": "yn0njfHQa1Q1"
      },
      "source": [
        "with open('y_list_simple.txt', 'w') as f:\n",
        "    for item in ylist:\n",
        "        f.write(\"%s\\n\" % item)\n",
        "import scipy.sparse\n",
        "scipy.sparse.save_npz('X_sparse_simple.npz', X)\n",
        "# scipy.sparse.save_npz('y_sparse.npz', y)"
      ],
      "execution_count": null,
      "outputs": []
    },
    {
      "cell_type": "code",
      "metadata": {
        "colab": {
          "base_uri": "https://localhost:8080/",
          "height": 17
        },
        "id": "gV9TFydab-S-",
        "outputId": "b2589562-1792-46cf-9f5f-7e51ebf02643"
      },
      "source": [
        "from google.colab import files\n",
        "files.download('X_sparse_simple.npz')"
      ],
      "execution_count": null,
      "outputs": [
        {
          "output_type": "display_data",
          "data": {
            "application/javascript": [
              "\n",
              "    async function download(id, filename, size) {\n",
              "      if (!google.colab.kernel.accessAllowed) {\n",
              "        return;\n",
              "      }\n",
              "      const div = document.createElement('div');\n",
              "      const label = document.createElement('label');\n",
              "      label.textContent = `Downloading \"${filename}\": `;\n",
              "      div.appendChild(label);\n",
              "      const progress = document.createElement('progress');\n",
              "      progress.max = size;\n",
              "      div.appendChild(progress);\n",
              "      document.body.appendChild(div);\n",
              "\n",
              "      const buffers = [];\n",
              "      let downloaded = 0;\n",
              "\n",
              "      const channel = await google.colab.kernel.comms.open(id);\n",
              "      // Send a message to notify the kernel that we're ready.\n",
              "      channel.send({})\n",
              "\n",
              "      for await (const message of channel.messages) {\n",
              "        // Send a message to notify the kernel that we're ready.\n",
              "        channel.send({})\n",
              "        if (message.buffers) {\n",
              "          for (const buffer of message.buffers) {\n",
              "            buffers.push(buffer);\n",
              "            downloaded += buffer.byteLength;\n",
              "            progress.value = downloaded;\n",
              "          }\n",
              "        }\n",
              "      }\n",
              "      const blob = new Blob(buffers, {type: 'application/binary'});\n",
              "      const a = document.createElement('a');\n",
              "      a.href = window.URL.createObjectURL(blob);\n",
              "      a.download = filename;\n",
              "      div.appendChild(a);\n",
              "      a.click();\n",
              "      div.remove();\n",
              "    }\n",
              "  "
            ],
            "text/plain": [
              "<IPython.core.display.Javascript object>"
            ]
          },
          "metadata": {}
        },
        {
          "output_type": "display_data",
          "data": {
            "application/javascript": [
              "download(\"download_6f1c1159-db9d-4483-8dd5-e2cb7167558e\", \"X_sparse_simple.npz\", 10082821)"
            ],
            "text/plain": [
              "<IPython.core.display.Javascript object>"
            ]
          },
          "metadata": {}
        }
      ]
    },
    {
      "cell_type": "code",
      "metadata": {
        "id": "lFR1Kh12auKz"
      },
      "source": [
        "from sklearn.model_selection import train_test_split\n",
        "X_train, X_test, y_train, y_test =train_test_split(X, ylist, test_size=0.20, random_state=4)"
      ],
      "execution_count": null,
      "outputs": []
    },
    {
      "cell_type": "code",
      "metadata": {
        "id": "Mnh3xGzScq6B"
      },
      "source": [
        "def shuffle_sparse(X_matrix, y_matrix):\n",
        "    index = np.arange(np.shape(X_matrix)[0])\n",
        "    np.random.shuffle(index)\n",
        "    return X_matrix[index, :], np.array(y_matrix)[index]\n",
        "def batches(l, n):\n",
        "    for i in range(0, len(l), n):\n",
        "        yield l[i:i+n]"
      ],
      "execution_count": null,
      "outputs": []
    },
    {
      "cell_type": "code",
      "metadata": {
        "id": "9ciyXzMcc05m"
      },
      "source": [
        "import numpy as np\n",
        "from sklearn.linear_model import SGDClassifier\n",
        "import random\n",
        "clf2 = SGDClassifier() # shuffle=True is useless here\n",
        "# shuffledRange = range(x_train.shape[0])\n",
        "n_iter = 5\n",
        "for n in range(n_iter):\n",
        "    shuffledX, shuffledY = shuffle_sparse(X_train, y_train)\n",
        "    for batch in batches(range(shuffledX.shape[0]), 10):\n",
        "        clf2.partial_fit(shuffledX[batch[0]:batch[-1]+1], shuffledY[batch[0]:batch[-1]+1], classes=np.unique(y_train))"
      ],
      "execution_count": null,
      "outputs": []
    },
    {
      "cell_type": "markdown",
      "metadata": {
        "id": "EHpXNnRVa5yh"
      },
      "source": [
        "### Hito 4: Utilización de SEARCHS --> DOM\n",
        "Utilizamos NLTK y fasttext para crear un modelo que con cada Search, prediga el Dominio que el usuario intentó buscar."
      ]
    },
    {
      "cell_type": "markdown",
      "metadata": {
        "id": "9ZRkhcTqvF0T"
      },
      "source": [
        ""
      ]
    },
    {
      "cell_type": "markdown",
      "metadata": {
        "id": "wNxk0HdXvF53"
      },
      "source": [
        "#### Armado modelo ft"
      ]
    },
    {
      "cell_type": "code",
      "metadata": {
        "colab": {
          "base_uri": "https://localhost:8080/"
        },
        "id": "XKjSt1ntbKYF",
        "outputId": "37100d92-f23d-45be-9eb9-3867ee6b59e6"
      },
      "source": [
        "import nltk\n",
        "from nltk.corpus import stopwords\n",
        "nltk.download('stopwords')\n",
        "from nltk.tokenize import word_tokenize"
      ],
      "execution_count": null,
      "outputs": [
        {
          "output_type": "stream",
          "name": "stdout",
          "text": [
            "[nltk_data] Downloading package stopwords to /root/nltk_data...\n",
            "[nltk_data]   Package stopwords is already up-to-date!\n"
          ]
        }
      ]
    },
    {
      "cell_type": "code",
      "metadata": {
        "colab": {
          "base_uri": "https://localhost:8080/",
          "height": 35
        },
        "id": "uyOp9y8udCPu",
        "outputId": "28cd1ccb-0652-4bdf-b83e-92fe322b90cf"
      },
      "source": [
        "' '.join([word for word in item_df.title[0].split(' ') if word not in ['hola']]).replace(',','').replace('.','')"
      ],
      "execution_count": null,
      "outputs": [
        {
          "output_type": "execute_result",
          "data": {
            "application/vnd.google.colaboratory.intrinsic+json": {
              "type": "string"
            },
            "text/plain": [
              "'Casa Sola En Venta Con Gran Patio Solo Pago De Contado'"
            ]
          },
          "metadata": {},
          "execution_count": 45
        }
      ]
    },
    {
      "cell_type": "code",
      "metadata": {
        "colab": {
          "base_uri": "https://localhost:8080/",
          "height": 78
        },
        "id": "W7symnIabfK4",
        "outputId": "a07fa5d6-4d1c-48aa-f03a-ab373ea00cc2"
      },
      "source": [
        "item_df.head(1)"
      ],
      "execution_count": null,
      "outputs": [
        {
          "output_type": "execute_result",
          "data": {
            "text/html": [
              "<div>\n",
              "<style scoped>\n",
              "    .dataframe tbody tr th:only-of-type {\n",
              "        vertical-align: middle;\n",
              "    }\n",
              "\n",
              "    .dataframe tbody tr th {\n",
              "        vertical-align: top;\n",
              "    }\n",
              "\n",
              "    .dataframe thead th {\n",
              "        text-align: right;\n",
              "    }\n",
              "</style>\n",
              "<table border=\"1\" class=\"dataframe\">\n",
              "  <thead>\n",
              "    <tr style=\"text-align: right;\">\n",
              "      <th></th>\n",
              "      <th>item_id</th>\n",
              "      <th>title</th>\n",
              "      <th>domain_id</th>\n",
              "      <th>product_id</th>\n",
              "      <th>price</th>\n",
              "      <th>category_id</th>\n",
              "      <th>condition</th>\n",
              "    </tr>\n",
              "  </thead>\n",
              "  <tbody>\n",
              "    <tr>\n",
              "      <th>0</th>\n",
              "      <td>111260</td>\n",
              "      <td>Casa Sola En Venta Con Gran Patio Solo Pago De...</td>\n",
              "      <td>MLM-INDIVIDUAL_HOUSES_FOR_SALE</td>\n",
              "      <td>None</td>\n",
              "      <td>1150000.00</td>\n",
              "      <td>MLM170527</td>\n",
              "      <td>new</td>\n",
              "    </tr>\n",
              "  </tbody>\n",
              "</table>\n",
              "</div>"
            ],
            "text/plain": [
              "   item_id  ... condition\n",
              "0   111260  ...       new\n",
              "\n",
              "[1 rows x 7 columns]"
            ]
          },
          "metadata": {},
          "execution_count": 41
        }
      ]
    },
    {
      "cell_type": "code",
      "metadata": {
        "id": "AVJQW8lueZEf"
      },
      "source": [
        "from sklearn.model_selection import train_test_split\n",
        "\n",
        "item_train,item_test=train_test_split(item_df, test_size=0.20, random_state=4)"
      ],
      "execution_count": null,
      "outputs": []
    },
    {
      "cell_type": "code",
      "metadata": {
        "id": "oeSgYAg5baDh"
      },
      "source": [
        "\n",
        "stopwords_sp = stopwords.words(\"spanish\")\n",
        "stopwords_po = stopwords.words(\"portuguese\") \n",
        "corpus = ''\n",
        "\n",
        "for row in item_train.itertuples():\n",
        "  spanish = row.category_id[2:3] == 'M'  ##M == MEXICO\n",
        "  if row.domain_id:\n",
        "    if spanish:\n",
        "      title = ' '.join([word for word in row.title.split(' ') if word not in stopwords_sp]).replace(',','').replace('.','')\n",
        "      doc = '__label__' + row.domain_id + ' ' + title + '\\n'\n",
        "    else:\n",
        "      title = ' '.join([word for word in row.title.split(' ') if word not in stopwords_po]).replace(',','').replace('.','')\n",
        "      doc = '__label__' + row.domain_id + ' ' + title + '\\n'\n",
        "    corpus += doc\n"
      ],
      "execution_count": null,
      "outputs": []
    },
    {
      "cell_type": "code",
      "metadata": {
        "id": "3PHiBr_ZfL-R"
      },
      "source": [
        "corpus_test = ''\n",
        "\n",
        "for row in item_test.itertuples():\n",
        "  spanish = row.category_id[2:3] == 'M'  ##M == MEXICO\n",
        "  if row.domain_id:\n",
        "    if spanish:\n",
        "      title = ' '.join([word for word in row.title.split(' ') if word not in stopwords_sp]).replace(',','').replace('.','')\n",
        "      doc = '__label__' + row.domain_id + ' ' + title + '\\n'\n",
        "    else:\n",
        "      title = ' '.join([word for word in row.title.split(' ') if word not in stopwords_po]).replace(',','').replace('.','')\n",
        "      doc = '__label__' + row.domain_id + ' ' + title + '\\n'\n",
        "    corpus_test += doc\n"
      ],
      "execution_count": null,
      "outputs": []
    },
    {
      "cell_type": "code",
      "metadata": {
        "id": "9ZzmxGpxfVJM"
      },
      "source": [
        "with open('item_test_20.txt', 'w', encoding=\"utf-8\") as f:\n",
        "  f.write('%s' % corpus_test)"
      ],
      "execution_count": null,
      "outputs": []
    },
    {
      "cell_type": "code",
      "metadata": {
        "id": "X7uZWcwif8vU"
      },
      "source": [
        "with open('item_train_80.txt', 'w', encoding=\"utf-8\") as f:\n",
        "  f.write('%s' % corpus)"
      ],
      "execution_count": null,
      "outputs": []
    },
    {
      "cell_type": "code",
      "metadata": {
        "id": "fvoKOhk1gZv_"
      },
      "source": [
        "import fasttext\n",
        "model=fasttext.train_supervised(input='item_train_80.txt', epoch=10, wordNgrams=2)"
      ],
      "execution_count": null,
      "outputs": []
    },
    {
      "cell_type": "code",
      "metadata": {
        "id": "KE7swDLajrlM"
      },
      "source": [
        "model.save_model(\"model_filename.bin\")"
      ],
      "execution_count": null,
      "outputs": []
    },
    {
      "cell_type": "code",
      "metadata": {
        "id": "ek2JNR_Zjz_a"
      },
      "source": [
        "from google.colab import files\n",
        "files.download('model_filename.bin')"
      ],
      "execution_count": null,
      "outputs": []
    },
    {
      "cell_type": "markdown",
      "metadata": {
        "id": "egFn1Z7-iiZR"
      },
      "source": [
        "#### Análisis de modelo ft - UBA"
      ]
    },
    {
      "cell_type": "code",
      "metadata": {
        "colab": {
          "base_uri": "https://localhost:8080/"
        },
        "id": "7YCixiyQioU9",
        "outputId": "9a1712f4-1a77-444e-f08f-54b6ccf918b6"
      },
      "source": [
        "#MODEL\n",
        "!gdown https://drive.google.com/u/0/uc?id=1dgnKkzvWNCEE9odKcXqFfBTK1Q6-4bgy&export=download"
      ],
      "execution_count": null,
      "outputs": [
        {
          "output_type": "stream",
          "name": "stdout",
          "text": [
            "Downloading...\n",
            "From: https://drive.google.com/u/0/uc?id=1dgnKkzvWNCEE9odKcXqFfBTK1Q6-4bgy\n",
            "To: /content/ftmodel_ngrams2_lr05_epoch15.bin\n",
            "1.01GB [00:08, 116MB/s]\n"
          ]
        }
      ]
    },
    {
      "cell_type": "code",
      "metadata": {
        "colab": {
          "base_uri": "https://localhost:8080/"
        },
        "id": "vy0grxoGi2dz",
        "outputId": "cba51e95-e01b-4324-f9b7-be82a8965a9f"
      },
      "source": [
        "import fasttext\n",
        "ft_model = fasttext.load_model('/content/ftmodel_ngrams2_lr05_epoch15.bin')"
      ],
      "execution_count": null,
      "outputs": [
        {
          "output_type": "stream",
          "name": "stderr",
          "text": [
            "Warning : `load_model` does not return WordVectorModel or SupervisedModel any more, but a `FastText` object which is very similar.\n"
          ]
        }
      ]
    },
    {
      "cell_type": "code",
      "metadata": {
        "id": "JtHN_YYljJqU"
      },
      "source": [
        "for i in [384344,102455,408680,56612,207299]:\n",
        "  for event in train_df.user_history[i]:\n",
        "    if event['event_type'] == 'search':\n",
        "      print(event['event_info'], ft_model.predict(event['event_info'].title()))"
      ],
      "execution_count": null,
      "outputs": []
    },
    {
      "cell_type": "markdown",
      "metadata": {
        "id": "9H6_CGmRlqpv"
      },
      "source": [
        "#### Entrenamiento curvas ponderación Searchs"
      ]
    },
    {
      "cell_type": "markdown",
      "metadata": {
        "id": "JSGQfKCH1Hme"
      },
      "source": [
        "Precarga predict(train searches), random_state=4, por temas de tiempo (tarda aprox 2:30hs en predecir todo el train_dataset con 4.8M de searches). "
      ]
    },
    {
      "cell_type": "code",
      "metadata": {
        "colab": {
          "base_uri": "https://localhost:8080/"
        },
        "id": "Fuyy4ZTpRyhl",
        "outputId": "1ee61dab-fc01-4db7-f91e-3f5281624044"
      },
      "source": [
        "!gdown https://drive.google.com/u/1/uc?id=1LeHQUMjVAJWd6Gh069y8YbI9a-rJ6fg9&export=download"
      ],
      "execution_count": null,
      "outputs": [
        {
          "output_type": "stream",
          "name": "stdout",
          "text": [
            "Downloading...\n",
            "From: https://drive.google.com/u/1/uc?id=1LeHQUMjVAJWd6Gh069y8YbI9a-rJ6fg9\n",
            "To: /content/trees_dict.pkl\n",
            "\r0.00B [00:00, ?B/s]\r3.37MB [00:00, 107MB/s]\n"
          ]
        }
      ]
    },
    {
      "cell_type": "code",
      "metadata": {
        "colab": {
          "base_uri": "https://localhost:8080/"
        },
        "id": "kir6MIQ6RyAp",
        "outputId": "bf03b023-62d8-41ef-e3f4-800abe4a9ed6"
      },
      "source": [
        "!gdown https://drive.google.com/u/1/uc?id=18GhEyLh-DZLJbDnmuizjhH74bB1lZnwR&export=download"
      ],
      "execution_count": null,
      "outputs": [
        {
          "output_type": "stream",
          "name": "stdout",
          "text": [
            "Downloading...\n",
            "From: https://drive.google.com/u/1/uc?id=18GhEyLh-DZLJbDnmuizjhH74bB1lZnwR\n",
            "To: /content/test_searches_doms.txt\n",
            "\r0.00B [00:00, ?B/s]\r14.7MB [00:00, 146MB/s]\r23.9MB [00:00, 147MB/s]\n"
          ]
        }
      ]
    },
    {
      "cell_type": "code",
      "metadata": {
        "colab": {
          "base_uri": "https://localhost:8080/"
        },
        "id": "7O6hDcduRxc5",
        "outputId": "9bf5e6f7-ee27-46ab-fbd5-2bd691cfeaec"
      },
      "source": [
        "!gdown https://drive.google.com/u/1/uc?id=1-T5yhfTKS33nqVUw_U23tt5Ru7YhtmNC&export=download"
      ],
      "execution_count": null,
      "outputs": [
        {
          "output_type": "stream",
          "name": "stdout",
          "text": [
            "Downloading...\n",
            "From: https://drive.google.com/u/1/uc?id=1-T5yhfTKS33nqVUw_U23tt5Ru7YhtmNC\n",
            "To: /content/train_searches_doms.txt\n",
            "95.1MB [00:00, 109MB/s]\n"
          ]
        }
      ]
    },
    {
      "cell_type": "code",
      "metadata": {
        "id": "x4Zk-rIH1aj3"
      },
      "source": [
        "with open('/content/train_searches_doms.txt') as f:\n",
        "    train_searches_doms = f.read().splitlines()"
      ],
      "execution_count": null,
      "outputs": []
    },
    {
      "cell_type": "code",
      "metadata": {
        "id": "yolPqranX1ic"
      },
      "source": [
        "with open('/content/test_searches_doms.txt') as f:\n",
        "    test_searches_doms = f.read().splitlines()"
      ],
      "execution_count": null,
      "outputs": []
    },
    {
      "cell_type": "code",
      "metadata": {
        "id": "7UJg6JpMSQN9"
      },
      "source": [
        ""
      ],
      "execution_count": null,
      "outputs": []
    },
    {
      "cell_type": "code",
      "metadata": {
        "colab": {
          "base_uri": "https://localhost:8080/",
          "height": 35
        },
        "id": "ld2pSI7CnAkg",
        "outputId": "9e2a1606-1f5f-43f3-bfa8-c7d1252009d8"
      },
      "source": [
        "ft_model.predict('cuaderno dibujo')[0][0][9:].title()"
      ],
      "execution_count": null,
      "outputs": [
        {
          "output_type": "execute_result",
          "data": {
            "application/vnd.google.colaboratory.intrinsic+json": {
              "type": "string"
            },
            "text/plain": [
              "'Mlb-Unclassified_Products'"
            ]
          },
          "metadata": {},
          "execution_count": 22
        }
      ]
    },
    {
      "cell_type": "code",
      "metadata": {
        "id": "-5RnW0k_lWzu"
      },
      "source": [
        "#De momento no miramos las stopwords, debido a que el modelo se entrenó sin stopwords en minúsculas, pero la mayoría de las palabras estaban en mayúsculas...\n",
        "# import nltk\n",
        "# from nltk.corpus import stopwords\n",
        "# nltk.download('stopwords')\n",
        "# stopwords_sp_po = stopwords.words(\"portuguese\")  + stopwords.words(\"spanish\") \n",
        "deltas_list = []\n",
        "bdom_list = []\n",
        "for row in train_df.itertuples():\n",
        "  bdom = item_domain_dict[row.item_bought]\n",
        "  most_recent_time = datetime.strptime(row.user_history[-1]['event_timestamp'], '%Y-%m-%dT%H:%M:%S.%f%z')\n",
        "  for event in row.user_history:\n",
        "    if event['event_type'] == 'search':\n",
        "        deltas_list.append(most_recent_time - datetime.strptime(event['event_timestamp'], '%Y-%m-%dT%H:%M:%S.%f%z'))\n",
        "        # clean_string = ' '.join([word.capitalize() for word in event['event_info'].split(' ') if word not in stopwords_sp_po]).replace(',','').replace('.','').replace('\\n','')\n",
        "        clean_string = event['event_info'].replace(',','').replace('.','').replace('\\n','').title()\n",
        "        bdom_list.append(int(ft_model.predict(clean_string)[0][0][9:] == bdom))\n",
        "delta_hours_list = [delta.total_seconds()/60/60 for delta in deltas_list]"
      ],
      "execution_count": null,
      "outputs": []
    },
    {
      "cell_type": "code",
      "metadata": {
        "id": "eYOem2Z-lZrB"
      },
      "source": [
        "delta_bdom_df = pd.DataFrame({'deltas':delta_hours_list, 'bdom':bdom_list})"
      ],
      "execution_count": null,
      "outputs": []
    },
    {
      "cell_type": "code",
      "metadata": {
        "id": "yEZBwHX7lb--",
        "colab": {
          "base_uri": "https://localhost:8080/"
        },
        "outputId": "5a2bb28d-1a46-48a3-c5ca-82b3511d2d34"
      },
      "source": [
        "delta_zero_prob = delta_bdom_df[delta_bdom_df.deltas == 0].bdom.mean()\n",
        "delta_zero_prob"
      ],
      "execution_count": null,
      "outputs": [
        {
          "output_type": "execute_result",
          "data": {
            "text/plain": [
              "0.18291818273898106"
            ]
          },
          "metadata": {},
          "execution_count": 26
        }
      ]
    },
    {
      "cell_type": "code",
      "metadata": {
        "id": "DcSAT297leeQ"
      },
      "source": [
        "salto = np.linspace(0,150,15001)[1] - np.linspace(0,150,15001)[0]\n",
        "bdom_means = [delta_zero_prob]\n",
        "for hs in np.linspace(0,150,15001):\n",
        "  bdom_means.append(delta_bdom_df[(delta_bdom_df.deltas>hs)&(delta_bdom_df.deltas<=(hs+salto))].bdom.mean())"
      ],
      "execution_count": null,
      "outputs": []
    },
    {
      "cell_type": "code",
      "metadata": {
        "id": "C-pGmh9ilhAu",
        "colab": {
          "base_uri": "https://localhost:8080/"
        },
        "outputId": "ac8517e4-b5d9-441d-e543-746ec0ad3271"
      },
      "source": [
        "from scipy.optimize import curve_fit\n",
        "# define the true objective function\n",
        "#-2.231726 + (0.1984595 - -2.231726)/(1 + (hours/12332420000.000002)**0.1389521)\n",
        "def objective(x, a, b, c, d):\n",
        "\treturn -a  + (delta_zero_prob - -b)/(1+(x/c)**d)\n",
        "#Se agrega peso al primer punto, para asegurar que la curva pase por el mismo\n",
        "y_weight = np.empty(len(bdom_means))\n",
        "y_weight.fill(10)\n",
        "# y_weight[0] = 0.001      \tSE QUITA EL MAYOR PESO DEL PRIMER PUNTO (DELTA=0), PORQUE ESTAMOS TRABAJANDO CON DOMAIN Y CON SEARCH, QUE NO TIENE TANTA DEPENDENCIA LO ULTIMISIMO QUE BUSQUE CON LO QUE COMPRÉ\n",
        "# curve fit\t\t\t\t\t\t\t\t\tSI LE PONEMOS WEIGHT AL PRIMER PUNTO, LA CURVA QUE QUEDA NO ACOMPAÑA LOS PUNTOS GRAFICADOS\n",
        "popt, _ = curve_fit(objective, np.linspace(0,150.01,15002), bdom_means, sigma=y_weight, absolute_sigma=True)\n",
        "# summarize the parameter values\n",
        "a, b, c, d = popt\n",
        "a, b, c, d"
      ],
      "execution_count": null,
      "outputs": [
        {
          "output_type": "execute_result",
          "data": {
            "text/plain": [
              "(-0.07681675578181439,\n",
              " 0.011361452124463566,\n",
              " 31.016236279981843,\n",
              " 1.3218751870258658)"
            ]
          },
          "metadata": {},
          "execution_count": 35
        }
      ]
    },
    {
      "cell_type": "code",
      "metadata": {
        "colab": {
          "base_uri": "https://localhost:8080/"
        },
        "id": "LkRfpo2LNi2h",
        "outputId": "0dee4f3e-a78f-49a7-cca8-de9b691508d7"
      },
      "source": [
        "objective(0,a,b,c,d)"
      ],
      "execution_count": null,
      "outputs": [
        {
          "output_type": "execute_result",
          "data": {
            "text/plain": [
              "0.27109639064525903"
            ]
          },
          "metadata": {},
          "execution_count": 37
        }
      ]
    },
    {
      "cell_type": "code",
      "metadata": {
        "id": "g9XNux2LK2c9"
      },
      "source": [
        "#a = -0.07681675578181439\n",
        "# b = 0.011361452124463566\n",
        "# c = 31.016236279981843\n",
        "# d = 1.3218751870258658"
      ],
      "execution_count": null,
      "outputs": []
    },
    {
      "cell_type": "code",
      "metadata": {
        "id": "dbcSlk6lllA-",
        "colab": {
          "base_uri": "https://localhost:8080/",
          "height": 265
        },
        "outputId": "ca0615f3-c168-4fcf-b9c7-ea94f097113a"
      },
      "source": [
        "# define a sequence of inputs between the smallest and largest known inputs\n",
        "x_line = np.arange(0, max(delta_hours_list), 0.01)\n",
        "# calculate the output for the range\n",
        "y_line = objective(x_line, a, b, c, d)\n",
        "# create a line plot for the mapping function\n",
        "plt.scatter(np.linspace(0,150.01,15002), bdom_means)\n",
        "plt.plot(x_line, y_line, '--', color='red')\n",
        "plt.show()"
      ],
      "execution_count": null,
      "outputs": [
        {
          "output_type": "display_data",
          "data": {
            "image/png": "[encoded data removed]",
            "text/plain": [
              "<Figure size 432x288 with 1 Axes>"
            ]
          },
          "metadata": {
            "needs_background": "light"
          }
        }
      ]
    },
    {
      "cell_type": "code",
      "metadata": {
        "id": "9eULJ_RLNWWC"
      },
      "source": [
        "#Formula para ponderar la importancia de una SEARCH segun pasan las horas\n",
        "def search_time_weighing(hours):\n",
        "  a = -0.07681675578181439\n",
        "  b = 0.011361452124463566  \n",
        "  c = 31.016236279981843\n",
        "  d = 1.3218751870258658\n",
        "  delta_zero_prob = 0.18291818273898106\n",
        "  if hours < 0.001:\n",
        "    return 1\n",
        "  #fitted curve de la probabilidad de que la vista sea del bitem, dependiendo de la antiguedad en horas de la vista\n",
        "  #Esta curva se calculó con una mezcla de python + otro soft online. Al final de esta notebook, en el\n",
        "  #modelo 4, se muestra el método de cálculo 100% dentro de python, que arroja el mismo resultado\n",
        "  search_bdom_prob = -a  + (delta_zero_prob - -b)/(1+(hours/c)**d)\n",
        "  # search_bdom_prob = -2.231726 + (0.1984595 - -2.231726)/(1 + (hours/12332420000.000002)**0.1389521)  \n",
        "  weight = search_bdom_prob / 0.27109639064525903  #el número es la funcion evaluada en hours=0\n",
        "  return weight"
      ],
      "execution_count": null,
      "outputs": []
    },
    {
      "cell_type": "code",
      "metadata": {
        "id": "OShBjQrZzaJA"
      },
      "source": [
        "bdom_searches_weights = []\n",
        "bdoms_searched = []\n",
        "# train_searches_doms = []  SIN PRECARGA\n",
        "progress = 0\n",
        "i = 0                      #CON PRECARGA\n",
        "for row in train_df.itertuples():\n",
        "  if progress % 10000 == 0:\n",
        "    print(progress)\n",
        "  progress +=1\n",
        "  \n",
        "  weight = 0\n",
        "  bdom = item_domain_dict[row.item_bought]\n",
        "\n",
        "  most_recent_time = datetime.strptime(row.user_history[-1]['event_timestamp'], '%Y-%m-%dT%H:%M:%S.%f%z')\n",
        "  for event in row.user_history:\n",
        "    if event['event_type'] == 'search':\n",
        "      # clean_string = event['event_info'].replace(',','').replace('.','').replace('\\n','').title()     SIN PRECARGA\n",
        "      # event_dom = ft_model.predict(clean_string)[0][0][9:]                                            SIN PRECARGA\n",
        "      # train_searches_doms.append(event_dom)                                                           SIN PRECARGA\n",
        "      event_dom = train_searches_doms[i]                                                               #CON PRECARGA\n",
        "      i+=1\n",
        "    if event_dom == bdom:\n",
        "      weight += search_time_weighing((most_recent_time - datetime.strptime(event['event_timestamp'], '%Y-%m-%dT%H:%M:%S.%f%z')).total_seconds()/60/60)\n",
        "        \n",
        "  bdoms_searched.append(bdom)\n",
        "  bdom_searches_weights.append(weight)"
      ],
      "execution_count": null,
      "outputs": []
    },
    {
      "cell_type": "code",
      "metadata": {
        "id": "4bWTOc8Y-8UV"
      },
      "source": [
        "#PARA ARMAR PRECARGA\n",
        "\n",
        "# with open('train_searches_doms.txt', 'w') as f:\n",
        "#     for item in train_searches_doms:\n",
        "#         f.write(\"%s\\n\" % item)"
      ],
      "execution_count": null,
      "outputs": []
    },
    {
      "cell_type": "code",
      "metadata": {
        "id": "jdFCMVaM01XE",
        "colab": {
          "base_uri": "https://localhost:8080/",
          "height": 138
        },
        "outputId": "01038f19-46b0-4643-ba2c-73401c334d35"
      },
      "source": [
        "bdom_searches_weights_df = pd.DataFrame({'bdoms':bdoms_searched, 'bdom_searches_weights':bdom_searches_weights})\n",
        "bdom_searches_weights_df.head(3)"
      ],
      "execution_count": null,
      "outputs": [
        {
          "output_type": "execute_result",
          "data": {
            "text/html": [
              "<div>\n",
              "<style scoped>\n",
              "    .dataframe tbody tr th:only-of-type {\n",
              "        vertical-align: middle;\n",
              "    }\n",
              "\n",
              "    .dataframe tbody tr th {\n",
              "        vertical-align: top;\n",
              "    }\n",
              "\n",
              "    .dataframe thead th {\n",
              "        text-align: right;\n",
              "    }\n",
              "</style>\n",
              "<table border=\"1\" class=\"dataframe\">\n",
              "  <thead>\n",
              "    <tr style=\"text-align: right;\">\n",
              "      <th></th>\n",
              "      <th>bdoms</th>\n",
              "      <th>bdom_searches_weights</th>\n",
              "    </tr>\n",
              "  </thead>\n",
              "  <tbody>\n",
              "    <tr>\n",
              "      <th>0</th>\n",
              "      <td>MLB-SPEAKERS</td>\n",
              "      <td>0.0</td>\n",
              "    </tr>\n",
              "    <tr>\n",
              "      <th>1</th>\n",
              "      <td>MLB-COMPUTER_EQUIPMENT_AND_SPARE_PARTS</td>\n",
              "      <td>0.0</td>\n",
              "    </tr>\n",
              "    <tr>\n",
              "      <th>2</th>\n",
              "      <td>MLB-GARDENING_AND_AGRICULTURE_SEEDS</td>\n",
              "      <td>0.0</td>\n",
              "    </tr>\n",
              "  </tbody>\n",
              "</table>\n",
              "</div>"
            ],
            "text/plain": [
              "                                    bdoms  bdom_searches_weights\n",
              "0                            MLB-SPEAKERS                    0.0\n",
              "1  MLB-COMPUTER_EQUIPMENT_AND_SPARE_PARTS                    0.0\n",
              "2     MLB-GARDENING_AND_AGRICULTURE_SEEDS                    0.0"
            ]
          },
          "metadata": {},
          "execution_count": 20
        }
      ]
    },
    {
      "cell_type": "code",
      "metadata": {
        "colab": {
          "base_uri": "https://localhost:8080/",
          "height": 290
        },
        "id": "cq9_Oij_3cHl",
        "outputId": "f1d57bb3-d821-420c-90cd-cb3324ef944a"
      },
      "source": [
        "#Distribución de los cuantiles de weights de searches del dominio, según dominio\n",
        "bdom_searches_weights_df[bdom_searches_weights_df.bdom_searches_weights > 0].groupby('bdoms').quantile(q=0.5).describe()"
      ],
      "execution_count": null,
      "outputs": [
        {
          "output_type": "execute_result",
          "data": {
            "text/html": [
              "<div>\n",
              "<style scoped>\n",
              "    .dataframe tbody tr th:only-of-type {\n",
              "        vertical-align: middle;\n",
              "    }\n",
              "\n",
              "    .dataframe tbody tr th {\n",
              "        vertical-align: top;\n",
              "    }\n",
              "\n",
              "    .dataframe thead th {\n",
              "        text-align: right;\n",
              "    }\n",
              "</style>\n",
              "<table border=\"1\" class=\"dataframe\">\n",
              "  <thead>\n",
              "    <tr style=\"text-align: right;\">\n",
              "      <th></th>\n",
              "      <th>bdom_searches_weights</th>\n",
              "    </tr>\n",
              "  </thead>\n",
              "  <tbody>\n",
              "    <tr>\n",
              "      <th>count</th>\n",
              "      <td>2064.000000</td>\n",
              "    </tr>\n",
              "    <tr>\n",
              "      <th>mean</th>\n",
              "      <td>9.792610</td>\n",
              "    </tr>\n",
              "    <tr>\n",
              "      <th>std</th>\n",
              "      <td>7.922221</td>\n",
              "    </tr>\n",
              "    <tr>\n",
              "      <th>min</th>\n",
              "      <td>0.567940</td>\n",
              "    </tr>\n",
              "    <tr>\n",
              "      <th>25%</th>\n",
              "      <td>5.508426</td>\n",
              "    </tr>\n",
              "    <tr>\n",
              "      <th>50%</th>\n",
              "      <td>8.345769</td>\n",
              "    </tr>\n",
              "    <tr>\n",
              "      <th>75%</th>\n",
              "      <td>11.678062</td>\n",
              "    </tr>\n",
              "    <tr>\n",
              "      <th>max</th>\n",
              "      <td>198.020156</td>\n",
              "    </tr>\n",
              "  </tbody>\n",
              "</table>\n",
              "</div>"
            ],
            "text/plain": [
              "       bdom_searches_weights\n",
              "count            2064.000000\n",
              "mean                9.792610\n",
              "std                 7.922221\n",
              "min                 0.567940\n",
              "25%                 5.508426\n",
              "50%                 8.345769\n",
              "75%                11.678062\n",
              "max               198.020156"
            ]
          },
          "metadata": {},
          "execution_count": 23
        }
      ]
    },
    {
      "cell_type": "code",
      "metadata": {
        "id": "UJnU471x3I6f"
      },
      "source": [
        "#Lo convertimos en un DICT\n",
        "bdom_searches_weights_50q_dict = bdom_searches_weights_df[bdom_searches_weights_df.bdom_searches_weights > 0].groupby('bdoms').quantile(q=0.5).bdom_searches_weights.to_dict()"
      ],
      "execution_count": null,
      "outputs": []
    },
    {
      "cell_type": "markdown",
      "metadata": {
        "id": "K-XcWhXhVJ8o"
      },
      "source": [
        "####Análisis influencia searches -> bdom"
      ]
    },
    {
      "cell_type": "code",
      "metadata": {
        "id": "RQKVF3xUVQZt"
      },
      "source": [
        "bdoms = []\n",
        "searches = []\n",
        "views = []\n",
        "# s_div_v = []\n",
        "i=0\n",
        "for row in train_df.itertuples():\n",
        "  bdom = item_domain_dict[row.item_bought]\n",
        "  view_dom_count = {}\n",
        "  search_dom_count = {}\n",
        "  for event in row.user_history:\n",
        "    if event['event_type'] == 'view':\n",
        "      item_dom = item_domain_dict[event['event_info']]\n",
        "      if item_dom:\n",
        "        view_dom_count[item_dom] = view_dom_count.get(item_dom,0) + 1\n",
        "    else:\n",
        "      item_dom = train_searches_doms[i]\n",
        "      i += 1\n",
        "      search_dom_count[item_dom] = search_dom_count.get(item_dom,0) + 1\n",
        "  for dom in set(list(view_dom_count.keys()) + list(search_dom_count.keys())):\n",
        "    bdoms.append(dom==bdom)\n",
        "    searches.append(search_dom_count.get(dom,0))\n",
        "    views.append(view_dom_count.get(dom,0))\n"
      ],
      "execution_count": null,
      "outputs": []
    },
    {
      "cell_type": "code",
      "metadata": {
        "colab": {
          "base_uri": "https://localhost:8080/",
          "height": 138
        },
        "id": "TuQVNFbhYG4L",
        "outputId": "956a38cb-1ea4-47a2-d8a6-20e9dc38ab5e"
      },
      "source": [
        "searches_analysys_df = pd.DataFrame({'searches':searches, 'views':views, 'bdoms':bdoms})\n",
        "searches_analysys_df.head(3)"
      ],
      "execution_count": null,
      "outputs": [
        {
          "output_type": "execute_result",
          "data": {
            "text/html": [
              "<div>\n",
              "<style scoped>\n",
              "    .dataframe tbody tr th:only-of-type {\n",
              "        vertical-align: middle;\n",
              "    }\n",
              "\n",
              "    .dataframe tbody tr th {\n",
              "        vertical-align: top;\n",
              "    }\n",
              "\n",
              "    .dataframe thead th {\n",
              "        text-align: right;\n",
              "    }\n",
              "</style>\n",
              "<table border=\"1\" class=\"dataframe\">\n",
              "  <thead>\n",
              "    <tr style=\"text-align: right;\">\n",
              "      <th></th>\n",
              "      <th>searches</th>\n",
              "      <th>views</th>\n",
              "      <th>bdoms</th>\n",
              "    </tr>\n",
              "  </thead>\n",
              "  <tbody>\n",
              "    <tr>\n",
              "      <th>0</th>\n",
              "      <td>0</td>\n",
              "      <td>3</td>\n",
              "      <td>False</td>\n",
              "    </tr>\n",
              "    <tr>\n",
              "      <th>1</th>\n",
              "      <td>5</td>\n",
              "      <td>1</td>\n",
              "      <td>False</td>\n",
              "    </tr>\n",
              "    <tr>\n",
              "      <th>2</th>\n",
              "      <td>0</td>\n",
              "      <td>2</td>\n",
              "      <td>False</td>\n",
              "    </tr>\n",
              "  </tbody>\n",
              "</table>\n",
              "</div>"
            ],
            "text/plain": [
              "   searches  views  bdoms\n",
              "0         0      3  False\n",
              "1         5      1  False\n",
              "2         0      2  False"
            ]
          },
          "metadata": {},
          "execution_count": 134
        }
      ]
    },
    {
      "cell_type": "code",
      "metadata": {
        "id": "AtKTEWosYXLo"
      },
      "source": [
        "searches_analysys_df['s_over_v'] = searches_analysys_df.searches / searches_analysys_df.views"
      ],
      "execution_count": null,
      "outputs": []
    },
    {
      "cell_type": "code",
      "metadata": {
        "colab": {
          "base_uri": "https://localhost:8080/",
          "height": 390
        },
        "id": "KCbBgEmzaJw-",
        "outputId": "6528585f-8d71-4759-ea37-3b720ad83816"
      },
      "source": [
        "fig, ax = plt.subplots(figsize=(12,6))\n",
        "sns.lineplot(x=[(a.left + a.right)/2 for a in pd.cut(searches_analysys_df[searches_analysys_df.s_over_v < 10].s_over_v,50)], y=searches_analysys_df[searches_analysys_df.s_over_v < 10].bdoms, ax=ax)"
      ],
      "execution_count": null,
      "outputs": [
        {
          "output_type": "execute_result",
          "data": {
            "text/plain": [
              "<matplotlib.axes._subplots.AxesSubplot at 0x7f06a60e27d0>"
            ]
          },
          "metadata": {},
          "execution_count": 148
        },
        {
          "output_type": "display_data",
          "data": {
            "image/png": "[encoded data removed]",
            "text/plain": [
              "<Figure size 864x432 with 1 Axes>"
            ]
          },
          "metadata": {
            "needs_background": "light"
          }
        }
      ]
    },
    {
      "cell_type": "markdown",
      "metadata": {
        "id": "4ZdZkp50cQNc"
      },
      "source": [
        "Conforme aumenta la relación SEARCHES de un DOM / VIEWS de un DOM, disminuye la chance de que se compre algo de ese DOM.\n",
        "Esto tiene sentido: Si uno busca muchas veces algo, y no entra a ver los items, es porque no está encontrando lo que busca, o porque no está interesado en comprar sino en ver qué existe en el mercado."
      ]
    },
    {
      "cell_type": "code",
      "metadata": {
        "id": "iMZfcB-ado_k"
      },
      "source": [
        "bdoms = []\n",
        "searches = []\n",
        "views = []\n",
        "# s_div_v = []\n",
        "i=0\n",
        "for row in train_df.itertuples():\n",
        "  bdom = item_domain_dict[row.item_bought]\n",
        "  view_dom_weight = {}\n",
        "  search_dom_weight = {}\n",
        "  most_recent_time = datetime.strptime(row.user_history[-1]['event_timestamp'], '%Y-%m-%dT%H:%M:%S.%f%z')\n",
        "  for event in row.user_history:\n",
        "    delta = most_recent_time - datetime.strptime(event['event_timestamp'], '%Y-%m-%dT%H:%M:%S.%f%z')\n",
        "    if event['event_type'] == 'view':\n",
        "      item_dom = item_domain_dict[event['event_info']]\n",
        "      if item_dom:\n",
        "        view_dom_weight[item_dom] = view_dom_weight.get(item_dom,0) + dom_view_time_weighing(delta.total_seconds()/3600)\n",
        "    else:\n",
        "      item_dom = train_searches_doms[i]\n",
        "      i += 1\n",
        "      search_dom_weight[item_dom] = search_dom_weight.get(item_dom,0) + search_time_weighing(delta.total_seconds()/3600)\n",
        "  for dom in set(list(view_dom_weight.keys()) + list(search_dom_weight.keys())):\n",
        "    bdoms.append(dom==bdom)\n",
        "    searches.append(search_dom_weight.get(dom,0))\n",
        "    views.append(view_dom_weight.get(dom,0))"
      ],
      "execution_count": null,
      "outputs": []
    },
    {
      "cell_type": "code",
      "metadata": {
        "colab": {
          "base_uri": "https://localhost:8080/",
          "height": 138
        },
        "id": "Vse-POu9ern-",
        "outputId": "8daceb55-58fe-4825-e8cb-ff153c0dee9a"
      },
      "source": [
        "searches_analysys2_df = pd.DataFrame({'searches':searches, 'views':views, 'bdoms':bdoms})\n",
        "searches_analysys2_df.head(3)"
      ],
      "execution_count": null,
      "outputs": [
        {
          "output_type": "execute_result",
          "data": {
            "text/html": [
              "<div>\n",
              "<style scoped>\n",
              "    .dataframe tbody tr th:only-of-type {\n",
              "        vertical-align: middle;\n",
              "    }\n",
              "\n",
              "    .dataframe tbody tr th {\n",
              "        vertical-align: top;\n",
              "    }\n",
              "\n",
              "    .dataframe thead th {\n",
              "        text-align: right;\n",
              "    }\n",
              "</style>\n",
              "<table border=\"1\" class=\"dataframe\">\n",
              "  <thead>\n",
              "    <tr style=\"text-align: right;\">\n",
              "      <th></th>\n",
              "      <th>searches</th>\n",
              "      <th>views</th>\n",
              "      <th>bdoms</th>\n",
              "    </tr>\n",
              "  </thead>\n",
              "  <tbody>\n",
              "    <tr>\n",
              "      <th>0</th>\n",
              "      <td>14.760092</td>\n",
              "      <td>5.259678</td>\n",
              "      <td>False</td>\n",
              "    </tr>\n",
              "    <tr>\n",
              "      <th>1</th>\n",
              "      <td>0.000000</td>\n",
              "      <td>0.397691</td>\n",
              "      <td>False</td>\n",
              "    </tr>\n",
              "    <tr>\n",
              "      <th>2</th>\n",
              "      <td>7.026353</td>\n",
              "      <td>0.000000</td>\n",
              "      <td>False</td>\n",
              "    </tr>\n",
              "  </tbody>\n",
              "</table>\n",
              "</div>"
            ],
            "text/plain": [
              "    searches     views  bdoms\n",
              "0  14.760092  5.259678  False\n",
              "1   0.000000  0.397691  False\n",
              "2   7.026353  0.000000  False"
            ]
          },
          "metadata": {},
          "execution_count": 36
        }
      ]
    },
    {
      "cell_type": "code",
      "metadata": {
        "id": "pRGZAylie4-n"
      },
      "source": [
        "searches_analysys2_df['s_over_v'] = searches_analysys2_df.searches / searches_analysys2_df.views"
      ],
      "execution_count": null,
      "outputs": []
    },
    {
      "cell_type": "code",
      "metadata": {
        "colab": {
          "base_uri": "https://localhost:8080/",
          "height": 390
        },
        "id": "c2pK6ZXhgGrd",
        "outputId": "cc8086c1-b873-4031-ce25-b47e3c52660a"
      },
      "source": [
        "#Weighed searches/views:\n",
        "\n",
        "fig, ax = plt.subplots(figsize=(12,6))\n",
        "cuts=500\n",
        "max = 10\n",
        "sns.lineplot(x=[(a.left + a.right)/2 for a in pd.cut(searches_analysys2_df[searches_analysys2_df.s_over_v < max].s_over_v,cuts)], y=searches_analysys2_df[searches_analysys2_df.s_over_v < max].bdoms, ax=ax)"
      ],
      "execution_count": null,
      "outputs": [
        {
          "output_type": "execute_result",
          "data": {
            "text/plain": [
              "<matplotlib.axes._subplots.AxesSubplot at 0x7f06a5e9ad10>"
            ]
          },
          "metadata": {},
          "execution_count": 156
        },
        {
          "output_type": "display_data",
          "data": {
            "image/png": "[encoded data removed]",
            "text/plain": [
              "<Figure size 864x432 with 1 Axes>"
            ]
          },
          "metadata": {
            "needs_background": "light"
          }
        }
      ]
    },
    {
      "cell_type": "code",
      "metadata": {
        "colab": {
          "base_uri": "https://localhost:8080/"
        },
        "id": "t3PGH6ODf1kc",
        "outputId": "8d99407c-30dc-4e17-8e50-2edd5d365a05"
      },
      "source": [
        "searches_analysys2_df[searches_analysys2_df.s_over_v > 0].bdoms.mean()"
      ],
      "execution_count": null,
      "outputs": [
        {
          "output_type": "execute_result",
          "data": {
            "text/plain": [
              "0.10523304903711492"
            ]
          },
          "metadata": {},
          "execution_count": 158
        }
      ]
    },
    {
      "cell_type": "code",
      "metadata": {
        "colab": {
          "base_uri": "https://localhost:8080/"
        },
        "id": "V5kEIio6hoTS",
        "outputId": "eb1745ba-894c-4577-ddc3-bbc50d6fab08"
      },
      "source": [
        "len(searches_analysys2_df[searches_analysys2_df.s_over_v == 0]), len(searches_analysys2_df[searches_analysys2_df.s_over_v > 0])"
      ],
      "execution_count": null,
      "outputs": [
        {
          "output_type": "execute_result",
          "data": {
            "text/plain": [
              "(690477, 843899)"
            ]
          },
          "metadata": {},
          "execution_count": 160
        }
      ]
    },
    {
      "cell_type": "code",
      "metadata": {
        "colab": {
          "base_uri": "https://localhost:8080/",
          "height": 390
        },
        "id": "n7jbqLjxh9mv",
        "outputId": "447ace8d-d9c2-4e1d-c49f-222b52437c16"
      },
      "source": [
        "#Weighed searches:\n",
        "\n",
        "fig, ax = plt.subplots(figsize=(12,6))\n",
        "cuts=500\n",
        "max = 10\n",
        "sns.lineplot(x=[(a.left + a.right)/2 for a in pd.cut(searches_analysys2_df[searches_analysys2_df.searches < max].searches,cuts)], y=searches_analysys2_df[searches_analysys2_df.searches < max].bdoms, ax=ax)"
      ],
      "execution_count": null,
      "outputs": [
        {
          "output_type": "execute_result",
          "data": {
            "text/plain": [
              "<matplotlib.axes._subplots.AxesSubplot at 0x7f06a5dfba90>"
            ]
          },
          "metadata": {},
          "execution_count": 162
        },
        {
          "output_type": "display_data",
          "data": {
            "image/png": "[encoded data removed]",
            "text/plain": [
              "<Figure size 864x432 with 1 Axes>"
            ]
          },
          "metadata": {
            "needs_background": "light"
          }
        }
      ]
    },
    {
      "cell_type": "code",
      "metadata": {
        "colab": {
          "base_uri": "https://localhost:8080/",
          "height": 390
        },
        "id": "cIivJDs4iY19",
        "outputId": "7b7d5c34-13c8-4767-abe5-010632a4662d"
      },
      "source": [
        "#Weighed views:\n",
        "\n",
        "fig, ax = plt.subplots(figsize=(12,6))\n",
        "cuts=500\n",
        "max = 10\n",
        "sns.lineplot(x=[(a.left + a.right)/2 for a in pd.cut(searches_analysys2_df[searches_analysys2_df.views < max].views,cuts)], y=searches_analysys2_df[searches_analysys2_df.views < max].bdoms, ax=ax)"
      ],
      "execution_count": null,
      "outputs": [
        {
          "output_type": "execute_result",
          "data": {
            "text/plain": [
              "<matplotlib.axes._subplots.AxesSubplot at 0x7f06a5e60c10>"
            ]
          },
          "metadata": {},
          "execution_count": 163
        },
        {
          "output_type": "display_data",
          "data": {
            "image/png": "[encoded data removed]",
            "text/plain": [
              "<Figure size 864x432 with 1 Axes>"
            ]
          },
          "metadata": {
            "needs_background": "light"
          }
        }
      ]
    },
    {
      "cell_type": "markdown",
      "metadata": {
        "id": "NBHCjPjuyQlU"
      },
      "source": [
        "####Creación Modelo para ver impacto de searches"
      ]
    },
    {
      "cell_type": "code",
      "metadata": {
        "id": "xTzaqf3ul2cf"
      },
      "source": [
        "import numpy as np\n",
        "from sklearn.pipeline import make_pipeline\n",
        "from sklearn.preprocessing import RobustScaler\n",
        "X = searches_analysys2_df[searches_analysys2_df.views>0][['searches','views','s_over_v']]\n",
        "y = searches_analysys2_df[searches_analysys2_df.views>0].bdoms\n",
        "# from sklearn.svm import SVC\n",
        "# clf = make_pipeline(RobustScaler(), SVC())\n",
        "# clf.fit(X, y)\n"
      ],
      "execution_count": null,
      "outputs": []
    },
    {
      "cell_type": "code",
      "metadata": {
        "colab": {
          "base_uri": "https://localhost:8080/"
        },
        "id": "5J5fMPhUuvKG",
        "outputId": "d3fa80f9-0ef1-430e-98c9-4b177cd79a8d"
      },
      "source": [
        "from sklearn.tree import DecisionTreeClassifier\n",
        "tree =  DecisionTreeClassifier(min_samples_split=10000, random_state=4)\n",
        "tree.fit(X,y)"
      ],
      "execution_count": null,
      "outputs": [
        {
          "output_type": "execute_result",
          "data": {
            "text/plain": [
              "DecisionTreeClassifier(ccp_alpha=0.0, class_weight=None, criterion='gini',\n",
              "                       max_depth=None, max_features=None, max_leaf_nodes=None,\n",
              "                       min_impurity_decrease=0.0, min_impurity_split=None,\n",
              "                       min_samples_leaf=1, min_samples_split=10000,\n",
              "                       min_weight_fraction_leaf=0.0, presort='deprecated',\n",
              "                       random_state=4, splitter='best')"
            ]
          },
          "metadata": {},
          "execution_count": 40
        }
      ]
    },
    {
      "cell_type": "code",
      "metadata": {
        "colab": {
          "base_uri": "https://localhost:8080/"
        },
        "id": "R2yyDTLVno_c",
        "outputId": "f46e90a0-0e37-472c-f58b-49bce10b9eb8"
      },
      "source": [
        "from sklearn.metrics import accuracy_score\n",
        "accuracy_score(searches_analysys2_df[searches_analysys2_df.views>0].bdoms, tree.predict(searches_analysys2_df[searches_analysys2_df.views>0][['searches','views','s_over_v']]))"
      ],
      "execution_count": null,
      "outputs": [
        {
          "output_type": "execute_result",
          "data": {
            "text/plain": [
              "0.8535897994562489"
            ]
          },
          "metadata": {},
          "execution_count": 41
        }
      ]
    },
    {
      "cell_type": "code",
      "metadata": {
        "colab": {
          "base_uri": "https://localhost:8080/"
        },
        "id": "GSCWQ-thruuB",
        "outputId": "6d985900-eaf8-4c9c-ec2f-02789b31b93b"
      },
      "source": [
        "from joblib import dump, load\n",
        "dump(tree, 'search_views_tree_classifier.joblib') "
      ],
      "execution_count": null,
      "outputs": [
        {
          "output_type": "execute_result",
          "data": {
            "text/plain": [
              "['search_views_tree_classifier.joblib']"
            ]
          },
          "metadata": {},
          "execution_count": 43
        }
      ]
    },
    {
      "cell_type": "markdown",
      "metadata": {
        "id": "GZm4wa1YOk4W"
      },
      "source": [
        "#### Curvas ponderación bdom_views según domain:"
      ]
    },
    {
      "cell_type": "code",
      "metadata": {
        "id": "4M0zUkg7SHKU"
      },
      "source": [
        "deltas_list_doms = []\n",
        "bdom_views_list = []\n",
        "for row in train_df.itertuples():\n",
        "  bdom = item_domain_dict[row.item_bought]\n",
        "  most_recent_time = datetime.strptime(row.user_history[-1]['event_timestamp'], '%Y-%m-%dT%H:%M:%S.%f%z')\n",
        "  for event in row.user_history:\n",
        "    if event['event_type'] == 'view':\n",
        "        deltas_list_doms.append(most_recent_time - datetime.strptime(event['event_timestamp'], '%Y-%m-%dT%H:%M:%S.%f%z'))\n",
        "        # clean_string = ' '.join([word.capitalize() for word in event['event_info'].split(' ') if word not in stopwords_sp_po]).replace(',','').replace('.','').replace('\\n','')\n",
        "        # clean_string = event['event_info'].replace(',','').replace('.','').replace('\\n','').title()\n",
        "        bdom_views_list.append(int(item_domain_dict[event['event_info']] == bdom))\n",
        "delta_hours_list_doms = [delta.total_seconds()/60/60 for delta in deltas_list_doms]"
      ],
      "execution_count": null,
      "outputs": []
    },
    {
      "cell_type": "code",
      "metadata": {
        "id": "e-jGA3HYSit5"
      },
      "source": [
        "delta_bdom_views_df = pd.DataFrame({'deltas':delta_hours_list_doms, 'bdom':bdom_views_list})"
      ],
      "execution_count": null,
      "outputs": []
    },
    {
      "cell_type": "code",
      "metadata": {
        "colab": {
          "base_uri": "https://localhost:8080/"
        },
        "id": "caX2p-ZjSrvQ",
        "outputId": "29384993-d880-40c6-bee7-e4e2db8243c5"
      },
      "source": [
        "delta_zero_prob = delta_bdom_views_df[delta_bdom_views_df.deltas == 0].bdom.mean()\n",
        "delta_zero_prob"
      ],
      "execution_count": null,
      "outputs": [
        {
          "output_type": "execute_result",
          "data": {
            "text/plain": [
              "0.41044942208681806"
            ]
          },
          "metadata": {},
          "execution_count": 44
        }
      ]
    },
    {
      "cell_type": "code",
      "metadata": {
        "id": "CKttGVvDSzio"
      },
      "source": [
        "salto = np.linspace(0,150,15001)[1] - np.linspace(0,150,15001)[0]\n",
        "bdom_views_means = [delta_zero_prob]\n",
        "for hs in np.linspace(0,150,15001):\n",
        "  bdom_views_means.append(delta_bdom_views_df[(delta_bdom_views_df.deltas>hs)&(delta_bdom_views_df.deltas<=(hs+salto))].bdom.mean())"
      ],
      "execution_count": null,
      "outputs": []
    },
    {
      "cell_type": "code",
      "metadata": {
        "colab": {
          "base_uri": "https://localhost:8080/"
        },
        "id": "RAkrMg8tT04Y",
        "outputId": "55a31442-7846-4641-afda-a8aa7e68fe41"
      },
      "source": [
        "from scipy.optimize import curve_fit\n",
        "# define the true objective function\n",
        "#-2.231726 + (0.1984595 - -2.231726)/(1 + (hours/12332420000.000002)**0.1389521)\n",
        "def objective(x, a, b, c, d):\n",
        "\treturn -a  + (delta_zero_prob - -b)/(1+(x/c)**d)\n",
        "#Se agrega peso al primer punto, para asegurar que la curva pase por el mismo\n",
        "y_weight = np.empty(len(bdom_means))\n",
        "y_weight.fill(10)\n",
        "# y_weight[0] = 0.001      \tSE QUITA EL MAYOR PESO DEL PRIMER PUNTO (DELTA=0), PORQUE ESTAMOS TRABAJANDO CON DOMAIN Y CON SEARCH, QUE NO TIENE TANTA DEPENDENCIA LO ULTIMISIMO QUE BUSQUE CON LO QUE COMPRÉ\n",
        "# curve fit\t\t\t\t\t\t\t\t\tSI LE PONEMOS WEIGHT AL PRIMER PUNTO, LA CURVA QUE QUEDA NO ACOMPAÑA LOS PUNTOS GRAFICADOS\n",
        "popt, _ = curve_fit(objective, np.linspace(0,150.01,15002), bdom_views_means, sigma=y_weight, absolute_sigma=True)\n",
        "# summarize the parameter values\n",
        "a, b, c, d = popt\n",
        "a, b, c, d"
      ],
      "execution_count": null,
      "outputs": [
        {
          "output_type": "execute_result",
          "data": {
            "text/plain": [
              "(-0.12327030225662998,\n",
              " -0.09520322003097634,\n",
              " 36.15114795111291,\n",
              " 1.373571429102444)"
            ]
          },
          "metadata": {},
          "execution_count": 47
        }
      ]
    },
    {
      "cell_type": "code",
      "metadata": {
        "colab": {
          "base_uri": "https://localhost:8080/"
        },
        "id": "dIuNqUiJWgbF",
        "outputId": "a427fd66-5cb2-4109-9bdf-51a6680eb359"
      },
      "source": [
        "objective(0,a,b,c,d)"
      ],
      "execution_count": null,
      "outputs": [
        {
          "output_type": "execute_result",
          "data": {
            "text/plain": [
              "0.43851650431247174"
            ]
          },
          "metadata": {},
          "execution_count": 49
        }
      ]
    },
    {
      "cell_type": "code",
      "metadata": {
        "id": "5AIwlo11UCZ2"
      },
      "source": [
        "# a = -0.12327030225662998,\n",
        "# b =  -0.09520322003097634,\n",
        "# c =  36.15114795111291,\n",
        "# d =  1.373571429102444"
      ],
      "execution_count": null,
      "outputs": []
    },
    {
      "cell_type": "code",
      "metadata": {
        "colab": {
          "base_uri": "https://localhost:8080/",
          "height": 265
        },
        "id": "uV_HCtHpUF7D",
        "outputId": "63106db7-5610-42b3-ab15-4112587a7289"
      },
      "source": [
        "# define a sequence of inputs between the smallest and largest known inputs\n",
        "x_line = np.arange(0, max(delta_hours_list), 0.01)\n",
        "# calculate the output for the range\n",
        "y_line = objective(x_line, a, b, c, d)\n",
        "# create a line plot for the mapping function\n",
        "plt.scatter(np.linspace(0,150.01,15002), bdom_views_means)\n",
        "plt.plot(x_line, y_line, '--', color='red')\n",
        "plt.show()"
      ],
      "execution_count": null,
      "outputs": [
        {
          "output_type": "display_data",
          "data": {
            "image/png": "[encoded data removed]",
            "text/plain": [
              "<Figure size 432x288 with 1 Axes>"
            ]
          },
          "metadata": {
            "needs_background": "light"
          }
        }
      ]
    },
    {
      "cell_type": "code",
      "metadata": {
        "id": "kv58GiJcWTk4"
      },
      "source": [
        "#Formula para ponderar la importancia de una SEARCH segun pasan las horas\n",
        "def dom_view_time_weighing(hours):\n",
        "  a = -0.12327030225662998\n",
        "  b =  -0.09520322003097634\n",
        "  c =  36.15114795111291\n",
        "  d =  1.373571429102444\n",
        "  delta_zero_prob = 0.41044942208681806\n",
        "  if hours < 0.001:\n",
        "    return 1\n",
        "  #fitted curve de la probabilidad de que la vista sea del bitem, dependiendo de la antiguedad en horas de la vista\n",
        "  #Esta curva se calculó con una mezcla de python + otro soft online. Al final de esta notebook, en el\n",
        "  #modelo 4, se muestra el método de cálculo 100% dentro de python, que arroja el mismo resultado\n",
        "  search_bdom_prob = -a  + (delta_zero_prob - -b)/(1+(hours/c)**d)\n",
        "  # search_bdom_prob = -2.231726 + (0.1984595 - -2.231726)/(1 + (hours/12332420000.000002)**0.1389521)  \n",
        "  weight = search_bdom_prob / 0.43851650431247174  #el número es la funcion evaluada en hours=0\n",
        "  return weight"
      ],
      "execution_count": null,
      "outputs": []
    },
    {
      "cell_type": "code",
      "metadata": {
        "id": "yX9kef6VOsSF"
      },
      "source": [
        "bdom_views_weights = []\n",
        "bdoms = []\n",
        "for row in train_df.itertuples():\n",
        "  weight = 0\n",
        "  bdom = item_domain_dict[row.item_bought]\n",
        "\n",
        "  most_recent_time = datetime.strptime(row.user_history[-1]['event_timestamp'], '%Y-%m-%dT%H:%M:%S.%f%z')\n",
        "  for event in row.user_history:\n",
        "    if event['event_type'] == 'view':\n",
        "      if item_domain_dict[event['event_info']] == bdom:\n",
        "        weight += dom_view_time_weighing((most_recent_time - datetime.strptime(event['event_timestamp'], '%Y-%m-%dT%H:%M:%S.%f%z')).total_seconds()/60/60)\n",
        "        \n",
        "  bdoms.append(bdom)\n",
        "  bdom_views_weights.append(weight)"
      ],
      "execution_count": null,
      "outputs": []
    },
    {
      "cell_type": "code",
      "metadata": {
        "colab": {
          "base_uri": "https://localhost:8080/",
          "height": 138
        },
        "id": "LPRXuhpEY2ms",
        "outputId": "b8d9aea5-aee9-494d-e928-0a24e8215132"
      },
      "source": [
        "bdom_weights_df = pd.DataFrame({'bdoms':bdoms, 'bdom_views_weights':bdom_views_weights})\n",
        "bdom_weights_df.head(3)"
      ],
      "execution_count": null,
      "outputs": [
        {
          "output_type": "execute_result",
          "data": {
            "text/html": [
              "<div>\n",
              "<style scoped>\n",
              "    .dataframe tbody tr th:only-of-type {\n",
              "        vertical-align: middle;\n",
              "    }\n",
              "\n",
              "    .dataframe tbody tr th {\n",
              "        vertical-align: top;\n",
              "    }\n",
              "\n",
              "    .dataframe thead th {\n",
              "        text-align: right;\n",
              "    }\n",
              "</style>\n",
              "<table border=\"1\" class=\"dataframe\">\n",
              "  <thead>\n",
              "    <tr style=\"text-align: right;\">\n",
              "      <th></th>\n",
              "      <th>bdoms</th>\n",
              "      <th>bdom_views_weights</th>\n",
              "    </tr>\n",
              "  </thead>\n",
              "  <tbody>\n",
              "    <tr>\n",
              "      <th>0</th>\n",
              "      <td>MLB-SPEAKERS</td>\n",
              "      <td>0.0</td>\n",
              "    </tr>\n",
              "    <tr>\n",
              "      <th>1</th>\n",
              "      <td>MLB-COMPUTER_EQUIPMENT_AND_SPARE_PARTS</td>\n",
              "      <td>0.0</td>\n",
              "    </tr>\n",
              "    <tr>\n",
              "      <th>2</th>\n",
              "      <td>MLB-GARDENING_AND_AGRICULTURE_SEEDS</td>\n",
              "      <td>0.0</td>\n",
              "    </tr>\n",
              "  </tbody>\n",
              "</table>\n",
              "</div>"
            ],
            "text/plain": [
              "                                    bdoms  bdom_views_weights\n",
              "0                            MLB-SPEAKERS                 0.0\n",
              "1  MLB-COMPUTER_EQUIPMENT_AND_SPARE_PARTS                 0.0\n",
              "2     MLB-GARDENING_AND_AGRICULTURE_SEEDS                 0.0"
            ]
          },
          "metadata": {},
          "execution_count": 40
        }
      ]
    },
    {
      "cell_type": "markdown",
      "metadata": {
        "id": "3LGxfvfmOSKo"
      },
      "source": [
        "Quito las filas con bdom_views == 0, ya que esto lo voy a utilizar para ponderar bdom_views concretas, es decir, todos casos donde dom_view > 0, con la asunción implícita de que eso permite predecir el bdom."
      ]
    },
    {
      "cell_type": "code",
      "metadata": {
        "id": "gmFvvhkZOQxK"
      },
      "source": [
        "bdom_weights_50q_dict = bdom_weights_df[bdom_weights_df.bdom_views_weights > 0].groupby('bdoms').quantile(q=0.5).bdom_views_weights.to_dict()"
      ],
      "execution_count": null,
      "outputs": []
    },
    {
      "cell_type": "markdown",
      "metadata": {
        "id": "dcVT6e-610hh"
      },
      "source": [
        "Armado de diccionario bdom --> 75% quantile de time_weighed dom_views:"
      ]
    },
    {
      "cell_type": "code",
      "metadata": {
        "id": "U5FG38jOblFM"
      },
      "source": [
        "bdom_weights_75q_dict = bdom_weights_df.groupby('bdoms').quantile(q=0.75).bdom_views_weights.to_dict()"
      ],
      "execution_count": null,
      "outputs": []
    },
    {
      "cell_type": "markdown",
      "metadata": {
        "id": "BEFWvHpK2DB_"
      },
      "source": [
        "Se toma el quantile 75%, ya que el 50% de las compras se ralizan sin mirar el domain de la compra. 75% es la mitad entre 50 y 100. De todos modos, el objetivo es comparar a los domains entre sí, y se aplica el mismo porcentaje para todos los domains."
      ]
    },
    {
      "cell_type": "markdown",
      "metadata": {
        "id": "CLxXTlFG2bxP"
      },
      "source": [
        "#### Modelo 8:\n",
        "Modelo 6, agregando sinergia para items de domains con muchas vistas. \n",
        "No se utilizan las search."
      ]
    },
    {
      "cell_type": "code",
      "metadata": {
        "id": "Moaw11y03DOj"
      },
      "source": [
        "#TOP ITEMS POR DOMAIN\n",
        "train_df['domain_id'] = train_df.apply(lambda row: item_domain_dict[row.item_bought], axis=1)\n",
        "top10_df = (train_df.groupby(['domain_id','item_bought']).count().\n",
        "            sort_values(['domain_id','user_history'], ascending=False).\n",
        "            reset_index(drop=False).groupby('domain_id').head(10))\n",
        "top_10_items_by_domain = {}\n",
        "\n",
        "for domain in top10_df.domain_id.unique():\n",
        "  top_10_items_by_domain[domain] = [item for item in top10_df[top10_df.domain_id == domain]['item_bought']]\n",
        "\n",
        "most_common_10 = train_df.groupby('item_bought').count().sort_values('user_history', ascending=False).index.tolist()[:10]"
      ],
      "execution_count": null,
      "outputs": []
    },
    {
      "cell_type": "code",
      "metadata": {
        "id": "-LfOdiR_3aKx"
      },
      "source": [
        "#Calculando P(domain sea comprado) y creando un dict para lookup rápido\n",
        "bitem_count = train_df.groupby('item_bought').count()\n",
        "bdom_count = train_df.groupby('domain_id').count()\n",
        "bdom_list = bitem_count.index.tolist()\n",
        "total = len(train_df)\n",
        "bdom_prob = bdom_count.user_history / total\n",
        "bdom_prob = bdom_prob.tolist()\n",
        "bdom_prob_dict = dict(zip(bdom_list, bdom_prob))\n",
        "bitem_list = bitem_count.index.tolist()\n",
        "bitem_prob = bitem_count.user_history / total\n",
        "bitem_prob = bitem_prob.tolist()\n",
        "bitem_prob_dict = dict(zip(bitem_list, bitem_prob))"
      ],
      "execution_count": null,
      "outputs": []
    },
    {
      "cell_type": "code",
      "metadata": {
        "id": "yAnM-g-ASJbG"
      },
      "source": [
        "#Calculando P(domain sea comprado) y creando un dict para lookup rápido\n",
        "total = len(train_df)\n",
        "\n",
        "bdom_count = train_df.groupby('domain_id').count()\n",
        "bdom_list = bdom_count.index.tolist()\n",
        "bdom_prob = bdom_count.user_history / total\n",
        "bdom_prob = bdom_prob.tolist()\n",
        "bdom_prob_dict = dict(zip(bdom_list, bdom_prob))\n",
        "\n",
        "bitem_count = train_df.groupby('item_bought').count()\n",
        "bitem_list = bitem_count.index.tolist()\n",
        "bitem_prob = bitem_count.user_history / total\n",
        "bitem_prob = bitem_prob.tolist()\n",
        "bitem_prob_dict = dict(zip(bitem_list, bitem_prob))"
      ],
      "execution_count": null,
      "outputs": []
    },
    {
      "cell_type": "code",
      "metadata": {
        "id": "BzqLgER93jai"
      },
      "source": [
        "# WEIGHT_THRESHOLD = 0.0001\n",
        "# DOMAINS_THRESHOLD = 2\n",
        "\n",
        "pred_y_model8 = []\n",
        "\n",
        "\n",
        "def find_next_item(domains_list,predictions):\n",
        "  '''Encuentra el próximo item que aún no está en la lista de predicciones, dentro de una lista de dominios ordenada de mejor a peor'''\n",
        "  for domain in domains_list:\n",
        "    for item in top_10_items_by_domain.get(domain,[]):  #Pueden haber domains vistos que no han sido comprados\n",
        "      if item not in predictions:\n",
        "        return item\n",
        "  for item in most_common_10:\n",
        "    if item not in predictions:\n",
        "      return item\n",
        "\n",
        "def model_8(events_list,strength=1.5):\n",
        "  DOM_SYNERGY_STRENGTH = strength\n",
        "  #Modelo con:  acumulación de vistas, pesadas según tiempo\n",
        "              # sinergia entre domains con muchas vistas, pesado según tiempo, y según tipo de domain\n",
        "  items_weight = {}\n",
        "  domains_weight = {}\n",
        "  most_recent_time = datetime.strptime(events_list[-1]['event_timestamp'], '%Y-%m-%dT%H:%M:%S.%f%z')\n",
        "  #Por cada VISTA de un producto, se agrega peso a dicho item, ponderado por el tiempo que hace que lo vio, y \n",
        "  #por la prob global de que se venda dicho prod\n",
        "  for event in events_list:\n",
        "    if event['event_type'] == 'view':\n",
        "      delta = most_recent_time - datetime.strptime(event['event_timestamp'], '%Y-%m-%dT%H:%M:%S.%f%z')\n",
        "      items_weight[event['event_info']] = items_weight.get(event['event_info'],0) + time_weighing(delta.total_seconds()/3600) #se convierte el delta en horas como float\n",
        "      #Además, se agrega un contador de vistas del dominio (ponderada por time_delta) para luego agregarle peso a los items de los domains mas vistos\n",
        "      event_dom = item_domain_dict[event['event_info']]\n",
        "      if event_dom:\n",
        "        domains_weight[event_dom] = domains_weight.get(event_dom,0) + dom_view_time_weighing(delta.total_seconds()/3600)\n",
        "        \n",
        "  #Este if se utiliza porque hay usuarios que tienen 0 vistas.\n",
        "  #Debe ser mejorado cuando se agregue NLP al análisis\n",
        "  if items_weight:\n",
        "    for item in items_weight:\n",
        "      item_dom = item_domain_dict[item]\n",
        "      if item_dom:\n",
        "        bdom_weights_50q = bdom_weights_50q_dict.get(item_dom, 0)\n",
        "        if bdom_weights_50q > 0:\n",
        "          items_weight[item] *=  domains_weight[item_dom] / bdom_weights_50q * DOM_SYNERGY_STRENGTH\n",
        "      items_weight[item] *= bitem_prob_dict.get(item,0)\n",
        "\n",
        "    #TO-DO evitar el overfitting que trae los items con prob=0 (nunca se podrá predecir la compra de algo que no fue comprado aun si no)\n",
        "    top_viewed_items = sorted(items_weight, key=items_weight.get, reverse=True)[:10] #Puede devolver menos que 10 items, si el user vio menos que 10\n",
        "    \n",
        "    #Establecer prioridad entre los dominios vistos DE LOS ITEMS ELEGIDOS, para completar la recomendación del top10\n",
        "    domain_weight_counter = {}\n",
        "    for item in top_viewed_items:\n",
        "      domain = item_domain_dict[item]\n",
        "      if domain: #Hay algunos pocos elementos de los cuales no sabemos el domain\n",
        "        domain_weight_counter[domain] = domain_weight_counter.get(domain,0) + 1 + items_weight[item]\n",
        "    for domain in domain_weight_counter:\n",
        "      domain_weight_counter[domain] *= 0#bdom_prob_dict.get(domain,0) #Misma consideración respecto a items. Domains no comprados nunca seran top\n",
        "    top_domains = sorted(domain_weight_counter, key=domain_weight_counter.get, reverse=True)\n",
        "    \n",
        "    #Generar las 10 predicciones\n",
        "    #TO-DO> Pensar si conviene agregar un WEIGHT_THRESHOLD a partir del cual el item no será recomendado, y se recomendará en cambio algún item popular del top_domain\n",
        "    top_10_predictions = top_viewed_items[:]\n",
        "    for i in range(len(top_10_predictions),10):\n",
        "      top_10_predictions.append(find_next_item(top_domains,top_10_predictions))\n",
        "    return top_10_predictions\n",
        "  else: #EL USER NO VIO NINGUN ITEM, SOLO SEARCHES\n",
        "    return most_common_10\n",
        "\n",
        "for row in train_df.itertuples():\n",
        " pred_y_model8.append(model_8(row.user_history))"
      ],
      "execution_count": null,
      "outputs": []
    },
    {
      "cell_type": "code",
      "metadata": {
        "id": "Em6rj6Lk8RRi"
      },
      "source": [
        "#CALCULO DEL nDCG\n",
        "def ndcg(predictions,bitem):\n",
        "  ''' Dada una List de predictions, y un item comprado (int), devuelve el calculo de nDCG de la prediccion'''\n",
        "  best = 22.4246159748234\n",
        "  current = 0\n",
        "  bdom = item_domain_dict[bitem]\n",
        "  for i in range(1,11):\n",
        "    pred = predictions[i-1]\n",
        "    if pred == bitem:\n",
        "      gain = 12\n",
        "    elif item_domain_dict[pred] == bdom:\n",
        "      gain = 1\n",
        "    else:\n",
        "      gain = 0\n",
        "    current += (1/np.log(1+i)) * gain\n",
        "  return current/best \n",
        "\n",
        "true_bitem = train_df.item_bought.tolist()\n",
        "ndcg_list = []\n",
        "for i in range(len(true_bitem)):\n",
        "  ndcg_list.append(ndcg(pred_y_model8[i], true_bitem[i]))\n",
        "  "
      ],
      "execution_count": null,
      "outputs": []
    },
    {
      "cell_type": "code",
      "metadata": {
        "colab": {
          "base_uri": "https://localhost:8080/"
        },
        "id": "7SzPdM8K8lpK",
        "outputId": "cb137753-f1da-49fe-ac47-73714897add6"
      },
      "source": [
        "print('nDCG obtenido:' , sum(ndcg_list) / len(ndcg_list))"
      ],
      "execution_count": null,
      "outputs": [
        {
          "output_type": "stream",
          "name": "stdout",
          "text": [
            "nDCG obtenido: 0.28792895157424725\n"
          ]
        }
      ]
    },
    {
      "cell_type": "code",
      "metadata": {
        "colab": {
          "base_uri": "https://localhost:8080/"
        },
        "id": "1J7Q11s19M2J",
        "outputId": "e34fa6ee-114d-4a32-ee1f-477094590be8"
      },
      "source": [
        "print('nDCG obtenido STRENGTH=0.05:' , sum(ndcg_list) / len(ndcg_list))"
      ],
      "execution_count": null,
      "outputs": [
        {
          "output_type": "stream",
          "name": "stdout",
          "text": [
            "nDCG obtenido STRENGTH=0.05: 0.2859151235916065\n"
          ]
        }
      ]
    },
    {
      "cell_type": "code",
      "metadata": {
        "colab": {
          "base_uri": "https://localhost:8080/"
        },
        "id": "mZmi6aUFAXAo",
        "outputId": "19f5b18e-cf96-4a49-fd31-67f056e72f91"
      },
      "source": [
        "print('nDCG obtenido STRENGTH=0.5, nueva fórmula doms:' , sum(ndcg_list) / len(ndcg_list))"
      ],
      "execution_count": null,
      "outputs": [
        {
          "output_type": "stream",
          "name": "stdout",
          "text": [
            "nDCG obtenido STRENGTH=0.05, nueva fórmula doms: 0.29010672188150344\n"
          ]
        }
      ]
    },
    {
      "cell_type": "code",
      "metadata": {
        "colab": {
          "base_uri": "https://localhost:8080/"
        },
        "id": "Brmgz6xfB-Bh",
        "outputId": "c334e28b-e306-4b67-c509-3fdb75d72722"
      },
      "source": [
        "print('nDCG obtenido STRENGTH=0.25, nueva fórmula doms:' , sum(ndcg_list) / len(ndcg_list))"
      ],
      "execution_count": null,
      "outputs": [
        {
          "output_type": "stream",
          "name": "stdout",
          "text": [
            "nDCG obtenido STRENGTH=0.25, nueva fórmula doms: 0.2900598524006226\n"
          ]
        }
      ]
    },
    {
      "cell_type": "code",
      "metadata": {
        "colab": {
          "base_uri": "https://localhost:8080/"
        },
        "id": "ZYu_JIM-HQVA",
        "outputId": "92abfd3d-4e80-4dcc-c771-6f5179a10988"
      },
      "source": [
        "print('nDCG obtenido STRENGTH=1, nueva fórmula doms:' , sum(ndcg_list) / len(ndcg_list))"
      ],
      "execution_count": null,
      "outputs": [
        {
          "output_type": "stream",
          "name": "stdout",
          "text": [
            "nDCG obtenido STRENGTH=1, nueva fórmula doms: 0.29013290338964337\n"
          ]
        }
      ]
    },
    {
      "cell_type": "code",
      "metadata": {
        "colab": {
          "base_uri": "https://localhost:8080/"
        },
        "id": "BisaFaU4Iy_3",
        "outputId": "0d881b80-6011-476b-f145-f9f9f6a03f17"
      },
      "source": [
        "print('nDCG obtenido STRENGTH=2, nueva fórmula doms:' , sum(ndcg_list) / len(ndcg_list))"
      ],
      "execution_count": null,
      "outputs": [
        {
          "output_type": "stream",
          "name": "stdout",
          "text": [
            "nDCG obtenido STRENGTH=2, nueva fórmula doms: 0.29014534194435654\n"
          ]
        }
      ]
    },
    {
      "cell_type": "code",
      "metadata": {
        "colab": {
          "base_uri": "https://localhost:8080/"
        },
        "id": "Ntu5LmZ7AorJ",
        "outputId": "d7a5ad8c-f389-4c5f-d788-3e62d5c1813a"
      },
      "source": [
        "print('nDCG obtenido STRENGTH=1.5, nuevo bdom_prob:' , sum(ndcg_list) / len(ndcg_list))"
      ],
      "execution_count": null,
      "outputs": [
        {
          "output_type": "stream",
          "name": "stdout",
          "text": [
            "nDCG obtenido STRENGTH=1.5, nuevo bdom_prob: 0.2680346916490222\n"
          ]
        }
      ]
    },
    {
      "cell_type": "code",
      "metadata": {
        "colab": {
          "base_uri": "https://localhost:8080/"
        },
        "id": "4imBIwPxN19w",
        "outputId": "4fa0b3e8-9f1c-4c87-ce93-fe5ad5d04686"
      },
      "source": [
        "print('nDCG obtenido STRENGTH=1.5, nuevo bdom_prob=0:' , sum(ndcg_list) / len(ndcg_list))"
      ],
      "execution_count": null,
      "outputs": [
        {
          "output_type": "stream",
          "name": "stdout",
          "text": [
            "nDCG obtenido STRENGTH=1.5, nuevo bdom_prob=0: 0.26730413879231685\n"
          ]
        }
      ]
    },
    {
      "cell_type": "markdown",
      "metadata": {
        "id": "MXP4Q6H5Kmiv"
      },
      "source": [
        "Búsqueda de hiperparámetro Strength óptimo (tras ajustes a la forma de ponderar las vistas de dominio):"
      ]
    },
    {
      "cell_type": "code",
      "metadata": {
        "colab": {
          "base_uri": "https://localhost:8080/"
        },
        "id": "K-8Jvzg_JzcY",
        "outputId": "9ff80349-0785-4a15-e36c-39d5c43b1c46"
      },
      "source": [
        "true_bitem = train_df.item_bought.tolist()\n",
        "true_bitem_test = test_df.item_bought.tolist()\n",
        "for strength in [1,0.25,0.5,1.5,2]:\n",
        "  #TRAIN\n",
        "  pred_y_model8 = []\n",
        "  for row in train_df.itertuples():\n",
        "    pred_y_model8.append(model_8(row.user_history,strength))\n",
        "\n",
        "  ndcg_list = []\n",
        "  for i in range(len(true_bitem)):\n",
        "    ndcg_list.append(ndcg(pred_y_model8[i], true_bitem[i]))\n",
        " \n",
        "  #TEST:\n",
        "  pred_y_model8_test = []\n",
        "  for row in test_df.itertuples():\n",
        "    pred_y_model8_test.append(model_8(row.user_history,strength))\n",
        "  \n",
        "  ndcg_list_test = []\n",
        "  for i in range(len(true_bitem_test)):\n",
        "    ndcg_list_test.append(ndcg(pred_y_model8_test[i], true_bitem_test[i]))\n",
        "  print('STRENGTH=',strength, 'nDCG TRAIN=', sum(ndcg_list) / len(ndcg_list))\n",
        "  print('STRENGTH=',strength, 'nDCG TEST =', sum(ndcg_list_test) / len(ndcg_list_test))"
      ],
      "execution_count": null,
      "outputs": [
        {
          "output_type": "stream",
          "name": "stdout",
          "text": [
            "STRENGTH= 1 nDCG TRAIN= 0.29026293085829347\n",
            "STRENGTH= 1 nDCG TEST = 0.28376705688286674\n",
            "STRENGTH= 0.25 nDCG TRAIN= 0.29023834803665177\n",
            "STRENGTH= 0.25 nDCG TEST = 0.2837535351278437\n",
            "STRENGTH= 0.5 nDCG TRAIN= 0.29025167517482786\n",
            "STRENGTH= 0.5 nDCG TEST = 0.2837635886061157\n",
            "STRENGTH= 1.5 nDCG TRAIN= 0.2902675175765638\n",
            "STRENGTH= 1.5 nDCG TEST = 0.2837733278065142\n",
            "STRENGTH= 2 nDCG TRAIN= 0.29026993813738367\n",
            "STRENGTH= 2 nDCG TEST = 0.2837733122514765\n"
          ]
        }
      ]
    },
    {
      "cell_type": "markdown",
      "metadata": {
        "id": "Ho76RHTp4U-E"
      },
      "source": [
        "Se adopta STRENGTH = 1.5"
      ]
    },
    {
      "cell_type": "markdown",
      "metadata": {
        "id": "aAgI9YS1BGsS"
      },
      "source": [
        "Performance en datos de TEST:"
      ]
    },
    {
      "cell_type": "code",
      "metadata": {
        "id": "bPHV1x8LBK6a"
      },
      "source": [
        "pred_y_model8_test = []\n",
        "for row in test_df.itertuples():\n",
        " pred_y_model8_test.append(model_8(row.user_history))"
      ],
      "execution_count": null,
      "outputs": []
    },
    {
      "cell_type": "code",
      "metadata": {
        "colab": {
          "base_uri": "https://localhost:8080/"
        },
        "id": "4R03_O7xJbTZ",
        "outputId": "af83edbc-9b68-44e1-a14a-1afe923bb3c2"
      },
      "source": [
        "true_bitem_test = test_df.item_bought.tolist()\n",
        "ndcg_list_test = []\n",
        "for i in range(len(true_bitem_test)):\n",
        "  ndcg_list_test.append(ndcg(pred_y_model8_test[i], true_bitem_test[i]))\n",
        "print('nDCG obtenido STRENGTH=2, nueva fórmula doms:' , sum(ndcg_list_test) / len(ndcg_list_test))"
      ],
      "execution_count": null,
      "outputs": [
        {
          "output_type": "stream",
          "name": "stdout",
          "text": [
            "nDCG obtenido STRENGTH=2, nueva fórmula doms: 0.2837382273387152\n"
          ]
        }
      ]
    },
    {
      "cell_type": "markdown",
      "metadata": {
        "id": "EiNTAQdoy7Zs"
      },
      "source": [
        "#### Modelo 9: Modelo 8 + Searchs\n",
        "Modelo 8 = Vistas ponderadas por tiempo + Vistas de Dominio ponderadas por tiempo y por tipo de dominio\n",
        "\n",
        "Modelo 9 = Todo lo anterior + Searches de Dominio ponderadas por tiempo y por tipo de dominio"
      ]
    },
    {
      "cell_type": "code",
      "metadata": {
        "id": "FknS6QeizBG3"
      },
      "source": [
        "#TOP ITEMS POR DOMAIN\n",
        "train_df['domain_id'] = train_df.apply(lambda row: item_domain_dict[row.item_bought], axis=1)\n",
        "top10_df = (train_df.groupby(['domain_id','item_bought']).count().\n",
        "            sort_values(['domain_id','user_history'], ascending=False).\n",
        "            reset_index(drop=False).groupby('domain_id').head(10))\n",
        "top_10_items_by_domain = {}\n",
        "\n",
        "for domain in top10_df.domain_id.unique():\n",
        "  top_10_items_by_domain[domain] = [item for item in top10_df[top10_df.domain_id == domain]['item_bought']]\n",
        "\n",
        "most_common_10 = train_df.groupby('item_bought').count().sort_values('user_history', ascending=False).index.tolist()[:10]"
      ],
      "execution_count": null,
      "outputs": []
    },
    {
      "cell_type": "code",
      "metadata": {
        "id": "X8O2e6zV4ADd"
      },
      "source": [
        "#Calculando P(domain sea comprado) y creando un dict para lookup rápido\n",
        "total = len(train_df)\n",
        "\n",
        "bdom_count = train_df.groupby('domain_id').count()\n",
        "bdom_list = bdom_count.index.tolist()\n",
        "bdom_prob = bdom_count.user_history / total\n",
        "bdom_prob = bdom_prob.tolist()\n",
        "bdom_prob_dict = dict(zip(bdom_list, bdom_prob))\n",
        "\n",
        "bitem_count = train_df.groupby('item_bought').count()\n",
        "bitem_list = bitem_count.index.tolist()\n",
        "bitem_prob = bitem_count.user_history / total\n",
        "bitem_prob = bitem_prob.tolist()\n",
        "bitem_prob_dict = dict(zip(bitem_list, bitem_prob))"
      ],
      "execution_count": null,
      "outputs": []
    },
    {
      "cell_type": "code",
      "metadata": {
        "id": "OstTtdB-4E39"
      },
      "source": [
        "# WEIGHT_THRESHOLD = 0.0001\n",
        "# DOMAINS_THRESHOLD = 2\n",
        "\n",
        "pred_y_model9 = []\n",
        "\n",
        "\n",
        "def find_next_item(domains_list,predictions):\n",
        "  '''Encuentra el próximo item que aún no está en la lista de predicciones, dentro de una lista de dominios ordenada de mejor a peor'''\n",
        "  for domain in domains_list:\n",
        "    for item in top_10_items_by_domain.get(domain,[]):  #Pueden haber domains vistos que no han sido comprados\n",
        "      if item not in predictions:\n",
        "        return item\n",
        "  for item in most_common_10:\n",
        "    if item not in predictions:\n",
        "      return item\n",
        "\n",
        "def model_9(events_list,strength=1.5, search_strength=1,search_preload=None,preload_index=0):\n",
        "  DOM_SYNERGY_STRENGTH = strength\n",
        "  SEARCH_STRENGTH = search_strength\n",
        "  #Modelo con:  acumulación de vistas, pesadas según tiempo\n",
        "              # sinergia entre domains con muchas vistas, pesado según tiempo, y según tipo de domain \n",
        "              # + SEARCHES DE DOMINIO pesadas según tiempo y según tipo de domain\n",
        "\n",
        "  items_weight = {}\n",
        "  domains_weight = {}\n",
        "  search_doms_weights = {}\n",
        "  i = preload_index                 #CON PRECARGA PREDICT(SEARCH)\n",
        "\n",
        "  most_recent_time = datetime.strptime(events_list[-1]['event_timestamp'], '%Y-%m-%dT%H:%M:%S.%f%z')\n",
        "  ###VISTAS:\n",
        "  #Por cada VISTA de un producto, se agrega peso a dicho item, ponderado por el tiempo que hace que lo vio, y \n",
        "  #por la prob global de que se venda dicho prod\n",
        "  for event in events_list:\n",
        "    delta = most_recent_time - datetime.strptime(event['event_timestamp'], '%Y-%m-%dT%H:%M:%S.%f%z')\n",
        "    if event['event_type'] == 'view':\n",
        "      items_weight[event['event_info']] = items_weight.get(event['event_info'],0) + time_weighing(delta.total_seconds()/3600) #se convierte el delta en horas como float\n",
        "      #Además, se agrega un contador de vistas del dominio (ponderada por time_delta) para luego agregarle peso a los items de los domains mas vistos\n",
        "      event_dom = item_domain_dict[event['event_info']]\n",
        "      if event_dom:\n",
        "        domains_weight[event_dom] = domains_weight.get(event_dom,0) + dom_view_time_weighing(delta.total_seconds()/3600)\n",
        "    ###SEARCHES DE DOMAIN\n",
        "    else:   \n",
        "      search_dom = search_preload[i]        #CON PRECARGA PREDICT(SEARCH)\n",
        "      i +=1                                 #CON PRECARGA PREDICT(SEARCH)\n",
        "      search_doms_weights[search_dom] = search_doms_weights.get(search_dom,0) + search_time_weighing(delta.total_seconds()/3600)\n",
        "\n",
        "  for dom in domains_weight:\n",
        "    domains_weight[dom] *= bdom_prob_dict.get(dom,0)\n",
        "  for dom in search_doms_weights:\n",
        "    search_doms_weights[dom] *= bdom_prob_dict.get(dom,0)\n",
        "  viewed_items_doms = []\n",
        "  for item in items_weight:\n",
        "    item_dom = item_domain_dict[item]\n",
        "    if item_dom and item_dom not in viewed_items_doms:\n",
        "      viewed_items_doms.append(item_dom)\n",
        "  \n",
        "  #Calculamos la prob total de comprar tal o cual domain, para \n",
        "  total_viewed_doms_weight = 0\n",
        "  total_searched_doms_weight = 0\n",
        "  for dom in viewed_items_doms:\n",
        "    total_viewed_doms_weight += domains_weight.get(dom,0)\n",
        "    total_searched_doms_weight += search_doms_weights.get(dom,0)\n",
        "  \n",
        "  for item in items_weight:\n",
        "    item_dom = item_domain_dict[item]\n",
        "    if item_dom:\n",
        "      #FACTOR PESO DE VISTAS DE DOMAIN POR DOMAIN\n",
        "      if total_viewed_doms_weight > 0:\n",
        "        print('multiplicando viewed_doms')\n",
        "        items_weight[item] *=  1 + (domains_weight.get(item_dom,0) / total_viewed_doms_weight * DOM_SYNERGY_STRENGTH)\n",
        "      #FACTOR SEARCHES DE DOMAIN: \n",
        "      if total_searched_doms_weight > 0:\n",
        "        print('multiplicando searched_doms')\n",
        "        items_weight[item] *=  1 + (search_doms_weights.get(item_dom,0) / total_searched_doms_weight  * SEARCH_STRENGTH)\n",
        "        ###QUIZÁS DEBERÍA MULTIPLICAR POR BDOM_PROB LA LÍNEA ANTERIOR?\n",
        "    items_weight[item] *= bitem_prob_dict.get(item,0)   #Multiplicación por P(Bitem)\n",
        "\n",
        "\n",
        "\n",
        "    #TO-DO evitar el overfitting que trae los items con prob=0 (nunca se podrá predecir la compra de algo que no fue comprado aun si no)\n",
        "  top_viewed_items = sorted(items_weight, key=items_weight.get, reverse=True)[:10] #Puede devolver menos que 10 items, si el user vio menos que 10\n",
        "    \n",
        "  #Establecer prioridad entre los dominios VISTOS + BUSCADOS, para completar la recomendación del top10\n",
        "  s_plus_v_domains_weight = domains_weight.copy()\n",
        "  for dom in search_doms_weights.keys():\n",
        "    s_plus_v_domains_weight[dom] = s_plus_v_domains_weight.get(dom,0) + search_doms_weights[dom]\n",
        "\n",
        "\n",
        "  for domain in s_plus_v_domains_weight:\n",
        "    s_plus_v_domains_weight[domain] *= bdom_prob_dict.get(domain,0) #Misma consideración respecto a items. Domains no comprados nunca seran top\n",
        "  top_domains = sorted(s_plus_v_domains_weight, key=s_plus_v_domains_weight.get, reverse=True)\n",
        "    \n",
        "  #Generar las 10 predicciones\n",
        "  #TO-DO> Pensar si conviene agregar un WEIGHT_THRESHOLD a partir del cual el item no será recomendado, y se recomendará en cambio algún item popular del top_domain\n",
        "  top_10_predictions = top_viewed_items[:]\n",
        "  for i in range(len(top_10_predictions),10):\n",
        "    top_10_predictions.append(find_next_item(top_domains,top_10_predictions))\n",
        "  return top_10_predictions, i\n",
        "\n",
        "\n",
        "# for row in train_df.itertuples():\n",
        "#  pred_y_model9.append(model_9(row.user_history))"
      ],
      "execution_count": null,
      "outputs": []
    },
    {
      "cell_type": "code",
      "metadata": {
        "id": "XjIcSy6qFgsc"
      },
      "source": [
        "#CALCULO DEL nDCG\n",
        "def ndcg(predictions,bitem):\n",
        "  ''' Dada una List de predictions, y un item comprado (int), devuelve el calculo de nDCG de la prediccion'''\n",
        "  best = 22.4246159748234\n",
        "  current = 0\n",
        "  bdom = item_domain_dict[bitem]\n",
        "  for i in range(1,11):\n",
        "    pred = predictions[i-1]\n",
        "    if pred == bitem:\n",
        "      gain = 12\n",
        "    elif item_domain_dict[pred] == bdom:\n",
        "      gain = 1\n",
        "    else:\n",
        "      gain = 0\n",
        "    current += (1/np.log(1+i)) * gain\n",
        "  return current/best \n",
        "\n",
        "true_bitem = train_df.item_bought.tolist()\n",
        "ndcg_list = []\n",
        "for i in range(len(true_bitem)):\n",
        "  ndcg_list.append(ndcg(pred_y_model9[i], true_bitem[i]))\n",
        "  "
      ],
      "execution_count": null,
      "outputs": []
    },
    {
      "cell_type": "code",
      "metadata": {
        "colab": {
          "base_uri": "https://localhost:8080/"
        },
        "id": "VMComor1GK4X",
        "outputId": "c831a08f-4bf7-45d2-aef9-4cad4de93251"
      },
      "source": [
        "print('nDCG obtenido:' , sum(ndcg_list) / len(ndcg_list))"
      ],
      "execution_count": null,
      "outputs": [
        {
          "output_type": "stream",
          "name": "stdout",
          "text": [
            "nDCG obtenido: 0.2827613082298858\n"
          ]
        }
      ]
    },
    {
      "cell_type": "code",
      "metadata": {
        "colab": {
          "base_uri": "https://localhost:8080/"
        },
        "id": "fFrO2T_AQTvD",
        "outputId": "1d362c0e-af09-4aba-82f5-a09c8d8d4e31"
      },
      "source": [
        "true_bitem = train_df.item_bought.tolist()\n",
        "true_bitem_test = test_df.item_bought.tolist()\n",
        "for search_strength in [0.25,0.5,0.75,1,1.5,2]:\n",
        "  #TRAIN\n",
        "  pred_y_model0 = []\n",
        "  preload_index = 0\n",
        "  for row in train_df.itertuples():\n",
        "    model_9_pred, preload_index = model_9(row.user_history,search_strength=search_strength,search_preload=train_searches_doms, preload_index = preload_index)\n",
        "    pred_y_model9.append(model_9_pred)\n",
        "\n",
        "  ndcg_list = []\n",
        "  for i in range(len(true_bitem)):\n",
        "    ndcg_list.append(ndcg(pred_y_model9[i], true_bitem[i]))\n",
        " \n",
        "  #TEST:\n",
        "  pred_y_model9_test = []\n",
        "  preload_index = 0\n",
        "  for row in test_df.itertuples():\n",
        "    model_9_pred, preload_index = model_9(row.user_history,search_strength=search_strength,search_preload=test_searches_doms, preload_index = preload_index)\n",
        "    pred_y_model9_test.append(model_9_pred)\n",
        "  \n",
        "  ndcg_list_test = []\n",
        "  for i in range(len(true_bitem_test)):\n",
        "    ndcg_list_test.append(ndcg(pred_y_model9_test[i], true_bitem_test[i]))\n",
        "  print('STRENGTH=',search_strength, 'nDCG TRAIN=', sum(ndcg_list) / len(ndcg_list))\n",
        "  print('STRENGTH=',search_strength, 'nDCG TEST =', sum(ndcg_list_test) / len(ndcg_list_test))"
      ],
      "execution_count": null,
      "outputs": [
        {
          "output_type": "stream",
          "name": "stdout",
          "text": [
            "STRENGTH= 0.25 nDCG TRAIN= 0.28300564451809795\n",
            "STRENGTH= 0.25 nDCG TEST = 0.2767720046172142\n",
            "STRENGTH= 0.5 nDCG TRAIN= 0.28300564451809795\n",
            "STRENGTH= 0.5 nDCG TEST = 0.27672850616854805\n",
            "STRENGTH= 0.75 nDCG TRAIN= 0.28300564451809795\n",
            "STRENGTH= 0.75 nDCG TEST = 0.2766902925584309\n",
            "STRENGTH= 1 nDCG TRAIN= 0.28300564451809795\n",
            "STRENGTH= 1 nDCG TEST = 0.27667515315412905\n",
            "STRENGTH= 1.5 nDCG TRAIN= 0.28300564451809795\n",
            "STRENGTH= 1.5 nDCG TEST = 0.27660268008394123\n",
            "STRENGTH= 2 nDCG TRAIN= 0.28300564451809795\n",
            "STRENGTH= 2 nDCG TEST = 0.27657928377517266\n"
          ]
        }
      ]
    },
    {
      "cell_type": "code",
      "metadata": {
        "id": "QeRWl1ExjII4"
      },
      "source": [
        "#NEW SEARCH DOM FORMULA\n",
        "true_bitem = train_df.item_bought.tolist()\n",
        "true_bitem_test = test_df.item_bought.tolist()\n",
        "for search_strength in [0.2,1,1.8]:\n",
        "  for view_strength in [0.2,1,1.8]:\n",
        "    #TRAIN\n",
        "    pred_y_model0 = []\n",
        "    preload_index = 0\n",
        "    for row in train_df.itertuples():\n",
        "      model_9_pred, preload_index = model_9(row.user_history,search_strength=search_strength,search_preload=train_searches_doms, preload_index = preload_index)\n",
        "      pred_y_model9.append(model_9_pred)\n",
        "\n",
        "    ndcg_list = []\n",
        "    for i in range(len(true_bitem)):\n",
        "      ndcg_list.append(ndcg(pred_y_model9[i], true_bitem[i]))\n",
        "  \n",
        "    #TEST:\n",
        "    pred_y_model9_test = []\n",
        "    preload_index = 0\n",
        "    for row in test_df.itertuples():\n",
        "      model_9_pred, preload_index = model_9(row.user_history,search_strength=search_strength,search_preload=test_searches_doms, preload_index = preload_index)\n",
        "      pred_y_model9_test.append(model_9_pred)\n",
        "    \n",
        "    ndcg_list_test = []\n",
        "    for i in range(len(true_bitem_test)):\n",
        "      ndcg_list_test.append(ndcg(pred_y_model9_test[i], true_bitem_test[i]))\n",
        "    print('View strength=', view_strength, 'Search strength=',search_strength, 'nDCG TRAIN=', sum(ndcg_list) / len(ndcg_list))\n",
        "    print('View strength=', view_strength, 'Search strength=',search_strength, 'nDCG TEST =', sum(ndcg_list_test) / len(ndcg_list_test))"
      ],
      "execution_count": null,
      "outputs": []
    },
    {
      "cell_type": "code",
      "metadata": {
        "colab": {
          "base_uri": "https://localhost:8080/"
        },
        "id": "ZccvQc6RUbxN",
        "outputId": "d0968ed9-b5fc-48d9-dba2-823b746fe696"
      },
      "source": [
        "    print('STRENGTH=',search_strength, 'nDCG TRAIN=', sum(ndcg_list) / len(ndcg_list))\n",
        "  print('STRENGTH=',search_strength, 'nDCG TEST =', sum(ndcg_list_test) / len(ndcg_list_test))"
      ],
      "execution_count": null,
      "outputs": [
        {
          "output_type": "stream",
          "name": "stdout",
          "text": [
            "STRENGTH= 0.1 nDCG TRAIN= 0.28300564451809795\n",
            "STRENGTH= 0.1 nDCG TEST = 0.27681647846766083\n"
          ]
        }
      ]
    },
    {
      "cell_type": "markdown",
      "metadata": {
        "id": "sxQZ5wxwHaSb"
      },
      "source": [
        "Datos de Test:"
      ]
    },
    {
      "cell_type": "code",
      "metadata": {
        "id": "zrFNALsXHZky"
      },
      "source": [
        "#PRECARGA:\n",
        "# test_searches_doms = []  \n",
        "# progress = 0\n",
        "# for row in test_df.itertuples():\n",
        "#   if progress % 10000 == 0:\n",
        "#     print(progress)\n",
        "#   progress +=1\n",
        "#   for event in row.user_history:\n",
        "#     if event['event_type'] == 'search':\n",
        "#       clean_string = event['event_info'].replace(',','').replace('.','').replace('\\n','').title()     \n",
        "#       event_dom = ft_model.predict(clean_string)[0][0][9:]                                           \n",
        "#       test_searches_doms.append(event_dom)\n",
        "\n",
        "     "
      ],
      "execution_count": null,
      "outputs": []
    },
    {
      "cell_type": "code",
      "metadata": {
        "id": "u5QwQ1wSPhey"
      },
      "source": [
        "# PARA ARMAR PRECARGA\n",
        "\n",
        "# with open('test_searches_doms.txt', 'w') as f:\n",
        "#     for item in test_searches_doms:\n",
        "#         f.write(\"%s\\n\" % item)"
      ],
      "execution_count": null,
      "outputs": []
    },
    {
      "cell_type": "markdown",
      "metadata": {
        "id": "r_lanWm9ecJ4"
      },
      "source": [
        "#### Modelo 10: Modelo 8 + Searchs imputadas por tree\n",
        "Modelo 8 = Vistas ponderadas por tiempo + Vistas de Dominio ponderadas por tiempo y por tipo de dominio\n",
        "\n",
        "Modelo 9 = Todo lo anterior + Searches de Dominio ponderadas por tiempo y por tipo de dominio\n",
        "\n",
        "Modelo 10 = Imputación de la importancia de las vistas de un dominio mediante un árbol de decisión"
      ]
    },
    {
      "cell_type": "code",
      "metadata": {
        "id": "0vxBU7Lieo4i"
      },
      "source": [
        "#TOP ITEMS POR DOMAIN\n",
        "train_df['domain_id'] = train_df.apply(lambda row: item_domain_dict[row.item_bought], axis=1)\n",
        "top10_df = (train_df.groupby(['domain_id','item_bought']).count().\n",
        "            sort_values(['domain_id','user_history'], ascending=False).\n",
        "            reset_index(drop=False).groupby('domain_id').head(10))\n",
        "top_10_items_by_domain = {}\n",
        "\n",
        "for domain in top10_df.domain_id.unique():\n",
        "  top_10_items_by_domain[domain] = [item for item in top10_df[top10_df.domain_id == domain]['item_bought']]\n",
        "\n",
        "most_common_10 = train_df.groupby('item_bought').count().sort_values('user_history', ascending=False).index.tolist()[:10]"
      ],
      "execution_count": null,
      "outputs": []
    },
    {
      "cell_type": "code",
      "metadata": {
        "id": "tGKqBoGlerSw"
      },
      "source": [
        "#Calculando P(domain sea comprado) y creando un dict para lookup rápido\n",
        "total = len(train_df)\n",
        "\n",
        "bdom_count = train_df.groupby('domain_id').count()\n",
        "bdom_list = bdom_count.index.tolist()\n",
        "bdom_prob = bdom_count.user_history / total\n",
        "bdom_prob = bdom_prob.tolist()\n",
        "bdom_prob_dict = dict(zip(bdom_list, bdom_prob))\n",
        "\n",
        "bitem_count = train_df.groupby('item_bought').count()\n",
        "bitem_list = bitem_count.index.tolist()\n",
        "bitem_prob = bitem_count.user_history / total\n",
        "bitem_prob = bitem_prob.tolist()\n",
        "bitem_prob_dict = dict(zip(bitem_list, bitem_prob))"
      ],
      "execution_count": null,
      "outputs": []
    },
    {
      "cell_type": "code",
      "metadata": {
        "colab": {
          "base_uri": "https://localhost:8080/"
        },
        "id": "tHluwhtZfHDQ",
        "outputId": "31fe0f54-ef1c-4509-b971-c34ada54bf1a"
      },
      "source": [
        "tree.predict_proba(np.array([2,9,2/9]).reshape(1,-1))[0][1], tree.predict(np.array([2,9,2/9]).reshape(1,-1))"
      ],
      "execution_count": null,
      "outputs": [
        {
          "output_type": "execute_result",
          "data": {
            "text/plain": [
              "(0.47061207944872313, array([False]))"
            ]
          },
          "metadata": {},
          "execution_count": 65
        }
      ]
    },
    {
      "cell_type": "code",
      "metadata": {
        "id": "JqugF2LRfJ21"
      },
      "source": [
        "# WEIGHT_THRESHOLD = 0.0001\n",
        "# DOMAINS_THRESHOLD = 2\n",
        "\n",
        "pred_y_model10 = []\n",
        "\n",
        "\n",
        "def find_next_item(domains_list,predictions):\n",
        "  '''Encuentra el próximo item que aún no está en la lista de predicciones, dentro de una lista de dominios ordenada de mejor a peor'''\n",
        "  for domain in domains_list:\n",
        "    for item in top_10_items_by_domain.get(domain,[]):  #Pueden haber domains vistos que no han sido comprados\n",
        "      if item not in predictions:\n",
        "        return item\n",
        "  for item in most_common_10:\n",
        "    if item not in predictions:\n",
        "      return item\n",
        "\n",
        "def model_10(events_list,strength=1.5, search_strength=1,search_preload=None,preload_index=0):\n",
        "  DOM_SYNERGY_STRENGTH = strength\n",
        "  SEARCH_STRENGTH = search_strength\n",
        "  #Modelo con:  acumulación de vistas, pesadas según tiempo\n",
        "              # sinergia entre domains con muchas vistas, pesado según tiempo, y según tipo de domain \n",
        "              # + SEARCHES DE DOMINIO pesadas según tiempo y según tipo de domain\n",
        "\n",
        "  items_weight = {}\n",
        "  domains_weight = {}\n",
        "  search_doms_weights = {}\n",
        "  i = preload_index                 #CON PRECARGA PREDICT(SEARCH)\n",
        "\n",
        "  most_recent_time = datetime.strptime(events_list[-1]['event_timestamp'], '%Y-%m-%dT%H:%M:%S.%f%z')\n",
        "  ###VISTAS:\n",
        "  #Por cada VISTA de un producto, se agrega peso a dicho item, ponderado por el tiempo que hace que lo vio, y \n",
        "  #por la prob global de que se venda dicho prod\n",
        "  for event in events_list:\n",
        "    delta = most_recent_time - datetime.strptime(event['event_timestamp'], '%Y-%m-%dT%H:%M:%S.%f%z')\n",
        "    if event['event_type'] == 'view':\n",
        "      items_weight[event['event_info']] = items_weight.get(event['event_info'],0) + time_weighing(delta.total_seconds()/3600) #se convierte el delta en horas como float\n",
        "      #Además, se agrega un contador de vistas del dominio (ponderada por time_delta) para luego agregarle peso a los items de los domains mas vistos\n",
        "      event_dom = item_domain_dict[event['event_info']]\n",
        "      if event_dom:\n",
        "        domains_weight[event_dom] = domains_weight.get(event_dom,0) + dom_view_time_weighing(delta.total_seconds()/3600)\n",
        "    ###SEARCHES DE DOMAIN\n",
        "    else:   \n",
        "      search_dom = search_preload[i]        #CON PRECARGA PREDICT(SEARCH)\n",
        "      i +=1                                 #CON PRECARGA PREDICT(SEARCH)\n",
        "      search_doms_weights[search_dom] = search_doms_weights.get(search_dom,0) + search_time_weighing(delta.total_seconds()/3600)\n",
        "\n",
        "  # TO-DO: Re entrenar el tree haciendo esta multiplicación por la bdom_prob\n",
        "  # for dom in domains_weight:\n",
        "  #   domains_weight[dom] *= bdom_prob_dict.get(dom,0)\n",
        "  # for dom in search_doms_weights:\n",
        "  #   search_doms_weights[dom] *= bdom_prob_dict.get(dom,0)\n",
        "  viewed_items_doms = []\n",
        "  for item in items_weight:\n",
        "    item_dom = item_domain_dict[item]\n",
        "    if item_dom and item_dom not in viewed_items_doms:\n",
        "      viewed_items_doms.append(item_dom)\n",
        "  \n",
        "  #Calculamos la prob total de comprar tal o cual domain, para \n",
        "  total_doms_proba = 0\n",
        "  doms_tree_probs = {}\n",
        "  for dom in viewed_items_doms:\n",
        "    searches_weight = search_doms_weights.get(dom,0)\n",
        "    views_weight = domains_weight.get(dom,0)\n",
        "    if views_weight > 0:\n",
        "      s_over_v = searches_weight / views_weight\n",
        "      doms_tree_probs[dom] = tree.predict_proba(np.array([searches_weight,views_weight,s_over_v]).reshape(1,-1))[0][1]\n",
        "      total_doms_proba += doms_tree_probs[dom]\n",
        "    \n",
        "  \n",
        "  for item in items_weight:\n",
        "    item_dom = item_domain_dict[item]\n",
        "    if item_dom:\n",
        "      if total_doms_proba > 0:\n",
        "        items_weight[item] *=  1 + (doms_tree_probs.get(item_dom,0) / total_doms_proba * DOM_SYNERGY_STRENGTH)\n",
        "        ###QUIZÁS DEBERÍA MULTIPLICAR POR BDOM_PROB LA LÍNEA ANTERIOR?\n",
        "    items_weight[item] *= bitem_prob_dict.get(item,0)   #Multiplicación por P(Bitem)\n",
        "\n",
        "\n",
        "\n",
        "    #TO-DO evitar el overfitting que trae los items con prob=0 (nunca se podrá predecir la compra de algo que no fue comprado aun si no)\n",
        "  top_viewed_items = sorted(items_weight, key=items_weight.get, reverse=True)[:10] #Puede devolver menos que 10 items, si el user vio menos que 10\n",
        "    \n",
        "  #Establecer prioridad entre los dominios VISTOS + BUSCADOS, para completar la recomendación del top10\n",
        "  top_domains = sorted(doms_tree_probs, key=doms_tree_probs.get, reverse=True)\n",
        "    \n",
        "  #Generar las 10 predicciones\n",
        "  #TO-DO> Pensar si conviene agregar un WEIGHT_THRESHOLD a partir del cual el item no será recomendado, y se recomendará en cambio algún item popular del top_domain\n",
        "  top_10_predictions = top_viewed_items[:]\n",
        "  for i in range(len(top_10_predictions),10):\n",
        "    top_10_predictions.append(find_next_item(top_domains,top_10_predictions))\n",
        "  return top_10_predictions, i\n",
        "\n",
        "\n",
        "# for row in train_df.itertuples():\n",
        "#  pred_y_model9.append(model_9(row.user_history))"
      ],
      "execution_count": null,
      "outputs": []
    },
    {
      "cell_type": "code",
      "metadata": {
        "id": "vAdQMpsZlIhv"
      },
      "source": [
        "def ndcg(predictions,bitem):\n",
        "  ''' Dada una List de predictions, y un item comprado (int), devuelve el calculo de nDCG de la prediccion'''\n",
        "  best = 22.4246159748234\n",
        "  current = 0\n",
        "  bdom = item_domain_dict[bitem]\n",
        "  for i in range(1,11):\n",
        "    pred = predictions[i-1]\n",
        "    if pred == bitem:\n",
        "      gain = 12\n",
        "    elif item_domain_dict[pred] == bdom:\n",
        "      gain = 1\n",
        "    else:\n",
        "      gain = 0\n",
        "    current += (1/np.log(1+i)) * gain\n",
        "  return current/best "
      ],
      "execution_count": null,
      "outputs": []
    },
    {
      "cell_type": "code",
      "metadata": {
        "colab": {
          "base_uri": "https://localhost:8080/"
        },
        "id": "0FBSkPb6hygW",
        "outputId": "53c1aaf0-a1e2-4bf0-db88-8a79cafa2a65"
      },
      "source": [
        "#NEW SEARCH DOM FORMULA\n",
        "true_bitem = train_df.item_bought.tolist()\n",
        "true_bitem_test = test_df.item_bought.tolist()\n",
        "for search_strength in [1]:\n",
        "  for view_strength in [1,0.25,0.75,1.5,2.5]:\n",
        "    #TRAIN\n",
        "    pred_y_model10 = []\n",
        "    preload_index = 0\n",
        "    for row in train_df.itertuples():\n",
        "      model_10_pred, preload_index = model_10(row.user_history,search_strength=search_strength,search_preload=train_searches_doms, preload_index = preload_index)\n",
        "      pred_y_model10.append(model_10_pred)\n",
        "\n",
        "    ndcg_list = []\n",
        "    for i in range(len(true_bitem)):\n",
        "      ndcg_list.append(ndcg(pred_y_model10[i], true_bitem[i]))\n",
        "  \n",
        "    #TEST:\n",
        "    pred_y_model10_test = []\n",
        "    preload_index = 0\n",
        "    for row in test_df.itertuples():\n",
        "      model_10_pred, preload_index = model_10(row.user_history,search_strength=search_strength,search_preload=test_searches_doms, preload_index = preload_index)\n",
        "      pred_y_model10_test.append(model_10_pred)\n",
        "    \n",
        "    ndcg_list_test = []\n",
        "    for i in range(len(true_bitem_test)):\n",
        "      ndcg_list_test.append(ndcg(pred_y_model10_test[i], true_bitem_test[i]))\n",
        "    print('View strength=', view_strength, 'Search strength=',search_strength, 'nDCG TRAIN=', sum(ndcg_list) / len(ndcg_list))\n",
        "    print('View strength=', view_strength, 'Search strength=',search_strength, 'nDCG TEST =', sum(ndcg_list_test) / len(ndcg_list_test))"
      ],
      "execution_count": null,
      "outputs": [
        {
          "output_type": "stream",
          "name": "stdout",
          "text": [
            "View strength= 1 Search strength= 1 nDCG TRAIN= 0.28790247081472886\n",
            "View strength= 1 Search strength= 1 nDCG TEST = 0.2815931194530933\n",
            "View strength= 0.25 Search strength= 1 nDCG TRAIN= 0.28790247081472886\n",
            "View strength= 0.25 Search strength= 1 nDCG TEST = 0.2815931194530933\n",
            "View strength= 0.75 Search strength= 1 nDCG TRAIN= 0.28790247081472886\n",
            "View strength= 0.75 Search strength= 1 nDCG TEST = 0.2815931194530933\n",
            "View strength= 1.5 Search strength= 1 nDCG TRAIN= 0.28790247081472886\n",
            "View strength= 1.5 Search strength= 1 nDCG TEST = 0.2815931194530933\n"
          ]
        }
      ]
    },
    {
      "cell_type": "markdown",
      "metadata": {
        "id": "KuApwDspwbE_"
      },
      "source": [
        "#### Modelo 11: 1 tree por dominio"
      ]
    },
    {
      "cell_type": "markdown",
      "metadata": {
        "id": "x1GVmj7FY3Da"
      },
      "source": [
        "#####Diccionario de árboles por dominio"
      ]
    },
    {
      "cell_type": "code",
      "metadata": {
        "id": "uHA68Jg1wdYf"
      },
      "source": [
        "bdoms = []\n",
        "searches = []\n",
        "views = []\n",
        "domains = []\n",
        "# s_div_v = []\n",
        "i=0\n",
        "for row in train_df.itertuples():\n",
        "  bdom = item_domain_dict[row.item_bought]\n",
        "  view_dom_weight = {}\n",
        "  search_dom_weight = {}\n",
        "  most_recent_time = datetime.strptime(row.user_history[-1]['event_timestamp'], '%Y-%m-%dT%H:%M:%S.%f%z')\n",
        "  for event in row.user_history:\n",
        "    delta = most_recent_time - datetime.strptime(event['event_timestamp'], '%Y-%m-%dT%H:%M:%S.%f%z')\n",
        "    if event['event_type'] == 'view':\n",
        "      item_dom = item_domain_dict[event['event_info']]\n",
        "      if item_dom:\n",
        "        view_dom_weight[item_dom] = view_dom_weight.get(item_dom,0) + dom_view_time_weighing(delta.total_seconds()/3600)\n",
        "    else:\n",
        "      item_dom = train_searches_doms[i]\n",
        "      i += 1\n",
        "      search_dom_weight[item_dom] = search_dom_weight.get(item_dom,0) + search_time_weighing(delta.total_seconds()/3600)\n",
        "  for dom in set(list(view_dom_weight.keys()) + list(search_dom_weight.keys())):\n",
        "    bdoms.append(dom==bdom)\n",
        "    searches.append(search_dom_weight.get(dom,0))\n",
        "    views.append(view_dom_weight.get(dom,0))\n",
        "    domains.append(dom)"
      ],
      "execution_count": null,
      "outputs": []
    },
    {
      "cell_type": "code",
      "metadata": {
        "colab": {
          "base_uri": "https://localhost:8080/",
          "height": 138
        },
        "id": "Vr10gxqJw3j8",
        "outputId": "73eafa76-5c18-47e4-b200-621a2aef5871"
      },
      "source": [
        "trees_df = pd.DataFrame({'domains':domains,'searches':searches, 'views':views, 'bdoms':bdoms})\n",
        "trees_df.head(3)"
      ],
      "execution_count": null,
      "outputs": [
        {
          "output_type": "execute_result",
          "data": {
            "text/html": [
              "<div>\n",
              "<style scoped>\n",
              "    .dataframe tbody tr th:only-of-type {\n",
              "        vertical-align: middle;\n",
              "    }\n",
              "\n",
              "    .dataframe tbody tr th {\n",
              "        vertical-align: top;\n",
              "    }\n",
              "\n",
              "    .dataframe thead th {\n",
              "        text-align: right;\n",
              "    }\n",
              "</style>\n",
              "<table border=\"1\" class=\"dataframe\">\n",
              "  <thead>\n",
              "    <tr style=\"text-align: right;\">\n",
              "      <th></th>\n",
              "      <th>domains</th>\n",
              "      <th>searches</th>\n",
              "      <th>views</th>\n",
              "      <th>bdoms</th>\n",
              "    </tr>\n",
              "  </thead>\n",
              "  <tbody>\n",
              "    <tr>\n",
              "      <th>0</th>\n",
              "      <td>MLB-BLENDERS</td>\n",
              "      <td>3.999316</td>\n",
              "      <td>2.999771</td>\n",
              "      <td>False</td>\n",
              "    </tr>\n",
              "    <tr>\n",
              "      <th>1</th>\n",
              "      <td>MLB-FOOTBALL_SHIRTS</td>\n",
              "      <td>0.000000</td>\n",
              "      <td>1.604268</td>\n",
              "      <td>False</td>\n",
              "    </tr>\n",
              "    <tr>\n",
              "      <th>2</th>\n",
              "      <td>MLB-ACTION_FIGURES</td>\n",
              "      <td>0.000000</td>\n",
              "      <td>0.397691</td>\n",
              "      <td>False</td>\n",
              "    </tr>\n",
              "  </tbody>\n",
              "</table>\n",
              "</div>"
            ],
            "text/plain": [
              "               domains  searches     views  bdoms\n",
              "0         MLB-BLENDERS  3.999316  2.999771  False\n",
              "1  MLB-FOOTBALL_SHIRTS  0.000000  1.604268  False\n",
              "2   MLB-ACTION_FIGURES  0.000000  0.397691  False"
            ]
          },
          "metadata": {},
          "execution_count": 22
        }
      ]
    },
    {
      "cell_type": "code",
      "metadata": {
        "id": "1ZbEtem52m7i"
      },
      "source": [
        "bdoms_list = trees_df[trees_df.bdoms].domains.unique().tolist()"
      ],
      "execution_count": null,
      "outputs": []
    },
    {
      "cell_type": "code",
      "metadata": {
        "id": "bkjwiPkP3Loj"
      },
      "source": [
        "trees_df['ever_bdom'] = trees_df.domains.isin(bdoms_list)"
      ],
      "execution_count": null,
      "outputs": []
    },
    {
      "cell_type": "code",
      "metadata": {
        "id": "cHvnFpE9xZJC"
      },
      "source": [
        "doms_len = trees_df[trees_df.views>0].groupby('domains').count().searches.to_dict()"
      ],
      "execution_count": null,
      "outputs": []
    },
    {
      "cell_type": "code",
      "metadata": {
        "id": "ghw-EPh62EF1"
      },
      "source": [
        "trees_df['s_over_v'] = trees_df.searches / trees_df.views"
      ],
      "execution_count": null,
      "outputs": []
    },
    {
      "cell_type": "code",
      "metadata": {
        "id": "LdyzQb6i2Nq1"
      },
      "source": [
        "generic_model_list = trees_df[trees_df.ever_bdom & (trees_df.views>0)].groupby('domains').count().searches[trees_df[trees_df.ever_bdom & (trees_df.views>0)].groupby('domains').count().searches <= 99].index.tolist()\n",
        "\n",
        "own_model_list = trees_df[trees_df.ever_bdom & (trees_df.views>0)].groupby('domains').count().searches[trees_df[trees_df.ever_bdom & (trees_df.views>0)].groupby('domains').count().searches > 99].index.tolist()\n",
        "\n",
        "# own_model_list = (trees_df[trees_df.ever_bdom & (trees_df.views>0)].groupby('domains').count().searches > 99).index.tolist()\n",
        "# generic_model_list = (trees_df[trees_df.ever_bdom & (trees_df.views>0)].groupby('domains').count().searches <= 99).index.tolist()\n",
        "no_model_list = [dom for dom in trees_df.domains.unique().tolist() if (dom not in own_model_list) and (dom not in generic_model_list)]"
      ],
      "execution_count": null,
      "outputs": []
    },
    {
      "cell_type": "code",
      "metadata": {
        "id": "Qvz8awVPL7nC"
      },
      "source": [
        "dict_to_apply_modeltype = {}\n",
        "for model in own_model_list:\n",
        "  dict_to_apply_modeltype[model] = 'own'\n",
        "for model in generic_model_list:\n",
        "  dict_to_apply_modeltype[model] = 'generic'\n",
        "for model in no_model_list:\n",
        "  dict_to_apply_modeltype[model] = 'none'\n",
        "\n"
      ],
      "execution_count": null,
      "outputs": []
    },
    {
      "cell_type": "code",
      "metadata": {
        "colab": {
          "base_uri": "https://localhost:8080/",
          "height": 108
        },
        "id": "c6J73Jdh7hyd",
        "outputId": "794ce40f-7d67-4f6f-f2cc-639c8227a2ef"
      },
      "source": [
        "# def decide_model(row):\n",
        "#   if row.domains in own_model_list:\n",
        "#     return 'own'\n",
        "#   elif row.domains in generic_model_list:\n",
        "#     return 'generic'\n",
        "#   else:\n",
        "#     return 'none'\n",
        "\n",
        "# trees_df['model_type'] = trees_df.apply(decide_model, axis=1)\n",
        "# trees_df\n",
        "\n",
        "trees_df['model_type'] = trees_df.domains.apply(lambda row: dict_to_apply_modeltype[row])\n",
        "trees_df.head(2)"
      ],
      "execution_count": null,
      "outputs": [
        {
          "output_type": "execute_result",
          "data": {
            "text/html": [
              "<div>\n",
              "<style scoped>\n",
              "    .dataframe tbody tr th:only-of-type {\n",
              "        vertical-align: middle;\n",
              "    }\n",
              "\n",
              "    .dataframe tbody tr th {\n",
              "        vertical-align: top;\n",
              "    }\n",
              "\n",
              "    .dataframe thead th {\n",
              "        text-align: right;\n",
              "    }\n",
              "</style>\n",
              "<table border=\"1\" class=\"dataframe\">\n",
              "  <thead>\n",
              "    <tr style=\"text-align: right;\">\n",
              "      <th></th>\n",
              "      <th>domains</th>\n",
              "      <th>searches</th>\n",
              "      <th>views</th>\n",
              "      <th>bdoms</th>\n",
              "      <th>ever_bdom</th>\n",
              "      <th>s_over_v</th>\n",
              "      <th>model_type</th>\n",
              "    </tr>\n",
              "  </thead>\n",
              "  <tbody>\n",
              "    <tr>\n",
              "      <th>0</th>\n",
              "      <td>MLB-VEHICLE_ACCESSORIES</td>\n",
              "      <td>0.000000</td>\n",
              "      <td>2.445643</td>\n",
              "      <td>False</td>\n",
              "      <td>True</td>\n",
              "      <td>0.0</td>\n",
              "      <td>own</td>\n",
              "    </tr>\n",
              "    <tr>\n",
              "      <th>1</th>\n",
              "      <td>MLB-SHIRTS</td>\n",
              "      <td>0.772882</td>\n",
              "      <td>0.000000</td>\n",
              "      <td>False</td>\n",
              "      <td>True</td>\n",
              "      <td>inf</td>\n",
              "      <td>own</td>\n",
              "    </tr>\n",
              "  </tbody>\n",
              "</table>\n",
              "</div>"
            ],
            "text/plain": [
              "                   domains  searches     views  ...  ever_bdom  s_over_v  model_type\n",
              "0  MLB-VEHICLE_ACCESSORIES  0.000000  2.445643  ...       True       0.0         own\n",
              "1               MLB-SHIRTS  0.772882  0.000000  ...       True       inf         own\n",
              "\n",
              "[2 rows x 7 columns]"
            ]
          },
          "metadata": {},
          "execution_count": 28
        }
      ]
    },
    {
      "cell_type": "code",
      "metadata": {
        "id": "cxI2eJ0hxI2h"
      },
      "source": [
        "from sklearn.tree import DecisionTreeClassifier\n",
        "trees_dict = {}\n",
        "\n",
        "for domain in own_model_list:\n",
        "  X = trees_df[(trees_df.domains == domain) & (trees_df.views>0)][['searches', 'views', 's_over_v']]\n",
        "  y = trees_df[(trees_df.domains == domain) & (trees_df.views>0)].bdoms\n",
        "  trees_dict[domain] = DecisionTreeClassifier(min_samples_split=0.1, random_state=4).fit(X,y)"
      ],
      "execution_count": null,
      "outputs": []
    },
    {
      "cell_type": "code",
      "metadata": {
        "id": "uQmvEBO384HQ"
      },
      "source": [
        "X = trees_df[(trees_df.model_type == 'generic') & (trees_df.views>0)][['searches', 'views', 's_over_v']]\n",
        "y = trees_df[(trees_df.model_type == 'generic') & (trees_df.views>0)].bdoms\n",
        "trees_dict['generic'] = DecisionTreeClassifier(min_samples_split=0.1, random_state=4).fit(X,y)"
      ],
      "execution_count": null,
      "outputs": []
    },
    {
      "cell_type": "code",
      "metadata": {
        "id": "gyXdSdW-em15"
      },
      "source": [
        "import pickle\n",
        "def save_obj(obj, name ):\n",
        "    with open(name + '.pkl', 'wb') as f:\n",
        "        pickle.dump(obj, f, pickle.HIGHEST_PROTOCOL)\n",
        "\n",
        "def load_obj(name ):\n",
        "    with open(name + '.pkl', 'rb') as f:\n",
        "        return pickle.load(f)\n",
        "\n",
        "# save_obj(trees_dict, 'trees_dict')\n",
        "\n",
        "trees_dict = load_obj('trees_dict')"
      ],
      "execution_count": null,
      "outputs": []
    },
    {
      "cell_type": "markdown",
      "metadata": {
        "id": "mikclNhgY8LC"
      },
      "source": [
        "##### Armado modelo 11"
      ]
    },
    {
      "cell_type": "code",
      "metadata": {
        "id": "7OqugfyN9WpE"
      },
      "source": [
        "#TOP ITEMS POR DOMAIN\n",
        "train_df['domain_id'] = train_df.apply(lambda row: item_domain_dict[row.item_bought], axis=1)\n",
        "top10_df = (train_df.groupby(['domain_id','item_bought']).count().\n",
        "            sort_values(['domain_id','user_history'], ascending=False).\n",
        "            reset_index(drop=False).groupby('domain_id').head(10))\n",
        "top_10_items_by_domain = {}\n",
        "\n",
        "for domain in top10_df.domain_id.unique():\n",
        "  top_10_items_by_domain[domain] = [item for item in top10_df[top10_df.domain_id == domain]['item_bought']]\n",
        "\n",
        "most_common_10 = train_df.groupby('item_bought').count().sort_values('user_history', ascending=False).index.tolist()[:10]"
      ],
      "execution_count": null,
      "outputs": []
    },
    {
      "cell_type": "code",
      "metadata": {
        "id": "s8Th4R7Y9aBb"
      },
      "source": [
        "#Calculando P(domain sea comprado) y creando un dict para lookup rápido\n",
        "total = len(train_df)\n",
        "\n",
        "bdom_count = train_df.groupby('domain_id').count()\n",
        "bdom_list = bdom_count.index.tolist()\n",
        "bdom_prob = bdom_count.user_history / total\n",
        "bdom_prob = bdom_prob.tolist()\n",
        "bdom_prob_dict = dict(zip(bdom_list, bdom_prob))\n",
        "\n",
        "bitem_count = train_df.groupby('item_bought').count()\n",
        "bitem_list = bitem_count.index.tolist()\n",
        "bitem_prob = bitem_count.user_history / total\n",
        "bitem_prob = bitem_prob.tolist()\n",
        "bitem_prob_dict = dict(zip(bitem_list, bitem_prob))"
      ],
      "execution_count": null,
      "outputs": []
    },
    {
      "cell_type": "code",
      "metadata": {
        "id": "Bfqjqvt79dul"
      },
      "source": [
        "# WEIGHT_THRESHOLD = 0.0001\n",
        "# DOMAINS_THRESHOLD = 2\n",
        "\n",
        "pred_y_model11 = []\n",
        "\n",
        "\n",
        "def find_next_item(domains_list,predictions):\n",
        "  '''Encuentra el próximo item que aún no está en la lista de predicciones, dentro de una lista de dominios ordenada de mejor a peor'''\n",
        "  for domain in domains_list:\n",
        "    for item in top_10_items_by_domain.get(domain,[]):  #Pueden haber domains vistos que no han sido comprados\n",
        "      if item not in predictions:\n",
        "        return item\n",
        "  for item in most_common_10:\n",
        "    if item not in predictions:\n",
        "      return item\n",
        "\n",
        "def model_11(events_list,strength=1.5, search_strength=1,search_preload=None,preload_index=0):\n",
        "  DOM_SYNERGY_STRENGTH = strength\n",
        "  SEARCH_STRENGTH = search_strength\n",
        "  #Modelo con:  acumulación de vistas, pesadas según tiempo\n",
        "              # sinergia entre domains con muchas vistas, pesado según tiempo, y según tipo de domain \n",
        "              # + SEARCHES DE DOMINIO pesadas según tiempo y según tipo de domain\n",
        "\n",
        "  items_weight = {}\n",
        "  domains_weight = {}\n",
        "  search_doms_weights = {}\n",
        "  i = preload_index                 #CON PRECARGA PREDICT(SEARCH)\n",
        "\n",
        "  most_recent_time = datetime.strptime(events_list[-1]['event_timestamp'], '%Y-%m-%dT%H:%M:%S.%f%z')\n",
        "  ###VISTAS:\n",
        "  #Por cada VISTA de un producto, se agrega peso a dicho item, ponderado por el tiempo que hace que lo vio, y \n",
        "  #por la prob global de que se venda dicho prod\n",
        "  for event in events_list:\n",
        "    delta = most_recent_time - datetime.strptime(event['event_timestamp'], '%Y-%m-%dT%H:%M:%S.%f%z')\n",
        "    if event['event_type'] == 'view':\n",
        "      items_weight[event['event_info']] = items_weight.get(event['event_info'],0) + time_weighing(delta.total_seconds()/3600) #se convierte el delta en horas como float\n",
        "      #Además, se agrega un contador de vistas del dominio (ponderada por time_delta) para luego agregarle peso a los items de los domains mas vistos\n",
        "      event_dom = item_domain_dict[event['event_info']]\n",
        "      if event_dom:\n",
        "        domains_weight[event_dom] = domains_weight.get(event_dom,0) + dom_view_time_weighing(delta.total_seconds()/3600)\n",
        "    ###SEARCHES DE DOMAIN\n",
        "    else:   \n",
        "      search_dom = search_preload[i]        #CON PRECARGA PREDICT(SEARCH)\n",
        "      i +=1                                 #CON PRECARGA PREDICT(SEARCH)\n",
        "      search_doms_weights[search_dom] = search_doms_weights.get(search_dom,0) + search_time_weighing(delta.total_seconds()/3600)\n",
        "\n",
        "  # TO-DO: Re entrenar el tree haciendo esta multiplicación por la bdom_prob\n",
        "  # for dom in domains_weight:\n",
        "  #   domains_weight[dom] *= bdom_prob_dict.get(dom,0)\n",
        "  # for dom in search_doms_weights:\n",
        "  #   search_doms_weights[dom] *= bdom_prob_dict.get(dom,0)\n",
        "  viewed_items_doms = []\n",
        "  for item in items_weight:\n",
        "    item_dom = item_domain_dict[item]\n",
        "    if item_dom and item_dom not in viewed_items_doms:\n",
        "      viewed_items_doms.append(item_dom)\n",
        "  \n",
        "  #Calculamos la prob total de comprar tal o cual domain, para \n",
        "  total_doms_proba = 0\n",
        "  doms_tree_probs = {}\n",
        "  for dom in viewed_items_doms:\n",
        "    if dom in no_model_list:\n",
        "      doms_tree_probs[dom] = 0\n",
        "    elif dom in generic_model_list:\n",
        "      searches_weight = search_doms_weights.get(dom,0)\n",
        "      views_weight = domains_weight.get(dom,0)\n",
        "      if views_weight > 0:\n",
        "        s_over_v = searches_weight / views_weight\n",
        "        doms_tree_probs[dom] = trees_dict['generic'].predict_proba(np.array([searches_weight,views_weight,s_over_v]).reshape(1,-1))[0][1]\n",
        "    elif dom in trees_dict.keys():\n",
        "      searches_weight = search_doms_weights.get(dom,0)\n",
        "      views_weight = domains_weight.get(dom,0)\n",
        "      if views_weight > 0:\n",
        "        s_over_v = searches_weight / views_weight\n",
        "        proba = trees_dict[dom].predict_proba(np.array([searches_weight,views_weight,s_over_v]).reshape(1,-1))       \n",
        "        if len(proba[0]) > 1:\n",
        "          doms_tree_probs[dom] = proba[0][1]\n",
        "        else:\n",
        "          doms_tree_probs[dom] = int(proba[0])\n",
        "    else:\n",
        "      doms_tree_probs[dom] = 0\n",
        "      # print('dom no en nomodel y no en generic, pero tampoco en ownmodel:',dom)\n",
        "  total_dom_weight = 0\n",
        "  for dom in doms_tree_probs:\n",
        "    total_dom_weight += doms_tree_probs[dom]\n",
        "\n",
        "  for item in items_weight:\n",
        "    if total_dom_weight > 0:\n",
        "      item_dom = item_domain_dict[item]\n",
        "      if item_dom:\n",
        "        items_weight[item] *=  1 + (doms_tree_probs.get(item_dom,0)/total_dom_weight* DOM_SYNERGY_STRENGTH)\n",
        "    items_weight[item] *= bitem_prob_dict.get(item,0)\n",
        "\n",
        "\n",
        "\n",
        "    #TO-DO evitar el overfitting que trae los items con prob=0 (nunca se podrá predecir la compra de algo que no fue comprado aun si no)\n",
        "  top_viewed_items = sorted(items_weight, key=items_weight.get, reverse=True)[:10] #Puede devolver menos que 10 items, si el user vio menos que 10\n",
        "    \n",
        "  #Establecer prioridad entre los dominios VISTOS + BUSCADOS, para completar la recomendación del top10\n",
        "  top_domains = sorted(doms_tree_probs, key=doms_tree_probs.get, reverse=True)\n",
        "    \n",
        "  #Generar las 10 predicciones\n",
        "  #TO-DO> Pensar si conviene agregar un WEIGHT_THRESHOLD a partir del cual el item no será recomendado, y se recomendará en cambio algún item popular del top_domain\n",
        "  top_10_predictions = top_viewed_items[:]\n",
        "  for i in range(len(top_10_predictions),10):\n",
        "    top_10_predictions.append(find_next_item(top_domains,top_10_predictions))\n",
        "  return top_10_predictions, i\n",
        "\n",
        "\n",
        "# for row in train_df.itertuples():\n",
        "#  pred_y_model9.append(model_9(row.user_history))"
      ],
      "execution_count": null,
      "outputs": []
    },
    {
      "cell_type": "code",
      "metadata": {
        "id": "llWlW1xpkNNs"
      },
      "source": [
        "def ndcg(predictions,bitem):\n",
        "  ''' Dada una List de predictions, y un item comprado (int), devuelve el calculo de nDCG de la prediccion'''\n",
        "  best = 22.4246159748234\n",
        "  current = 0\n",
        "  bdom = item_domain_dict[bitem]\n",
        "  for i in range(1,11):\n",
        "    pred = predictions[i-1]\n",
        "    if pred == bitem:\n",
        "      gain = 12\n",
        "    elif item_domain_dict[pred] == bdom:\n",
        "      gain = 1\n",
        "    else:\n",
        "      gain = 0\n",
        "    current += (1/np.log(1+i)) * gain\n",
        "  return current/best "
      ],
      "execution_count": null,
      "outputs": []
    },
    {
      "cell_type": "code",
      "metadata": {
        "colab": {
          "base_uri": "https://localhost:8080/"
        },
        "id": "dSbpRhrF_zP7",
        "outputId": "7d9f5ed1-76fa-4c7e-dad7-053cbb036edd"
      },
      "source": [
        "true_bitem = train_df.item_bought.tolist()\n",
        "true_bitem_test = test_df.item_bought.tolist()\n",
        "for search_strength in [1]:\n",
        "  for view_strength in [150,300]:\n",
        "    #TRAIN\n",
        "    pred_y_model11 = []\n",
        "    preload_index = 0\n",
        "    for row in train_df.itertuples():\n",
        "      model_11_pred, preload_index = model_11(row.user_history,strength=view_strength,\n",
        "                                              search_strength=search_strength,search_preload=train_searches_doms, preload_index = preload_index)\n",
        "      pred_y_model11.append(model_11_pred)\n",
        "\n",
        "    ndcg_list = []\n",
        "    for i in range(len(true_bitem)):\n",
        "      ndcg_list.append(ndcg(pred_y_model11[i], true_bitem[i]))\n",
        "  \n",
        "    #TEST:\n",
        "    pred_y_model11_test = []\n",
        "    preload_index = 0\n",
        "    for row in test_df.itertuples():\n",
        "      model_11_pred, preload_index = model_11(row.user_history,strength=view_strength,\n",
        "                                              search_strength=search_strength,search_preload=test_searches_doms, preload_index = preload_index)\n",
        "      pred_y_model11_test.append(model_11_pred)\n",
        "    \n",
        "    ndcg_list_test = []\n",
        "    for i in range(len(true_bitem_test)):\n",
        "      ndcg_list_test.append(ndcg(pred_y_model11_test[i], true_bitem_test[i]))\n",
        "    print('View strength=', view_strength, 'Search strength=',search_strength, 'nDCG TRAIN=', sum(ndcg_list) / len(ndcg_list))\n",
        "    print('View strength=', view_strength, 'Search strength=',search_strength, 'nDCG TEST =', sum(ndcg_list_test) / len(ndcg_list_test))"
      ],
      "execution_count": null,
      "outputs": [
        {
          "output_type": "stream",
          "name": "stdout",
          "text": [
            "View strength= 150 Search strength= 1 nDCG TRAIN= 0.2916055811814277\n",
            "View strength= 150 Search strength= 1 nDCG TEST = 0.28167225423908804\n",
            "View strength= 300 Search strength= 1 nDCG TRAIN= 0.2915965781411806\n",
            "View strength= 300 Search strength= 1 nDCG TEST = 0.2815952576553373\n"
          ]
        }
      ]
    },
    {
      "cell_type": "markdown",
      "metadata": {
        "id": "OSA8wFd0apWK"
      },
      "source": [
        "#### Modelo 12: Nueva imputación de items no vistos"
      ]
    },
    {
      "cell_type": "code",
      "metadata": {
        "id": "iP_7K4OUa9Mp"
      },
      "source": [
        "# Correr armador de generic_model_list y no_model_list en modelo 11"
      ],
      "execution_count": null,
      "outputs": []
    },
    {
      "cell_type": "code",
      "metadata": {
        "id": "S78lm59ZbCb5"
      },
      "source": [
        "#TOP ITEMS POR DOMAIN\n",
        "train_df['domain_id'] = train_df.apply(lambda row: item_domain_dict[row.item_bought], axis=1)\n",
        "top10_df = (train_df.groupby(['domain_id','item_bought']).count().\n",
        "            sort_values(['domain_id','user_history'], ascending=False).\n",
        "            reset_index(drop=False).groupby('domain_id').head(10))\n",
        "top_10_items_by_domain = {}\n",
        "\n",
        "for domain in top10_df.domain_id.unique():\n",
        "  top_10_items_by_domain[domain] = [item for item in top10_df[top10_df.domain_id == domain]['item_bought']]\n",
        "\n",
        "most_common_10 = train_df.groupby('item_bought').count().sort_values('user_history', ascending=False).index.tolist()[:10]"
      ],
      "execution_count": null,
      "outputs": []
    },
    {
      "cell_type": "code",
      "metadata": {
        "id": "geW9ogX8bHF3"
      },
      "source": [
        "#Calculando P(domain sea comprado) y creando un dict para lookup rápido\n",
        "total = len(train_df)\n",
        "\n",
        "bdom_count = train_df.groupby('domain_id').count()\n",
        "bdom_list = bdom_count.index.tolist()\n",
        "bdom_prob = bdom_count.user_history / total\n",
        "bdom_prob = bdom_prob.tolist()\n",
        "bdom_prob_dict = dict(zip(bdom_list, bdom_prob))\n",
        "\n",
        "bitem_count = train_df.groupby('item_bought').count()\n",
        "bitem_list = bitem_count.index.tolist()\n",
        "bitem_prob = bitem_count.user_history / total\n",
        "bitem_prob = bitem_prob.tolist()\n",
        "bitem_prob_dict = dict(zip(bitem_list, bitem_prob))"
      ],
      "execution_count": null,
      "outputs": []
    },
    {
      "cell_type": "code",
      "metadata": {
        "id": "0SoGdfWFbKte"
      },
      "source": [
        "# WEIGHT_THRESHOLD = 0.0001\n",
        "# DOMAINS_THRESHOLD = 2\n",
        "\n",
        "pred_y_model12 = []\n",
        "\n",
        "\n",
        "def next_item(item_list, predictions, completing):\n",
        "  for item in item_list:\n",
        "    if item not in predictions and item not in completing:\n",
        "      return item\n",
        "  return None\n",
        "def complete_prediction_list(domains_prob_dict, predictions):\n",
        "  '''Devuelve los n items faltantes en la lista de predicciones, dentro de una lista de dominios ordenada de mejor a peor'''\n",
        "  lacking = 10 - len(predictions)\n",
        "  # dom_percentage = {}\n",
        "  total_doms_weight = sum(domains_prob_dict.values())\n",
        "  completing = []\n",
        "  if total_doms_weight > 0: \n",
        "    for dom in sorted(domains_prob_dict, key=domains_prob_dict.get, reverse=True):  #Dominios ordenados de mayor a menor\n",
        "      for i in range(int(np.ceil(domains_prob_dict[dom] / total_doms_weight * lacking))):  #si el % de un dom es 0,33, y lacking=4, agregar 2 items de ese dom a completing list\n",
        "        n_item = next_item(top_10_items_by_domain.get(dom,[]), predictions, completing)\n",
        "        if n_item:\n",
        "          completing.append(n_item)\n",
        "  while len(completing) < lacking:\n",
        "    for item in most_common_10:\n",
        "      if item not in predictions and item not in completing:\n",
        "        completing.append(item)\n",
        "  return completing[:lacking] \n",
        "\n",
        "\n",
        "def model_12(events_list,strength=1.5, search_strength=1,search_preload=None,preload_index=0):\n",
        "  DOM_SYNERGY_STRENGTH = strength\n",
        "  SEARCH_STRENGTH = search_strength\n",
        "  #Modelo con:  acumulación de vistas, pesadas según tiempo\n",
        "              # sinergia entre domains con muchas vistas, pesado según tiempo, y según tipo de domain \n",
        "              # + SEARCHES DE DOMINIO pesadas según tiempo y según tipo de domain\n",
        "\n",
        "  items_weight = {}\n",
        "  domains_weight = {}\n",
        "  search_doms_weights = {}\n",
        "  i = preload_index                 #CON PRECARGA PREDICT(SEARCH)\n",
        "\n",
        "  most_recent_time = datetime.strptime(events_list[-1]['event_timestamp'], '%Y-%m-%dT%H:%M:%S.%f%z')\n",
        "  ###VISTAS:\n",
        "  #Por cada VISTA de un producto, se agrega peso a dicho item, ponderado por el tiempo que hace que lo vio, y \n",
        "  #por la prob global de que se venda dicho prod\n",
        "  for event in events_list:\n",
        "    delta = most_recent_time - datetime.strptime(event['event_timestamp'], '%Y-%m-%dT%H:%M:%S.%f%z')\n",
        "    if event['event_type'] == 'view':\n",
        "      items_weight[event['event_info']] = items_weight.get(event['event_info'],0) + time_weighing(delta.total_seconds()/3600) #se convierte el delta en horas como float\n",
        "      #Además, se agrega un contador de vistas del dominio (ponderada por time_delta) para luego agregarle peso a los items de los domains mas vistos\n",
        "      event_dom = item_domain_dict[event['event_info']]\n",
        "      if event_dom:\n",
        "        domains_weight[event_dom] = domains_weight.get(event_dom,0) + dom_view_time_weighing(delta.total_seconds()/3600)\n",
        "    ###SEARCHES DE DOMAIN\n",
        "    else:   \n",
        "      search_dom = search_preload[i]        #CON PRECARGA PREDICT(SEARCH)\n",
        "      i +=1                                 #CON PRECARGA PREDICT(SEARCH)\n",
        "      search_doms_weights[search_dom] = search_doms_weights.get(search_dom,0) + search_time_weighing(delta.total_seconds()/3600)\n",
        "\n",
        "  # TO-DO: Re entrenar el tree haciendo esta multiplicación por la bdom_prob\n",
        "  # for dom in domains_weight:\n",
        "  #   domains_weight[dom] *= bdom_prob_dict.get(dom,0)\n",
        "  # for dom in search_doms_weights:\n",
        "  #   search_doms_weights[dom] *= bdom_prob_dict.get(dom,0)\n",
        "  viewed_items_doms = []\n",
        "  for item in items_weight:\n",
        "    item_dom = item_domain_dict[item]\n",
        "    if item_dom and item_dom not in viewed_items_doms:\n",
        "      viewed_items_doms.append(item_dom)\n",
        "  \n",
        "  #Calculamos la prob total de comprar tal o cual domain, para \n",
        "  total_doms_proba = 0\n",
        "  doms_tree_probs = {}\n",
        "  for dom in viewed_items_doms:\n",
        "    if dom in no_model_list:\n",
        "      doms_tree_probs[dom] = 0\n",
        "    elif dom in generic_model_list:\n",
        "      searches_weight = search_doms_weights.get(dom,0)\n",
        "      views_weight = domains_weight.get(dom,0)\n",
        "      if views_weight > 0:\n",
        "        s_over_v = searches_weight / views_weight\n",
        "        doms_tree_probs[dom] = trees_dict['generic'].predict_proba(np.array([searches_weight,views_weight,s_over_v]).reshape(1,-1))[0][1]\n",
        "    elif dom in trees_dict.keys():\n",
        "      searches_weight = search_doms_weights.get(dom,0)\n",
        "      views_weight = domains_weight.get(dom,0)\n",
        "      if views_weight > 0:\n",
        "        s_over_v = searches_weight / views_weight\n",
        "        proba = trees_dict[dom].predict_proba(np.array([searches_weight,views_weight,s_over_v]).reshape(1,-1))       \n",
        "        if len(proba[0]) > 1:\n",
        "          doms_tree_probs[dom] = proba[0][1]\n",
        "        else:\n",
        "          doms_tree_probs[dom] = int(proba[0])\n",
        "    else:\n",
        "      doms_tree_probs[dom] = 0\n",
        "      # print('dom no en nomodel y no en generic, pero tampoco en ownmodel:',dom)\n",
        "  total_dom_weight = 0\n",
        "  for dom in doms_tree_probs:\n",
        "    total_dom_weight += doms_tree_probs[dom]\n",
        "\n",
        "  for item in items_weight:\n",
        "    if total_dom_weight > 0:\n",
        "      item_dom = item_domain_dict[item]\n",
        "      if item_dom:\n",
        "        items_weight[item] *=  1 + (doms_tree_probs.get(item_dom,0)/total_dom_weight* DOM_SYNERGY_STRENGTH)\n",
        "    items_weight[item] *= bitem_prob_dict.get(item,0)\n",
        "\n",
        "\n",
        "\n",
        "    #TO-DO evitar el overfitting que trae los items con prob=0 (nunca se podrá predecir la compra de algo que no fue comprado aun si no)\n",
        "  top_viewed_items = sorted(items_weight, key=items_weight.get, reverse=True)[:10] #Puede devolver menos que 10 items, si el user vio menos que 10\n",
        "    \n",
        "  #Establecer prioridad entre los dominios VISTOS + BUSCADOS, para completar la recomendación del top10\n",
        "  # top_domains = sorted(doms_tree_probs, key=doms_tree_probs.get, reverse=True)\n",
        "  # domains_total = sum(doms_tree_probs.values())\n",
        "\n",
        "  #Generar las 10 predicciones\n",
        "  #TO-DO> Pensar si conviene agregar un WEIGHT_THRESHOLD a partir del cual el item no será recomendado, y se recomendará en cambio algún item popular del top_domain\n",
        "  top_10_predictions = top_viewed_items[:]\n",
        "  top_10_predictions.extend(complete_prediction_list(doms_tree_probs,top_10_predictions))\n",
        "  if len(top_10_predictions) > 10:\n",
        "    print('algo pasóoo')\n",
        "  return top_10_predictions, i\n",
        "\n",
        "\n",
        "# for row in train_df.itertuples():\n",
        "#  pred_y_model9.append(model_9(row.user_history))"
      ],
      "execution_count": null,
      "outputs": []
    },
    {
      "cell_type": "code",
      "metadata": {
        "id": "-x7HhrnziQ2u"
      },
      "source": [
        "def ndcg(predictions,bitem):\n",
        "  ''' Dada una List de predictions, y un item comprado (int), devuelve el calculo de nDCG de la prediccion'''\n",
        "  best = 22.4246159748234\n",
        "  current = 0\n",
        "  bdom = item_domain_dict[bitem]\n",
        "  for i in range(1,11):\n",
        "    pred = predictions[i-1]\n",
        "    if pred == bitem:\n",
        "      gain = 12\n",
        "    elif item_domain_dict[pred] == bdom:\n",
        "      gain = 1\n",
        "    else:\n",
        "      gain = 0\n",
        "    current += (1/np.log(1+i)) * gain\n",
        "  return current/best "
      ],
      "execution_count": null,
      "outputs": []
    },
    {
      "cell_type": "code",
      "metadata": {
        "colab": {
          "base_uri": "https://localhost:8080/"
        },
        "id": "38pUw8ISiTvC",
        "outputId": "7f9d544e-0f51-4dd4-dfe1-5e39d82f33fb"
      },
      "source": [
        "true_bitem = train_df.item_bought.tolist()\n",
        "true_bitem_test = test_df.item_bought.tolist()\n",
        "for search_strength in [1]:\n",
        "  for view_strength in [150,200, 100]:\n",
        "    #TRAIN\n",
        "    pred_y_model12 = []\n",
        "    preload_index = 0\n",
        "    for row in train_df.itertuples():\n",
        "      model_12_pred, preload_index = model_12(row.user_history,strength=view_strength,\n",
        "                                              search_strength=search_strength,search_preload=train_searches_doms, preload_index = preload_index)\n",
        "      pred_y_model12.append(model_12_pred)\n",
        "\n",
        "    ndcg_list = []\n",
        "    for i in range(len(true_bitem)):\n",
        "      ndcg_list.append(ndcg(pred_y_model12[i], true_bitem[i]))\n",
        "  \n",
        "    #TEST:\n",
        "    pred_y_model12_test = []\n",
        "    preload_index = 0\n",
        "    for row in test_df.itertuples():\n",
        "      model_12_pred, preload_index = model_12(row.user_history,strength=view_strength,\n",
        "                                              search_strength=search_strength,search_preload=test_searches_doms, preload_index = preload_index)\n",
        "      pred_y_model12_test.append(model_12_pred)\n",
        "    \n",
        "    ndcg_list_test = []\n",
        "    for i in range(len(true_bitem_test)):\n",
        "      ndcg_list_test.append(ndcg(pred_y_model12_test[i], true_bitem_test[i]))\n",
        "    print('View strength=', view_strength, 'Search strength=',search_strength, 'nDCG TRAIN=', sum(ndcg_list) / len(ndcg_list))\n",
        "    print('View strength=', view_strength, 'Search strength=',search_strength, 'nDCG TEST =', sum(ndcg_list_test) / len(ndcg_list_test))"
      ],
      "execution_count": null,
      "outputs": [
        {
          "output_type": "stream",
          "name": "stdout",
          "text": [
            "View strength= 150 Search strength= 1 nDCG TRAIN= 0.2927698976591946\n",
            "View strength= 150 Search strength= 1 nDCG TEST = 0.27912616991482875\n",
            "View strength= 200 Search strength= 1 nDCG TRAIN= 0.29278036219044684\n",
            "View strength= 200 Search strength= 1 nDCG TEST = 0.2790726367010627\n",
            "View strength= 100 Search strength= 1 nDCG TRAIN= 0.292753441142799\n",
            "View strength= 100 Search strength= 1 nDCG TEST = 0.2791605472045758\n"
          ]
        }
      ]
    },
    {
      "cell_type": "code",
      "metadata": {
        "id": "fMz4lp_fBkkT",
        "colab": {
          "base_uri": "https://localhost:8080/"
        },
        "outputId": "2a0ac0a3-3a12-4ec5-f6f5-ef25afde6105"
      },
      "source": [
        "1+1"
      ],
      "execution_count": null,
      "outputs": [
        {
          "output_type": "execute_result",
          "data": {
            "text/plain": [
              "2"
            ]
          },
          "metadata": {},
          "execution_count": 54
        }
      ]
    },
    {
      "cell_type": "markdown",
      "metadata": {
        "id": "JY4E_ElbgNzj"
      },
      "source": [
        "##Conclusiones\n",
        "Se ha obtenido un nDCG de 0.287, bastante digno en comparación a los baseline presentados en el Data Challenge de Youtube (donde 0.20 es el de mejor performance, y el ganador estuvo por 0.35/0.37).\n",
        "\n",
        "\n"
      ]
    },
    {
      "cell_type": "markdown",
      "metadata": {
        "id": "EADSB5nYiRvE"
      },
      "source": [
        "###To-DO:\n",
        "  \n",
        "\n",
        "*   Analizar otras estrategias más del palo de machine-learning\n",
        "*   Probar con alguna medida menos overfitteadora que la P(comprar item)\n",
        "*   Repetir modelos entrenando en un subconjunto, y calculando el nDCG con otro de test (es decir, tomar la estrategia que corresponde de entrenamiento, validación y test)\n",
        "*   Probar la estrategia del modelo 3 de aumentarle el peso a los items de dominios que hayan sido muy visitados\n",
        "*   Sumarle a este ultimo item el análisis de NLP de las búsquedas\n",
        "*   Probar con curvas de ponderación por tiempo diferentes según el dominio del item visto (puede que haya algunos dominios donde las vistas antiguas no disminuyen tanto la probabilidad de comprar)."
      ]
    },
    {
      "cell_type": "markdown",
      "metadata": {
        "id": "FFuydcuBVROr"
      },
      "source": [
        "Pruebas VS"
      ]
    },
    {
      "cell_type": "code",
      "metadata": {
        "id": "olC8Zj9qWUT6"
      },
      "source": [
        "train_df['total_views'] = train_df.apply(lambda row: sum([event['event_type'] == 'view' for event in row.user_history]),axis=1)"
      ],
      "execution_count": null,
      "outputs": []
    },
    {
      "cell_type": "code",
      "metadata": {
        "id": "iF3bOd0AcOKS"
      },
      "source": [
        "train_df['domain_id'] = train_df.apply(lambda row: item_domain_dict[row.item_bought], axis=1)"
      ],
      "execution_count": null,
      "outputs": []
    },
    {
      "cell_type": "code",
      "metadata": {
        "id": "2YaU11ADVS4i"
      },
      "source": [
        "domain_list = []\n",
        "dom_views_percentage = []\n",
        "bdom_list = []\n",
        "for row in train_df.itertuples():\n",
        "  temp_domain_list = []\n",
        "  temp_bdom_list=[]\n",
        "  domains_views = {}\n",
        "  for event in row.user_history:\n",
        "    if event['event_type'] == 'view':\n",
        "      domain = item_domain_dict[event['event_info']] \n",
        "      if domain:\n",
        "        domains_views[domain] = domains_views.get(domain,0) + 1/row.total_views\n",
        "  for domain in domains_views:\n",
        "    domain_list.append(domain)\n",
        "    dom_views_percentage.append(domains_views[domain])\n",
        "    bdom_list.append(int(domain == row.domain_id))"
      ],
      "execution_count": null,
      "outputs": []
    },
    {
      "cell_type": "code",
      "metadata": {
        "id": "1qijGg4wk_tj"
      },
      "source": [
        "domain_views_df = pd.DataFrame({'domain':domain_list, 'views_percent':dom_views_percentage, 'bdom':bdom_list})"
      ],
      "execution_count": null,
      "outputs": []
    },
    {
      "cell_type": "code",
      "metadata": {
        "colab": {
          "base_uri": "https://localhost:8080/",
          "height": 355
        },
        "id": "KV8gqTYulRf3",
        "outputId": "63b3e89b-5c71-46c4-99e9-a2e2fc94899e"
      },
      "source": [
        "domain_views_df.head(10)"
      ],
      "execution_count": null,
      "outputs": [
        {
          "output_type": "execute_result",
          "data": {
            "text/html": [
              "<div>\n",
              "<style scoped>\n",
              "    .dataframe tbody tr th:only-of-type {\n",
              "        vertical-align: middle;\n",
              "    }\n",
              "\n",
              "    .dataframe tbody tr th {\n",
              "        vertical-align: top;\n",
              "    }\n",
              "\n",
              "    .dataframe thead th {\n",
              "        text-align: right;\n",
              "    }\n",
              "</style>\n",
              "<table border=\"1\" class=\"dataframe\">\n",
              "  <thead>\n",
              "    <tr style=\"text-align: right;\">\n",
              "      <th></th>\n",
              "      <th>domain</th>\n",
              "      <th>views_percent</th>\n",
              "      <th>bdom</th>\n",
              "    </tr>\n",
              "  </thead>\n",
              "  <tbody>\n",
              "    <tr>\n",
              "      <th>0</th>\n",
              "      <td>MLB-SMARTWATCHES</td>\n",
              "      <td>1.000000</td>\n",
              "      <td>1</td>\n",
              "    </tr>\n",
              "    <tr>\n",
              "      <th>1</th>\n",
              "      <td>MLB-SHOWER_HEADS</td>\n",
              "      <td>0.125000</td>\n",
              "      <td>0</td>\n",
              "    </tr>\n",
              "    <tr>\n",
              "      <th>2</th>\n",
              "      <td>MLB-MILK_EXTRACTORS</td>\n",
              "      <td>0.875000</td>\n",
              "      <td>1</td>\n",
              "    </tr>\n",
              "    <tr>\n",
              "      <th>3</th>\n",
              "      <td>MLB-TOWEL_SETS</td>\n",
              "      <td>1.000000</td>\n",
              "      <td>0</td>\n",
              "    </tr>\n",
              "    <tr>\n",
              "      <th>4</th>\n",
              "      <td>MLB-COMPUTER_EQUIPMENT_AND_SPARE_PARTS</td>\n",
              "      <td>0.714286</td>\n",
              "      <td>0</td>\n",
              "    </tr>\n",
              "    <tr>\n",
              "      <th>5</th>\n",
              "      <td>MLB-OFFICE_SOFTWARE</td>\n",
              "      <td>0.285714</td>\n",
              "      <td>0</td>\n",
              "    </tr>\n",
              "    <tr>\n",
              "      <th>6</th>\n",
              "      <td>MLB-SMARTWATCHES</td>\n",
              "      <td>0.108696</td>\n",
              "      <td>1</td>\n",
              "    </tr>\n",
              "    <tr>\n",
              "      <th>7</th>\n",
              "      <td>MLB-SPORTS_AND_FITNESS</td>\n",
              "      <td>0.021739</td>\n",
              "      <td>0</td>\n",
              "    </tr>\n",
              "    <tr>\n",
              "      <th>8</th>\n",
              "      <td>MLB-TOYS_AND_GAMES</td>\n",
              "      <td>0.065217</td>\n",
              "      <td>0</td>\n",
              "    </tr>\n",
              "    <tr>\n",
              "      <th>9</th>\n",
              "      <td>MLB-TENTS</td>\n",
              "      <td>0.086957</td>\n",
              "      <td>0</td>\n",
              "    </tr>\n",
              "  </tbody>\n",
              "</table>\n",
              "</div>"
            ],
            "text/plain": [
              "                                   domain  views_percent  bdom\n",
              "0                        MLB-SMARTWATCHES       1.000000     1\n",
              "1                        MLB-SHOWER_HEADS       0.125000     0\n",
              "2                     MLB-MILK_EXTRACTORS       0.875000     1\n",
              "3                          MLB-TOWEL_SETS       1.000000     0\n",
              "4  MLB-COMPUTER_EQUIPMENT_AND_SPARE_PARTS       0.714286     0\n",
              "5                     MLB-OFFICE_SOFTWARE       0.285714     0\n",
              "6                        MLB-SMARTWATCHES       0.108696     1\n",
              "7                  MLB-SPORTS_AND_FITNESS       0.021739     0\n",
              "8                      MLB-TOYS_AND_GAMES       0.065217     0\n",
              "9                               MLB-TENTS       0.086957     0"
            ]
          },
          "metadata": {
            "tags": []
          },
          "execution_count": 29
        }
      ]
    },
    {
      "cell_type": "code",
      "metadata": {
        "colab": {
          "base_uri": "https://localhost:8080/"
        },
        "id": "OnF6EDXQlwqp",
        "outputId": "98a51a63-8782-4af1-d824-53d06161310a"
      },
      "source": [
        "domain_views_df.groupby('domain').count().sort_values('bdom',ascending=False).index[:10]"
      ],
      "execution_count": null,
      "outputs": [
        {
          "output_type": "execute_result",
          "data": {
            "text/plain": [
              "Index(['MLB-CELLPHONES', 'MLB-SNEAKERS', 'MLB-VEHICLE_ACCESSORIES',\n",
              "       'MLB-T_SHIRTS', 'MLB-HEADPHONES', 'MLB-SMARTWATCHES', 'MLB-SUPPLEMENTS',\n",
              "       'MLB-CARS_AND_VANS', 'MLB-PANTS', 'MLB-DRESSES'],\n",
              "      dtype='object', name='domain')"
            ]
          },
          "metadata": {
            "tags": []
          },
          "execution_count": 107
        }
      ]
    },
    {
      "cell_type": "code",
      "metadata": {
        "colab": {
          "base_uri": "https://localhost:8080/",
          "height": 662
        },
        "id": "x3iouvxo1_qF",
        "outputId": "3f4f9b25-3d62-430f-a63a-09ae6b5f6e67"
      },
      "source": [
        "domain_views_df[(domain_views_df.bdom==1)&(domain_views_df.domain.isin(domain_views_df.groupby('domain').count().sort_values('bdom',ascending=False).index[:20]))].groupby(['domain','bdom']).agg('mean')"
      ],
      "execution_count": null,
      "outputs": [
        {
          "output_type": "execute_result",
          "data": {
            "text/html": [
              "<div>\n",
              "<style scoped>\n",
              "    .dataframe tbody tr th:only-of-type {\n",
              "        vertical-align: middle;\n",
              "    }\n",
              "\n",
              "    .dataframe tbody tr th {\n",
              "        vertical-align: top;\n",
              "    }\n",
              "\n",
              "    .dataframe thead th {\n",
              "        text-align: right;\n",
              "    }\n",
              "</style>\n",
              "<table border=\"1\" class=\"dataframe\">\n",
              "  <thead>\n",
              "    <tr style=\"text-align: right;\">\n",
              "      <th></th>\n",
              "      <th></th>\n",
              "      <th>views_percent</th>\n",
              "    </tr>\n",
              "    <tr>\n",
              "      <th>domain</th>\n",
              "      <th>bdom</th>\n",
              "      <th></th>\n",
              "    </tr>\n",
              "  </thead>\n",
              "  <tbody>\n",
              "    <tr>\n",
              "      <th>MLB-BOOTS_AND_BOOTIES</th>\n",
              "      <th>1</th>\n",
              "      <td>0.632134</td>\n",
              "    </tr>\n",
              "    <tr>\n",
              "      <th>MLB-CELLPHONES</th>\n",
              "      <th>1</th>\n",
              "      <td>0.739626</td>\n",
              "    </tr>\n",
              "    <tr>\n",
              "      <th>MLB-CELLPHONE_COVERS</th>\n",
              "      <th>1</th>\n",
              "      <td>0.667786</td>\n",
              "    </tr>\n",
              "    <tr>\n",
              "      <th>MLB-DOLLS</th>\n",
              "      <th>1</th>\n",
              "      <td>0.722941</td>\n",
              "    </tr>\n",
              "    <tr>\n",
              "      <th>MLB-DRESSES</th>\n",
              "      <th>1</th>\n",
              "      <td>0.740684</td>\n",
              "    </tr>\n",
              "    <tr>\n",
              "      <th>MLB-HEADPHONES</th>\n",
              "      <th>1</th>\n",
              "      <td>0.629850</td>\n",
              "    </tr>\n",
              "    <tr>\n",
              "      <th>MLB-PANTS</th>\n",
              "      <th>1</th>\n",
              "      <td>0.550993</td>\n",
              "    </tr>\n",
              "    <tr>\n",
              "      <th>MLB-SANDALS_AND_FLIP_FLOPS</th>\n",
              "      <th>1</th>\n",
              "      <td>0.622135</td>\n",
              "    </tr>\n",
              "    <tr>\n",
              "      <th>MLB-SHORTS</th>\n",
              "      <th>1</th>\n",
              "      <td>0.553758</td>\n",
              "    </tr>\n",
              "    <tr>\n",
              "      <th>MLB-SMARTWATCHES</th>\n",
              "      <th>1</th>\n",
              "      <td>0.660523</td>\n",
              "    </tr>\n",
              "    <tr>\n",
              "      <th>MLB-SNEAKERS</th>\n",
              "      <th>1</th>\n",
              "      <td>0.634902</td>\n",
              "    </tr>\n",
              "    <tr>\n",
              "      <th>MLB-SPEAKERS</th>\n",
              "      <th>1</th>\n",
              "      <td>0.624029</td>\n",
              "    </tr>\n",
              "    <tr>\n",
              "      <th>MLB-SUPPLEMENTS</th>\n",
              "      <th>1</th>\n",
              "      <td>0.727132</td>\n",
              "    </tr>\n",
              "    <tr>\n",
              "      <th>MLB-TELEVISIONS</th>\n",
              "      <th>1</th>\n",
              "      <td>0.599720</td>\n",
              "    </tr>\n",
              "    <tr>\n",
              "      <th>MLB-TOYS_AND_GAMES</th>\n",
              "      <th>1</th>\n",
              "      <td>0.602664</td>\n",
              "    </tr>\n",
              "    <tr>\n",
              "      <th>MLB-T_SHIRTS</th>\n",
              "      <th>1</th>\n",
              "      <td>0.541984</td>\n",
              "    </tr>\n",
              "    <tr>\n",
              "      <th>MLB-VEHICLE_ACCESSORIES</th>\n",
              "      <th>1</th>\n",
              "      <td>0.476807</td>\n",
              "    </tr>\n",
              "    <tr>\n",
              "      <th>MLB-VEHICLE_PARTS</th>\n",
              "      <th>1</th>\n",
              "      <td>0.493584</td>\n",
              "    </tr>\n",
              "    <tr>\n",
              "      <th>MLB-WRISTWATCHES</th>\n",
              "      <th>1</th>\n",
              "      <td>0.660900</td>\n",
              "    </tr>\n",
              "  </tbody>\n",
              "</table>\n",
              "</div>"
            ],
            "text/plain": [
              "                                 views_percent\n",
              "domain                     bdom               \n",
              "MLB-BOOTS_AND_BOOTIES      1          0.632134\n",
              "MLB-CELLPHONES             1          0.739626\n",
              "MLB-CELLPHONE_COVERS       1          0.667786\n",
              "MLB-DOLLS                  1          0.722941\n",
              "MLB-DRESSES                1          0.740684\n",
              "MLB-HEADPHONES             1          0.629850\n",
              "MLB-PANTS                  1          0.550993\n",
              "MLB-SANDALS_AND_FLIP_FLOPS 1          0.622135\n",
              "MLB-SHORTS                 1          0.553758\n",
              "MLB-SMARTWATCHES           1          0.660523\n",
              "MLB-SNEAKERS               1          0.634902\n",
              "MLB-SPEAKERS               1          0.624029\n",
              "MLB-SUPPLEMENTS            1          0.727132\n",
              "MLB-TELEVISIONS            1          0.599720\n",
              "MLB-TOYS_AND_GAMES         1          0.602664\n",
              "MLB-T_SHIRTS               1          0.541984\n",
              "MLB-VEHICLE_ACCESSORIES    1          0.476807\n",
              "MLB-VEHICLE_PARTS          1          0.493584\n",
              "MLB-WRISTWATCHES           1          0.660900"
            ]
          },
          "metadata": {
            "tags": []
          },
          "execution_count": 109
        }
      ]
    },
    {
      "cell_type": "code",
      "metadata": {
        "id": "P7NSplbjmOan"
      },
      "source": [
        "linspace = np.linspace(0,1,11)\n",
        "salto = linspace[1] - linspace[0]\n",
        "bdom_means = []\n",
        "for views in linspace:\n",
        "  bdom_means.append(domain_views_df[(domain_views_df.domain=='MLB-CELLPHONES')&(domain_views_df.views_percent>views)&(domain_views_df.views_percent<=(views+salto))].bdom.mean())\n",
        "# "
      ],
      "execution_count": null,
      "outputs": []
    },
    {
      "cell_type": "code",
      "metadata": {
        "colab": {
          "base_uri": "https://localhost:8080/"
        },
        "id": "ew5g2eeAppp3",
        "outputId": "bc47e832-1e87-4010-b315-2e5b4250da8d"
      },
      "source": [
        "from scipy.optimize import curve_fit\n",
        "\n",
        "# define the true objective function\n",
        "#-2.231726 + (0.1984595 - -2.231726)/(1 + (hours/12332420000.000002)**0.1389521)\n",
        "def objective(x, a, b, c, d,e):\n",
        "\treturn a+b*x+c*x**2\n",
        "#Se agrega peso al primer punto, para asegurar que la curva pase por el mismo\n",
        "y_weight = np.empty(len(bdom_means))\n",
        "y_weight.fill(10)\n",
        "# y_weight[-1] = 0.001\n",
        "# y_weight[int(len(bdom_means)/2)] = 0.001\n",
        "# curve fit\n",
        "popt, _ = curve_fit(objective, linspace, bdom_means, sigma=y_weight, absolute_sigma=True)\n",
        "# summarize the parameter values\n",
        "a, b, c, d, e = popt\n",
        "a, b, c, d, e"
      ],
      "execution_count": null,
      "outputs": [
        {
          "output_type": "stream",
          "text": [
            "/usr/local/lib/python3.7/dist-packages/scipy/optimize/minpack.py:808: OptimizeWarning: Covariance of the parameters could not be estimated\n",
            "  category=OptimizeWarning)\n"
          ],
          "name": "stderr"
        },
        {
          "output_type": "execute_result",
          "data": {
            "text/plain": [
              "(0.1063057546242766, 0.9925463363057436, -0.24771356901256494, 1.0, 1.0)"
            ]
          },
          "metadata": {
            "tags": []
          },
          "execution_count": 113
        }
      ]
    },
    {
      "cell_type": "code",
      "metadata": {
        "colab": {
          "base_uri": "https://localhost:8080/",
          "height": 264
        },
        "id": "BKdZ79WnnWd3",
        "outputId": "a74c444a-0947-49ed-992a-056dd3043e7c"
      },
      "source": [
        "# define a sequence of inputs between the smallest and largest known inputs\n",
        "x_line = np.arange(0, 1.1, 0.001)\n",
        "# calculate the output for the range\n",
        "y_line = objective(x_line, a, b, c, d, e)\n",
        "# create a line plot for the mapping function\n",
        "\n",
        "plt.scatter(linspace, bdom_means)\n",
        "plt.plot(x_line, y_line, '--', color='red')\n",
        "plt.show()"
      ],
      "execution_count": null,
      "outputs": [
        {
          "output_type": "display_data",
          "data": {
            "image/png": "[encoded data removed]",
            "text/plain": [
              "<Figure size 432x288 with 1 Axes>"
            ]
          },
          "metadata": {
            "tags": [],
            "needs_background": "light"
          }
        }
      ]
    },
    {
      "cell_type": "code",
      "metadata": {
        "id": "jOcG3v7ped1F",
        "colab": {
          "base_uri": "https://localhost:8080/",
          "height": 857
        },
        "outputId": "53e45dba-f745-4048-da3e-38abbf5567d0"
      },
      "source": [
        "import time\n",
        "\n",
        "for i in range(2*60):\n",
        "    print (i), # print in the same line by adding a \",\" at the end\n",
        "    time.sleep(30)"
      ],
      "execution_count": null,
      "outputs": [
        {
          "output_type": "stream",
          "name": "stdout",
          "text": [
            "0\n",
            "1\n",
            "2\n",
            "3\n",
            "4\n",
            "5\n",
            "6\n",
            "7\n",
            "8\n",
            "9\n",
            "10\n",
            "11\n",
            "12\n",
            "13\n",
            "14\n",
            "15\n",
            "16\n",
            "17\n",
            "18\n",
            "19\n",
            "20\n",
            "21\n",
            "22\n",
            "23\n",
            "24\n",
            "25\n",
            "26\n",
            "27\n",
            "28\n",
            "29\n",
            "30\n",
            "31\n",
            "32\n",
            "33\n",
            "34\n",
            "35\n",
            "36\n",
            "37\n",
            "38\n",
            "39\n",
            "40\n"
          ]
        },
        {
          "output_type": "error",
          "ename": "KeyboardInterrupt",
          "evalue": "ignored",
          "traceback": [
            "\u001b[0;31m---------------------------------------------------------------------------\u001b[0m",
            "\u001b[0;31mKeyboardInterrupt\u001b[0m                         Traceback (most recent call last)",
            "\u001b[0;32m<ipython-input-51-2b715a8b5e2c>\u001b[0m in \u001b[0;36m<module>\u001b[0;34m()\u001b[0m\n\u001b[1;32m      3\u001b[0m \u001b[0;32mfor\u001b[0m \u001b[0mi\u001b[0m \u001b[0;32min\u001b[0m \u001b[0mrange\u001b[0m\u001b[0;34m(\u001b[0m\u001b[0;36m2\u001b[0m\u001b[0;34m*\u001b[0m\u001b[0;36m60\u001b[0m\u001b[0;34m)\u001b[0m\u001b[0;34m:\u001b[0m\u001b[0;34m\u001b[0m\u001b[0;34m\u001b[0m\u001b[0m\n\u001b[1;32m      4\u001b[0m     \u001b[0mprint\u001b[0m \u001b[0;34m(\u001b[0m\u001b[0mi\u001b[0m\u001b[0;34m)\u001b[0m\u001b[0;34m,\u001b[0m \u001b[0;31m# print in the same line by adding a \",\" at the end\u001b[0m\u001b[0;34m\u001b[0m\u001b[0;34m\u001b[0m\u001b[0m\n\u001b[0;32m----> 5\u001b[0;31m     \u001b[0mtime\u001b[0m\u001b[0;34m.\u001b[0m\u001b[0msleep\u001b[0m\u001b[0;34m(\u001b[0m\u001b[0;36m30\u001b[0m\u001b[0;34m)\u001b[0m\u001b[0;34m\u001b[0m\u001b[0;34m\u001b[0m\u001b[0m\n\u001b[0m",
            "\u001b[0;31mKeyboardInterrupt\u001b[0m: "
          ]
        }
      ]
    }
  ]
}