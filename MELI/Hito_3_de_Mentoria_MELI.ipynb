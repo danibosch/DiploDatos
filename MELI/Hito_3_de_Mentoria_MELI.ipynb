{
  "nbformat": 4,
  "nbformat_minor": 0,
  "metadata": {
    "colab": {
      "name": "Hito_3_de_Mentoria_MELI.ipynb",
      "provenance": [],
      "collapsed_sections": [],
      "toc_visible": true,
      "include_colab_link": true
    },
    "kernelspec": {
      "name": "python3",
      "display_name": "Python 3"
    },
    "language_info": {
      "name": "python"
    }
  },
  "cells": [
    {
      "cell_type": "markdown",
      "metadata": {
        "id": "view-in-github",
        "colab_type": "text"
      },
      "source": [
        "<a href=\"https://colab.research.google.com/github/natanrajch/DiploDatos/blob/main/MELI/Hito_3_de_Mentoria_MELI.ipynb\" target=\"_parent\"><img src=\"https://colab.research.google.com/assets/colab-badge.svg\" alt=\"Open In Colab\"/></a>"
      ]
    },
    {
      "cell_type": "markdown",
      "metadata": {
        "id": "_EwNQj_Khyd9"
      },
      "source": [
        "### Dependencies"
      ]
    },
    {
      "cell_type": "code",
      "metadata": {
        "id": "sdgxkQVIhdLr"
      },
      "source": [
        "import gzip\n",
        "import pandas as pd\n",
        "import urllib\n",
        "import tarfile\n",
        "import urllib.request\n",
        "import numpy as np\n",
        "import random\n",
        "import json\n",
        "import bisect\n",
        "import matplotlib.pyplot as plt\n",
        "import seaborn as sns\n",
        "from datetime import datetime, timedelta\n",
        "import scipy.sparse as sps"
      ],
      "execution_count": null,
      "outputs": []
    },
    {
      "cell_type": "markdown",
      "metadata": {
        "id": "rCFTDwHuh4St"
      },
      "source": [
        "### Data Sets"
      ]
    },
    {
      "cell_type": "code",
      "metadata": {
        "id": "YNNPlXG_hgx4"
      },
      "source": [
        "url_item_data = \"https://meli-data-challenge.s3.amazonaws.com/2020/item_data.jl.gz\"\n",
        "url_train_data = \"https://meli-data-challenge.s3.amazonaws.com/2020/train_dataset.jl.gz\""
      ],
      "execution_count": null,
      "outputs": []
    },
    {
      "cell_type": "code",
      "metadata": {
        "id": "3sLD_RQFhuzY"
      },
      "source": [
        "train_data = []\n",
        "with urllib.request.urlopen(url_train_data) as handle:\n",
        "  gz = gzip.GzipFile(fileobj=handle)\n",
        "  for i, line in enumerate(gz):\n",
        "    train_data.append(json.loads(line.strip().decode('utf-8')))"
      ],
      "execution_count": null,
      "outputs": []
    },
    {
      "cell_type": "code",
      "metadata": {
        "id": "rLe4JQzoiB11",
        "colab": {
          "base_uri": "https://localhost:8080/",
          "height": 204
        },
        "outputId": "411e0879-e863-486c-bb8e-8f9899469176"
      },
      "source": [
        "train_df = pd.DataFrame(train_data)\n",
        "train_df.head()"
      ],
      "execution_count": null,
      "outputs": [
        {
          "output_type": "execute_result",
          "data": {
            "text/html": [
              "<div>\n",
              "<style scoped>\n",
              "    .dataframe tbody tr th:only-of-type {\n",
              "        vertical-align: middle;\n",
              "    }\n",
              "\n",
              "    .dataframe tbody tr th {\n",
              "        vertical-align: top;\n",
              "    }\n",
              "\n",
              "    .dataframe thead th {\n",
              "        text-align: right;\n",
              "    }\n",
              "</style>\n",
              "<table border=\"1\" class=\"dataframe\">\n",
              "  <thead>\n",
              "    <tr style=\"text-align: right;\">\n",
              "      <th></th>\n",
              "      <th>user_history</th>\n",
              "      <th>item_bought</th>\n",
              "    </tr>\n",
              "  </thead>\n",
              "  <tbody>\n",
              "    <tr>\n",
              "      <th>0</th>\n",
              "      <td>[{'event_info': 1786148, 'event_timestamp': '2...</td>\n",
              "      <td>1748830</td>\n",
              "    </tr>\n",
              "    <tr>\n",
              "      <th>1</th>\n",
              "      <td>[{'event_info': 643652, 'event_timestamp': '20...</td>\n",
              "      <td>228737</td>\n",
              "    </tr>\n",
              "    <tr>\n",
              "      <th>2</th>\n",
              "      <td>[{'event_info': 248595, 'event_timestamp': '20...</td>\n",
              "      <td>1909110</td>\n",
              "    </tr>\n",
              "    <tr>\n",
              "      <th>3</th>\n",
              "      <td>[{'event_info': 'RADIOBOSS', 'event_timestamp'...</td>\n",
              "      <td>1197370</td>\n",
              "    </tr>\n",
              "    <tr>\n",
              "      <th>4</th>\n",
              "      <td>[{'event_info': 'AMAZFIT BIP', 'event_timestam...</td>\n",
              "      <td>2049207</td>\n",
              "    </tr>\n",
              "  </tbody>\n",
              "</table>\n",
              "</div>"
            ],
            "text/plain": [
              "                                        user_history  item_bought\n",
              "0  [{'event_info': 1786148, 'event_timestamp': '2...      1748830\n",
              "1  [{'event_info': 643652, 'event_timestamp': '20...       228737\n",
              "2  [{'event_info': 248595, 'event_timestamp': '20...      1909110\n",
              "3  [{'event_info': 'RADIOBOSS', 'event_timestamp'...      1197370\n",
              "4  [{'event_info': 'AMAZFIT BIP', 'event_timestam...      2049207"
            ]
          },
          "metadata": {
            "tags": []
          },
          "execution_count": 4
        }
      ]
    },
    {
      "cell_type": "code",
      "metadata": {
        "id": "prNop5bF00ho"
      },
      "source": [
        "item_data = []\n",
        "with urllib.request.urlopen(url_item_data) as handle:\n",
        "  gz = gzip.GzipFile(fileobj=handle)\n",
        "  for i, line in enumerate(gz):\n",
        "    item_data.append(json.loads(line.strip().decode('utf-8')))"
      ],
      "execution_count": null,
      "outputs": []
    },
    {
      "cell_type": "code",
      "metadata": {
        "id": "-HXjyL3p0-YB"
      },
      "source": [
        "item_df = pd.DataFrame(item_data)\n",
        "del train_data\n",
        "del item_data\n",
        "del gz"
      ],
      "execution_count": null,
      "outputs": []
    },
    {
      "cell_type": "code",
      "metadata": {
        "colab": {
          "base_uri": "https://localhost:8080/",
          "height": 145
        },
        "id": "XJvjB1021VP1",
        "outputId": "befa1bb1-a059-4fd6-8770-90a33a9dd00e"
      },
      "source": [
        "item_df.head(2)"
      ],
      "execution_count": null,
      "outputs": [
        {
          "output_type": "execute_result",
          "data": {
            "text/html": [
              "<div>\n",
              "<style scoped>\n",
              "    .dataframe tbody tr th:only-of-type {\n",
              "        vertical-align: middle;\n",
              "    }\n",
              "\n",
              "    .dataframe tbody tr th {\n",
              "        vertical-align: top;\n",
              "    }\n",
              "\n",
              "    .dataframe thead th {\n",
              "        text-align: right;\n",
              "    }\n",
              "</style>\n",
              "<table border=\"1\" class=\"dataframe\">\n",
              "  <thead>\n",
              "    <tr style=\"text-align: right;\">\n",
              "      <th></th>\n",
              "      <th>item_id</th>\n",
              "      <th>title</th>\n",
              "      <th>domain_id</th>\n",
              "      <th>product_id</th>\n",
              "      <th>price</th>\n",
              "      <th>category_id</th>\n",
              "      <th>condition</th>\n",
              "    </tr>\n",
              "  </thead>\n",
              "  <tbody>\n",
              "    <tr>\n",
              "      <th>0</th>\n",
              "      <td>111260</td>\n",
              "      <td>Casa Sola En Venta Con Gran Patio Solo Pago De...</td>\n",
              "      <td>MLM-INDIVIDUAL_HOUSES_FOR_SALE</td>\n",
              "      <td>None</td>\n",
              "      <td>1150000.00</td>\n",
              "      <td>MLM170527</td>\n",
              "      <td>new</td>\n",
              "    </tr>\n",
              "    <tr>\n",
              "      <th>1</th>\n",
              "      <td>871377</td>\n",
              "      <td>Resident Evil Origins Collection Nintendo Swit...</td>\n",
              "      <td>MLM-VIDEO_GAMES</td>\n",
              "      <td>15270800</td>\n",
              "      <td>1392.83</td>\n",
              "      <td>MLM151595</td>\n",
              "      <td>new</td>\n",
              "    </tr>\n",
              "  </tbody>\n",
              "</table>\n",
              "</div>"
            ],
            "text/plain": [
              "   item_id  ... condition\n",
              "0   111260  ...       new\n",
              "1   871377  ...       new\n",
              "\n",
              "[2 rows x 7 columns]"
            ]
          },
          "metadata": {
            "tags": []
          },
          "execution_count": 7
        }
      ]
    },
    {
      "cell_type": "code",
      "metadata": {
        "id": "IyHoF8xB09LV"
      },
      "source": [
        "item_list = item_df['item_id'].tolist()\n",
        "domain_list = item_df['domain_id'].tolist()\n",
        "item_domain_dict = dict(zip(item_list, domain_list))"
      ],
      "execution_count": null,
      "outputs": []
    },
    {
      "cell_type": "markdown",
      "metadata": {
        "id": "30QNcXY57V9-"
      },
      "source": [
        "### Armado X esparsa\n",
        "Se probó el armado de 65000 features (uno por producto posible) en una matriz esparsa. Sin embargo, el problema de clasificación con 65000 features y 65000 clases diferentes resultó demasiado para nuestro poder computacional. \n",
        "Se avanza entonces con varios modelos de predicción no optimizados, pero se deja aquí el código del armado de la matriz esparsa, para futura referencia."
      ]
    },
    {
      "cell_type": "code",
      "metadata": {
        "id": "5t3M8tN6Ajaq",
        "colab": {
          "base_uri": "https://localhost:8080/"
        },
        "outputId": "579093c3-f06f-4e32-8700-26d67b8f1f9a"
      },
      "source": [
        "features = train_df.sort_values('item_bought').item_bought.unique().tolist()\n",
        "features_dict = {feature:features.index(feature) for feature in features}\n",
        "len(features), len(train_df)"
      ],
      "execution_count": null,
      "outputs": [
        {
          "output_type": "execute_result",
          "data": {
            "text/plain": [
              "(64928, 413163)"
            ]
          },
          "metadata": {
            "tags": []
          },
          "execution_count": 9
        }
      ]
    },
    {
      "cell_type": "code",
      "metadata": {
        "colab": {
          "base_uri": "https://localhost:8080/",
          "height": 80
        },
        "id": "cyQR8S3Y2nml",
        "outputId": "11bbf0f9-8f8c-4c92-b5cd-7a735b176dbd"
      },
      "source": [
        "import scipy.sparse as sps\n",
        "shape = (413163, 64928)\n",
        "sampledf = train_df.sample(n=50000, random_state=0)\n",
        "sampledf.head(1)\n"
      ],
      "execution_count": null,
      "outputs": [
        {
          "output_type": "execute_result",
          "data": {
            "text/html": [
              "<div>\n",
              "<style scoped>\n",
              "    .dataframe tbody tr th:only-of-type {\n",
              "        vertical-align: middle;\n",
              "    }\n",
              "\n",
              "    .dataframe tbody tr th {\n",
              "        vertical-align: top;\n",
              "    }\n",
              "\n",
              "    .dataframe thead th {\n",
              "        text-align: right;\n",
              "    }\n",
              "</style>\n",
              "<table border=\"1\" class=\"dataframe\">\n",
              "  <thead>\n",
              "    <tr style=\"text-align: right;\">\n",
              "      <th></th>\n",
              "      <th>user_history</th>\n",
              "      <th>item_bought</th>\n",
              "    </tr>\n",
              "  </thead>\n",
              "  <tbody>\n",
              "    <tr>\n",
              "      <th>214637</th>\n",
              "      <td>[{'event_info': 'CADEIRA GAMER', 'event_timest...</td>\n",
              "      <td>12138</td>\n",
              "    </tr>\n",
              "  </tbody>\n",
              "</table>\n",
              "</div>"
            ],
            "text/plain": [
              "                                             user_history  item_bought\n",
              "214637  [{'event_info': 'CADEIRA GAMER', 'event_timest...        12138"
            ]
          },
          "metadata": {
            "tags": []
          },
          "execution_count": 10
        }
      ]
    },
    {
      "cell_type": "code",
      "metadata": {
        "id": "j-a3RT5L_U_W"
      },
      "source": [
        "#Formula para ponderar la importancia de una vista segun pasan las horas\n",
        "def time_weighing(hours):\n",
        "  if hours < 0.001:\n",
        "    return 1\n",
        "  #fitted curve de la probabilidad de que la vista sea del bitem, dependiendo de la antiguedad en horas de la vista\n",
        "  #Esta curva se calculó con una mezcla de python + otro soft online. Al final de esta notebook, en el\n",
        "  #modelo 4, se muestra el método de cálculo 100% dentro de python, que arroja el mismo resultado\n",
        "  bitem_prob = -2.231726 + (0.1984595 - -2.231726)/(1 + (hours/12332420000.000002)**0.1389521)  \n",
        "  weight = bitem_prob / 0.199021213390714  #bitem_prob para un delta de 0 hours clavado (ultimo item)\n",
        "  return weight"
      ],
      "execution_count": null,
      "outputs": []
    },
    {
      "cell_type": "code",
      "metadata": {
        "id": "E9PBJwbV-9XM"
      },
      "source": [
        "#Armar la matriz esparsa de X\n",
        "#Esta matriz toma las consideraciones del Modelo 1 respecto a la ponderación por tiempo\n",
        "#No es utilizada en el resto del Notebook, pero se deja aquí para mostrar el intento\n",
        "#de mejorar el modelo con Scikit_Learn\n",
        "rows = []\n",
        "cols = []\n",
        "data = []\n",
        "current_row = 0\n",
        "for row in sampledf.itertuples():\n",
        "  if len(row.user_history) == 1:\n",
        "    if row.user_history[0]['event_type'] == 'view':\n",
        "      col = features_dict.get(row.user_history[0]['event_info'])\n",
        "      if col:\n",
        "        rows.append(current_row)  #Estructura para matriz esparsa\n",
        "        cols.append(col)\n",
        "        data.append(1)\n",
        "  else:\n",
        "    most_recent_time = datetime.strptime(row.user_history[-1]['event_timestamp'], '%Y-%m-%dT%H:%M:%S.%f%z')\n",
        "    for event in row.user_history:\n",
        "      if event['event_type'] == 'view':\n",
        "        col = features_dict.get(event['event_info'])\n",
        "        if col:    \n",
        "          delta = most_recent_time - datetime.strptime(event['event_timestamp'], '%Y-%m-%dT%H:%M:%S.%f%z')\n",
        "          rows.append(current_row)\n",
        "          cols.append(col)\n",
        "          data.append(time_weighing(delta.total_seconds()/3600)) #se convierte el delta en horas como float\n",
        "  current_row += 1\n"
      ],
      "execution_count": null,
      "outputs": []
    },
    {
      "cell_type": "code",
      "metadata": {
        "colab": {
          "base_uri": "https://localhost:8080/"
        },
        "id": "XKkmkxn-FW0j",
        "outputId": "f416ee74-d122-410d-87f2-6d3d777fa0bc"
      },
      "source": [
        "len(features), len(sampledf)"
      ],
      "execution_count": null,
      "outputs": [
        {
          "output_type": "execute_result",
          "data": {
            "text/plain": [
              "(64928, 50000)"
            ]
          },
          "metadata": {
            "tags": []
          },
          "execution_count": 15
        }
      ]
    },
    {
      "cell_type": "code",
      "metadata": {
        "colab": {
          "base_uri": "https://localhost:8080/"
        },
        "id": "wugWMiF_9x9k",
        "outputId": "953a74b8-683f-48ad-eaff-781b0a735488"
      },
      "source": [
        "# Import required package\n",
        "import numpy as np\n",
        "from scipy.sparse import csc_matrix\n",
        "  \n",
        "# creating sparse matrix\n",
        "X = csc_matrix((data, (rows, cols)),\n",
        "                          shape = (len(sampledf), len(features)))\n",
        "  \n",
        "X"
      ],
      "execution_count": null,
      "outputs": [
        {
          "output_type": "execute_result",
          "data": {
            "text/plain": [
              "<50000x64928 sparse matrix of type '<class 'numpy.float64'>'\n",
              "\twith 117747 stored elements in Compressed Sparse Column format>"
            ]
          },
          "metadata": {
            "tags": []
          },
          "execution_count": 16
        }
      ]
    },
    {
      "cell_type": "code",
      "metadata": {
        "id": "5pbWvUM-Ton1"
      },
      "source": [
        "#Armar la matriz esparsa de y\n",
        "rows = []\n",
        "cols = []\n",
        "data = []\n",
        "current_row = 0\n",
        "for row in train_df.itertuples():\n",
        "  col = features_dict.get(row.item_bought)\n",
        "  rows.append(current_row)  #Estructura para matriz esparsa\n",
        "  cols.append(col)\n",
        "  data.append(1)\n",
        "  current_row += 1\n",
        "# creating sparse matrix\n"
      ],
      "execution_count": null,
      "outputs": []
    },
    {
      "cell_type": "code",
      "metadata": {
        "colab": {
          "base_uri": "https://localhost:8080/"
        },
        "id": "8aKo20fMUSHw",
        "outputId": "065104ed-d532-444f-acc4-f15d53ba8278"
      },
      "source": [
        "y = csc_matrix((data, (rows, cols)), shape = (len(train_df), len(features)))\n",
        "y"
      ],
      "execution_count": null,
      "outputs": [
        {
          "output_type": "execute_result",
          "data": {
            "text/plain": [
              "<413163x64928 sparse matrix of type '<class 'numpy.longlong'>'\n",
              "\twith 413163 stored elements in Compressed Sparse Column format>"
            ]
          },
          "metadata": {
            "tags": []
          },
          "execution_count": 18
        }
      ]
    },
    {
      "cell_type": "code",
      "metadata": {
        "id": "8bqyyVBQHIkz"
      },
      "source": [
        "y = train_df.item_bought.to_numpy()"
      ],
      "execution_count": null,
      "outputs": []
    },
    {
      "cell_type": "code",
      "metadata": {
        "colab": {
          "base_uri": "https://localhost:8080/"
        },
        "id": "WxAfpp7wJK1q",
        "outputId": "cefc8239-d4ac-43ea-ca00-4067d9e4d9b3"
      },
      "source": [
        "y"
      ],
      "execution_count": null,
      "outputs": [
        {
          "output_type": "execute_result",
          "data": {
            "text/plain": [
              "array([1748830,  228737, 1909110, ..., 2022477, 1111021, 1212472])"
            ]
          },
          "metadata": {
            "tags": []
          },
          "execution_count": 20
        }
      ]
    },
    {
      "cell_type": "code",
      "metadata": {
        "id": "inNJn2eiQcoJ"
      },
      "source": [
        "ylist = sampledf['item_bought'].astype(str).tolist()"
      ],
      "execution_count": null,
      "outputs": []
    },
    {
      "cell_type": "code",
      "metadata": {
        "id": "ksN44DQWWP3w"
      },
      "source": [
        "with open('y_list_sample.txt', 'w') as f:\n",
        "    for item in ylist:\n",
        "        f.write(\"%s\\n\" % item)"
      ],
      "execution_count": null,
      "outputs": []
    },
    {
      "cell_type": "code",
      "metadata": {
        "id": "MM__oy7MITzC"
      },
      "source": [
        "import scipy.sparse\n",
        "scipy.sparse.save_npz('X_sparse_sample.npz', X)\n",
        "#scipy.sparse.save_npz('y_sparse.npz', y)\n"
      ],
      "execution_count": null,
      "outputs": []
    },
    {
      "cell_type": "markdown",
      "metadata": {
        "id": "3Yq3xzK4f8S8"
      },
      "source": [
        "###Modelos"
      ]
    },
    {
      "cell_type": "markdown",
      "metadata": {
        "id": "yl9E7I1W7mGj"
      },
      "source": [
        "#### Baseline\n",
        "Se predice el último item visto. En caso de no ver ningun item, se predice el item más comprado"
      ]
    },
    {
      "cell_type": "code",
      "metadata": {
        "id": "gWmeUudQ9BTJ"
      },
      "source": [
        "most_common = train_df.groupby('item_bought').count().sort_values('user_history', ascending=False).index.tolist()[0]"
      ],
      "execution_count": null,
      "outputs": []
    },
    {
      "cell_type": "code",
      "metadata": {
        "id": "suHo1ZUb7lx6"
      },
      "source": [
        "pred_y_baseline = []\n",
        "def last_viewed_item(events_list):\n",
        "  for ind in range(len(events_list)):\n",
        "    if events_list[-ind]['event_type'] == 'view':\n",
        "      return row.user_history[-ind]['event_info']\n",
        "  return most_common\n",
        "\n",
        "\n",
        "for row in train_df.itertuples():\n",
        " pred_y_baseline.append(last_viewed_item(row.user_history))"
      ],
      "execution_count": null,
      "outputs": []
    },
    {
      "cell_type": "code",
      "metadata": {
        "id": "fPi2v9LWFDny"
      },
      "source": [
        "#Se hace la métrica también para el domain predicho\n",
        "true_domain = [item_domain_dict[item] for item in train_df.item_bought]\n",
        "pred_domain_baseline = [item_domain_dict[item] if item_domain_dict[item] else 'None' for item in pred_y_baseline]"
      ],
      "execution_count": null,
      "outputs": []
    },
    {
      "cell_type": "code",
      "metadata": {
        "colab": {
          "base_uri": "https://localhost:8080/"
        },
        "id": "mZLIaxaU-gar",
        "outputId": "28ef15fd-9ee7-4e1c-c988-4db3c1146e63"
      },
      "source": [
        "from sklearn.metrics import accuracy_score\n",
        "print('accuracy producto predicho', accuracy_score(train_df.item_bought.tolist(), pred_y_baseline))\n",
        "print('accuracy domain predicho', accuracy_score(true_domain, pred_domain_baseline))"
      ],
      "execution_count": null,
      "outputs": [
        {
          "output_type": "stream",
          "text": [
            "accuracy producto predicho 0.12247466496273868\n",
            "accuracy domain predicho 0.30380987648942426\n"
          ],
          "name": "stdout"
        }
      ]
    },
    {
      "cell_type": "markdown",
      "metadata": {
        "id": "5pmA-jnJ_Axk"
      },
      "source": [
        "#### Modelo 1\n",
        "Se considera la cantidad de veces que fue visto el item, y se pondera por la antiguedad de la vista"
      ]
    },
    {
      "cell_type": "code",
      "metadata": {
        "id": "dJ2ZN0in-3A2"
      },
      "source": [
        "#Formula para ponderar la importancia de una vista segun pasan las horas\n",
        "def time_weighing(hours):\n",
        "  if hours < 0.001:\n",
        "    return 1\n",
        "  #fitted curve de la probabilidad de que la vista sea del bitem, dependiendo de la antiguedad en horas de la vista\n",
        "  #Esta curva se calculó con una mezcla de python + otro soft online. Al final de esta notebook, en el\n",
        "  #modelo 4, se muestra el método de cálculo 100% dentro de python, que arroja un resultado similar\n",
        "  bitem_prob = -2.231726 + (0.1984595 - -2.231726)/(1 + (hours/12332420000.000002)**0.1389521)  \n",
        "  weight = bitem_prob / 0.199021213390714  #bitem_prob para un delta de 0 hours clavado (ultimo item)\n",
        "  return weight"
      ],
      "execution_count": null,
      "outputs": []
    },
    {
      "cell_type": "code",
      "metadata": {
        "id": "fK4-1Q-FAIJW"
      },
      "source": [
        "import operator\n",
        "pred_y_model1 = []\n",
        "def weighed_viewed_item(events_list):\n",
        "  items = {}\n",
        "  most_recent_time = datetime.strptime(events_list[-1]['event_timestamp'], '%Y-%m-%dT%H:%M:%S.%f%z')\n",
        "  for event in events_list:\n",
        "    if event['event_type'] == 'view':\n",
        "      delta = most_recent_time - datetime.strptime(event['event_timestamp'], '%Y-%m-%dT%H:%M:%S.%f%z')\n",
        "      items[event['event_info']] = items.get(event['event_info'],0) + time_weighing(delta.total_seconds()/3600) #se convierte el delta en horas como float\n",
        "  if items:  \n",
        "    return max(items.items(), key=operator.itemgetter(1))[0]\n",
        "  else:\n",
        "    return most_common\n",
        "\n",
        "for row in train_df.itertuples():\n",
        " pred_y_model1.append(weighed_viewed_item(row.user_history))"
      ],
      "execution_count": null,
      "outputs": []
    },
    {
      "cell_type": "code",
      "metadata": {
        "id": "2Bp0UYMpG9aQ"
      },
      "source": [
        "pred_domain_model1 = [item_domain_dict[item] if item_domain_dict[item] else 'None' for item in pred_y_model1]"
      ],
      "execution_count": null,
      "outputs": []
    },
    {
      "cell_type": "code",
      "metadata": {
        "colab": {
          "base_uri": "https://localhost:8080/"
        },
        "id": "MfknrKsfDwy5",
        "outputId": "a66b239f-75a1-4555-fb55-b6cf503c8ec6"
      },
      "source": [
        "print('accuracy producto predicho', accuracy_score(train_df.item_bought.tolist(), pred_y_model1))\n",
        "print('accuracy domain predicho', accuracy_score(true_domain, pred_domain_model1))"
      ],
      "execution_count": null,
      "outputs": [
        {
          "output_type": "stream",
          "text": [
            "accuracy producto predicho 0.17516573362087118\n",
            "accuracy domain predicho 0.3717249608508022\n"
          ],
          "name": "stdout"
        }
      ]
    },
    {
      "cell_type": "markdown",
      "metadata": {
        "id": "oXQAzSuPIS_3"
      },
      "source": [
        "#### Modelo 2\n",
        "Se considera la cantidad de veces que fue visto el item. NO se pondera por la antiguedad de la vista"
      ]
    },
    {
      "cell_type": "code",
      "metadata": {
        "id": "JsaHOCDBIaTw"
      },
      "source": [
        "pred_y_model2 = []\n",
        "def most_viewed_item(events_list):\n",
        "  items = {}\n",
        "  most_recent_time = datetime.strptime(events_list[-1]['event_timestamp'], '%Y-%m-%dT%H:%M:%S.%f%z')\n",
        "  for event in events_list:\n",
        "    if event['event_type'] == 'view':\n",
        "      delta = most_recent_time - datetime.strptime(event['event_timestamp'], '%Y-%m-%dT%H:%M:%S.%f%z')\n",
        "      items[event['event_info']] = items.get(event['event_info'],0) + 1\n",
        "  if items:  \n",
        "    return max(items.items(), key=operator.itemgetter(1))[0]\n",
        "  else:\n",
        "    return most_common\n",
        "\n",
        "for row in train_df.itertuples():\n",
        " pred_y_model2.append(most_viewed_item(row.user_history))"
      ],
      "execution_count": null,
      "outputs": []
    },
    {
      "cell_type": "code",
      "metadata": {
        "id": "IJ68saIvIiLy"
      },
      "source": [
        "pred_domain_model2 = [item_domain_dict[item] if item_domain_dict[item] else 'None' for item in pred_y_model2]"
      ],
      "execution_count": null,
      "outputs": []
    },
    {
      "cell_type": "code",
      "metadata": {
        "colab": {
          "base_uri": "https://localhost:8080/"
        },
        "id": "jt_HmpY8IlRd",
        "outputId": "bb471bed-14d8-4470-c6b1-3292d2ecbd30"
      },
      "source": [
        "print('accuracy producto predicho', accuracy_score(train_df.item_bought.tolist(), pred_y_model2))\n",
        "print('accuracy domain predicho', accuracy_score(true_domain, pred_domain_model2))"
      ],
      "execution_count": null,
      "outputs": [
        {
          "output_type": "stream",
          "text": [
            "accuracy producto predicho 0.1568993351292347\n",
            "accuracy domain predicho 0.3508663650907753\n"
          ],
          "name": "stdout"
        }
      ]
    },
    {
      "cell_type": "markdown",
      "metadata": {
        "id": "_CvNBs_hInvJ"
      },
      "source": [
        "####Modelo 3\n",
        "Se considera la cantidad de veces que fue visto el item, se pondera por la antiguedad de la vista, y por la cantidad de veces que fueron vistos otros items del mismo domain"
      ]
    },
    {
      "cell_type": "code",
      "metadata": {
        "id": "TonnMNLMI0ZD"
      },
      "source": [
        "pred_y_model3 = []\n",
        "def weighed_time_domain_viewed_item(events_list, strength=0.5):\n",
        "  items = {}\n",
        "  domains = {}\n",
        "  most_recent_time = datetime.strptime(events_list[-1]['event_timestamp'], '%Y-%m-%dT%H:%M:%S.%f%z')\n",
        "  for event in events_list:\n",
        "    if event['event_type'] == 'view':\n",
        "      delta = most_recent_time - datetime.strptime(event['event_timestamp'], '%Y-%m-%dT%H:%M:%S.%f%z')\n",
        "      items[event['event_info']] = items.get(event['event_info'],0) + time_weighing(delta.total_seconds()/3600) #se convierte el delta en horas como float\n",
        "      domain = item_domain_dict[event['event_info']] if item_domain_dict[event['event_info']] else 'None' #la condition tiene que ver con unos poquísimos items sin dominio\n",
        "      domains[domain] = domains.get(domain,0) + strength*time_weighing(delta.total_seconds()/3600) #se multiplica por la strength\n",
        "  if items:  \n",
        "    for item in items:\n",
        "      domain = item_domain_dict[item] if item_domain_dict[item] else 'None' #la condition tiene que ver con unos poquísimos items sin dominio\n",
        "      items[item] += domains[domain]\n",
        "    return max(items.items(), key=operator.itemgetter(1))[0]\n",
        "  else:\n",
        "    return most_common\n",
        "\n",
        "for row in train_df.itertuples():\n",
        " pred_y_model3.append(weighed_time_domain_viewed_item(row.user_history))"
      ],
      "execution_count": null,
      "outputs": []
    },
    {
      "cell_type": "code",
      "metadata": {
        "id": "KoUPfqaFMT6K"
      },
      "source": [
        "pred_domain_model3 = [item_domain_dict[item] if item_domain_dict[item] else 'None' for item in pred_y_model3]"
      ],
      "execution_count": null,
      "outputs": []
    },
    {
      "cell_type": "code",
      "metadata": {
        "colab": {
          "base_uri": "https://localhost:8080/"
        },
        "id": "RWzJr78XMYgr",
        "outputId": "6da5b3dc-cdc6-4025-89d2-5a2ae60515fc"
      },
      "source": [
        "print('accuracy producto predicho', accuracy_score(train_df.item_bought.tolist(), pred_y_model3))\n",
        "print('accuracy domain predicho', accuracy_score(true_domain, pred_domain_model3))"
      ],
      "execution_count": null,
      "outputs": [
        {
          "output_type": "stream",
          "text": [
            "accuracy producto predicho 0.1727187574879648\n",
            "accuracy domain predicho 0.37519090528435506\n"
          ],
          "name": "stdout"
        }
      ]
    },
    {
      "cell_type": "markdown",
      "metadata": {
        "id": "04f_LUTBNfZq"
      },
      "source": [
        "Prueba de diferentes strengths para la ponderación por vistas del mismo domain:"
      ]
    },
    {
      "cell_type": "code",
      "metadata": {
        "colab": {
          "base_uri": "https://localhost:8080/"
        },
        "id": "cOuhhVT6NarU",
        "outputId": "0bbe4d8d-1108-4a2b-c7ab-969e29a6178a"
      },
      "source": [
        "strengths = [0.1,0.2,0.3,0.7,0.8]\n",
        "for strength in strengths:\n",
        "  pred_y_model3_strengths = []\n",
        "  for row in train_df.itertuples():\n",
        "    pred_y_model3_strengths.append(weighed_time_domain_viewed_item(row.user_history,strength=strength))\n",
        "  pred_domain_model3_strengths = [item_domain_dict[item] if item_domain_dict[item] else 'None' for item in pred_y_model3_strengths]\n",
        "  print('strength:',strength)\n",
        "  print('accuracy producto predicho', accuracy_score(train_df.item_bought.tolist(), pred_y_model3_strengths))\n",
        "  print('accuracy domain predicho', accuracy_score(true_domain, pred_domain_model3_strengths))"
      ],
      "execution_count": null,
      "outputs": [
        {
          "output_type": "stream",
          "text": [
            "strength: 0.1\n",
            "accuracy producto predicho 0.17469860563506412\n",
            "accuracy domain predicho 0.37418403874499895\n",
            "strength: 0.2\n",
            "accuracy producto predicho 0.17407899545699881\n",
            "accuracy domain predicho 0.37499727710370967\n",
            "strength: 0.3\n",
            "accuracy producto predicho 0.17352715514215938\n",
            "accuracy domain predicho 0.37516428140951635\n",
            "strength: 0.7\n",
            "accuracy producto predicho 0.1720604216737704\n",
            "accuracy domain predicho 0.37509893189854854\n",
            "strength: 0.8\n",
            "accuracy producto predicho 0.1717990236298991\n",
            "accuracy domain predicho 0.37500695851274196\n"
          ],
          "name": "stdout"
        }
      ]
    },
    {
      "cell_type": "markdown",
      "metadata": {
        "id": "urU6eQau4EtB"
      },
      "source": [
        "De acuerdo aumenta la fuerza de la ponderación por haber visto otros items del mismo domain, disminuye el accuracy de predicción de producto comprado, pero aumenta el del domain comprado."
      ]
    },
    {
      "cell_type": "markdown",
      "metadata": {
        "id": "azBW6_W_zUqw"
      },
      "source": [
        "####Modelo 4\n",
        "Igual al modelo 1, pero con una curva de ponderación por tiempo, calculada dentro de este mismo Notebook para completitud. La accuracy es idéntica a la del modelo 1."
      ]
    },
    {
      "cell_type": "markdown",
      "metadata": {
        "id": "X4KEaOiD0HC-"
      },
      "source": [
        "#####Entrenamiento de curvas de ponderación por tiempo"
      ]
    },
    {
      "cell_type": "code",
      "metadata": {
        "id": "WXF2Q4Gx0MVA"
      },
      "source": [
        "deltas_list = []\n",
        "bought_item_list = []\n",
        "for row in train_df.itertuples():\n",
        "  bitem = row.item_bought\n",
        "  if len(row.user_history) == 1:\n",
        "      deltas_list.append(timedelta(0))\n",
        "      bought_item_list.append(int(row.user_history[0]['event_info'] == bitem))\n",
        "  else:\n",
        "    most_recent_time = datetime.strptime(row.user_history[-1]['event_timestamp'], '%Y-%m-%dT%H:%M:%S.%f%z')\n",
        "    for event in row.user_history:\n",
        "      if event['event_type'] == 'view':\n",
        "          deltas_list.append(most_recent_time - datetime.strptime(event['event_timestamp'], '%Y-%m-%dT%H:%M:%S.%f%z'))\n",
        "          bought_item_list.append(int(event['event_info'] == bitem))\n",
        "delta_hours_list = [delta.total_seconds()/60/60 for delta in deltas_list]"
      ],
      "execution_count": null,
      "outputs": []
    },
    {
      "cell_type": "code",
      "metadata": {
        "id": "Fbjv4PVR0lwu"
      },
      "source": [
        "delta_bitem_df = pd.DataFrame({'deltas':delta_hours_list, 'bitem':bought_item_list})"
      ],
      "execution_count": null,
      "outputs": []
    },
    {
      "cell_type": "code",
      "metadata": {
        "colab": {
          "base_uri": "https://localhost:8080/"
        },
        "id": "P5t5XJX00xPc",
        "outputId": "ffea18fa-ec10-4fd6-c60f-47d33f28800f"
      },
      "source": [
        "delta_zero_prob = delta_bitem_df[delta_bitem_df.deltas == 0].bitem.mean()\n",
        "delta_zero_prob"
      ],
      "execution_count": null,
      "outputs": [
        {
          "output_type": "execute_result",
          "data": {
            "text/plain": [
              "0.19902121339071485"
            ]
          },
          "metadata": {
            "tags": []
          },
          "execution_count": 41
        }
      ]
    },
    {
      "cell_type": "code",
      "metadata": {
        "id": "s9isloY70_0-"
      },
      "source": [
        "salto = np.linspace(0,150,15001)[1] - np.linspace(0,150,15001)[0]\n",
        "bitem_means = [delta_zero_prob]\n",
        "for hs in np.linspace(0,150,15001):\n",
        "  bitem_means.append(delta_bitem_df[(delta_bitem_df.deltas>hs)&(delta_bitem_df.deltas<=(hs+salto))].bitem.mean())"
      ],
      "execution_count": null,
      "outputs": []
    },
    {
      "cell_type": "code",
      "metadata": {
        "colab": {
          "base_uri": "https://localhost:8080/"
        },
        "id": "2w2O-812028S",
        "outputId": "7f7dbac4-80cf-4c0e-e19a-e33e80c937ee"
      },
      "source": [
        "from scipy.optimize import curve_fit\n",
        "# define the true objective function\n",
        "#-2.231726 + (0.1984595 - -2.231726)/(1 + (hours/12332420000.000002)**0.1389521)\n",
        "def objective(x, a, b, c, d):\n",
        "\treturn -a  + (delta_zero_prob - -b)/(1+(x/c)**d)\n",
        "#Se agrega peso al primer punto, para asegurar que la curva pase por el mismo\n",
        "y_weight = np.empty(len(bitem_means))\n",
        "y_weight.fill(10)\n",
        "y_weight[0] = 0.001\n",
        "# curve fit\n",
        "popt, _ = curve_fit(objective, np.linspace(0,150.01,15002), bitem_means, sigma=y_weight, absolute_sigma=True)\n",
        "# summarize the parameter values\n",
        "a, b, c, d = popt\n",
        "a, b, c, d"
      ],
      "execution_count": null,
      "outputs": [
        {
          "output_type": "stream",
          "text": [
            "/usr/local/lib/python3.7/dist-packages/ipykernel_launcher.py:5: RuntimeWarning: divide by zero encountered in power\n",
            "  \"\"\"\n"
          ],
          "name": "stderr"
        },
        {
          "output_type": "execute_result",
          "data": {
            "text/plain": [
              "(0.6371088880359856, 0.637108883872154, 43019.29022548248, 0.22818900272633771)"
            ]
          },
          "metadata": {
            "tags": []
          },
          "execution_count": 43
        }
      ]
    },
    {
      "cell_type": "code",
      "metadata": {
        "colab": {
          "base_uri": "https://localhost:8080/",
          "height": 265
        },
        "id": "-Qa7kSMz1EEk",
        "outputId": "1cbf0edd-afa5-466a-ce97-053d4cc3daa1"
      },
      "source": [
        "# define a sequence of inputs between the smallest and largest known inputs\n",
        "x_line = np.arange(0, max(delta_hours_list), 0.01)\n",
        "# calculate the output for the range\n",
        "y_line = objective(x_line, a, b, c, d)\n",
        "# create a line plot for the mapping function\n",
        "plt.scatter(np.linspace(0,150.01,15002), bitem_means)\n",
        "plt.plot(x_line, y_line, '--', color='red')\n",
        "plt.show()"
      ],
      "execution_count": null,
      "outputs": [
        {
          "output_type": "display_data",
          "data": {
            "image/png": "[encoded data removed]",
            "text/plain": [
              "<Figure size 432x288 with 1 Axes>"
            ]
          },
          "metadata": {
            "tags": [],
            "needs_background": "light"
          }
        }
      ]
    },
    {
      "cell_type": "markdown",
      "metadata": {
        "id": "u2Pi_O9v2ZHC"
      },
      "source": [
        "#####Modelo"
      ]
    },
    {
      "cell_type": "code",
      "metadata": {
        "id": "omyexBaOzUU2"
      },
      "source": [
        "#Formula para ponderar la importancia de una vista segun pasan las horas\n",
        "\n",
        "def time_weighing2(hours):\n",
        "  if hours < 0.001:\n",
        "    return 1\n",
        "  bitem_prob = -a  + (delta_zero_prob - -b)/(1+(hours/c)**d)  #fitted curve de la probabilidad de que la vista sea del bitem, dependiendo de la antiguedad en horas de la vista\n",
        "  weight = bitem_prob / delta_zero_prob  #bitem_prob para un delta de 0 hours clavado (ultimo item)\n",
        "  return weight"
      ],
      "execution_count": null,
      "outputs": []
    },
    {
      "cell_type": "code",
      "metadata": {
        "id": "c5YE8s7qz6SE"
      },
      "source": [
        "pred_y_model4 = []\n",
        "def weighed_viewed_item(events_list):\n",
        "  items = {}\n",
        "  most_recent_time = datetime.strptime(events_list[-1]['event_timestamp'], '%Y-%m-%dT%H:%M:%S.%f%z')\n",
        "  for event in events_list:\n",
        "    if event['event_type'] == 'view':\n",
        "      delta = most_recent_time - datetime.strptime(event['event_timestamp'], '%Y-%m-%dT%H:%M:%S.%f%z')\n",
        "      items[event['event_info']] = items.get(event['event_info'],0) + time_weighing2(delta.total_seconds()/3600) #se convierte el delta en horas como float\n",
        "  if items:  \n",
        "    return max(items.items(), key=operator.itemgetter(1))[0]\n",
        "  else:\n",
        "    return most_common\n",
        "\n",
        "for row in train_df.itertuples():\n",
        " pred_y_model4.append(weighed_viewed_item(row.user_history))"
      ],
      "execution_count": null,
      "outputs": []
    },
    {
      "cell_type": "code",
      "metadata": {
        "id": "flFMyIfA0Ahk"
      },
      "source": [
        "pred_domain_model4 = [item_domain_dict[item] if item_domain_dict[item] else 'None' for item in pred_y_model4]"
      ],
      "execution_count": null,
      "outputs": []
    },
    {
      "cell_type": "code",
      "metadata": {
        "colab": {
          "base_uri": "https://localhost:8080/"
        },
        "id": "m8nR7eFl0EU-",
        "outputId": "2c7e1249-19d8-4448-ff2e-d8ad8ec8c8b5"
      },
      "source": [
        "print('accuracy producto predicho', accuracy_score(train_df.item_bought.tolist(), pred_y_model4))\n",
        "print('accuracy domain predicho', accuracy_score(true_domain, pred_domain_model4))"
      ],
      "execution_count": null,
      "outputs": [
        {
          "output_type": "stream",
          "text": [
            "accuracy producto predicho 0.1749115966337741\n",
            "accuracy domain predicho 0.372361513494674\n"
          ],
          "name": "stdout"
        }
      ]
    },
    {
      "cell_type": "markdown",
      "metadata": {
        "id": "Bp9xzMHvk4Gl"
      },
      "source": [
        "#### Modelo5: \n",
        "Modelo 1, Multiplicando por la P(bitem)"
      ]
    },
    {
      "cell_type": "code",
      "metadata": {
        "id": "La2C2QE6lqFJ"
      },
      "source": [
        "#Calculando P(item sea comprado) y creando un dict para lookup rápido\n",
        "bitem_count = train_df.groupby('item_bought').count()\n",
        "bitem_list = bitem_count.index.tolist()\n",
        "total = len(train_df)\n",
        "bitem_prob = bitem_count.user_history / total\n",
        "bitem_prob = bitem_prob.tolist()\n",
        "bitem_prob_dict = dict(zip(bitem_list, bitem_prob))"
      ],
      "execution_count": 101,
      "outputs": []
    },
    {
      "cell_type": "code",
      "metadata": {
        "id": "usOTH9grk8ug"
      },
      "source": [
        "pred_y_model6 = []\n",
        "def weighed_viewed_item_prob(events_list):\n",
        "  items = {}\n",
        "  most_recent_time = datetime.strptime(events_list[-1]['event_timestamp'], '%Y-%m-%dT%H:%M:%S.%f%z')\n",
        "  for event in events_list:\n",
        "    if event['event_type'] == 'view':\n",
        "      delta = most_recent_time - datetime.strptime(event['event_timestamp'], '%Y-%m-%dT%H:%M:%S.%f%z')\n",
        "      items[event['event_info']] = items.get(event['event_info'],0) + time_weighing(delta.total_seconds()/3600) #se convierte el delta en horas como float\n",
        "  if items:\n",
        "    for item in items:\n",
        "      items[item] *= bitem_prob_dict.get(item,0)\n",
        "    return max(items.items(), key=operator.itemgetter(1))[0]\n",
        "  else:\n",
        "    return most_common\n",
        "\n",
        "for row in train_df.itertuples():\n",
        " pred_y_model6.append(weighed_viewed_item_prob(row.user_history))"
      ],
      "execution_count": 107,
      "outputs": []
    },
    {
      "cell_type": "code",
      "metadata": {
        "id": "afqX2vuvlFWJ"
      },
      "source": [
        "pred_domain_model6 = [item_domain_dict[item] if item_domain_dict[item] else 'None' for item in pred_y_model6]"
      ],
      "execution_count": 108,
      "outputs": []
    },
    {
      "cell_type": "code",
      "metadata": {
        "colab": {
          "base_uri": "https://localhost:8080/"
        },
        "id": "nPi-w5gVnO_o",
        "outputId": "9eead556-25fa-426b-cecb-afe8455bf1d1"
      },
      "source": [
        "print('accuracy producto predicho', accuracy_score(train_df.item_bought.tolist(), pred_y_model6))\n",
        "print('accuracy domain predicho', accuracy_score(true_domain, pred_domain_model6))"
      ],
      "execution_count": 109,
      "outputs": [
        {
          "output_type": "stream",
          "text": [
            "accuracy producto predicho 0.21340245859382376\n",
            "accuracy domain predicho 0.4059729453024593\n"
          ],
          "name": "stdout"
        }
      ]
    }
  ]
}