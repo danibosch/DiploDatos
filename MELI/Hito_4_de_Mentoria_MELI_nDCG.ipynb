{
  "nbformat": 4,
  "nbformat_minor": 0,
  "metadata": {
    "colab": {
      "name": "Hito_4_de_Mentoria_MELI - nDCG.ipynb",
      "provenance": [],
      "collapsed_sections": [],
      "include_colab_link": true
    },
    "kernelspec": {
      "display_name": "Python 3",
      "language": "python",
      "name": "python3"
    },
    "language_info": {
      "codemirror_mode": {
        "name": "ipython",
        "version": 3
      },
      "file_extension": ".py",
      "mimetype": "text/x-python",
      "name": "python",
      "nbconvert_exporter": "python",
      "pygments_lexer": "ipython3",
      "version": "3.7.3"
    }
  },
  "cells": [
    {
      "cell_type": "markdown",
      "metadata": {
        "id": "view-in-github",
        "colab_type": "text"
      },
      "source": [
        "<a href=\"https://colab.research.google.com/github/natanrajch/DiploDatos/blob/main/MELI/Hito_4_de_Mentoria_MELI_nDCG.ipynb\" target=\"_parent\"><img src=\"https://colab.research.google.com/assets/colab-badge.svg\" alt=\"Open In Colab\"/></a>"
      ]
    },
    {
      "cell_type": "markdown",
      "metadata": {
        "id": "TdNq6SnB3a18"
      },
      "source": [
        "#Hito 4 - Grupo B - MELI Data Challenge 2020 - DiploDatos 2021\n",
        "\n",
        "\n"
      ]
    },
    {
      "cell_type": "markdown",
      "metadata": {
        "id": "sFfAjIv33voE"
      },
      "source": [
        "## Dependencies y carga de datos"
      ]
    },
    {
      "cell_type": "code",
      "metadata": {
        "id": "kuy8Oe753Wfk"
      },
      "source": [
        "!pip install fasttext"
      ],
      "execution_count": null,
      "outputs": []
    },
    {
      "cell_type": "code",
      "metadata": {
        "colab": {
          "base_uri": "https://localhost:8080/"
        },
        "id": "RsM84uAe3HRL",
        "outputId": "f207fedc-68e7-4bd5-a5b4-91d3534e20f3"
      },
      "source": [
        "import fasttext\n",
        "import gzip\n",
        "import pandas as pd\n",
        "import urllib\n",
        "import tarfile\n",
        "import urllib.request\n",
        "import numpy as np\n",
        "import random\n",
        "import json\n",
        "import bisect\n",
        "import matplotlib.pyplot as plt\n",
        "import seaborn as sns\n",
        "from datetime import datetime, timedelta\n",
        "import scipy.sparse as sps\n",
        "\n",
        "url_item_data = \"https://meli-data-challenge.s3.amazonaws.com/2020/item_data.jl.gz\"\n",
        "url_train_data = \"https://meli-data-challenge.s3.amazonaws.com/2020/train_dataset.jl.gz\"\n",
        "print('train')\n",
        "train_data = []\n",
        "with urllib.request.urlopen(url_train_data) as handle:\n",
        "  gz = gzip.GzipFile(fileobj=handle)\n",
        "  for i, line in enumerate(gz):\n",
        "    train_data.append(json.loads(line.strip().decode('utf-8')))\n",
        "\n",
        "train_df = pd.DataFrame(train_data)\n",
        "# train_df.user_history\n",
        "# print('item')\n",
        "# item_data = []\n",
        "# with urllib.request.urlopen(url_item_data) as handle:\n",
        "#   gz = gzip.GzipFile(fileobj=handle)\n",
        "#   for i, line in enumerate(gz):\n",
        "#     item_data.append(json.loads(line.strip().decode('utf-8')))\n",
        "\n",
        "# item_df = pd.DataFrame(item_data)\n",
        "del train_data\n",
        "# del item_data\n",
        "del gz\n",
        "# print('training')"
      ],
      "execution_count": 2,
      "outputs": [
        {
          "output_type": "stream",
          "name": "stdout",
          "text": [
            "train\n"
          ]
        }
      ]
    },
    {
      "cell_type": "markdown",
      "metadata": {
        "id": "T6UVKc5X4AEM"
      },
      "source": [
        "## Entrenamiento modelo FastText train_supervised"
      ]
    },
    {
      "cell_type": "code",
      "metadata": {
        "id": "iFpNi2Yx3HRN"
      },
      "source": [
        "## armo el xtrain\n",
        "oracion=[]\n",
        "for row in train_df.itertuples():\n",
        "    item_label='__label__'+str(row.item_bought)\n",
        "    item=''\n",
        "    for i in range(0,len(row.user_history)):\n",
        "        if row.user_history[i]['event_type']=='view': # asi accedo x ejemplo a la primera tupla de mi user_history que contiene toda la info de un evento. \n",
        "          item=str(((row.user_history)[i]['event_info']))+' '+item # Y asi al valor asociado a una key en particular. \n",
        "        else:\n",
        "           item=str(((row.user_history)[i]['event_info'])).split(sep=' ')[0].lower()+' '+item # Y asi al valor asociado a una key en particular.  \n",
        "    total_item=item_label+' '+item\n",
        "    oracion.append(total_item)\n",
        "    \n",
        "## armo el ytrain\n",
        "target=[]\n",
        "for row in train_df.itertuples():\n",
        "    target.append(str(row.item_bought))"
      ],
      "execution_count": 3,
      "outputs": []
    },
    {
      "cell_type": "code",
      "metadata": {
        "id": "AvnIQgbA3HRO"
      },
      "source": [
        "import numpy as np\n",
        "from sklearn.model_selection import train_test_split\n",
        "\n",
        "x_train,x_test=train_test_split(oracion, test_size=0.20, random_state=4)\n"
      ],
      "execution_count": 4,
      "outputs": []
    },
    {
      "cell_type": "code",
      "metadata": {
        "id": "yvj3iDXh3HRQ"
      },
      "source": [
        "with open('train_file_80_s&v.txt', 'w', encoding=\"utf-8\") as f:\n",
        "    for item in x_train:\n",
        "        f.write(\"%s\\n\" % item)\n",
        "      "
      ],
      "execution_count": 5,
      "outputs": []
    },
    {
      "cell_type": "code",
      "metadata": {
        "id": "x4ktWEaV3HRR"
      },
      "source": [
        "with open('test_file_20_s&v.txt', 'w', encoding=\"utf-8\") as f:\n",
        "    for item in x_test:\n",
        "        f.write(\"%s\\n\" % item)"
      ],
      "execution_count": 6,
      "outputs": []
    },
    {
      "cell_type": "code",
      "metadata": {
        "id": "0wgHsaO83HRR"
      },
      "source": [
        "model=fasttext.train_supervised(input='train_file_80_s&v.txt')"
      ],
      "execution_count": null,
      "outputs": []
    },
    {
      "cell_type": "markdown",
      "metadata": {
        "id": "LV_XWsZI4KhK"
      },
      "source": [
        "## Carga de modelo FastText train_supervised pre-entrenado"
      ]
    },
    {
      "cell_type": "code",
      "metadata": {
        "colab": {
          "base_uri": "https://localhost:8080/"
        },
        "id": "_toGOBPr30PE",
        "outputId": "cfae48bf-0a27-4d2a-f73c-f1e7f124721e"
      },
      "source": [
        "!gdown https://drive.google.com/u/0/uc?id=1tzOLc2nSYn6VyC35kctYCJh4Rb0DdFIk&export=download"
      ],
      "execution_count": 7,
      "outputs": [
        {
          "output_type": "stream",
          "name": "stdout",
          "text": [
            "Downloading...\n",
            "From: https://drive.google.com/u/0/uc?id=1tzOLc2nSYn6VyC35kctYCJh4Rb0DdFIk\n",
            "To: /content/model_fasttext_80_s&v_lr05_epch15.bin\n",
            "605MB [00:05, 105MB/s]\n"
          ]
        }
      ]
    },
    {
      "cell_type": "code",
      "metadata": {
        "colab": {
          "base_uri": "https://localhost:8080/"
        },
        "id": "eyi5fdTI3HRS",
        "outputId": "01ce3a52-94e4-43a6-97e9-9503ab868031"
      },
      "source": [
        "import fasttext\n",
        "model2=fasttext.load_model('/content/model_fasttext_80_s&v_lr05_epch15.bin')\n",
        "#model.test('test_file_20_s&v.txt') #devuelve precision & recall. "
      ],
      "execution_count": 8,
      "outputs": [
        {
          "output_type": "stream",
          "name": "stderr",
          "text": [
            "Warning : `load_model` does not return WordVectorModel or SupervisedModel any more, but a `FastText` object which is very similar.\n"
          ]
        }
      ]
    },
    {
      "cell_type": "code",
      "metadata": {
        "colab": {
          "base_uri": "https://localhost:8080/"
        },
        "id": "ycr33VOP3HRT",
        "outputId": "c1f168ed-ab39-494d-dd68-9b8cf522de69"
      },
      "source": [
        "model2.test(\"/content/test_file_20_s&v.txt\")"
      ],
      "execution_count": 9,
      "outputs": [
        {
          "output_type": "execute_result",
          "data": {
            "text/plain": [
              "(77310, 0.09693441986806364, 0.09693441986806364)"
            ]
          },
          "metadata": {},
          "execution_count": 9
        }
      ]
    },
    {
      "cell_type": "code",
      "metadata": {
        "id": "ua7dvMmHDA-4"
      },
      "source": [
        "item_data = []\n",
        "with urllib.request.urlopen(url_item_data) as handle:\n",
        "  gz = gzip.GzipFile(fileobj=handle)\n",
        "  for i, line in enumerate(gz):\n",
        "    item_data.append(json.loads(line.strip().decode('utf-8')))\n",
        "\n",
        "item_df = pd.DataFrame(item_data)\n",
        "del gz\n",
        "del item_data"
      ],
      "execution_count": 27,
      "outputs": []
    },
    {
      "cell_type": "markdown",
      "metadata": {
        "id": "IROeSV0_kUW0"
      },
      "source": [
        "### nDCG en datos de entrenamiento"
      ]
    },
    {
      "cell_type": "code",
      "metadata": {
        "id": "ZWr7wpx7ZIMt"
      },
      "source": [
        "item_list = item_df['item_id'].tolist()\n",
        "domain_list = item_df['domain_id'].tolist()\n",
        "item_domain_dict = dict(zip(item_list, domain_list))"
      ],
      "execution_count": 62,
      "outputs": []
    },
    {
      "cell_type": "code",
      "metadata": {
        "id": "xIfFXNampqhz"
      },
      "source": [
        "#Se arregla un unico valor que estaba trayendo problemas\n",
        "x_train[85731] = '__label__1595373 108992 108992 216650 locao 1651058 1651058 1651058 locao 1866033 locao 1065548 locao 1651058 locao 2011467 locao 1651058 locao 2011467 locao clean 180427 180427 180427 180427 692954 1436635 450809 celular 1849196 celular celular celular celular celular celular celular celular celular celular celular celular celular celular 1234585 1234585 celular celular celular celular celular celular 171910 171910 171910 celular 1234585 1234585 1234585 1234585 celular celular celular celular celular celular celular celular celular celular celular celular celular celular celular celular celular celular celular celular celular celular celular celular celular celular celular celular 839876 839876 839876 celular celular 441855 441855 celular celular celular celular '"
      ],
      "execution_count": 98,
      "outputs": []
    },
    {
      "cell_type": "code",
      "metadata": {
        "id": "HVht9REilDba"
      },
      "source": [
        "true_bitem = []\n",
        "pred_y_fastt_model = []\n",
        "\n",
        "for row in x_train:\n",
        "  tb = int(row[:20].split(' ')[0][9:])\n",
        "  true_bitem.append(tb)\n",
        "\n",
        "  preds = []\n",
        "  model_preds = model2.predict(row.split(' ',1)[1],k=10)[0]\n",
        "  for pred in model_preds:\n",
        "    preds.append(int(pred[9:]))\n",
        "  pred_y_fastt_model.append(preds)\n"
      ],
      "execution_count": 99,
      "outputs": []
    },
    {
      "cell_type": "code",
      "metadata": {
        "id": "1D8xWTgmlNa6"
      },
      "source": [
        "#CALCULO DEL nDCG\n",
        "def ndcg(predictions,bitem):\n",
        "  ''' Dada una List de predictions, y un item comprado (int), devuelve el calculo de nDCG de la prediccion'''\n",
        "  best = 22.4246159748234\n",
        "  current = 0\n",
        "  bdom = item_domain_dict[bitem]\n",
        "  for i in range(1,11):\n",
        "    pred = predictions[i-1]\n",
        "    if pred == bitem:\n",
        "      gain = 12\n",
        "    elif item_domain_dict[pred] == bdom:\n",
        "      gain = 1\n",
        "    else:\n",
        "      gain = 0\n",
        "    current += (1/np.log(1+i)) * gain\n",
        "  return current/best \n",
        "\n",
        "# true_bitem = train_df.item_bought.tolist()\n",
        "ndcg_list = []\n",
        "for i in range(len(true_bitem)):\n",
        "  ndcg_list.append(ndcg(pred_y_fastt_model[i], true_bitem[i]))"
      ],
      "execution_count": 100,
      "outputs": []
    },
    {
      "cell_type": "code",
      "metadata": {
        "colab": {
          "base_uri": "https://localhost:8080/"
        },
        "id": "cpG-6oeVlRVa",
        "outputId": "c50bdfa5-77a2-489f-9260-3b63246ae66a"
      },
      "source": [
        "print('nDCG obtenido en datos de ENTRENAMIENTO:' , sum(ndcg_list) / len(ndcg_list))"
      ],
      "execution_count": 101,
      "outputs": [
        {
          "output_type": "stream",
          "name": "stdout",
          "text": [
            "nDCG obtenido en datos de ENTRENAMIENTO: 0.7416162377983386\n"
          ]
        }
      ]
    },
    {
      "cell_type": "code",
      "metadata": {
        "colab": {
          "base_uri": "https://localhost:8080/",
          "height": 290
        },
        "id": "qCMQttlmlT66",
        "outputId": "ee0297c2-3797-4432-94eb-1dc5cf4d05f0"
      },
      "source": [
        "df_ndcg = pd.DataFrame(ndcg_list, columns=['value'])\n",
        "df_ndcg.describe()"
      ],
      "execution_count": 102,
      "outputs": [
        {
          "output_type": "execute_result",
          "data": {
            "text/html": [
              "<div>\n",
              "<style scoped>\n",
              "    .dataframe tbody tr th:only-of-type {\n",
              "        vertical-align: middle;\n",
              "    }\n",
              "\n",
              "    .dataframe tbody tr th {\n",
              "        vertical-align: top;\n",
              "    }\n",
              "\n",
              "    .dataframe thead th {\n",
              "        text-align: right;\n",
              "    }\n",
              "</style>\n",
              "<table border=\"1\" class=\"dataframe\">\n",
              "  <thead>\n",
              "    <tr style=\"text-align: right;\">\n",
              "      <th></th>\n",
              "      <th>value</th>\n",
              "    </tr>\n",
              "  </thead>\n",
              "  <tbody>\n",
              "    <tr>\n",
              "      <th>count</th>\n",
              "      <td>330530.000000</td>\n",
              "    </tr>\n",
              "    <tr>\n",
              "      <th>mean</th>\n",
              "      <td>0.741616</td>\n",
              "    </tr>\n",
              "    <tr>\n",
              "      <th>std</th>\n",
              "      <td>0.221736</td>\n",
              "    </tr>\n",
              "    <tr>\n",
              "      <th>min</th>\n",
              "      <td>0.000000</td>\n",
              "    </tr>\n",
              "    <tr>\n",
              "      <th>25%</th>\n",
              "      <td>0.772024</td>\n",
              "    </tr>\n",
              "    <tr>\n",
              "      <th>50%</th>\n",
              "      <td>0.772024</td>\n",
              "    </tr>\n",
              "    <tr>\n",
              "      <th>75%</th>\n",
              "      <td>0.839774</td>\n",
              "    </tr>\n",
              "    <tr>\n",
              "      <th>max</th>\n",
              "      <td>1.000000</td>\n",
              "    </tr>\n",
              "  </tbody>\n",
              "</table>\n",
              "</div>"
            ],
            "text/plain": [
              "               value\n",
              "count  330530.000000\n",
              "mean        0.741616\n",
              "std         0.221736\n",
              "min         0.000000\n",
              "25%         0.772024\n",
              "50%         0.772024\n",
              "75%         0.839774\n",
              "max         1.000000"
            ]
          },
          "metadata": {},
          "execution_count": 102
        }
      ]
    },
    {
      "cell_type": "markdown",
      "metadata": {
        "id": "b_jWGlkWkbBi"
      },
      "source": [
        "### nDCG en datos de test"
      ]
    },
    {
      "cell_type": "code",
      "metadata": {
        "id": "95Tb-Z3XEMmq"
      },
      "source": [
        "true_bitem = []\n",
        "pred_y_fastt_model = []\n",
        "\n",
        "for row in x_test:\n",
        "  tb = int(row[:20].split(' ')[0][9:])\n",
        "  true_bitem.append(tb)\n",
        "\n",
        "  preds = []\n",
        "  model_preds = model2.predict(row.split(' ',1)[1],k=10)[0]\n",
        "  for pred in model_preds:\n",
        "    preds.append(int(pred[9:]))\n",
        "  pred_y_fastt_model.append(preds)\n",
        "\n"
      ],
      "execution_count": 82,
      "outputs": []
    },
    {
      "cell_type": "code",
      "metadata": {
        "id": "USVp8ybf3HRT"
      },
      "source": [
        "#CALCULO DEL nDCG\n",
        "def ndcg(predictions,bitem):\n",
        "  ''' Dada una List de predictions, y un item comprado (int), devuelve el calculo de nDCG de la prediccion'''\n",
        "  best = 22.4246159748234\n",
        "  current = 0\n",
        "  bdom = item_domain_dict[bitem]\n",
        "  for i in range(1,11):\n",
        "    pred = predictions[i-1]\n",
        "    if pred == bitem:\n",
        "      gain = 12\n",
        "    elif item_domain_dict[pred] == bdom:\n",
        "      gain = 1\n",
        "    else:\n",
        "      gain = 0\n",
        "    current += (1/np.log(1+i)) * gain\n",
        "  return current/best \n",
        "\n",
        "# true_bitem = train_df.item_bought.tolist()\n",
        "ndcg_list = []\n",
        "for i in range(len(true_bitem)):\n",
        "  ndcg_list.append(ndcg(pred_y_fastt_model[i], true_bitem[i]))"
      ],
      "execution_count": 84,
      "outputs": []
    },
    {
      "cell_type": "code",
      "metadata": {
        "colab": {
          "base_uri": "https://localhost:8080/"
        },
        "id": "U-MW2wDZO0FH",
        "outputId": "aec48949-83d0-47cf-d4ac-6b82d95802df"
      },
      "source": [
        "print('nDCG obtenido en datos de TEST:' , sum(ndcg_list) / len(ndcg_list))"
      ],
      "execution_count": 90,
      "outputs": [
        {
          "output_type": "stream",
          "name": "stdout",
          "text": [
            "nDCG obtenido en datos de TEST: 0.1463826505146321\n"
          ]
        }
      ]
    },
    {
      "cell_type": "code",
      "metadata": {
        "colab": {
          "base_uri": "https://localhost:8080/",
          "height": 290
        },
        "id": "_m8Y5wXRblxs",
        "outputId": "5d00720c-8506-431a-850c-7599c2e2344c"
      },
      "source": [
        "df_ndcg = pd.DataFrame(ndcg_list, columns=['value'])\n",
        "df_ndcg.describe()"
      ],
      "execution_count": 89,
      "outputs": [
        {
          "output_type": "execute_result",
          "data": {
            "text/html": [
              "<div>\n",
              "<style scoped>\n",
              "    .dataframe tbody tr th:only-of-type {\n",
              "        vertical-align: middle;\n",
              "    }\n",
              "\n",
              "    .dataframe tbody tr th {\n",
              "        vertical-align: top;\n",
              "    }\n",
              "\n",
              "    .dataframe thead th {\n",
              "        text-align: right;\n",
              "    }\n",
              "</style>\n",
              "<table border=\"1\" class=\"dataframe\">\n",
              "  <thead>\n",
              "    <tr style=\"text-align: right;\">\n",
              "      <th></th>\n",
              "      <th>value</th>\n",
              "    </tr>\n",
              "  </thead>\n",
              "  <tbody>\n",
              "    <tr>\n",
              "      <th>count</th>\n",
              "      <td>82633.000000</td>\n",
              "    </tr>\n",
              "    <tr>\n",
              "      <th>mean</th>\n",
              "      <td>0.146383</td>\n",
              "    </tr>\n",
              "    <tr>\n",
              "      <th>std</th>\n",
              "      <td>0.271168</td>\n",
              "    </tr>\n",
              "    <tr>\n",
              "      <th>min</th>\n",
              "      <td>0.000000</td>\n",
              "    </tr>\n",
              "    <tr>\n",
              "      <th>25%</th>\n",
              "      <td>0.000000</td>\n",
              "    </tr>\n",
              "    <tr>\n",
              "      <th>50%</th>\n",
              "      <td>0.000000</td>\n",
              "    </tr>\n",
              "    <tr>\n",
              "      <th>75%</th>\n",
              "      <td>0.153151</td>\n",
              "    </tr>\n",
              "    <tr>\n",
              "      <th>max</th>\n",
              "      <td>1.000000</td>\n",
              "    </tr>\n",
              "  </tbody>\n",
              "</table>\n",
              "</div>"
            ],
            "text/plain": [
              "              value\n",
              "count  82633.000000\n",
              "mean       0.146383\n",
              "std        0.271168\n",
              "min        0.000000\n",
              "25%        0.000000\n",
              "50%        0.000000\n",
              "75%        0.153151\n",
              "max        1.000000"
            ]
          },
          "metadata": {},
          "execution_count": 89
        }
      ]
    }
  ]
}